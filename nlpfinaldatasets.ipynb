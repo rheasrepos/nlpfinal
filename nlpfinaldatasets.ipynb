{
 "cells": [
  {
   "cell_type": "markdown",
   "metadata": {},
   "source": [
    "CONCATENING TEXT DATASETS, DON'T HAVE TO RUN THIS SECTION ANYMORE"
   ]
  },
  {
   "cell_type": "code",
   "execution_count": 76,
   "metadata": {},
   "outputs": [
    {
     "data": {
      "application/vnd.jupyter.widget-view+json": {
       "model_id": "c526c66a5ef2446a8f5a5b7b28daa860",
       "version_major": 2,
       "version_minor": 0
      },
      "text/plain": [
       "Resolving data files:   0%|          | 0/23 [00:00<?, ?it/s]"
      ]
     },
     "metadata": {},
     "output_type": "display_data"
    },
    {
     "data": {
      "application/vnd.jupyter.widget-view+json": {
       "model_id": "51e7573d75b9438ca6fd0a877995a690",
       "version_major": 2,
       "version_minor": 0
      },
      "text/plain": [
       "Resolving data files:   0%|          | 0/23 [00:00<?, ?it/s]"
      ]
     },
     "metadata": {},
     "output_type": "display_data"
    },
    {
     "data": {
      "application/vnd.jupyter.widget-view+json": {
       "model_id": "f2db942e53dd48a18d719eca2ca6ff04",
       "version_major": 2,
       "version_minor": 0
      },
      "text/plain": [
       "Loading dataset shards:   0%|          | 0/91 [00:00<?, ?it/s]"
      ]
     },
     "metadata": {},
     "output_type": "display_data"
    },
    {
     "name": "stdout",
     "output_type": "stream",
     "text": [
      "Dataset already exists at /Users/rheamadhogarhia/.convokit/saved-corpora/switchboard-corpus\n"
     ]
    }
   ],
   "source": [
    "#DONT RUN THIS ANYMORE\n",
    "\n",
    "from datasets import load_dataset, Dataset\n",
    "from convokit import Corpus, download\n",
    "\n",
    "ds_ag_news = load_dataset(\"fancyzhx/ag_news\") #news, formal\n",
    "ds_sms = load_dataset(\"ucirvine/sms_spam\") #should only use ham labels, text messages, informal\n",
    "ds_edu = load_dataset(\"Locutusque/UltraTextbooks\") #synthetic and human written textbooks..... acdademic / formal\n",
    "#https://huggingface.co/datasets/fabiochiu/medium-articles\n",
    "ds_medium = load_dataset('csv', data_files='/Users/rheamadhogarhia/Desktop/Year 3/NLP/nlpfinal/medium_articles.csv') #medium articles, academic but also likely less formal ? community contributions\n",
    "#https://huggingface.co/datasets/kariatouk/enron_curated_labeled/tree/main\n",
    "ds_enron= load_dataset('csv', data_files='/Users/rheamadhogarhia/Desktop/Year 3/NLP/nlpfinal/enron_labeled_curated.csv') #enron, very formal business emails probably?\n",
    "\n",
    "\n",
    "ds_podcast_news = load_dataset(\"Whispering-GPT/lex-fridman-podcast\")\n",
    "ds_telephone_convos = Corpus(filename=download(\"switchboard-corpus\"))\n",
    "\n",
    "data = ds_telephone_convos.get_utterances_dataframe() \n",
    "data_list = data.to_dict(orient=\"records\")\n",
    "ds_telephone_convos = Dataset.from_list(data_list)\n",
    "\n",
    "ds_ted_talk_edu = load_dataset('csv', data_files=\"/Users/rheamadhogarhia/Desktop/Year 3/NLP/nlpfinal/ted_talks_en.csv\")\n",
    "ds_un_debates = load_dataset('csv', data_files=\"/Users/rheamadhogarhia/Desktop/Year 3/NLP/nlpfinal/un-general-debates.csv\")\n",
    "#city council meetings instead https://huggingface.co/datasets/lytang/MeetingBank-transcript?row=8&library=datasets\n",
    "ds_business_meetings = load_dataset(\"lytang/MeetingBank-transcript\")\n",
    "#this cell ran in 21 minutes (probably don't have to load the whole dataset?)\n",
    "\n"
   ]
  },
  {
   "cell_type": "code",
   "execution_count": 79,
   "metadata": {},
   "outputs": [
    {
     "data": {
      "text/plain": [
       "{'timestamp': [None, None],\n",
       " 'text': ['Okay.  /{D So, }', '[ [ I guess, +'],\n",
       " 'speaker': ['1519', '1632'],\n",
       " 'reply_to': [None, '4325-0'],\n",
       " 'conversation_id': ['4325-0', '4325-0'],\n",
       " 'meta.tag': [[['Okay.  /', 'o'], ['{D So, }', 'qw']],\n",
       "  [['[ [ I guess, +', 'qy^d']]],\n",
       " 'vectors': [[], []]}"
      ]
     },
     "execution_count": 79,
     "metadata": {},
     "output_type": "execute_result"
    }
   ],
   "source": [
    "ds_telephone_convos[0:2]"
   ]
  },
  {
   "cell_type": "code",
   "execution_count": 91,
   "metadata": {},
   "outputs": [],
   "source": [
    "#TRAIN SETS, choosing 500 samples frome each written text set\n",
    "num_samples = 500\n",
    "\n",
    "ds_ag_news_sub = ds_ag_news[\"train\"].shuffle(seed=42).select(range(num_samples))\n",
    "#filtering out the spam label - only getting legitimate texts\n",
    "ds_sms_filtered = ds_sms[\"train\"].filter(lambda example: example['label'] == 0)\n",
    "ds_sms_sub = ds_sms_filtered.shuffle(seed=42).select(range(num_samples))\n",
    "ds_edu_sub = ds_edu[\"train\"].shuffle(seed=42).select(range(num_samples))\n",
    "ds_medium_sub = ds_medium[\"train\"].shuffle(seed=42).select(range(num_samples))\n",
    "ds_enron_sub = ds_enron[\"train\"].shuffle(seed=42).select(range(num_samples))\n",
    "\n",
    "\n",
    "ds_podcast_news_sub = ds_podcast_news[\"train\"].shuffle(seed=42).select(range(100))#podcasts are long so only gonna use 100 samples\n",
    "ds_telephone_sub = ds_telephone_convos.shuffle(seed=42).select(range(num_samples))\n",
    "ds_ted_talk_edu_sub = ds_ted_talk_edu[\"train\"].shuffle(seed=42).select(range(num_samples))\n",
    "ds_business_meetings_sub = ds_business_meetings[\"train\"].shuffle(seed=42).select(range(num_samples))\n",
    "ds_un_debates_sub = ds_un_debates[\"train\"].shuffle(seed=42).select(range(num_samples))\n"
   ]
  },
  {
   "cell_type": "code",
   "execution_count": 85,
   "metadata": {},
   "outputs": [
    {
     "data": {
      "text/plain": [
       "{'session': [58, 65],\n",
       " 'year': [2003, 2010],\n",
       " 'country': ['ISR', 'TGO'],\n",
       " 'text': ['\\ufeffI would like to congratulate\\nHis Excellency, the Foreign Minister of Saint Lucia,\\nupon his assumption of the Presidency of the General\\nAssembly, and wish him much success.\\nUntil just one month ago, every person in this hall\\nand every Member of this Organization joined us in the\\nhope that the Middle East peace process might finally\\nbe back on track, and that a resolution of the Israeli-\\nPalestinian conflict might be on the horizon. The\\nestablishment of a new Palestinian Government\\npromised an end to terror and a new beginning.\\nThis glimmer of hope was darkened on 19 August\\nby the extremists who blew up a bus full of Jewish\\nfamilies on their way home from prayers at the Western\\nWall, the holiest site in the Jewish religion. Twenty-\\nthree people, young and old, mothers and babies in\\ntheir cradles, were slaughtered in that attack. That\\nattack was carried out by Hamas, a terrorist\\norganization, which, under the road map, should have\\nbeen dismantled by the Palestinian Authority. Failure\\nto dismantle Hamas and other extremist organizations\\nhas brought our diplomatic efforts to a standstill.\\nRather than acting to fulfil its obligation, the\\nPalestinian Authority has chosen the route of inaction,\\nand complicity in terror.\\nWe cannot allow this to continue. We must restore\\nhope that we can build a better future for our children.\\nThe infrastructure of terror must be dismantled so that\\nwe can put our peace efforts back on track. There is no\\ntime other than now. There is no other way.\\nFor many years it was thought that terrorism in\\nthe Middle East was Israel’s problem, not the world’s.\\nToday, the world knows otherwise. Today, it is not only\\nIsrael that mourns the loss of its loved ones, including\\nwomen and children and babies, at the hands of the\\nterrorists. Sadly, we have been joined by peoples from\\nacross the globe — from Mombassa to Casablanca and\\nfrom Moscow to Bali. Even the United Nations, which\\nfor so many has been a symbol of peace and goodwill,\\nis not immune.\\n28\\n \\nGathered here today in New York, just two short\\nyears after 11 September, the community of nations\\nknows that those who seek to advance their political\\nagendas through killing innocents are ready to strike at\\nanyone or anything that represents the values of\\nfreedom and human life.\\nTerrorism has declared war on us all. Israel has\\noften stood alone in this battle. A country that has\\nsuffered more than any other from terrorism, we have\\nalways understood the danger it poses to democracy\\nand freedom everywhere, even when others refused to\\nsee this, and condemned us for our actions. We have\\nalways understood that terrorism, no matter what cause it\\nclaims to serve, seeks only to destroy, rather than to build.\\nThere can be no neutrality in the war against\\nterrorism and there can be no immunity for those who\\nengage in it. Abstaining is not an option. This is not a\\nwar of choice. Terrorism will not be eliminated until\\nthe world unites against it. Our only choice is to win.\\nEvery member of the international community must\\ntake concrete and proactive measures to cut off all\\nchannels of financial, moral and political support to\\nthis common enemy.\\nStates Members of this institution that sponsor\\nterrorists and give them shelter are accomplices in the\\nacts of terror themselves. They must be held\\naccountable for their crimes. It is no coincidence that\\nStates that sponsor terrorism, like Iran and Syria, are\\nalso striving to acquire weapons of mass destruction.\\nTheir hostility to freedom and the rule of law puts the\\nvery future of humanity in jeopardy.\\nI know that many in this place see Yasser Arafat\\nas the symbol of the Palestinian struggle. Tragically,\\nfor his people and for ours, he is one of the world’s\\nicons of terror. In the 10 years since Arafat made a\\ncommitment to Israel and the world that he would no\\nlonger use terror, 1,126 Israelis have been killed and\\nthousands wounded in 19,000 separate Palestinian\\nterrorist attacks. In relative numbers, this would be the\\nsame as 11,000 French or 56,000 Americans dying\\nfrom terrorism in the same period of time.\\nThis carnage must stop. Its impact on both\\nsocieties is devastating. Yasser Arafat bears direct\\nresponsibility for this terrible suffering. He has led his\\npeople along the path of terror — from hijackings to\\nsuicide bombings — for more than 30 years, always\\npreferring Israeli pain over Palestinian gain. He has\\nbeen — and he remains — the greatest obstacle to\\npeace between our peoples. For as long as he controls\\nthe levers of power, no moderate leadership can\\nemerge. To vote for Arafat, like we saw in this\\nAssembly just last week, is to vote against the\\nPalestinian people. When Arafat wins, terrorism wins,\\nand we all lose. Instead of rallying around Arafat, the\\ninternational community must rally around the genuine\\ninterests of the Palestinian people. They must do so\\nnow, before he leads them even further down the path\\nof terror and destruction.\\nWhen a responsible and empowered Palestinian\\nleadership finally emerges — a leadership ready to join\\nthe war on terror — it will find us a willing partner for\\npeace. Israel is committed to the vision for Middle East\\npeace laid out by United States President George Bush\\non 24 June 2002. Israel will not compromise on the\\nsafety of its citizens, but we will go the extra mile, as\\nwe have proven before, to bring peace and security to\\nboth our peoples.\\nWe are ready to work with the Palestinians and\\nwith the international community to make this vision a\\nreality. For this to happen, the Palestinian leadership\\nmust take the moral and strategic decision to abandon\\nterrorism once and for all, and make peacemaking\\npossible. They must guide their people to build their\\nown society, rather than seek to destroy ours. They,\\ntoo, must understand that it is not poverty that breeds\\nterror but terror that breeds poverty.\\nWe cannot stop only at dismantling the\\ninfrastructure of terror. We must also build an\\ninfrastructure of peace. It is up to political and moral\\nleaders everywhere to foster an environment which\\nrejects extremism and empowers the peacemakers. This\\nis particularly so in the Arab and Muslim world, where\\nincitement against Israel closes hearts and minds to the\\npossibility of peace.\\nLeaders must guide their people away from the\\nculture of hate, and replace it with a culture of\\ntolerance. Concrete expressions of cooperation and\\nexchange must be built in media and government,\\neducation, science and business, to reinforce the\\nmessage of tolerance and acceptance.\\nFor the sake of our collective future, voices of\\nmoderation must be heard. For the sake of our\\ncollective future, Israel and the Arab nations must learn\\nto live together side by side, to overcome our conflicts\\njust as the nations of Europe have learned to overcome\\ntheirs. Israel is living among its Arab neighbours. We\\n29\\n \\nbelieve in a common future of peace and prosperity\\nwith them. My many meetings with Arab leaders over\\nthe last few days have encouraged me to believe that\\ntogether we can make our region a better place.\\nThis culture of peace must permeate not only the\\nborders of the Middle East, it must permeate the walls\\nof the United Nations as well. In the past, the United\\nNations has shown us that it can play a positive role.\\nThis Assembly was key to the founding of the State of\\nIsrael, 55 years ago. Security Council resolutions 242\\n(1967) and 338 (1973) are our guideposts to\\nnegotiations and peace.\\nTo play such a constructive role in the future, the\\nUnited Nations must reform. It must move away from\\nthe partisan hostility that has taken over its Middle East\\nagenda. For more than three decades, this Assembly\\nhas passed every year a litany of resolutions designed\\nto discredit Israel, challenge its interests, and promote\\nthe will of its greatest enemies.\\nIn my hand I am holding a collection of the\\ndecisions of the fifty-seventh General Assembly on the\\nMiddle East — 175 pages filled not with hope, but with\\nthe negative agendas of the past. No other country has\\nsuffered such unjustified attack and consistent\\ndiscrimination within the United Nations system. The\\ntime has come to end this campaign of diplomatic\\nincitement. For the sake of Israelis and Palestinians —\\nfor the sake of the United Nations and peace itself — I\\ncall on this body to rise above the tired politics of\\nyesterday, and adopt a new, courageous agenda for\\ntomorrow.\\nI call on the General Assembly to abandon the\\nautomatic adoption of anti-Israel resolutions and to\\nfind ways of making itself relevant once again to the\\ninterests of the people it claims to serve. I call on this\\nAssembly to fulfil its historic mission and help\\npromote what unites us, not what divides us.\\nOn the morning of 1 February of this year, Israel\\nlost its first astronaut in the Space Shuttle Columbia\\ndisaster — a skilled and courageous pilot whom I knew\\npersonally, a child of Holocaust survivors, a national\\nhero. Colonel Ilan Ramon embodied the spirit of our\\nnation. He was a man of courage and action, dedicated\\nto the well-being of his people. Just as he sought to\\ncontribute to the advancement of his fellow man, he\\nmet his death, together with colleagues from the United\\nStates and India, on a scientific mission in the name of\\nhumanity as a whole.\\nIsrael’s place in such endeavours of international\\ncooperation and accomplishment is no coincidence. In\\nthe 55 years since the State of Israel was established,\\nrecognized and welcomed into the family of nations,\\nour achievements in the fields of science and\\ntechnology, the arts and literature and agriculture and\\nmedicine have come to rank with the best in the world.\\nOur international cooperation programme is celebrated\\nin over a hundred countries around the globe, sharing\\nskills, experience and knowledge for the benefit of\\nmillions of people. We extend this hand of friendship\\nto all the nations of the world. We welcome our\\nimproving relations with Europe, just as we remain\\ncommitted to promoting closer ties with the nations of\\nAfrica, Asia and the Americas.\\nThe Zionist vision of Israel’s founders was to\\nbring into the world a State in our ancient homeland to\\nserve as a haven from persecution for our people, a\\nplace where the Jewish people could fulfil its right to\\nself-determination in the modern era and a bastion of\\ndemocracy and opportunity for all its citizens. Our\\nfounders also made a promise not just to the people of\\nIsrael, but also to the people of the Middle East as a\\nwhole — to pursue peace and to work for the common\\nadvancement of our region.\\nI know personally the profound meaning of this\\nhistoric undertaking. I came to Israel as a young\\nrefugee from Tunisia. I serve as one of hundreds of\\nthousands of immigrants to whom Israel has granted\\npromise and protection, freedom and opportunity,\\nthrough the values and institutions of democracy.\\nI stand here today to reaffirm, before the nations\\nof the world, the commitment of my country to peace.\\nPeace for the people of Israel is both a moral and\\nhistoric imperative. “Shalom” — the word for peace in\\nHebrew — is central to our language and our heritage.\\nIt is how we say “hello” and it is how we say\\n“goodbye”. It is a name we give to our children. It is\\nmy own family name.\\nIt was our prophet Isaiah, who brought this\\nmessage of peace to the world centuries ago, when he\\nsaid: “And they shall beat their swords into\\nploughshares and their spears into pruning hooks.\\nNation shall not lift up sword against Nation, neither\\nshall they learn war any more”.\\nIsrael’s historic record is clear. Whenever a true\\npartner for peace has emerged, he has been met with\\nIsrael’s extended hand. This was true when President\\n30\\n \\nAnwar Sadat of Egypt came to Jerusalem in 1977 and it\\nwas true when King Hussein of Jordan signed the\\nPeace Treaty with us in 1994. The same is true today.\\nIsrael stands ready to complete the circle of peace with\\nall its neighbours — real peace, not just peace for the\\nheadlines, but peace which brings an end to violence\\nand hostility and positive change for the citizens of our\\nregion.\\nFrom this great rostrum — a rostrum shared by\\nall humanity — I call on the leaders of Syria and\\nLebanon, of Iran and of the Palestinian people to\\nabandon once and for all their hostility towards us and\\nto join us in building a better future for our children.\\nThis evening, I shall return to Jerusalem, the\\neternal capital of the Jewish people, to join with them\\nin celebrating Rosh Hashanah, the Jewish New Year.\\nAccording to our tradition, this is a time when God\\ndetermines the fate of each and every individual for the\\ncoming year. These are days of reflection and prayer.\\nMay all our prayers for peace and for life be answered,\\nand may the actions and deeds of all the States and\\npeoples represented here in this Hall bring to mankind\\npeace and all the blessings that life can offer.\\n\\n\\n\\n\\n',\n",
       "  'At the \\noutset, allow me to extend my congratulations and \\nthose of the Togolese people to Mr. Joseph Deiss on his \\nelection as President of the General Assembly at its \\nsixty-fifth session and to wish him every success in the \\naccomplishment of his great task. My delegation will \\nspare no effort in working at his side towards the \\nsuccessful achievement of his mandate. Like him, we \\nare firmly convinced that the values that lie at the heart \\nof the United Nations remain very relevant today to \\nsuccessfully meeting the challenges facing humankind.  \\n I also congratulate his predecessor for his \\ninvaluable efforts during his term of office to advance \\nthe agenda of the General Assembly in many diverse \\nand different areas, in particular those of peace and \\nsecurity, human rights and the development of our \\nnations. \\n I would like to renew my personal support and \\nthat of my country to Secretary-General Ban Ki-moon \\nfor the dynamism he has shown over the course of the \\npast four years at the head of the United Nations. I also \\ntake this opportunity to congratulate him on the \\nimportant report that he introduced to us yesterday on \\nthe work of the Organization (A/65/1). \\n The theme that the President of the General \\nAssembly has proposed for the current session, \\n“Reaffirming the central role of the United Nations in \\nglobal governance”, eloquently translates the \\naspirations of our States, particularly the developing \\ncountries. The theme implies that the United Nations \\nmust remain at the heart of multilateralism and that the \\ninstitutions of our Organization must therefore be \\nreconsidered, beginning with the long-awaited reform \\nof the Security Council, in order to bring greater \\ndemocracy and equity and, above all, to respond more \\neffectively to the many challenges to our world.  \\n In its own search for better governance and the \\nwell-being of its people, my country, Togo, has \\ntirelessly and irreversibly continued its march towards \\ngreater democracy, freedom and justice in an \\nenvironment of peace and stability. Seeking to turn the \\npage once and for all on the dark years of our \\ndemocratic deficit, the Head of State has established a \\nnew policy of openness. In August 2006, this \\ncommendable initiative led to the signing of the \\nComprehensive Political Agreement among the main \\npolitical actors in Togo and to the establishment of a \\nGovernment of national unity and the holding in \\nOctober 2007 of legislative elections that were \\nuniversally recognized as free and transparent and, for \\nthe first time, without violence. These elections, which \\nestablished a pluralist National Assembly, are without a \\ndoubt the emblem of our democratic renaissance.  \\n The Government has since initiated political and \\neconomic reforms leading to the adoption of a statute \\nof the opposition and of a law on the financing of \\npolitical parties; the consensus appointment of \\nmembers of the National Independent Electoral \\nCommission; and the creation of a security force for \\nthe presidential elections, the members of which are \\ntrained according to universally recognized standards \\nand have maintained security throughout the electoral \\nprocess in an exemplary fashion. All of these efforts \\nnaturally allowed Togo to hold, on 4 March 2010, a \\npresidential election that was democratic, peaceful and \\nwidely praised by the international community.  \\n I reiterate here the profound gratitude of the \\nGovernment and people of Togo to all of our partners, \\n  \\n \\n10-54965 42 \\n \\nto regional and international institutions, and to the \\nfriendly countries that supported us throughout the \\nelectoral process, making it a success and a good \\nexample. Our gratitude goes to the United Nations for \\nits many forms of support throughout the process of \\ndemocratization and consolidation.  \\n I would also encourage the United Nations to \\ninvest even more in preventive democracy by, \\ninter alia, beginning to envision mechanisms that could \\nlead all parties to accept the results of elections that are \\nrecognized as credible and transparent by the \\ninternational community. That is a challenge we have \\nto take up, particularly in our young democracies, and \\nespecially the African democracies, so that the post-\\nelectoral period is no longer a nightmare or a source of \\ndivision among our peaceful populations. \\n Notwithstanding his outstanding victory, and \\nfaithful to his policy of reaching out to his opponents, \\nPresident Faure Gnassingbé appealed to all persons of \\ngood will to take part in the building of the Togolese \\nnation. It was in this vein that an historic political \\nagreement was concluded in May between the \\npresidential majority and the Union des Forces de \\nChangement, the main opposition party in Togo, which, \\nwith seven ministerial posts, has for the first time \\njoined a Government after 40 years of political \\nfighting.  \\n Moreover, the Truth, Justice and Reconciliation \\nCommission, which seeks to promote reconciliation \\namong the Togolese people by shedding light on the \\npolitical violence that took place in Togo between 1958 \\nand 2005, is currently in the depositions phase. My \\ncountry will work tirelessly to consolidate the \\nachievements of democracy and peace, while devoting \\nincreasing efforts and energy to the achievement of the \\nMillennium Development Goals (MDGs) in order to \\nbring human and sustainable development to the entire \\npopulation. Now that Togo has reconciled with itself, I \\nhave faith in our capacity to fully renew our relations \\nwith all of our bilateral and multilateral partners and to \\nopen up new horizons in the vast field of solidarity that \\nis international cooperation. \\n Although there are some positive signs of the \\nrecovery of the world economy, it is no exaggeration to \\nsay that the path to stabilization and the suppression of \\nthe disturbing effects of the crisis is still long, perilous \\nand uncertain.  \\n The new problem of climate change has brought \\nin its wake catastrophes linked to rainfall phenomena, \\nsuch as floods, drought and landslides. Without a \\ndoubt, all of these phenomena will have a negative \\nimpact on global economic growth in general and, \\nmore specifically, a tragic effect on the least developed \\ncountries in particular. Despite this threat, we still \\nhesitate to reach agreement, as was demonstrated \\nrecently by the Copenhagen Conference on innovative \\nand proactive strategies to significantly reduce \\ngreenhouse gas emissions, on the one hand, and, on the \\nother hand, to pursue discussions to adopt as soon as \\npossible a schedule for concluding a new agreement to \\nsucceed the Kyoto Protocol. The time for speeches is \\nover; the time to act is now. \\n The High-level Plenary Meeting that we have just \\nheld here on the implementation of the Millennium \\nDevelopment Goals revealed once again the intrinsic \\nlink between aid and development, on the one hand, \\nand development and political will, on the other, at the \\nnational and international levels. The modest results \\nmy country has achieved with respect to the MDGs \\ncould have been better, and we would have been closer \\nto attaining them within the deadlines set if we had not \\nbeen deprived for far too many years of the precious \\nhelp afforded by development aid.  \\n The peaceful political climate being enjoyed by \\nmy country will also enable us to effectively pursue the \\nimprovement of the management of our public finances \\nso that we are able to devote more domestic resources \\nto achieving the MDGs. However, the efforts \\nundertaken by poor countries to consolidate the bases \\nof sustainable development will be a genuine success \\nonly if developed countries provide them with their \\nvarious forms of assistance and if they honour their \\ncommitments. Let us not close our eyes to this fact. We \\nneed better aid in terms of quantity and quality.  \\n Although the international community can \\nwelcome the fact that the number of armed conflicts in \\nthe world has fallen, we cannot forget that several \\npeacekeeping operations of the United Nations are still \\nunder way. That is undeniable proof that we are still far \\nfrom the ideal of international peace and security that \\nthe founding fathers of the United Nations envisaged. \\nCivil wars and terrorism continue to plunge many \\nfamilies into mourning throughout the world. More \\nthan wars, terrorism today is the most murderous form \\nof violence inflicted upon people because it attacks \\nindiscriminately, killing children, men, women and the \\n \\n \\n43 10-54965 \\n \\nelderly. The eradication of terrorism in all its forms is a \\nlong-term task and the responsibility above all of \\nStates and the international community acting in \\nsolidarity. They are obligated to find the best way to \\nfight this phenomenon. In this regard, prevention, \\nprotection, prosecution and punishment, as well as \\ninternational cooperation, must remain the main focus \\nof State action. \\n While Member States struggle to find a definition \\nof terrorism in order to better fight it, the scourge is \\naffecting an increasing number of countries because of \\nthe support that terrorists receive, particularly from \\ndrug trafficking networks. In West Africa, all leaders \\nhave become aware of the threat posed by drug \\ntrafficking and are engaged in a fight to the death \\nagainst the phenomenon. I call on wealthy countries to \\nhelp fight drug trafficking in my subregion in order to \\nprevent it from becoming an unstable zone of \\nunrestrained violence. \\n The purposes and principles for which the United \\nNations Organization was created are noble, but \\n65 years after its birth the work that remains to be done \\nis immense because the social situation of the \\ninhabitants of the planet does not always follow the \\ndevelopment that our world has achieved. Poverty and \\ndestitution are not mere words; they are oppressive \\nrealities experienced day by day. They lead to violence, \\ninstability, conflicts and other scourges that we, today, \\nare not fighting successfully. Only international \\nsolidarity will allow us to overcome the evils of this \\nworld.']}"
      ]
     },
     "execution_count": 85,
     "metadata": {},
     "output_type": "execute_result"
    }
   ],
   "source": [
    "ds_un_debates_sub[0:2]"
   ]
  },
  {
   "cell_type": "code",
   "execution_count": 94,
   "metadata": {},
   "outputs": [
    {
     "data": {
      "application/vnd.jupyter.widget-view+json": {
       "model_id": "26195d57e6bf45f69e91dab315a8dfb7",
       "version_major": 2,
       "version_minor": 0
      },
      "text/plain": [
       "Creating CSV from Arrow format:   0%|          | 0/5 [00:00<?, ?ba/s]"
      ]
     },
     "metadata": {},
     "output_type": "display_data"
    },
    {
     "name": "stdout",
     "output_type": "stream",
     "text": [
      "{'text': ['Ukraine appears set for new poll It looks likely that Ukraine will hold a new election as it awaits a supreme court verdict on electoral fraud.', 'Mozambique Prepares for Elections to Replace Chissano Mozambique holds elections on Wednesday and Thursday to choose a successor to President Joaquim Chissano, who ruled for 18 years and led the southern African country to peace after a long civil war that claimed up to a million lives.', \"The year that has elapsed since the forty-\\nseventh session of the General Assembly was noteworthy for\\nthe further growth in the authority and the effectiveness of\\nthe United Nations. It testifies, in our view, to the deep\\nunderstanding that the members of the world community\\nhave about the need for close, constructive cooperation in\\nthe name of a better future. As I look around this Hall, in\\nwhich, for the first time, a Head of State of a sovereign\\nTajikistan is speaking, the words of the great poet Saadi\\ncome to my mind:\\n'The sons of Man are but one body\\nFor the Creator made us all from but one beginning'.\\nNow that I find myself here, in the centre for settling\\nthe problems of the whole world, I should first of all like to\\ncongratulate Mr. Samuel Insanally, the Permanent\\nRepresentative of Guyana, on his election to the presidency\\nof the General Assembly. Allow me to express the hope\\nForty-eighth session - 30 September l993 5\\nthat this session, under your skilful leadership, Mr. President,\\nwill achieve tangible, successful results for the good of all\\nmankind. I should also like to draw attention to the\\nexcellent work done by Mr. Stoyan Ganev, President of the\\nGeneral Assembly at its last session; Mr. Ganev both\\nenergetically and effectively guided the deliberations on\\ncomplex political problems.\\nIt is with great satisfaction that I greet\\nMr. Boutros Boutros-Ghali, Secretary-General of the United\\nNations, and express to him our sincere gratitude for his\\ntireless efforts to resolve the conflicts in various parts of the\\nworld, not excluding my own country.\\nThe Republic of Tajikistan is taking its first steps as a\\nsubject of international law. It is with deep satisfaction that\\nI note that we have been granted an equal voice in the\\ncommonwealth of nations, and we are aware that this\\nhonourable right imposes significant duties on us.\\nThe two years of our independence, in addition to\\nmoments that are undoubtedly positive, have also entailed\\nthe harsh trials that my patient and peace-loving people are\\nnow going through. It is for the historians to study the root\\ncauses, the reasons for the situation in Tajikistan today. I\\nthink that my job is to point out just one thing: those whom\\nwe believe, on the basis of the law in force in the Republic\\nof Tajikistan, to be guilty of unleashing civil war are guilty\\nof grossly violating the very foundations of any modern\\nsociety, namely the primacy of law.\\nAs in any civil war, in the civil war in Tajikistan there\\ncan be no victors. Our urgent task as a nation is to heal, as\\nquickly as possible, the bloody wounds that it has inflicted\\non our country.\\nThe attention the community of nations is paying\\nTajikistan is understandable. Nor should we be surprised at\\nthe variety of opinions we hear when events in the Republic\\nare being analysed. I should like to shed some necessary\\nlight on a number of issues.\\nNow that we have set out on the path of independent\\ndevelopment, we have run up against the enormous political\\nand socio-economic problems of the transitional period.\\nOur national economy was built up as just one small\\npart of the enormous economic complex of the former\\nUSSR, and was basically a provider of raw materials. With\\nthe collapse of those economic ties, our Republic has come\\nface to face with many almost insoluble problems. There\\nhas been a catastrophic drop in the standard of living, which\\ncould hardly fail to lead to an increase in social tension.\\nThe power struggle that developed at the same time and\\nthe attempts to seize power illegally, by force and\\nundemocratically, have split society apart and led to a\\nsenseless, fratricidal war. The results of this we know:\\nthousands of broken lives, thousands of dead and wounded,\\nrefugees and missing. Immeasurable political, social and\\neconomic harm has been done to the Republic.\\nThe internal instability has become the main reason for\\nthe economic and political chaos, the total legal confusion\\nand the sharp drop in production. The future of our people -\\nthe future of Tajik statehood - has been put in jeopardy.\\nThe sixteenth session of the Supreme Council of the\\nRepublic of Tajikistan, which was held in these conditions,\\nlaid fundamentally new foundations for establishing peace\\nand civil harmony in our country. The Supreme Council has\\ndecided in favour of solving all political, social and\\neconomic problems solely within the framework of the\\nconstitution. A number of important laws have been adopted\\nthat are designed to afford citizens social protection and to\\nreturn them to their homes and peace-time jobs.\\nIn accordance with the Constitution, we have elected a\\nleadership for the Supreme Council and formed a\\nGovernment. Today our society and our people have\\nbecome aware that the highest power in the State should be\\nthe law, and only the law.\\nAs the Head of State, I declare, from this rostrum, that\\nwe shall adhere to the fundamental principles of the Final\\nAct of the Helsinki Conference and the Paris Charter and\\nother international instruments for the defence of law. We\\nare determined to carry out democratic transformations in\\nour country and to acknowledge and respect philosophical,\\nreligious, ideological and political choice as an inalienable\\nright of the individual.\\nWorking under the constant pressure of political and\\nsocio-economic problems, we have succeeded in a short time\\nin removing the economic blockade from all the regions of\\nthe Republic and have begun rebuilding our destroyed\\nnational economy and instituting economic reforms in order\\ngradually to introduce a free market.\\nFrom the beginning of the restoration of our Republic,\\nour Parliament has adhered to the principle of the primacy\\nof law, and in so doing has passed a number of measures,\\nwhile the Presidium of the Supreme Council has laid down\\n6 General Assembly - Forty-eighth session\\nthree special decrees on amnesty. Does not this show that\\nwe are acting to resolve through political means the\\nproblems that have accumulated in our country? We are\\nprepared for dialogue with all the social forces in our\\ncountry to achieve national reconciliation, civil harmony and\\nstability in Tajikistan.\\nWe would like to cooperate constructively with forces\\nof any political orientation acting within the framework of\\nexisting law and respecting generally accepted principles of\\ndemocracy. I would like to inform the world community\\nthat Tajikistan is actively working to improve its election\\nlaws and to prepare a draft new Constitution in which\\nmaximum attention will be given to all problems related to\\nguaranteeing and protecting inalienable human rights.\\nIn terms of settling our domestic political problems, we\\nare seriously concerned over the attempts at regionalization\\nof the internal conflict in Tajikistan, a conflict which is still\\ngoing on in a number of areas along the Tajik-Afghan\\nborder. The outbreak of the conflict this summer brought\\ndozens of deaths.\\nAllow me briefly to tell the Assembly my view of the\\nessential reasons for the tensions along and inside the border.\\nEveryone knows that until recently Tajikistan had been\\nsystematically subjected to unprovoked acts of armed\\nintervention from the territory of a neighbouring country.\\nNaturally, we understand its internal difficulties related to\\nestablishing a centralized State administration. But facts\\ncannot be denied, and we have now been faced with the\\nneed seriously to deal with the question of self-defence.\\nWe are not hatching any hostile plan with regard to\\nAfghanistan. The measures which we have taken and are\\ntaken to strengthen the defence of our border - which is also\\na border of the Commonwealth of Independent States (CIS) -\\ndo not go beyond what is laid down in Article 51 of the\\nUnited Nations Charter and are fully in keeping with\\ngenerally accepted norms of international relations.\\nBut this, of course, does not mean that that is the only\\nway to solve the problem. And here we are encouraged by\\nthe notable speed-up in the negotiating process with the\\nauthorities in Kabul. We have achieved a number of\\npositive agreements on a broad spectrum of questions,\\nincluding normalizing the situation along the Tajik-Afghan\\nborder. We think that a permanent, substantive dialogue\\nwith the leadership of the Islamic State of Afghanistan will\\nhelp us remove some other well-known irritants.\\nIt is most unfortunate that huge resources are still being\\nspent to support destructive elements based on the territory\\nof Afghanistan. Having gone there from Tajikistan, they are,\\nwith the help of extremist groups and the forces of\\ninternational terrorism, hatching plans forcibly to change the\\nState structure in our country. A legitimate question arises:\\nis it not wiser to use these resources to build rather than to\\ndestroy?\\nAnother of our problems is that of the Tajik refugees in\\nAfghanistan. There are many versions of how they ended up\\non the territory of Afghanistan, but that is not the main\\npoint, which is that they should return to their homeland as\\nquickly as possible. We express our sincere thanks to the\\nAdministration of Afghanistan and to the United Nations\\nHigh Commissioner for Refugees, who are giving serious\\nattention to those people. As of the middle of September,\\nmore than 35,000 Tajik refugees - more than half the total -\\nhad returned to their permanent homes from Afghanistan.\\nWe hope that the process of voluntary return will continue\\nand that with the support of the authorities of Afghanistan\\nand of the United Nations High Commissioner for Refugees,\\nwe shall in the near future be able to put an end once and\\nfor all to this painful question.\\nWe have already completed our preparation for signing\\na trilateral agreement between Tajikistan, Afghanistan and\\nthe United Nations High Commissioner for Refugees. We\\nhope that the agreement will be signed as soon as possible.\\nFrom this United Nations rostrum, I should like to say\\none more thing in this regard. We are firmly convinced that\\nthe support of the Administration of Afghanistan in efforts\\nto restore peace to the Afghan land, which has suffered so\\nmuch, would be in the interests not only of that country but\\nof the region and of the entire world. There was a time\\nwhen some States spent a great deal of resources on war in\\nAfghanistan. In my view, the time has come to help restore\\na peaceful life there. A restless, unstable Afghanistan is a\\nthreat - and not only to Tajikistan.\\nRegarding our participation in the CIS, I must\\nemphasize that Tajikistan is in favour of strengthening the\\nCommonwealth while observing full respect for the\\nsovereignty and independence of its member States. In this\\ncontext, I should like to point out the significance of two\\nareas of our activities within the framework of the CIS,\\nactivities which are critically important for Tajikistan. I am\\ntalking about relations with Russia and with the Central\\nAsian States.\\nForty-eighth session - 30 September l993 7\\nRussia, as a permanent member of the Security Council,\\nhas undergone great trials in taking upon itself the\\nmaintenance of peace and stability in virtually all the space\\nand territory of the former Soviet Union. Therefore, the\\npeoples of the former Soviet Union, including Tajikistan,\\ncommend and welcome the peace-keeping efforts made by\\nRussia.\\nA positive role in stabilizing the situation in our country\\nhas been played by the brotherly support of Uzbekistan,\\nKazakhstan and the Kyrgyz Republic. Tajikistan also thanks\\nthe United States and all the other countries of Europe and\\nAsia that extended the hand of assistance to us during\\nterrible and dark days.\\nWe hope that Tajikistan will quickly be removed from\\nthe blacklist of conflict areas. In this respect, we count upon\\nthe tangible assistance of the world community in restoring\\nour national economy, which has been destroyed by war and\\nby natural disasters. A country which is rich in natural\\nresources, which has an attraction in terms of its economic\\nprospects, needs purposeful assistance in order to be reborn.\\nAllow me to express the hope that that assistance and that\\nsupport will naturally, in accordance with generally accepted\\nprinciples in world practice, be given to my country.\\nTajikistan, which has gone through the horrors of a\\ncivil war, views with great concern the course of events in\\nthe hot spots of our planet. We know of the pain and\\nsuffering of the people of Somalia. We feel the full depth\\nand senselessness of the tragedy of the peoples of the former\\nYugoslavia, the deadlocked events which have taken place\\nin the Caucasus of the post-Soviet era. We also know\\nfirsthand how destructive is the force of local conflicts. That\\nis why we make an urgent appeal to the world community\\nto multiply its efforts to end, and to prevent, that type of\\nconflict. We are firmly convinced that the force of arms, no\\nmatter how threatening and frightening they may be, cannot\\nsolve a single contentious issue.\\nIn this connection, we are seriously concerned by the\\nuncontrolled and unsanctioned trade in arms in areas of\\nintense instability. Essentially, what is happening is a\\nmassive arming of entire regions. Indeed, we can imagine\\nhow unbelievably difficult it is to take away from a\\npopulation weapons that they have illegally obtained. On\\nthe basis of our own bitter experience, we loudly speak out\\nabout the danger of that fateful trend.\\nToday, this destructive impact on our economy has\\nbeen joined by another: the aspiration of a number of\\ncountries to acquire nuclear weapons or the technology to\\nproduce them. As a country which has the technology for\\nmining and initially processing uranium, we categorically\\noppose the use of that priceless source of energy for\\nnon-peaceful purposes.\\nWe state our unconditional support for the\\nNon-Proliferation Treaty, and we hope that the conference of\\nthe States parties to that Treaty, scheduled for 1995, will\\ndecide to extend it indefinitely.\\nAs the Assembly knows, the end of the cold war and\\nbipolar confrontation gave rise to great hopes on the part of\\nthe peoples of the world. Unfortunately, events have not yet\\njustified many of these hopes. None the less, there is one\\nplace in the world where notable political events have been\\nobserved. We are deeply satisfied with the historic\\nagreements reached between the Palestine Liberation\\nOrganization and the State of Israel on mutual recognition.\\nWe welcome the decision of the United States of\\nAmerica to recognize the Palestine Liberation Organization,\\nand we commend that great country for its role in supporting\\npeace and stability on earth.\\nThe questions which the General Assembly will be\\ndiscussing at its forty-eighth session show that there is now\\nan onward rush towards the interdependence of nations. In\\nTajikistan we are convinced of this.\\nWe commend the peace-keeping and humanitarian\\nefforts of the United Nations. We are especially proud of\\nTajikistan’s initiative to include institutions of the\\nCommonwealth of Nations in the broad peace-keeping\\nactivities on the territory of our country; that initiative has\\nnot been ignored.\\nThe mandate for the presence in Tajikistan of the\\nSpecial Envoy of the Secretary-General, Mr. Ismat Kittani,\\nhas been extended. The Republic has fruitfully worked with\\nthe United Nations Observer Mission, the representative of\\nthe High Commissioner for Refugees, and the representatives\\nof other international non-governmental organizations.\\nOur special gratitude goes to the Security Council of\\nthe United Nations, which constantly monitors developments\\nin the situation in and around Tajikistan. We sincerely hope\\nthat the efforts of the community of nations will be\\nincreasingly focused on ensuring the conditions for\\nsustainable development.\\n8 General Assembly - Forty-eighth session\\nWe wholeheartedly support the principles and\\nrecommendations of Agenda 21. We feel that accomplishing\\nthat Agenda’s important goals, such as the transfer of\\ntechnology and resources, will have a favourable impact on\\ndisaster areas such as the Aral Sea and areas of great\\npoverty.\\nIn conclusion, I would like to assure the Assembly that\\nmy people, who have now embarked upon establishing their\\nown statehood and have overcome considerable difficulties\\nin so doing, look to the future with a feeling of great and, I\\nhope, justified optimism.\\nWe will spare no effort, we shall use all our energy, in\\nbuilding a genuinely legal, democratic and enlightened State\\nwhich will not fail to take a worthy place among the\\ncivilized countries of the world.\\n\", 'Having the final say FOXBOROUGH -- The Patriots have won 20 games in a row, and yesterday they tied the NFL record for most consecutive regular-season wins (17). Those are feats that take all the emotion the players can muster week after week.', \"Israel, Palestinians Seek Deal to End Gaza Fighting  JERUSALEM (Reuters) - Israeli and Palestinian officials are  trying to work out a deal to end Israel's biggest Gaza  offensive in four years of conflict in return for stopping  rocket fire into the Jewish state, security sources said.\"], 'source': ['ag_news', 'ag_news', 'un_debates', 'ag_news', 'ag_news'], 'formality': ['formal', 'formal', 'formal', 'formal', 'formal'], 'type': ['written', 'written', 'spoken', 'written', 'written']}\n"
     ]
    }
   ],
   "source": [
    "#combine\n",
    "from datasets import Dataset, concatenate_datasets\n",
    "import random\n",
    "\n",
    "ag_news_dataset = Dataset.from_dict({\"text\": ds_ag_news_sub[\"text\"], \n",
    "                                     \"source\": [\"ag_news\"] * len(ds_ag_news_sub),\n",
    "                                     \"formality\": [\"formal\"] * len(ds_ag_news_sub)})\n",
    "medium_dataset = Dataset.from_dict({\"text\": ds_medium_sub[\"text\"], \n",
    "                                    \"source\": [\"medium\"] * len(ds_medium_sub),\n",
    "                                    \"formality\": [\"formal\"] * len(ds_medium_sub)})\n",
    "edu_dataset = Dataset.from_dict({\"text\": ds_edu_sub[\"text\"], \n",
    "                                 \"source\": [\"textbooks\"] * len(ds_edu_sub),\n",
    "                                 \"formality\": [\"educational\"] * len(ds_edu_sub)})\n",
    "sms_dataset = Dataset.from_dict({\"text\": ds_sms_sub[\"sms\"], \n",
    "                                 \"source\": [\"sms\"] * len(ds_sms_sub), \n",
    "                                 \"formality\": [\"informal\"] * len(ds_sms_sub)})\n",
    "enron_dataset = Dataset.from_dict({\"text\": ds_enron_sub[\"email\"], \n",
    "                                   \"source\": [\"enron_emails\"] * len(ds_enron_sub), \n",
    "                                   \"formality\": [\"formal\"] * len(ds_enron_sub)})\n",
    "\n",
    "\n",
    "combined_written_dataset = concatenate_datasets([ag_news_dataset, medium_dataset, edu_dataset, sms_dataset, enron_dataset])\n",
    "combined_written_dataset = combined_written_dataset.add_column(\"type\", [\"written\"] * len(combined_written_dataset))\n",
    "\n",
    "\n",
    "\n",
    "podcast_news_dataset = Dataset.from_dict({\"text\": ds_podcast_news_sub[\"text\"], \n",
    "                                     \"source\": [\"podcasts\"] * len(ds_podcast_news_sub), \n",
    "                                     \"formality\": [\"informal\"] * len(ds_podcast_news_sub)})\n",
    "un_debates_dataset = Dataset.from_dict({\"text\": ds_un_debates_sub[\"text\"], \n",
    "                                   \"source\": [\"un_debates\"] * len(ds_un_debates_sub),\n",
    "                                   \"formality\": [\"formal\"] * len(ds_un_debates_sub)})\n",
    "ted_talk_edu_dataset = Dataset.from_dict({\"text\": ds_ted_talk_edu_sub[\"transcript\"], \n",
    "                                 \"source\": [\"ted_talks\"] * len(ds_ted_talk_edu_sub),\n",
    "                                 \"formality\": [\"educational\"] * len(ds_ted_talk_edu_sub)})\n",
    "telephone_dataset = Dataset.from_dict({\"text\": ds_telephone_sub[\"text\"], \n",
    "                                    \"source\": [\"telephone_convos\"] * len(ds_telephone_sub), \n",
    "                                    \"formality\": [\"informal\"] * len(ds_telephone_sub)})\n",
    "business_meetings_dataset = Dataset.from_dict({\"text\": ds_business_meetings_sub[\"source\"], \n",
    "                                 \"source\": [\"business_meetings\"] * len(ds_business_meetings_sub),\n",
    "                                 \"formality\": [\"formal\"] * len(ds_business_meetings_sub)})\n",
    "\n",
    "combined_spoken_dataset = concatenate_datasets([podcast_news_dataset, un_debates_dataset, ted_talk_edu_dataset, telephone_dataset, business_meetings_dataset])\n",
    "combined_spoken_dataset = combined_spoken_dataset.add_column(\"type\", [\"spoken\"] * len(combined_spoken_dataset))\n",
    "\n",
    "full_dataset = concatenate_datasets([combined_spoken_dataset, combined_written_dataset])\n",
    "\n",
    "full_dataset = full_dataset.shuffle(seed=42)\n",
    "full_dataset.to_csv(\"spoken_written_full_dataset.csv\")\n",
    "\n",
    "print(full_dataset[:5])\n"
   ]
  },
  {
   "cell_type": "code",
   "execution_count": 95,
   "metadata": {},
   "outputs": [
    {
     "data": {
      "application/vnd.jupyter.widget-view+json": {
       "model_id": "9d7685fea6154377be56c4901327cea9",
       "version_major": 2,
       "version_minor": 0
      },
      "text/plain": [
       "Generating train split: 0 examples [00:00, ? examples/s]"
      ]
     },
     "metadata": {},
     "output_type": "display_data"
    }
   ],
   "source": [
    "#Load in new dataset \n",
    "full_dataset = load_dataset('csv', data_files='spoken_written_full_dataset.csv') #medium articles, academic but also likely less formal ? community contributions\n",
    "\n",
    "#preprocessing to do\n",
    "#lowercase\n",
    "#get rid of links\n",
    "#get rid of code?\n",
    "# get rid of maybe = signs and equations\n",
    "#speaker 1 etc? maybe we need to preprocess each source differenlty\n"
   ]
  },
  {
   "cell_type": "markdown",
   "metadata": {},
   "source": []
  }
 ],
 "metadata": {
  "kernelspec": {
   "display_name": "base",
   "language": "python",
   "name": "python3"
  },
  "language_info": {
   "codemirror_mode": {
    "name": "ipython",
    "version": 3
   },
   "file_extension": ".py",
   "mimetype": "text/x-python",
   "name": "python",
   "nbconvert_exporter": "python",
   "pygments_lexer": "ipython3",
   "version": "3.12.4"
  }
 },
 "nbformat": 4,
 "nbformat_minor": 2
}

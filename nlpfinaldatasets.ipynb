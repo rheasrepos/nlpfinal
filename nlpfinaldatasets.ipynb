{
 "cells": [
  {
   "cell_type": "markdown",
   "metadata": {},
   "source": [
    "CONCATENING TEXT DATASETS, DON'T HAVE TO RUN THIS SECTION ANYMORE"
   ]
  },
  {
   "cell_type": "code",
   "execution_count": 47,
   "metadata": {},
   "outputs": [
    {
     "data": {
      "application/vnd.jupyter.widget-view+json": {
       "model_id": "0f34d197bb574861becd7275b7df9857",
       "version_major": 2,
       "version_minor": 0
      },
      "text/plain": [
       "Resolving data files:   0%|          | 0/23 [00:00<?, ?it/s]"
      ]
     },
     "metadata": {},
     "output_type": "display_data"
    },
    {
     "data": {
      "application/vnd.jupyter.widget-view+json": {
       "model_id": "6cd34ec26d4348cb86cb19e4a4982b12",
       "version_major": 2,
       "version_minor": 0
      },
      "text/plain": [
       "Resolving data files:   0%|          | 0/23 [00:00<?, ?it/s]"
      ]
     },
     "metadata": {},
     "output_type": "display_data"
    },
    {
     "data": {
      "application/vnd.jupyter.widget-view+json": {
       "model_id": "1f82a7e7afe045538fd51a9dc6a09d02",
       "version_major": 2,
       "version_minor": 0
      },
      "text/plain": [
       "Loading dataset shards:   0%|          | 0/91 [00:00<?, ?it/s]"
      ]
     },
     "metadata": {},
     "output_type": "display_data"
    }
   ],
   "source": [
    "#DONT RUN THIS ANYMORE\n",
    "\n",
    "from datasets import load_dataset\n",
    "\n",
    "ds_ag_news = load_dataset(\"fancyzhx/ag_news\") #news, formal\n",
    "ds_sms = load_dataset(\"ucirvine/sms_spam\") #should only use ham labels, text messages, informal\n",
    "ds_edu = load_dataset(\"Locutusque/UltraTextbooks\") #synthetic and human written textbooks..... acdademic / formal\n",
    "#https://huggingface.co/datasets/fabiochiu/medium-articles\n",
    "ds_medium = load_dataset('csv', data_files='/Users/rheamadhogarhia/Desktop/Year 3/NLP/nlpfinal/medium_articles.csv') #medium articles, academic but also likely less formal ? community contributions\n",
    "#https://huggingface.co/datasets/kariatouk/enron_curated_labeled/tree/main\n",
    "ds_enron= load_dataset('csv', data_files='/Users/rheamadhogarhia/Desktop/Year 3/NLP/nlpfinal/enron_labeled_curated.csv') #enron, very formal business emails probably?\n",
    "\n",
    "\n",
    "#this cell ran in 21 minutes (probably don't have to load the whole dataset?)\n",
    "\n"
   ]
  },
  {
   "cell_type": "code",
   "execution_count": 52,
   "metadata": {},
   "outputs": [],
   "source": [
    "#TRAIN SETS, choosing 500 samples frome each written text set\n",
    "num_samples = 1000\n",
    "ds_ag_news_sub = ds_ag_news[\"train\"].shuffle(seed=42).select(range(num_samples))\n",
    "\n",
    "#filtering out the spam label - only getting legitimate texts\n",
    "ds_sms_filtered = ds_sms[\"train\"].filter(lambda example: example['label'] == 0)\n",
    "ds_sms_sub = ds_sms_filtered.shuffle(seed=42).select(range(num_samples))\n",
    "\n",
    "ds_edu_sub = ds_edu[\"train\"].shuffle(seed=42).select(range(num_samples))\n",
    "ds_medium_sub = ds_medium[\"train\"].shuffle(seed=42).select(range(num_samples))\n",
    "ds_enron_sub = ds_enron[\"train\"].shuffle(seed=42).select(range(num_samples))\n",
    "\n",
    "#ds_ag_news_sub[:5] #text header\n",
    "#ds_edu_sub[:5] #text header\n",
    "#ds_sms_sub[:5] #sms header\n",
    "#ds_medium_sub[:5] #text header\n",
    "#ds_enron_sub[:5] #email Header contains text#\n",
    "\n"
   ]
  },
  {
   "cell_type": "code",
   "execution_count": 53,
   "metadata": {},
   "outputs": [
    {
     "data": {
      "application/vnd.jupyter.widget-view+json": {
       "model_id": "ccc57175290f4f708d8b704d80dc4216",
       "version_major": 2,
       "version_minor": 0
      },
      "text/plain": [
       "Creating CSV from Arrow format:   0%|          | 0/5 [00:00<?, ?ba/s]"
      ]
     },
     "metadata": {},
     "output_type": "display_data"
    },
    {
     "name": "stdout",
     "output_type": "stream",
     "text": [
      "{'text': ['Railroads spread across the country, creating a connected transportation network.\\n\\nAn inset in the upper right corner shows the spread of railroads throughout the Midwest, the South, and the eastern portion of the country, encouraging immigration to Texas from throughout the United States. There are connections to Texas as far north as Chicago, New York, and Canada. According to information provided by the company, the I&GN controlled almost 520 miles of rail in the state by 1878.\\n\\nThe map’s verso is a portable advertisement for the International & Great Northern Railroad, which sought to draw the attention of immigrants by outlining the company’s benefits. The railroad prided itself on extending the greatest hospitality to newcomers, claiming to make “every effort, under a well-organized system, to promote the welfare of those seeking new homes and better fortunes in our great and growing State.”\\n\\nThe International & Great Northern Railroad Immigrants’ Home provided newcomers with a safe place to stay while they located permanent housing in the state. Women and children depicted on the balcony, and a church steeple included in the background, indicated the positive moral atmosphere for families in Texas.\\n\\nThe company sponsored an “Immigrants’ Home” in Palestine, which provided “stoves and cooking utensils…fuel, water, and lights” free of charge, and promised a stay for “families for a reasonable time in comfort and under protection” until permanent settlement could be found. They drew attention to the “very low rates” of tickets for immigrants, the luxury of the rides, and promoted the new dining cars available on their trains. Times tables were made available, advertising the speed of an I&GN journey from the rest of the rail-accessible country to the Lone Star State. The company also promotes easy access to Mexican rail lines and markets on the Pacific coast.\\n\\nThe I&GN paid special attention to Austin and San Antonio and their favorable climates. Boasting of the railroad’s benefit to the capital city, the advertisement announced that “if Texans love the great commonwealth, and are boastful and hopeful of its future, and proud of the virtues of great men and pure and faultless women, they may also congratulate themselves that the International & Great Northern Railroad and nature are doing their utmost, and contributing alike with lavish hands, to the perfection of every charm that makes Austin the worthy capitol of the mighty commonwealth.”\\n\\nThe railroad prided themselves on the superior amenities of their trains. Among these was the advent of the “dining car,” which provided a welcome convenience to those who could afford it.\\n\\nThe International & Great Northern Railroad was one of the many rail companies which greatly increased access to Texas after the Civil War. The railroads stimulated immigration and introduced new culture and commerce to the state, and this map was a useful tool in encouraging growth.', 'MAKE THE BEST OF THE BEAR SEASON WITH VERASWAP LIQUIDITY MINING POOL Kekeyous Jun 17·3 min read\\n\\nThe lowliess of the Bearish season is upon us with most people still trying to figure out how to wield the current situation for optimal results.\\n\\nIf you are in this position, I have news for you. VeraSwap protocol recently launched several liquidity mining pools on its fully decentralized exchange. It is time to leverage an on-chain staking protocol that allows users to earn rewards from other liquidity pools.\\n\\nIt features various mouth-watering Annual Percentage Yields (APY) across the different pools. Therefore, offering participants an opportunity to earn more $Vrap tokens as rewards by engaging any of the liquidity mining pools. The APY offering on the Veraswap liquidity mining protocol ranges between 360% to 50000%.\\n\\nCurrently, the available Veraswap Liquidity Mining Pools, include;\\n\\nVRAP-BNB Liquidity Mining Pool: with an APY of 36000%, liquidity providers staking their VRAP-BNB LP tokens in this pool stand a chance of earning 98% on their stakings daily. An icing on the cake for liquidity providers on the Veraswap DEX and holders of VRAP-BNB liquidity provider token, is that, they can deposit their tokens within this pool and earn $Vrap as rewards with an APY offering of 50,000% i.e an ROI of 137% on a daily.\\n\\nVRAP-BUSD Liquidity Mining Pool: presents an APY of 360%, thus, participants within this pool will earn 0.98% daily. This pool is for participants who provide liquidity on the Veraswap DEX and hold the VRAP-BUSD LP tokens.\\n\\nVRAP-CAKE Liquidity Mining Pool: is the last functional mining pool of Veraswap protocol at the moment. By staking your VRAP-BUSD LP token within this pool you can earn more $Vrap token as reward for staking at an APY offering of 500%.\\n\\nEngage the Veraswap liquidity mining pool here.\\n\\nHappy Mining!\\n\\nFollow the project via Twitter | Medium | Telegram | Reddit', 'eams.  If someone is interested in a part=\\nicular issue and was not included on that team, please feel free to call th=\\ne Project Lead to have your name added to the team.  All assistance is welc=\\nome.  As you will see on the attached chart, many of the deadlines for resp=\\nonding to these initiatives are within the next few weeks, so the teams nee=\\nd to mobilize and establish a game plan for our responses very quickly.\\n\\nOn the attached chart, we have listed in the left column each of the FERC i=\\nnitiatives that will be starting or are currently underway.  A \"Project Lea=\\nd\" has been named for each initiative.  The Project Lead will be responsibl=\\ne for developing and initiating a game plan for how Enron will respond in t=\\nhe proceeding.  The Team Lead will be contacting each of you within the nex=\\nt couple of days to set up processes and procedures for moving forward.  Th=\\ne team will be responsible for the initial determination of what issues sho=\\nuld be addressed, what is the best way for Enron to respond to them, and pr=\\noducing draft comments.  Once draft comments are prepared, the comments wil=\\nl be circulated to a much wider group of Government Affairs and commercial =\\npeople to ensure that the team has captured all of Enron\\'s important issues=\\n. =20\\n\\nThere is a column of \"Inside Counsel\" and \"Outside Services.\"  In some area=\\ns, we plan to use outside counsel or consultants and in others we do not.  =\\nWhere we do not list outside counsel, we will rely on our inside counsel to=\\n draft the comments (with significant input from the team members).  Please=\\n remember, however, that even if outside services are listed, the RCR proce=\\nss must still be followed.  If applicable, Project Leads should submit the =\\nnecessary RCR request as soon as possible.\\nThe following is a brief description of each proceeding and the Project Lea=\\nd named for each proceeding:\\n\\nRTO Meetings and Comments to NOPR:  Sarah Novosel and Christi Nicolay will =\\nbe the Project Leads in this proceeding.  The RTO meetings will be held in =\\nWashington from October 15-19, and we hope to have an executive from Enron =\\nmake a presentation on one of the panels.  Comments will be submitted to FE=\\nRC regarding the appropriate market design for RTOs.  This team will also b=\\ne responsible for these comments.\\n\\nStandards of Conduct NOPR:  Lisa Yoho will be the Project Lead.  Comments a=\\nre due in approximately 45 days.  Several issues are raised in this proceed=\\ning, including a proposal to apply t', 'STARBUCKS (SBUX) INVESTOR DAY 2020 — CEO and CFO on Vision for the Future and Reaffirms Strategy for Continued Growth at Scale', \"Enron's accounting firm, Andersen, has admitted its employees disposedof or deleted a number of documents related to its audit of Enron.Andersen, which has come under fire from investors and lawmakers forsigning off on Enron's books, said it had notified the SEC, the JusticeDepartment and congressional committees and other agencies investigatingEnron's collapse. In recent months individuals in the accounting firminvolved with the Enron engagement disposed of a significant butundetermined number of electronic and paper documents and correspondencerelating to the Enron engagement. The SEC's enforcement chief says thatthe destruction of documents was an extremely serious matter. In testimonybefore Congress last month, Andersen CEO said it had warned Enron ofpossible illegal acts, but said it had failed to provide the auditor withkey information. Some industry experts say the deliberate destruction ofkey document can be tantamount to an admission of guilt. The ramificationscould be huge. Most accounting firms keep their audit records for at least4 years. Anderson says it has suspended its records management policyimmediately and has instructed all its partners and employees to retainall existing documents until further notice.-------------------------------------------------------------POWER FUTURES| Month | COB | Change | PV | Change || FEB | 22.00 | +0.00 | 22.50 | +0.00 || MAR | 21.00 | +0.00 | 22.00 | +0.00 || APR | 21.00 | +0.00 | 24.00 | +0.00 || MAY | 20.00 | +0.00 | 25.00 | +0.00 || JUN | 21.00 | +0.00 | 30.00 | +0.00 || JUL | 29.00 | +0.00 | 40.00 | +0.00 || AUG | 39.50 | +0.00 | 44.25 | +0.00 || SEP | 35.00 | +0.00 | 35.00 | +0.00 || OCT | 26.00 | +0.00 | 26.25 | +0.00 || NOV | 25.00 | +0.00 | 26.25 | +0.00 || DEC | 27.00 | +0.00 | 26.25 | +0.00 || JAN | 27.00 | +0.00 | 26.00 | +0.00 || Month | Entergy | Change | Cinergy | Change || FEB | 19.50 | -0.30 | 21.35 | -0.35 || MAR | 20.35 | -0.25 | 22.35 | -0.25 || APR | 20.35 | -0.25 | 22.35 | -0.25 || MAY | 23.60 | -0.55 | 25.75 | -0.35 || JUN | 29.75 | -0.50 | 33.00 | -0.50 || JUL | 38.00 | -0.75 | 42.75 | -0.75 || AUG | 38.00 | -0.75 | 42.75 | -0.75 || SEP | 22.00 | +0.50 | 23.00 | -0.60 || OCT | 22.25 | -0.25 | 23.20 | -0.05 || NOV | 22.25 | -0.25 | 23.20 | -0.05 || DEC | 22.25 | -0.25 | 23.20 | -0.05 || JAN | 24.50 | -0.25 | 26.25 | -0.25 |-------------------------------------------------------------Power Futures| Month | PJM | Change || FEB | 25.25 | +0.00 || MAR | 24.85 | +0.00 || APR | 24.85 | +0.00 || MAY | 28.40 | -0.20 || JUN | 36.10 | -0.15 || JUL | 49.60 | -0.30 || AUG | 49.60 | -0.30 || SEP | 25.40 | +0.20 || OCT | 25.20 | +0.00 || NOV | 25.20 | +0.00 || DEC | 25.20 | +0.00 |\"], 'type': ['written', 'written', 'written', 'written', 'written']}\n"
     ]
    }
   ],
   "source": [
    "#combine\n",
    "import random\n",
    "from datasets import Dataset\n",
    "\n",
    "ag_news_texts = ds_ag_news_sub[\"text\"]\n",
    "medium_texts = ds_medium_sub[\"text\"]\n",
    "edu_texts = ds_edu_sub[\"text\"]\n",
    "sms_texts = ds_sms_sub[\"sms\"]\n",
    "enron_texts = ds_enron_sub[\"email\"]\n",
    "\n",
    "combined_texts = ag_news_texts + medium_texts + edu_texts + sms_texts + enron_texts\n",
    "random.seed(42)\n",
    "random.shuffle(combined_texts)\n",
    "\n",
    "type_values = [\"written\"] * len(combined_texts)#create type column to label all of these as \"written\"\n",
    "\n",
    "ds_combined = Dataset.from_dict({\"text\": combined_texts, \"type\": type_values})\n",
    "\n",
    "#Save file! \n",
    "ds_combined.to_csv(\"combined_dataset.csv\", index=False)\n",
    "print(ds_combined[:5])"
   ]
  },
  {
   "cell_type": "markdown",
   "metadata": {},
   "source": [
    "START RUNNING FROM HERE"
   ]
  }
 ],
 "metadata": {
  "kernelspec": {
   "display_name": "base",
   "language": "python",
   "name": "python3"
  },
  "language_info": {
   "codemirror_mode": {
    "name": "ipython",
    "version": 3
   },
   "file_extension": ".py",
   "mimetype": "text/x-python",
   "name": "python",
   "nbconvert_exporter": "python",
   "pygments_lexer": "ipython3",
   "version": "3.12.4"
  }
 },
 "nbformat": 4,
 "nbformat_minor": 2
}

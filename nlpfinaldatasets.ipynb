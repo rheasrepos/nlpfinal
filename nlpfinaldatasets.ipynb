{
 "cells": [
  {
   "cell_type": "markdown",
   "metadata": {},
   "source": [
    "CONCATENING TEXT DATASETS, DON'T HAVE TO RUN THIS SECTION ANYMORE"
   ]
  },
  {
   "cell_type": "code",
   "execution_count": 4,
   "metadata": {},
   "outputs": [],
   "source": [
    "from datasets import load_dataset\n",
    "from convokit import Corpus, download\n",
    "from datasets import Dataset, concatenate_datasets\n",
    "import random"
   ]
  },
  {
   "cell_type": "code",
   "execution_count": null,
   "metadata": {},
   "outputs": [
    {
     "data": {
      "application/vnd.jupyter.widget-view+json": {
       "model_id": "0f34d197bb574861becd7275b7df9857",
       "version_major": 2,
       "version_minor": 0
      },
      "text/plain": [
       "Resolving data files:   0%|          | 0/23 [00:00<?, ?it/s]"
      ]
     },
     "metadata": {},
     "output_type": "display_data"
    },
    {
     "data": {
      "application/vnd.jupyter.widget-view+json": {
       "model_id": "6cd34ec26d4348cb86cb19e4a4982b12",
       "version_major": 2,
       "version_minor": 0
      },
      "text/plain": [
       "Resolving data files:   0%|          | 0/23 [00:00<?, ?it/s]"
      ]
     },
     "metadata": {},
     "output_type": "display_data"
    },
    {
     "data": {
      "application/vnd.jupyter.widget-view+json": {
       "model_id": "1f82a7e7afe045538fd51a9dc6a09d02",
       "version_major": 2,
       "version_minor": 0
      },
      "text/plain": [
       "Loading dataset shards:   0%|          | 0/91 [00:00<?, ?it/s]"
      ]
     },
     "metadata": {},
     "output_type": "display_data"
    }
   ],
   "source": [
    "#DONT RUN THIS ANYMORE\n",
    "ds_ag_news = load_dataset(\"fancyzhx/ag_news\") #news, formal\n",
    "ds_sms = load_dataset(\"ucirvine/sms_spam\") #should only use ham labels, text messages, informal\n",
    "ds_edu = load_dataset(\"Locutusque/UltraTextbooks\") #synthetic and human written textbooks..... acdademic / formal\n",
    "#https://huggingface.co/datasets/fabiochiu/medium-articles\n",
    "ds_medium = load_dataset('csv', data_files='/Users/rheamadhogarhia/Desktop/Year 3/NLP/nlpfinal/medium_articles.csv') #medium articles, academic but also likely less formal ? community contributions\n",
    "#https://huggingface.co/datasets/kariatouk/enron_curated_labeled/tree/main\n",
    "ds_enron= load_dataset('csv', data_files='/Users/rheamadhogarhia/Desktop/Year 3/NLP/nlpfinal/enron_labeled_curated.csv') #enron, very formal business emails probably?\n",
    "\n",
    "\n",
    "ds_podcast_news = load_dataset(\"Whispering-GPT/lex-fridman-podcast\")\n",
    "ds_telephone_convos = Corpus(filename=download(\"switchboard-corpus\"))\n",
    "ds_ted_talk_edu = load_dataset('csv', data_files=\"/Users/rheamadhogarhia/Desktop/Year 3/NLP/nlpfinal/ted_talks_en.csv\")\n",
    "ds_business_meetings = load_dataset(\"edinburghcstr/ami\", \"ihm\")\n",
    "ds_un_debates = load_dataset('csv', data_files=\"/Users/rheamadhogarhia/Desktop/Year 3/NLP/nlpfinal/un-general-debates.csv\")\n",
    "\n",
    "#this cell ran in 21 minutes (probably don't have to load the whole dataset?)\n",
    "\n"
   ]
  },
  {
   "cell_type": "code",
   "execution_count": null,
   "metadata": {},
   "outputs": [],
   "source": [
    "#TRAIN SETS, choosing 500 samples frome each written text set\n",
    "num_samples = 1000\n",
    "ds_ag_news_sub = ds_ag_news[\"train\"].shuffle(seed=42).select(range(num_samples))\n",
    "\n",
    "#filtering out the spam label - only getting legitimate texts\n",
    "ds_sms_filtered = ds_sms[\"train\"].filter(lambda example: example['label'] == 0)\n",
    "ds_sms_sub = ds_sms_filtered.shuffle(seed=42).select(range(num_samples))\n",
    "\n",
    "ds_edu_sub = ds_edu[\"train\"].shuffle(seed=42).select(range(num_samples))\n",
    "ds_medium_sub = ds_medium[\"train\"].shuffle(seed=42).select(range(num_samples))\n",
    "ds_enron_sub = ds_enron[\"train\"].shuffle(seed=42).select(range(num_samples))\n"
   ]
  },
  {
   "cell_type": "code",
   "execution_count": null,
   "metadata": {},
   "outputs": [
    {
     "data": {
      "application/vnd.jupyter.widget-view+json": {
       "model_id": "597f971a9e7d47509bf8da09eac4541d",
       "version_major": 2,
       "version_minor": 0
      },
      "text/plain": [
       "Creating CSV from Arrow format:   0%|          | 0/5 [00:00<?, ?ba/s]"
      ]
     },
     "metadata": {},
     "output_type": "display_data"
    },
    {
     "name": "stdout",
     "output_type": "stream",
     "text": [
      "{'text': ['Security designed to meet the needs of your business.\\n\\nToday, there are too many security controls and not enough talent to manage the complexity. We understand organizations may have limited time and resources; and security needs to be simple and end to end.\\n\\nAs an organization, your employees have left the building; you definitely need security controls that span across your offices and users wherever they are, whatever devices they are using, across the cloud, through the network and onto the endpoint.\\n\\nYour security controls also need to allow your employees to stay connected, protected and productive seamlessly.\\n\\nAt Signal Alliance, we often speak with businesses who believe that, because they are small, they aren’t interesting to the hacktivists and cyber criminals.\\n\\nActually, we see the reverse, often the smaller customers are a gateway to the bigger ones. Supply chain attacks like this are responsible for some of the biggest breaches that we’ve seen. The brand damage that’s caused by supply chain attacks is often enormous.\\n\\nBusinesses face threats on many fronts, and the more users, devices, and applications you add, the more vulnerable your network becomes.\\n\\nTherefore, it’s critical that organizations keep their business secure by detecting threats earlier, faster and with more ease, and this begins with understanding the complexity of your security posture.\\n\\nTo begin understanding the complexity of your Security posture, ask yourselves these questions:\\n\\nFirstly — how many different vendors are you managing today?\\n\\nThe more vendors you have, the more complex it’s going to be to manage your Security controls and the more difficult it’s going to be to understand how effective your security posture is.\\n\\nSecondly — Are any of your security controls integrated?\\n\\nWe believe that security needs to be more automated. We can’t rely on people to manually respond to threats. We should use technology to automatically respond to threats and quarantine users, devices and files that look suspicious.\\n\\nThirdly — can your firewall talk to the rest of your security ecosystem?\\n\\nThe firewall is the foundation of your security setup. It needs to be part of an ecosystem and not a standalone device.\\n\\nAnd finally, and most importantly, if a Cyber attack was to occur, where would you start?\\n\\nWould you know you’ve been breached? Would you know who got infected? And would you know how to remediate the problem?\\n\\nYou need your security tools to work as fast as you do. We’ve designed our security products with an entrepreneurial mind set — just like you.\\n\\nYou want to change your security policies quickly and effectively , across all your users and devices? Signal Alliance allows you to update policies and implement new capabilities with just a few clicks.\\n\\nWe unrivalled threat intelligence to deliver protection from previously unknow threats in under 10 minutes, which is the fastest time to remediation in the Security industry.\\n\\nAnd most importantly Signal Alliance allows you to separate the critical incidents from the noise, so you can act on those alerts that are most critical for your business.\\n\\nAs technology is evolving, you need security that grows with your business. You won’t have time to change your security strategy every six months. With Signal Alliance you can take full advantage of our expertise and our solutions to take your business to new heights.\\n\\nWe allow you to manage risk more effectively as you grow, staying one step ahead of the hackers by leveraging our threat intelligence team.\\n\\nWe allow you to seamlessly add new capabilities and integrations across your existing portfolio and, most importantly, invest with confidence in a platform designed for now and the future\\n\\nReducing complexity can make all the difference when it comes to security. So our goal is to simplify everything for you, leaving you free to embrace your innovation and accelerate your success. We know that things happen quickly in your world, that’s why we want to introduce you to security solutions that have a similarly dynamic and flexible mindset.\\n\\nOur security solutions experts also act as a team. They learn from each other. They listen and respond as a coordinated unit. When that happens, security becomes more effective. Our combination of next generation firewalls, endpoint security, cloud security, email security and user authentication create the foundation for a powerful, yet simple, security approach.\\n\\nOur goal building a platform was to solve the security industry’s most pressing challenges to enable better outcomes. And we’ve boiled them down to three needs:\\n\\nYour teams need simplicity: You don’t want to spend more time and talent integrating your investments. You want an integrated and open platform that simplifies your existing ecosystem and is interoperable with third-party solutions.\\n\\nYour teams need visibility: To counter attacks and stay compliant, you need answers in one unified view, not isolated alerts. Gaining contextual awareness across your security ecosystem helps your team share and coordinate response faster.\\n\\nYour teams want to be efficient: Evolving from manual to automated workflows with a few clicks results in faster remediation with better precision. To gain efficiency, isn’t it essential to eliminate the friction and repetition in your processes? That just makes sense because you can lower your on-going costs.\\n\\nSecuring your on-premise network is the foundation to any effective security posture.\\n\\nWe deliver Cloud managed security that simply works. Our Security solutions can be remotely deployed in minutes using zero-touch cloud provisioning. Security settings are simple to synchronize across thousands of sites using templates.\\n\\nAuto VPN technology securely connects branches in 3 clicks, through an intuitive, web-based dashboard. Every of our Security solutions support several features, like a firewall and integrated Sourcefire intrusion prevention engine, to keep networks secure.\\n\\nFor more advanced users, our solution gives your security teams next generation intrusion prevention, application visibility and control, advanced malware protection and URL filtering in an easy to use package that accelerates your business without impact on your performance\\n\\nOur solution prevents threats at the point of entry and then continuously tracks every file it allows onto your endpoints. This enables you to uncover the most advanced threats — including fileless malware and ransomware.\\n\\nIndustry leading prevention technology will Block known malware automatically, leveraging the best global threat intelligence and enforce Zero Trust by blocking risky endpoints from gaining access to applications.\\n\\nWe Detect the most advanced malware through complex queries and advanced investigations across all endpoints, and continuously monitor all file activity to detect stealthy malware.\\n\\nAnd we Respond rapidly to contain the attack by isolating an infected endpoint and remediating malware across PCs, Macs, Linux, servers, and mobile devices (Android and iOS).\\n\\nYour users work from many locations and devices. They no longer need the VPN to get work done — they use cloud applications, many of which have not been vetted by IT.\\n\\nWhat if you had a fast, easy way to protect users and enforce acceptable use policies, wherever those users are?\\n\\nSignal Alliance helps protect your users both on and off the network by blocking malicious Internet destinations before a connection is ever established.\\n\\nAs more organizations move to Microsoft 365 and allow for a work-from-anywhere approach, scanning every message associated with the cloud mailboxes becomes even more important.\\n\\nSmall businesses, who may not have the resources or expertise of larger organizations, are often looking for faster and more reliable tools to help address those gaps.\\n\\nEmpower your employees to work from anywhere, on company laptops or personal mobile devices, at any time.\\n\\nOur solutions defend your organization against known and emerging threats, discovers new vulnerabilities in common software, and interdicts threats in the wild before they can further harm the internet at large.\\n\\nClick here to learn more', 'First things first: it’s been a while. I know that, you may know that, and WordPress here definitely knows that. But let’s set that aside for the moment, as I think I have a fix for the intermittency around here. More on that tomorrow.\\n\\nFor now, we’ve got a much bigger fish to fry, as one of the most talented and perplexing talents ever to don a Red Sox uniform is currently en route to the left coast. Along with seven or so million dollars, better known as his pay. Headed south a few hundred miles are two of the products of our farm system: Brandon Moss and Craig Hansen. Playing left field tomorrow night, meanwhile, will be one Jason Bay.\\n\\nJust how did we come to this point? It’s an excellent question, and neither I, nor even those you might read in the print media, are likely to have all of the answers. Theo might. Tito might. John Henry might. But I do not.\\n\\nStill, I’ll give it the old college try. Here are the questions I have and my answers to them. Before you ask, yes, this is me asking myself questions. It’s weird, I get it, but it’s quicker. Bear with me.\\n\\nQ: What is the deal, finally, that was agreed upon?\\n\\nA: It’s a three-way trade, as most of you have probably heard. We ship Rmirez to the Dodgers along with cash to cover his salary. We also ship Hansen and Moss to the Pirates. Meanwhile, the Dodgers send Andy LaRoche and Bryan Morris to the Pirates. In return for all of the above, the Buccos give us Jason Bay.\\n\\nQ: How did you feel about the deal when you first heard it announced?\\n\\nA: Well, let’s back up. Heading into the deadline, I was convinced that M-Ram should be traded. Not at all costs — Bay or Kemp from the Dodgers were the acceptable returns I could have lived with — but ideally traded. Sitting at Byrnes’ Pub in Bath, I was more than a bit disappointed when four o’clock rolled around and not only had Manny not been traded, we’d done nothing, period. Worse, MLB.com was reporting sometime around 3:30 (according to NESN) that not only had we not acquired Bay, but that Tampa had at the cost of Jeff Niemann and Reid Brignac, Tampa’s #3 and #4 prospects coming into the 08 season according to Baseball America.\\n\\nQ: So you were disappointed.\\n\\nA: Definitely. The Yankees have substantially upgraded their club — at a relatively low cost, for the most part — adding an outfielder, a lefthanded reliver, and a starting catcher. And as I write this, they’re one and half games in back of us, despite losing their best starting pitcher, their second best young pitcher, their starting left fielder, and their starting catcher to injuries.\\n\\nTampa, meanwhile, leads us by 3 games, with a young club that doesn’t have all that many holes.\\n\\nSo not doing anything, to me, would have been a blow. Maybe that’s right, maybe that’s wrong, but that’s the way it was.\\n\\nQ: And when you heard the trade announced?\\n\\nA: Initially, I was pleased. As I said, I was ready for Manny to be gone, and now he was. Ask and ye shall receive. But as the news trickled out, however, that not only was Manny gone with his salary, but Hansen and Moss too, I was less pleased. Particularly since the rumor last night was Manny for Bay and Grabow; not Manny, Hansen and Moss for just Bay.\\n\\nThen I thought about it a bit, and became resigned.\\n\\nQ: Resigned why?\\n\\nA: Because the only conclusion that one can draw from this afternoon’s trade is that things must have been worse — far worse — than we realized. As a friend of mine said in a text, it’s\\n\\n“almost as if they were anxious to get rid of him. it really makes me wonder if there was more behind the scenes toxicity that we were not made aware of.”\\n\\nThat, in a nutshell, is the situation as I’ve come to see it over the past few days. Denton from the essential Surviving Grady had it right two years ago when he said:\\n\\nI do believe that once Manny finds a new home, RSN is going to start to get the whole story. The “Manny being Manny” and overall quirkiness were barely tolerable with the information we had. We were willing to overlook a lot in return for Manny’s production. But what about the stories we haven’t heard yet? I think there has been a lot more going on behind the scenes that’s been hidden from the media.\\n\\nExactly. Things are almost certain to be a lot less rosy than we’re generally made aware of.\\n\\nQ: How do you come to that conclusion?\\n\\nA: Mostly from what I read. I don’t mean the stock media reports; while I’m not inclined to defend Ramirez, as has Allan over at the Joy of Sox, I do agree with him that Manny has been regularly tilted at by a media that didn’t seem to care for him much. Allan calls out Gordon Edes (who is leaving the Globe for Yahoo, incidentally) for this bit of snark:\\n\\nHe’d been sent to Massachusetts General Hospital during the game to have an MRI of both knees, the Sox evidently taking no chances that their slugger might have gotten confused about which one hurt.\\n\\nWhich is appropriate. Edes — whom I like and respect apart from his treatment of Ramirez (far more so than his colleague Cafardo, as you might know) — has been like this for a while.\\n\\nSo the reporters opinions on Manny, well, they don’t mean a whole lot to me. Much more important has been the silence from the rest of the club. Just as in the past, no one apart from the embattled Lugo has come to Manny’s defense. Schilling, in fact, positively killed Manny this afternoon. Maybe, you think, that’s just Schilling being Schilling. WEll, Pedroia and Youk sound a little lukewarm to me.\\n\\nAnd frankly this bit from Olney pretty much sums up the relationship Manny has with his manager — who for my money, is the best the Red Sox have had:\\n\\nThink about how nutty this situation is: In the last five weeks of the 2006 season, reliever Julian Tavarez — who became Manny’s Tony Snow, his spokesman — knew more about whether Manny was going to play or whether he was available to pinch-hit than Boston manager Terry Francona, general manager Theo Epstein and owners John Henry and Larry Lucchino. Absurd.\\n\\nWhen was that written? December of 2006. Seriously. We’ve been dealing with this — codepending, if you will — that long.\\n\\nThrow in the fact that this year’s incidents have been different, and it’s been pretty clear that Manny was not a good fit going forward.\\n\\nQ: What does “different” mean in this context?\\n\\nA: In the past, Manny seemed less angry than goofy. There’s the possibly apocryphal story that he had his tailored clothes embroidered with MBM — Manny Being Manny — and my all time favorite, his decision to cut off Damon’s throw from center…while he was in left. I still laugh when I tell that story.\\n\\nBut this year’s MBM incidents have been less harmless than in years past. Pushing Jack McCormick to the ground after he was unable to come up with 16 tickets to the Sox/Astros game? That’s not the happy go lucky Manny we know, and usually, love. Likewise the bizarre Youk/Manny fracas. I can understand if Manny’s frustrated with Youk’s tendency to fling things around the dugout, but fighting in the dugout? Seriously? Or how about telling ESPNDeportes that the “Red Sox don’t deserve a player like me?”\\n\\nNo, the public incidents, anyway, paint a much different picture of Manny than we’ve seen in the past. One that told me he had to go.\\n\\nQ: But at what price?\\n\\nA: That, I think, is the point. Think of it this way: the Red Sox front office is generally regarded as being intelligent, diligent, and creative. They’re not perfect — I will never understand their pursuit of Lugo — but they’ve generally been very, very good. Even the Yankee fans agree will grant us that.\\n\\nAnd yet they decided that it was in the club’s best interests to ship Manny, the rest of his salary for the year, and two prospects — albeit not elite ones — out the door to get a player of lesser ability.\\n\\nThe fact that that calculus alone made sense tells me everything I need to know about just how bad things were.\\n\\nQ: So you don’t think this is just a product of a front office / journalist collaboration?\\n\\nA: No. Is it possible, even likely, that the front office was intentionally leaking to reporters for the purpose of swaying public sentiment in their favor? Sure.\\n\\nBut I have a hard time believing that Gammons’ outrage at Manny is merely him playing the role of front office stooge, as Allan implies. Not simply because I think it unlikely that a reporter of Gammons’ experience would allow himself to be so simply and basely used, but because Gammons has generally been a guy that gave players a chance to be heard. When Roberto Alomar spit on an umpire, Gammons gave him the chance to explain. When John Rocker disparaged virtually every minority on the planet, Gammons listened.\\n\\nMaybe Gammons doesn’t have the story exactly right — nobody on the outside could — but I think he’s far more right than wrong here. Regardless of what the front office did or did not tell him.\\n\\nQ: Enough of the muckraking, what do you think of the deal in baseball terms?\\n\\nA: It’s a good deal for the Dodgers, though they’ve got quite the logjam in the outfield, and it’s an excellent deal in my view from the Pirates perspective. Keith Law says that Morris is the only high upside player in the deal, but in Hansen, LaRoche, and Moss they have some very usable, more or less MLB ready players. And the high upside arm. Maybe they’d prefer to have Niemann and Brignac, but this is a far cry from the days of Littlefield when they’d covet their own assets and get either nothing or nothing of value in return for them.\\n\\nQ: And for the Sox?\\n\\nA: A lot of it depends. How does Bay — who’s accustomed to a small market and weaker NL pitching — adapt to Boston? What do Hansen and Moss end up doing? But I’m fine with the deal, ultimately. One, because as discussed above I think it needed to be made. But also because it has potential upside for us, both this year and next. As Law explains:\\n\\nBay will really improve the 2009 Red Sox. Boston was almost certain to decline Ramirez’s $20 million option for 2009, which would have left the Red Sox with an offensive hole to fill for next year. Bay is under control for next year, so the hole is already filled, and he’s signed for an amazingly cheap $7.5 million. Even considering the $7 million Boston sent L.A. to pay Manny’s freight for this year (because the Dodgers told teams they could not add any payroll this season), the Red Sox are getting a $15–20 million bat in Bay without the headaches Ramirez had caused lately. And they managed to do it without depleting their strong farm system or committing to a four- or five-year deal they’d regret by the middle of the second year.\\n\\nInstead of having to find a left fielder for next year, we’ve got one. At $7.5M. Which is $12.5M less than Ramirez’s ’09 option would have cost us.\\n\\nIs it ideal? No. Ask Anaheim, or LA of Anaheim, or whatever they’re called now, if they’re happy to see Manny gone after they couldn’t get him out during last year’s postseason. No, this was about as well as we were going to do. Which is itself a sad comment.\\n\\nQ: Let’s talk about Bay: what are we getting?\\n\\nA: Bay’s a good player, or at least he has been in small markets in the NL. He is not Manny Ramirez, but then no one is. A quick comparison:\\n\\nBAOBPSLGOPS+HRBay.282.375.51913522Ramirez.299.398.52914020\\n\\n\\n\\nA slide-in replacement for the lineup? Not quite. But as close as we were going to get, I’d think. And Bay, by all accounts, is a significant defensive upgrade: he’s got the range to cover center, and his arm is reportedly average. Meaning that our outfield, defensively, with Bay in left, Crisp/Ellsbury in center, and Drew in right, should be one of the best in the big leagues.\\n\\n\\n\\n\\n\\n\\n\\n\\n\\nOther interesting items from his splits:\\n\\nAs others have noted, he has a bizarre reverse platoon split. That is, he’s a right handed batter that, this season, is hitting righties well (.307/.387/.566) and lefties poorly (.190/.333/.345). Indications are that this year is a fluke, however, as his three year 05–07 trend shows nothing of the kind: .296/.405/.543 against lefties, .276/.368/.493 against righties.\\n\\nHe tends to wear down slightly in the second half: .283/.388/.505 pre-break against .279/.369/.506 after.\\n\\nHe’s hit best in the cleanup spot in the lineup: .286/.386/.516 in 790 ABs, compared to .278/.377/.510 in 679 ABs hitting third.\\n\\nHe’s hit well with runners in scoring position, .282/.400/.502, and with runners on, .282/.388/.486, but poorly close and late — .205/.333/.373.\\n\\nHe’s played three games in his career at Fenway, and put up a .250/.357/.417 line.\\n\\nThough he’s .257/.278/.429 career against the Yankees, he’s .362/.412/.532 against their current staff.\\n\\nThough he’s .391/.429/.739 career against Tampa, he’s .200/.283/.425 against their current staff (1–18 off Wheeler).\\n\\nHe hits .257 off fastballs, .290 off curves, .269 off sliders, .244 off changeups, and .111 off everything else.\\n\\nQ: Besides losing the kids in addition to the money, anything else bug you about this trade?\\n\\nA: The fact that we didn’t get a reliever. Ultimately, that’s been our Achilles heel all season. Many have noted that we can theoretically add one before the waiver trade deadline in a month, but we need the help now. Bringing someone back this week would have been ideal, and it would have been nice, for example to have spun Moss into Mahay instead of folding him into Bay.\\n\\nQ: Net net, what’s your take.\\n\\nA: In Theo we trust. If he determined Manny needed to go, that’s good enough for me. He did well to get Bay, dealing as he was from a position of extreme weakness, and now we just have to hope we can patch up the bullpen and right the ship. Oh, and before I forget, best of luck to the kids: here’s hoping that Hansen and Moss blossom down in Pittsburgh.\\n\\nQ: Will you miss Manny?\\n\\nA: I’ll miss his performances. The Angels ALDS game that he won last year in walkoff fashion? I was there, and he absolutely crushed that ball.\\n\\nBut the player? Not really. I’m with Tim: he lost me this year.\\n\\nUpdate: While I’m sure many will regard it as a post-exit character assassination, Sean McAdam reported the following last night:\\n\\nGeneral manager Theo Epstein was working with a mandate from within his own clubhouse. Following his team’s dispiriting loss to the Los Angeles Angels of Anaheim Wednesday night, Epstein met with a handful of Red Sox veterans, all of whom delivered the same message: Manny had to go.\\n\\nBuster Olney is reportedly saying much the same on SportsCenter this morning. Sad.', 'what I meant to say is cant wait to see u again getting bored of this bridgwater banter\\n', 'Yar lor actually we quite fast... Cos da ge slow wat... Haha...\\n', 'Hitachi, Toshiba, Matsushita form LCD joint venture THREE JAPANESE GIANTS will team up to create a company to manufacture and sell LCD panels into the flat panel TV market. Hitachi, Toshiba and Matsushita hope to get the JV rolling by January 2005.'], 'source': ['medium', 'medium', 'sms', 'sms', 'ag_news'], 'type': ['written', 'written', 'written', 'written', 'written']}\n"
     ]
    }
   ],
   "source": [
    "#combine\n",
    "ag_news_dataset = Dataset.from_dict({\"text\": ds_ag_news_sub[\"text\"], \n",
    "                                     \"source\": [\"ag_news\"] * len(ds_ag_news_sub)})\n",
    "medium_dataset = Dataset.from_dict({\"text\": ds_medium_sub[\"text\"], \n",
    "                                    \"source\": [\"medium\"] * len(ds_medium_sub)})\n",
    "edu_dataset = Dataset.from_dict({\"text\": ds_edu_sub[\"text\"], \n",
    "                                 \"source\": [\"textbooks\"] * len(ds_edu_sub)})\n",
    "sms_dataset = Dataset.from_dict({\"text\": ds_sms_sub[\"sms\"], \n",
    "                                 \"source\": [\"sms\"] * len(ds_sms_sub)})\n",
    "enron_dataset = Dataset.from_dict({\"text\": ds_enron_sub[\"email\"], \n",
    "                                   \"source\": [\"enron_emails\"] * len(ds_enron_sub)})\n",
    "\n",
    "\n",
    "combined_dataset = concatenate_datasets([ag_news_dataset, medium_dataset, edu_dataset, sms_dataset, enron_dataset])\n",
    "\n",
    "combined_dataset = combined_dataset.add_column(\"type\", [\"written\"] * len(combined_dataset))\n",
    "\n",
    "#Shuffle\n",
    "combined_dataset = combined_dataset.shuffle(seed=42)\n",
    "\n",
    "combined_dataset.to_csv(\"shuffled_combined_data_with_type.csv\")\n",
    "\n",
    "print(combined_dataset[:5])\n"
   ]
  },
  {
   "cell_type": "code",
   "execution_count": 7,
   "metadata": {},
   "outputs": [],
   "source": [
    "import pandas as pd\n",
    "import numpy as np"
   ]
  },
  {
   "cell_type": "markdown",
   "metadata": {},
   "source": [
    "START RUNNING FROM HERE"
   ]
  },
  {
   "cell_type": "code",
   "execution_count": 9,
   "metadata": {},
   "outputs": [],
   "source": [
    "combined_dataset = pd.read_csv(\"combined_dataset.csv\")"
   ]
  },
  {
   "cell_type": "code",
   "execution_count": 11,
   "metadata": {},
   "outputs": [
    {
     "name": "stdout",
     "output_type": "stream",
     "text": [
      "<class 'pandas.core.frame.DataFrame'>\n",
      "RangeIndex: 5000 entries, 0 to 4999\n",
      "Data columns (total 2 columns):\n",
      " #   Column  Non-Null Count  Dtype \n",
      "---  ------  --------------  ----- \n",
      " 0   text    5000 non-null   object\n",
      " 1   type    5000 non-null   object\n",
      "dtypes: object(2)\n",
      "memory usage: 78.3+ KB\n"
     ]
    },
    {
     "data": {
      "text/html": [
       "<div>\n",
       "<style scoped>\n",
       "    .dataframe tbody tr th:only-of-type {\n",
       "        vertical-align: middle;\n",
       "    }\n",
       "\n",
       "    .dataframe tbody tr th {\n",
       "        vertical-align: top;\n",
       "    }\n",
       "\n",
       "    .dataframe thead th {\n",
       "        text-align: right;\n",
       "    }\n",
       "</style>\n",
       "<table border=\"1\" class=\"dataframe\">\n",
       "  <thead>\n",
       "    <tr style=\"text-align: right;\">\n",
       "      <th></th>\n",
       "      <th>text</th>\n",
       "      <th>type</th>\n",
       "    </tr>\n",
       "  </thead>\n",
       "  <tbody>\n",
       "    <tr>\n",
       "      <th>0</th>\n",
       "      <td>Railroads spread across the country, creating ...</td>\n",
       "      <td>written</td>\n",
       "    </tr>\n",
       "    <tr>\n",
       "      <th>1</th>\n",
       "      <td>MAKE THE BEST OF THE BEAR SEASON WITH VERASWAP...</td>\n",
       "      <td>written</td>\n",
       "    </tr>\n",
       "    <tr>\n",
       "      <th>2</th>\n",
       "      <td>eams.  If someone is interested in a part=\\nic...</td>\n",
       "      <td>written</td>\n",
       "    </tr>\n",
       "    <tr>\n",
       "      <th>3</th>\n",
       "      <td>STARBUCKS (SBUX) INVESTOR DAY 2020 — CEO and C...</td>\n",
       "      <td>written</td>\n",
       "    </tr>\n",
       "    <tr>\n",
       "      <th>4</th>\n",
       "      <td>Enron's accounting firm, Andersen, has admitte...</td>\n",
       "      <td>written</td>\n",
       "    </tr>\n",
       "  </tbody>\n",
       "</table>\n",
       "</div>"
      ],
      "text/plain": [
       "                                                text     type\n",
       "0  Railroads spread across the country, creating ...  written\n",
       "1  MAKE THE BEST OF THE BEAR SEASON WITH VERASWAP...  written\n",
       "2  eams.  If someone is interested in a part=\\nic...  written\n",
       "3  STARBUCKS (SBUX) INVESTOR DAY 2020 — CEO and C...  written\n",
       "4  Enron's accounting firm, Andersen, has admitte...  written"
      ]
     },
     "execution_count": 11,
     "metadata": {},
     "output_type": "execute_result"
    }
   ],
   "source": [
    "combined_dataset.info()\n",
    "combined_dataset.head()"
   ]
  },
  {
   "cell_type": "code",
   "execution_count": 12,
   "metadata": {},
   "outputs": [
    {
     "name": "stderr",
     "output_type": "stream",
     "text": [
      "[nltk_data] Downloading package punkt to /Users/Shivani/nltk_data...\n",
      "[nltk_data]   Package punkt is already up-to-date!\n",
      "[nltk_data] Downloading package punkt_tab to\n",
      "[nltk_data]     /Users/Shivani/nltk_data...\n",
      "[nltk_data]   Package punkt_tab is already up-to-date!\n"
     ]
    }
   ],
   "source": [
    "import nltk\n",
    "nltk.download('punkt')\n",
    "nltk.download('punkt_tab')\n",
    "from tqdm import tqdm\n",
    "\n",
    "from nltk.tokenize import sent_tokenize, word_tokenize"
   ]
  },
  {
   "cell_type": "code",
   "execution_count": 13,
   "metadata": {},
   "outputs": [],
   "source": [
    "def preprocess_corpus(data):\n",
    "    \"\"\" Tokenize, sentencize, and lowercase the input data.\n",
    "\n",
    "        Args:\n",
    "            data: list of strings, where each string is a document\n",
    "\n",
    "        Return:\n",
    "            list of lists, with tokenized, lowercased sentences from each of the processed rows\n",
    "    \"\"\"\n",
    "    tokenized_sentences = []\n",
    "\n",
    "    for doc in tqdm(data):\n",
    "        sentences = sent_tokenize(doc)\n",
    "        for sentence in sentences:\n",
    "            tokenized_sentences.append(word_tokenize(sentence.lower()))\n",
    "    return tokenized_sentences"
   ]
  },
  {
   "cell_type": "code",
   "execution_count": null,
   "metadata": {},
   "outputs": [],
   "source": [
    "ds_processed = preprocess_corpus(combined_dataset['text'])\n",
    "ds_processed[:3]"
   ]
  },
  {
   "attachments": {},
   "cell_type": "markdown",
   "metadata": {},
   "source": [
    "#### Dataset Preprocessing and Analysis ####"
   ]
  },
  {
   "cell_type": "code",
   "execution_count": 18,
   "metadata": {},
   "outputs": [
    {
     "name": "stderr",
     "output_type": "stream",
     "text": [
      "[nltk_data] Downloading package stopwords to\n",
      "[nltk_data]     /Users/Shivani/nltk_data...\n",
      "[nltk_data]   Package stopwords is already up-to-date!\n"
     ]
    }
   ],
   "source": [
    "import matplotlib.pyplot as plt\n",
    "from collections import Counter\n",
    "import nltk\n",
    "from nltk.corpus import stopwords\n",
    "\n",
    "# Download stopwords list\n",
    "nltk.download(\"stopwords\")\n",
    "stop_words = set(stopwords.words(\"english\"))\n",
    "\n",
    "def analyze_tokens(tokenized_data):\n",
    "    \"\"\" Perform token & vocabulary analysis.\n",
    "\n",
    "        Args:\n",
    "            tokenized_data: List of tokenized sentences (list of lists)\n",
    "            dataset_name: String, name of the dataset for labeling\n",
    "    \"\"\"\n",
    "    # Flatten tokenized sentences into a single list of words\n",
    "    all_words = [word for sentence in tokenized_data for word in sentence]\n",
    "\n",
    "    # Vocabulary size\n",
    "    vocab_size = len(set(all_words))\n",
    "    print(f\"Vocabulary Size: {vocab_size}\")\n",
    "\n",
    "    # Most common words\n",
    "    word_counts = Counter(all_words)\n",
    "    most_common_words = word_counts.most_common(20)\n",
    "    print(f\"Most Common Words:\")\n",
    "    print(most_common_words)\n",
    "\n",
    "    # Stopword Distribution\n",
    "    stopword_count = sum(word_counts[word] for word in stop_words if word in word_counts)\n",
    "    total_words = sum(word_counts.values())\n",
    "    stopword_ratio = stopword_count / total_words\n",
    "    print(f\"Stopword Ratio: {stopword_ratio:.2%}\\n\")\n",
    "\n",
    "    # Plot Most Common Words\n",
    "    words, counts = zip(*most_common_words)\n",
    "    plt.figure(figsize=(10, 5))\n",
    "    plt.bar(words, counts)\n",
    "    plt.xticks(rotation=45)\n",
    "    plt.title(f\"Most Common Words\")\n",
    "    plt.show()"
   ]
  },
  {
   "cell_type": "code",
   "execution_count": 19,
   "metadata": {},
   "outputs": [
    {
     "name": "stdout",
     "output_type": "stream",
     "text": [
      "Vocabulary Size: 90308\n",
      "Most Common Words:\n",
      "[('the', 138260), (',', 119042), ('.', 116408), ('and', 74151), ('of', 70754), ('to', 64061), ('a', 52446), ('in', 45115), ('is', 31617), (')', 27764), ('(', 27457), ('that', 26888), ('for', 23835), (':', 22065), ('with', 17746), ('it', 17090), ('as', 16191), ('i', 15472), ('on', 15374), ('this', 13934)]\n",
      "Stopword Ratio: 35.61%\n",
      "\n"
     ]
    },
    {
     "data": {
      "image/png": "[encoded data removed]",
      "text/plain": [
       "<Figure size 1000x500 with 1 Axes>"
      ]
     },
     "metadata": {},
     "output_type": "display_data"
    }
   ],
   "source": [
    "analyze_tokens(ds_processed)"
   ]
  },
  {
   "attachments": {},
   "cell_type": "markdown",
   "metadata": {},
   "source": [
    "Potentially Remove Stopwords?"
   ]
  },
  {
   "attachments": {},
   "cell_type": "markdown",
   "metadata": {},
   "source": [
    "### Shivani: Mini BERT & SHAP Test ###\n",
    "Going to start testing how BERT/TogetherAI and SHAP will work using a super small subset of the data"
   ]
  },
  {
   "cell_type": "code",
   "execution_count": 1,
   "metadata": {},
   "outputs": [
    {
     "ename": "AuthenticationError",
     "evalue": "The api_key client option must be set either by passing api_key to the client or by setting the TOGETHER_API_KEY environment variable",
     "output_type": "error",
     "traceback": [
      "\u001b[0;31m---------------------------------------------------------------------------\u001b[0m",
      "\u001b[0;31mAuthenticationError\u001b[0m                       Traceback (most recent call last)",
      "Cell \u001b[0;32mIn[1], line 3\u001b[0m\n\u001b[1;32m      1\u001b[0m \u001b[39mfrom\u001b[39;00m \u001b[39mtogether\u001b[39;00m \u001b[39mimport\u001b[39;00m Together\n\u001b[0;32m----> 3\u001b[0m client \u001b[39m=\u001b[39m Together()\n\u001b[1;32m      5\u001b[0m response \u001b[39m=\u001b[39m client\u001b[39m.\u001b[39membeddings\u001b[39m.\u001b[39mcreate(\n\u001b[1;32m      6\u001b[0m   model \u001b[39m=\u001b[39m \u001b[39m\"\u001b[39m\u001b[39mtogethercomputer/m2-bert-80M-8k-retrieval\u001b[39m\u001b[39m\"\u001b[39m,\n\u001b[1;32m      7\u001b[0m   \u001b[39minput\u001b[39m \u001b[39m=\u001b[39m \u001b[39m\"\u001b[39m\u001b[39mOur solar system orbits the Milky Way galaxy at about 515,000 mph\u001b[39m\u001b[39m\"\u001b[39m\n\u001b[1;32m      8\u001b[0m )\n",
      "File \u001b[0;32m/opt/anaconda3/lib/python3.12/site-packages/together/client.py:48\u001b[0m, in \u001b[0;36mTogether.__init__\u001b[0;34m(self, api_key, base_url, timeout, max_retries, supplied_headers)\u001b[0m\n\u001b[1;32m     45\u001b[0m     api_key \u001b[39m=\u001b[39m os\u001b[39m.\u001b[39menviron\u001b[39m.\u001b[39mget(\u001b[39m\"\u001b[39m\u001b[39mTOGETHER_API_KEY\u001b[39m\u001b[39m\"\u001b[39m)\n\u001b[1;32m     47\u001b[0m \u001b[39mif\u001b[39;00m \u001b[39mnot\u001b[39;00m api_key:\n\u001b[0;32m---> 48\u001b[0m     \u001b[39mraise\u001b[39;00m AuthenticationError(\n\u001b[1;32m     49\u001b[0m         \u001b[39m\"\u001b[39m\u001b[39mThe api_key client option must be set either by passing api_key to the client or by setting the \u001b[39m\u001b[39m\"\u001b[39m\n\u001b[1;32m     50\u001b[0m         \u001b[39m\"\u001b[39m\u001b[39mTOGETHER_API_KEY environment variable\u001b[39m\u001b[39m\"\u001b[39m\n\u001b[1;32m     51\u001b[0m     )\n\u001b[1;32m     53\u001b[0m \u001b[39m# get base url\u001b[39;00m\n\u001b[1;32m     54\u001b[0m \u001b[39mif\u001b[39;00m \u001b[39mnot\u001b[39;00m base_url:\n",
      "\u001b[0;31mAuthenticationError\u001b[0m: The api_key client option must be set either by passing api_key to the client or by setting the TOGETHER_API_KEY environment variable"
     ]
    }
   ],
   "source": [
    "from together import Together\n",
    "\n",
    "client = Together()\n",
    "\n",
    "response = client.embeddings.create(\n",
    "  model = \"togethercomputer/m2-bert-80M-8k-retrieval\",\n",
    "  input = \"Our solar system orbits the Milky Way galaxy at about 515,000 mph\"\n",
    ")"
   ]
  },
  {
   "cell_type": "code",
   "execution_count": 5,
   "metadata": {},
   "outputs": [],
   "source": [
    "import os \n",
    "os.environ[\"TOGETHER_API_KEY\"] = \"tgp_v1_0k4LmNbB6di_vPP-tYoWKw8_eEO2o6qzpKcYHRt1j9Q\""
   ]
  },
  {
   "cell_type": "code",
   "execution_count": 6,
   "metadata": {},
   "outputs": [
    {
     "name": "stdout",
     "output_type": "stream",
     "text": [
      "New York City is a vibrant and diverse destination with countless attractions and activities to explore. Here are the top 3 things to do in New York:\n",
      "\n",
      "1. **Visit the Statue of Liberty and Ellis Island**: Take a ferry to Liberty Island to see the iconic Statue of Liberty up close and learn about its history and significance. You can also visit the Ellis Island Immigration Museum to discover the stories of immigrants who passed through the island's immigration station.\n",
      "\n",
      "2. **Explore the Metropolitan Museum of Art**: The Met is one of the world's largest and most famous museums, with a collection that spans over 5,000 years of human history. From ancient Egyptian artifacts to modern and contemporary art, the Met has something for everyone.\n",
      "\n",
      "3. **Walk across the Brooklyn Bridge**: This iconic bridge offers stunning views of the Manhattan skyline, the East River, and Brooklyn. Take a walk across the bridge, stop at the Brooklyn Bridge Park, and enjoy the street performers, food vendors, and stunning views.\n",
      "\n",
      "Of course, there are many more things to do in New York, but these three experiences are a great starting point for your trip.\n",
      "\n",
      "Additional suggestions:\n",
      "- Visit the Top of the Rock Observation Deck for panoramic views of the city.\n",
      "- Take a stroll through Central Park, a tranquil oasis in the middle of Manhattan.\n",
      "- Catch a Broadway show or a performance at one of the many music venues in the city.\n",
      "- Visit the 9/11 Memorial & Museum to pay respects to the victims of the 9/11 attacks.\n",
      "- Explore the diverse neighborhoods of New York, such as Chinatown, Little Italy, and Williamsburg.\n",
      "\n",
      "Remember to plan ahead, as some attractions may require tickets or reservations in advance."
     ]
    }
   ],
   "source": [
    "from together import Together\n",
    "\n",
    "client = Together()\n",
    "\n",
    "stream = client.chat.completions.create(\n",
    "  model=\"meta-llama/Meta-Llama-3.1-8B-Instruct-Turbo\",\n",
    "  messages=[{\"role\": \"user\", \"content\": \"What are the top 3 things to do in New York?\"}],\n",
    "  stream=True,\n",
    ")\n",
    "\n",
    "for chunk in stream:\n",
    "  print(chunk.choices[0].delta.content or \"\", end=\"\", flush=True)"
   ]
  },
  {
   "cell_type": "code",
   "execution_count": null,
   "metadata": {},
   "outputs": [],
   "source": []
  }
 ],
 "metadata": {
  "kernelspec": {
   "display_name": "base",
   "language": "python",
   "name": "python3"
  },
  "language_info": {
   "codemirror_mode": {
    "name": "ipython",
    "version": 3
   },
   "file_extension": ".py",
   "mimetype": "text/x-python",
   "name": "python",
   "nbconvert_exporter": "python",
   "pygments_lexer": "ipython3",
   "version": "3.12.7"
  }
 },
 "nbformat": 4,
 "nbformat_minor": 2
}

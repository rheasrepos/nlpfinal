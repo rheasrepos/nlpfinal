{
 "cells": [
  {
   "attachments": {},
   "cell_type": "markdown",
   "metadata": {},
   "source": [
    "## Section 1: Loading Data ##\n",
    "This section will only be run once and does not need to be run again"
   ]
  },
  {
   "cell_type": "code",
   "execution_count": 24,
   "metadata": {},
   "outputs": [
    {
     "ename": "ModuleNotFoundError",
     "evalue": "No module named 'convokit'",
     "output_type": "error",
     "traceback": [
      "\u001b[0;31m---------------------------------------------------------------------------\u001b[0m",
      "\u001b[0;31mModuleNotFoundError\u001b[0m                       Traceback (most recent call last)",
      "Cell \u001b[0;32mIn[24], line 3\u001b[0m\n\u001b[1;32m      1\u001b[0m \u001b[39m#DONT RUN THIS ANYMORE\u001b[39;00m\n\u001b[1;32m      2\u001b[0m \u001b[39mfrom\u001b[39;00m \u001b[39mdatasets\u001b[39;00m \u001b[39mimport\u001b[39;00m load_dataset, Dataset\n\u001b[0;32m----> 3\u001b[0m \u001b[39mfrom\u001b[39;00m \u001b[39mconvokit\u001b[39;00m \u001b[39mimport\u001b[39;00m Corpus, download\n\u001b[1;32m      5\u001b[0m ds_ag_news \u001b[39m=\u001b[39m load_dataset(\u001b[39m\"\u001b[39m\u001b[39mfancyzhx/ag_news\u001b[39m\u001b[39m\"\u001b[39m) \u001b[39m#news, formal\u001b[39;00m\n\u001b[1;32m      7\u001b[0m \u001b[39m\"\"\" Semi-formal\"\"\"\u001b[39;00m\n",
      "\u001b[0;31mModuleNotFoundError\u001b[0m: No module named 'convokit'"
     ]
    }
   ],
   "source": [
    "#DONT RUN THIS ANYMORE\n",
    "from datasets import load_dataset, Dataset\n",
    "from convokit import Corpus, download\n",
    "\n",
    "ds_ag_news = load_dataset(\"fancyzhx/ag_news\") #news, formal\n",
    "\n",
    "\"\"\" Semi-formal\"\"\"\n",
    "ds_medium = load_dataset('csv', data_files='/Users/rheamadhogarhia/Desktop/Year 3/NLP/nlpfinal/medium_articles.csv') #medium articles, academic but also likely less formal ? community contributions\n",
    "#https://huggingface.co/datasets/kariatouk/enron_curated_labeled/tree/main\n",
    "ds_podcast_news = load_dataset(\"Whispering-GPT/lex-fridman-podcast\")\n",
    "\n",
    "\"\"\"Educational\"\"\"\n",
    "ds_edu = load_dataset(\"Locutusque/UltraTextbooks\") #synthetic and human written textbooks..... acdademic / formal\n",
    "#https://huggingface.co/datasets/fabiochiu/medium-articles\n",
    "# khan academy dataset\n",
    "\n",
    "\"\"\"Informal\"\"\"\n",
    "ds_sms = load_dataset(\"ucirvine/sms_spam\") #should only use ham labels, text messages, informal\n",
    "ds_telephone_convos = Corpus(filename=download(\"switchboard-corpus\"))\n",
    "\n",
    "\n",
    "ds_medium = load_dataset('csv', data_files='/Users/rheamadhogarhia/Desktop/Year 3/NLP/nlpfinal/medium_articles.csv') #medium articles, academic but also likely less formal ? community contributions\n",
    "#https://huggingface.co/datasets/kariatouk/enron_curated_labeled/tree/main\n",
    "ds_enron= load_dataset('csv', data_files='/Users/rheamadhogarhia/Desktop/Year 3/NLP/nlpfinal/enron_labeled_curated.csv') #enron, very formal business emails probably?\n",
    "\n",
    "\n",
    "\n",
    "\n",
    "data = ds_telephone_convos.get_utterances_dataframe() \n",
    "data_list = data.to_dict(orient=\"records\")\n",
    "ds_telephone_convos = Dataset.from_list(data_list)\n",
    "\n",
    "ds_ted_talk_edu = load_dataset('csv', data_files=\"/Users/rheamadhogarhia/Desktop/Year 3/NLP/nlpfinal/ted_talks_en.csv\")\n",
    "ds_un_debates = load_dataset('csv', data_files=\"/Users/rheamadhogarhia/Desktop/Year 3/NLP/nlpfinal/un-general-debates.csv\") # formal\n",
    "#city council meetings instead https://huggingface.co/datasets/lytang/MeetingBank-transcript?row=8&library=datasets\n",
    "ds_business_meetings = load_dataset(\"lytang/MeetingBank-transcript\") \n",
    "#this cell ran in 21 minutes (probably don't have to load the whole dataset?)\n",
    "\n"
   ]
  },
  {
   "cell_type": "code",
   "execution_count": 23,
   "metadata": {},
   "outputs": [
    {
     "name": "stdout",
     "output_type": "stream",
     "text": [
      "Collecting convokit\n",
      "  Using cached convokit-3.1.0.tar.gz (193 kB)\n",
      "  Installing build dependencies ... \u001b[?25ldone\n",
      "\u001b[?25h  Getting requirements to build wheel ... \u001b[?25ldone\n",
      "\u001b[?25h  Preparing metadata (pyproject.toml) ... \u001b[?25ldone\n",
      "\u001b[?25hRequirement already satisfied: matplotlib>=3.0.0 in /opt/anaconda3/lib/python3.12/site-packages (from convokit) (3.9.2)\n",
      "Collecting scipy>1.14 (from convokit)\n",
      "  Using cached scipy-1.15.2-cp312-cp312-macosx_14_0_arm64.whl.metadata (61 kB)\n",
      "Requirement already satisfied: pandas>=1.5.0 in /opt/anaconda3/lib/python3.12/site-packages (from convokit) (2.2.2)\n",
      "Collecting numpy>=2.0.0 (from convokit)\n",
      "  Using cached numpy-2.2.3-cp312-cp312-macosx_14_0_arm64.whl.metadata (62 kB)\n",
      "Collecting msgpack-numpy>=0.4.3.2 (from convokit)\n",
      "  Using cached msgpack_numpy-0.4.8-py2.py3-none-any.whl.metadata (5.0 kB)\n",
      "Collecting spacy>=3.8.2 (from convokit)\n",
      "  Using cached spacy-3.8.4-cp312-cp312-macosx_11_0_arm64.whl.metadata (27 kB)\n",
      "Requirement already satisfied: scikit-learn>=1.0 in /opt/anaconda3/lib/python3.12/site-packages (from convokit) (1.5.1)\n",
      "Requirement already satisfied: nltk>=3.4 in /opt/anaconda3/lib/python3.12/site-packages (from convokit) (3.9.1)\n",
      "Requirement already satisfied: dill>=0.2.9 in /opt/anaconda3/lib/python3.12/site-packages (from convokit) (0.3.8)\n",
      "Requirement already satisfied: joblib>=0.13.2 in /opt/anaconda3/lib/python3.12/site-packages (from convokit) (1.4.2)\n",
      "Collecting clean-text>=0.6.0 (from convokit)\n",
      "  Using cached clean_text-0.6.0-py3-none-any.whl.metadata (6.6 kB)\n",
      "Requirement already satisfied: unidecode>=1.1.1 in /opt/anaconda3/lib/python3.12/site-packages (from convokit) (1.3.8)\n",
      "Requirement already satisfied: tqdm>=4.64.0 in /opt/anaconda3/lib/python3.12/site-packages (from convokit) (4.66.5)\n",
      "Collecting pymongo>=4.0 (from convokit)\n",
      "  Using cached pymongo-4.11.1-cp312-cp312-macosx_11_0_arm64.whl.metadata (22 kB)\n",
      "Requirement already satisfied: pyyaml>=5.4.1 in /opt/anaconda3/lib/python3.12/site-packages (from convokit) (6.0.1)\n",
      "Collecting dnspython>=1.16.0 (from convokit)\n",
      "  Using cached dnspython-2.7.0-py3-none-any.whl.metadata (5.8 kB)\n",
      "Collecting thinc<8.4.0,>=8.3.0 (from convokit)\n",
      "  Using cached thinc-8.3.4-cp312-cp312-macosx_11_0_arm64.whl.metadata (15 kB)\n",
      "Collecting h5py==3.12.1 (from convokit)\n",
      "  Using cached h5py-3.12.1-cp312-cp312-macosx_11_0_arm64.whl.metadata (2.5 kB)\n",
      "Requirement already satisfied: numexpr>=2.8.0 in /opt/anaconda3/lib/python3.12/site-packages (from convokit) (2.8.7)\n",
      "Collecting ruff>=0.4.8 (from convokit)\n",
      "  Using cached ruff-0.9.6-py3-none-macosx_11_0_arm64.whl.metadata (25 kB)\n",
      "Requirement already satisfied: bottleneck in /opt/anaconda3/lib/python3.12/site-packages (from convokit) (1.3.7)\n",
      "Collecting accelerate (from convokit)\n",
      "  Using cached accelerate-1.4.0-py3-none-any.whl.metadata (19 kB)\n",
      "Collecting peft (from convokit)\n",
      "  Using cached peft-0.14.0-py3-none-any.whl.metadata (13 kB)\n",
      "Collecting bitsandbytes (from convokit)\n",
      "  Using cached bitsandbytes-0.42.0-py3-none-any.whl.metadata (9.9 kB)\n",
      "Collecting transformers (from convokit)\n",
      "  Using cached transformers-4.49.0-py3-none-any.whl.metadata (44 kB)\n",
      "Collecting trl>=0.12.2 (from convokit)\n",
      "  Using cached trl-0.15.0-py3-none-any.whl.metadata (11 kB)\n",
      "Collecting tensorflow>=2.18.0 (from convokit)\n",
      "  Using cached tensorflow-2.18.0-cp312-cp312-macosx_12_0_arm64.whl.metadata (4.0 kB)\n",
      "Collecting tf-keras<3.0.0,>=2.17.0 (from convokit)\n",
      "  Using cached tf_keras-2.18.0-py3-none-any.whl.metadata (1.6 kB)\n",
      "Collecting emoji<2.0.0,>=1.0.0 (from clean-text>=0.6.0->convokit)\n",
      "  Using cached emoji-1.7.0.tar.gz (175 kB)\n",
      "  Preparing metadata (setup.py) ... \u001b[?25ldone\n",
      "\u001b[?25hCollecting ftfy<7.0,>=6.0 (from clean-text>=0.6.0->convokit)\n",
      "  Using cached ftfy-6.3.1-py3-none-any.whl.metadata (7.3 kB)\n",
      "Requirement already satisfied: contourpy>=1.0.1 in /opt/anaconda3/lib/python3.12/site-packages (from matplotlib>=3.0.0->convokit) (1.2.0)\n",
      "Requirement already satisfied: cycler>=0.10 in /opt/anaconda3/lib/python3.12/site-packages (from matplotlib>=3.0.0->convokit) (0.11.0)\n",
      "Requirement already satisfied: fonttools>=4.22.0 in /opt/anaconda3/lib/python3.12/site-packages (from matplotlib>=3.0.0->convokit) (4.51.0)\n",
      "Requirement already satisfied: kiwisolver>=1.3.1 in /opt/anaconda3/lib/python3.12/site-packages (from matplotlib>=3.0.0->convokit) (1.4.4)\n",
      "Requirement already satisfied: packaging>=20.0 in /opt/anaconda3/lib/python3.12/site-packages (from matplotlib>=3.0.0->convokit) (24.1)\n",
      "Requirement already satisfied: pillow>=8 in /opt/anaconda3/lib/python3.12/site-packages (from matplotlib>=3.0.0->convokit) (11.1.0)\n",
      "Requirement already satisfied: pyparsing>=2.3.1 in /opt/anaconda3/lib/python3.12/site-packages (from matplotlib>=3.0.0->convokit) (3.1.2)\n",
      "Requirement already satisfied: python-dateutil>=2.7 in /opt/anaconda3/lib/python3.12/site-packages (from matplotlib>=3.0.0->convokit) (2.9.0.post0)\n",
      "Requirement already satisfied: msgpack>=0.5.2 in /opt/anaconda3/lib/python3.12/site-packages (from msgpack-numpy>=0.4.3.2->convokit) (1.0.3)\n",
      "Requirement already satisfied: click in /opt/anaconda3/lib/python3.12/site-packages (from nltk>=3.4->convokit) (8.1.7)\n",
      "Requirement already satisfied: regex>=2021.8.3 in /opt/anaconda3/lib/python3.12/site-packages (from nltk>=3.4->convokit) (2024.9.11)\n",
      "Requirement already satisfied: pytz>=2020.1 in /opt/anaconda3/lib/python3.12/site-packages (from pandas>=1.5.0->convokit) (2024.1)\n",
      "Requirement already satisfied: tzdata>=2022.7 in /opt/anaconda3/lib/python3.12/site-packages (from pandas>=1.5.0->convokit) (2023.3)\n",
      "Requirement already satisfied: threadpoolctl>=3.1.0 in /opt/anaconda3/lib/python3.12/site-packages (from scikit-learn>=1.0->convokit) (3.5.0)\n",
      "Collecting spacy-legacy<3.1.0,>=3.0.11 (from spacy>=3.8.2->convokit)\n",
      "  Using cached spacy_legacy-3.0.12-py2.py3-none-any.whl.metadata (2.8 kB)\n",
      "Collecting spacy-loggers<2.0.0,>=1.0.0 (from spacy>=3.8.2->convokit)\n",
      "  Using cached spacy_loggers-1.0.5-py3-none-any.whl.metadata (23 kB)\n",
      "Collecting murmurhash<1.1.0,>=0.28.0 (from spacy>=3.8.2->convokit)\n",
      "  Using cached murmurhash-1.0.12-cp312-cp312-macosx_11_0_arm64.whl.metadata (2.1 kB)\n",
      "Collecting cymem<2.1.0,>=2.0.2 (from spacy>=3.8.2->convokit)\n",
      "  Using cached cymem-2.0.11-cp312-cp312-macosx_11_0_arm64.whl.metadata (8.5 kB)\n",
      "Collecting preshed<3.1.0,>=3.0.2 (from spacy>=3.8.2->convokit)\n",
      "  Using cached preshed-3.0.9-cp312-cp312-macosx_11_0_arm64.whl.metadata (2.2 kB)\n",
      "Collecting wasabi<1.2.0,>=0.9.1 (from spacy>=3.8.2->convokit)\n",
      "  Using cached wasabi-1.1.3-py3-none-any.whl.metadata (28 kB)\n",
      "Collecting srsly<3.0.0,>=2.4.3 (from spacy>=3.8.2->convokit)\n",
      "  Using cached srsly-2.5.1-cp312-cp312-macosx_11_0_arm64.whl.metadata (19 kB)\n",
      "Collecting catalogue<2.1.0,>=2.0.6 (from spacy>=3.8.2->convokit)\n",
      "  Using cached catalogue-2.0.10-py3-none-any.whl.metadata (14 kB)\n",
      "Collecting weasel<0.5.0,>=0.1.0 (from spacy>=3.8.2->convokit)\n",
      "  Using cached weasel-0.4.1-py3-none-any.whl.metadata (4.6 kB)\n",
      "Requirement already satisfied: typer<1.0.0,>=0.3.0 in /opt/anaconda3/lib/python3.12/site-packages (from spacy>=3.8.2->convokit) (0.15.1)\n",
      "Requirement already satisfied: requests<3.0.0,>=2.13.0 in /opt/anaconda3/lib/python3.12/site-packages (from spacy>=3.8.2->convokit) (2.32.3)\n",
      "Requirement already satisfied: pydantic!=1.8,!=1.8.1,<3.0.0,>=1.7.4 in /opt/anaconda3/lib/python3.12/site-packages (from spacy>=3.8.2->convokit) (2.8.2)\n",
      "Requirement already satisfied: jinja2 in /opt/anaconda3/lib/python3.12/site-packages (from spacy>=3.8.2->convokit) (3.1.4)\n",
      "Requirement already satisfied: setuptools in /opt/anaconda3/lib/python3.12/site-packages (from spacy>=3.8.2->convokit) (75.1.0)\n",
      "Collecting langcodes<4.0.0,>=3.2.0 (from spacy>=3.8.2->convokit)\n",
      "  Using cached langcodes-3.5.0-py3-none-any.whl.metadata (29 kB)\n",
      "Collecting absl-py>=1.0.0 (from tensorflow>=2.18.0->convokit)\n",
      "  Using cached absl_py-2.1.0-py3-none-any.whl.metadata (2.3 kB)\n",
      "Collecting astunparse>=1.6.0 (from tensorflow>=2.18.0->convokit)\n",
      "  Using cached astunparse-1.6.3-py2.py3-none-any.whl.metadata (4.4 kB)\n",
      "Collecting flatbuffers>=24.3.25 (from tensorflow>=2.18.0->convokit)\n",
      "  Using cached flatbuffers-25.2.10-py2.py3-none-any.whl.metadata (875 bytes)\n",
      "Collecting gast!=0.5.0,!=0.5.1,!=0.5.2,>=0.2.1 (from tensorflow>=2.18.0->convokit)\n",
      "  Using cached gast-0.6.0-py3-none-any.whl.metadata (1.3 kB)\n",
      "Collecting google-pasta>=0.1.1 (from tensorflow>=2.18.0->convokit)\n",
      "  Using cached google_pasta-0.2.0-py3-none-any.whl.metadata (814 bytes)\n",
      "Collecting libclang>=13.0.0 (from tensorflow>=2.18.0->convokit)\n",
      "  Using cached libclang-18.1.1-1-py2.py3-none-macosx_11_0_arm64.whl.metadata (5.2 kB)\n",
      "Collecting opt-einsum>=2.3.2 (from tensorflow>=2.18.0->convokit)\n",
      "  Using cached opt_einsum-3.4.0-py3-none-any.whl.metadata (6.3 kB)\n",
      "Requirement already satisfied: protobuf!=4.21.0,!=4.21.1,!=4.21.2,!=4.21.3,!=4.21.4,!=4.21.5,<6.0.0dev,>=3.20.3 in /opt/anaconda3/lib/python3.12/site-packages (from tensorflow>=2.18.0->convokit) (4.25.3)\n",
      "Requirement already satisfied: six>=1.12.0 in /opt/anaconda3/lib/python3.12/site-packages (from tensorflow>=2.18.0->convokit) (1.16.0)\n",
      "Collecting termcolor>=1.1.0 (from tensorflow>=2.18.0->convokit)\n",
      "  Using cached termcolor-2.5.0-py3-none-any.whl.metadata (6.1 kB)\n",
      "Requirement already satisfied: typing-extensions>=3.6.6 in /opt/anaconda3/lib/python3.12/site-packages (from tensorflow>=2.18.0->convokit) (4.11.0)\n",
      "Requirement already satisfied: wrapt>=1.11.0 in /opt/anaconda3/lib/python3.12/site-packages (from tensorflow>=2.18.0->convokit) (1.14.1)\n",
      "Collecting grpcio<2.0,>=1.24.3 (from tensorflow>=2.18.0->convokit)\n",
      "  Using cached grpcio-1.70.0-cp312-cp312-macosx_10_14_universal2.whl.metadata (3.9 kB)\n",
      "Collecting tensorboard<2.19,>=2.18 (from tensorflow>=2.18.0->convokit)\n",
      "  Using cached tensorboard-2.18.0-py3-none-any.whl.metadata (1.6 kB)\n",
      "Collecting keras>=3.5.0 (from tensorflow>=2.18.0->convokit)\n",
      "  Using cached keras-3.8.0-py3-none-any.whl.metadata (5.8 kB)\n",
      "Collecting numpy>=2.0.0 (from convokit)\n",
      "  Using cached numpy-2.0.2-cp312-cp312-macosx_14_0_arm64.whl.metadata (60 kB)\n",
      "Collecting ml-dtypes<0.5.0,>=0.4.0 (from tensorflow>=2.18.0->convokit)\n",
      "  Using cached ml_dtypes-0.4.1-cp312-cp312-macosx_10_9_universal2.whl.metadata (20 kB)\n",
      "Collecting blis<1.3.0,>=1.2.0 (from thinc<8.4.0,>=8.3.0->convokit)\n",
      "  Using cached blis-1.2.0-cp312-cp312-macosx_11_0_arm64.whl.metadata (7.7 kB)\n",
      "Collecting confection<1.0.0,>=0.0.1 (from thinc<8.4.0,>=8.3.0->convokit)\n",
      "  Using cached confection-0.1.5-py3-none-any.whl.metadata (19 kB)\n",
      "Requirement already satisfied: datasets>=2.21.0 in /opt/anaconda3/lib/python3.12/site-packages (from trl>=0.12.2->convokit) (3.3.1)\n",
      "Requirement already satisfied: rich in /opt/anaconda3/lib/python3.12/site-packages (from trl>=0.12.2->convokit) (13.9.4)\n",
      "Requirement already satisfied: psutil in /opt/anaconda3/lib/python3.12/site-packages (from accelerate->convokit) (5.9.0)\n",
      "Requirement already satisfied: torch>=2.0.0 in /opt/anaconda3/lib/python3.12/site-packages (from accelerate->convokit) (2.5.1)\n",
      "Requirement already satisfied: huggingface-hub>=0.21.0 in /opt/anaconda3/lib/python3.12/site-packages (from accelerate->convokit) (0.28.1)\n",
      "Collecting safetensors>=0.4.3 (from accelerate->convokit)\n",
      "  Using cached safetensors-0.5.2-cp38-abi3-macosx_11_0_arm64.whl.metadata (3.8 kB)\n",
      "Requirement already satisfied: filelock in /opt/anaconda3/lib/python3.12/site-packages (from transformers->convokit) (3.13.1)\n",
      "Collecting tokenizers<0.22,>=0.21 (from transformers->convokit)\n",
      "  Using cached tokenizers-0.21.0-cp39-abi3-macosx_11_0_arm64.whl.metadata (6.7 kB)\n",
      "Requirement already satisfied: wheel<1.0,>=0.23.0 in /opt/anaconda3/lib/python3.12/site-packages (from astunparse>=1.6.0->tensorflow>=2.18.0->convokit) (0.44.0)\n",
      "INFO: pip is looking at multiple versions of contourpy to determine which version is compatible with other requirements. This could take a while.\n",
      "Collecting contourpy>=1.0.1 (from matplotlib>=3.0.0->convokit)\n",
      "  Using cached contourpy-1.3.1-cp312-cp312-macosx_11_0_arm64.whl.metadata (5.4 kB)\n",
      "Requirement already satisfied: pyarrow>=15.0.0 in /opt/anaconda3/lib/python3.12/site-packages (from datasets>=2.21.0->trl>=0.12.2->convokit) (16.1.0)\n",
      "Requirement already satisfied: xxhash in /opt/anaconda3/lib/python3.12/site-packages (from datasets>=2.21.0->trl>=0.12.2->convokit) (3.5.0)\n",
      "Requirement already satisfied: multiprocess<0.70.17 in /opt/anaconda3/lib/python3.12/site-packages (from datasets>=2.21.0->trl>=0.12.2->convokit) (0.70.16)\n",
      "Requirement already satisfied: fsspec<=2024.12.0,>=2023.1.0 in /opt/anaconda3/lib/python3.12/site-packages (from fsspec[http]<=2024.12.0,>=2023.1.0->datasets>=2.21.0->trl>=0.12.2->convokit) (2024.6.1)\n",
      "Requirement already satisfied: aiohttp in /opt/anaconda3/lib/python3.12/site-packages (from datasets>=2.21.0->trl>=0.12.2->convokit) (3.10.5)\n",
      "Requirement already satisfied: wcwidth in /opt/anaconda3/lib/python3.12/site-packages (from ftfy<7.0,>=6.0->clean-text>=0.6.0->convokit) (0.2.5)\n",
      "Collecting namex (from keras>=3.5.0->tensorflow>=2.18.0->convokit)\n",
      "  Using cached namex-0.0.8-py3-none-any.whl.metadata (246 bytes)\n",
      "Collecting optree (from keras>=3.5.0->tensorflow>=2.18.0->convokit)\n",
      "  Using cached optree-0.14.0-cp312-cp312-macosx_11_0_arm64.whl.metadata (47 kB)\n",
      "Collecting language-data>=1.2 (from langcodes<4.0.0,>=3.2.0->spacy>=3.8.2->convokit)\n",
      "  Using cached language_data-1.3.0-py3-none-any.whl.metadata (4.3 kB)\n",
      "Requirement already satisfied: annotated-types>=0.4.0 in /opt/anaconda3/lib/python3.12/site-packages (from pydantic!=1.8,!=1.8.1,<3.0.0,>=1.7.4->spacy>=3.8.2->convokit) (0.6.0)\n",
      "Requirement already satisfied: pydantic-core==2.20.1 in /opt/anaconda3/lib/python3.12/site-packages (from pydantic!=1.8,!=1.8.1,<3.0.0,>=1.7.4->spacy>=3.8.2->convokit) (2.20.1)\n",
      "Requirement already satisfied: charset-normalizer<4,>=2 in /opt/anaconda3/lib/python3.12/site-packages (from requests<3.0.0,>=2.13.0->spacy>=3.8.2->convokit) (3.3.2)\n",
      "Requirement already satisfied: idna<4,>=2.5 in /opt/anaconda3/lib/python3.12/site-packages (from requests<3.0.0,>=2.13.0->spacy>=3.8.2->convokit) (3.7)\n",
      "Requirement already satisfied: urllib3<3,>=1.21.1 in /opt/anaconda3/lib/python3.12/site-packages (from requests<3.0.0,>=2.13.0->spacy>=3.8.2->convokit) (2.2.3)\n",
      "Requirement already satisfied: certifi>=2017.4.17 in /opt/anaconda3/lib/python3.12/site-packages (from requests<3.0.0,>=2.13.0->spacy>=3.8.2->convokit) (2024.8.30)\n",
      "Requirement already satisfied: markdown>=2.6.8 in /opt/anaconda3/lib/python3.12/site-packages (from tensorboard<2.19,>=2.18->tensorflow>=2.18.0->convokit) (3.4.1)\n",
      "Collecting tensorboard-data-server<0.8.0,>=0.7.0 (from tensorboard<2.19,>=2.18->tensorflow>=2.18.0->convokit)\n",
      "  Using cached tensorboard_data_server-0.7.2-py3-none-any.whl.metadata (1.1 kB)\n",
      "Requirement already satisfied: werkzeug>=1.0.1 in /opt/anaconda3/lib/python3.12/site-packages (from tensorboard<2.19,>=2.18->tensorflow>=2.18.0->convokit) (3.0.3)\n",
      "Requirement already satisfied: networkx in /opt/anaconda3/lib/python3.12/site-packages (from torch>=2.0.0->accelerate->convokit) (3.3)\n",
      "Requirement already satisfied: sympy==1.13.1 in /opt/anaconda3/lib/python3.12/site-packages (from torch>=2.0.0->accelerate->convokit) (1.13.1)\n",
      "Requirement already satisfied: mpmath<1.4,>=1.1.0 in /opt/anaconda3/lib/python3.12/site-packages (from sympy==1.13.1->torch>=2.0.0->accelerate->convokit) (1.3.0)\n",
      "Requirement already satisfied: shellingham>=1.3.0 in /opt/anaconda3/lib/python3.12/site-packages (from typer<1.0.0,>=0.3.0->spacy>=3.8.2->convokit) (1.5.4)\n",
      "Requirement already satisfied: markdown-it-py>=2.2.0 in /opt/anaconda3/lib/python3.12/site-packages (from rich->trl>=0.12.2->convokit) (2.2.0)\n",
      "Requirement already satisfied: pygments<3.0.0,>=2.13.0 in /opt/anaconda3/lib/python3.12/site-packages (from rich->trl>=0.12.2->convokit) (2.15.1)\n",
      "Collecting cloudpathlib<1.0.0,>=0.7.0 (from weasel<0.5.0,>=0.1.0->spacy>=3.8.2->convokit)\n",
      "  Using cached cloudpathlib-0.20.0-py3-none-any.whl.metadata (14 kB)\n",
      "Requirement already satisfied: smart-open<8.0.0,>=5.2.1 in /opt/anaconda3/lib/python3.12/site-packages (from weasel<0.5.0,>=0.1.0->spacy>=3.8.2->convokit) (5.2.1)\n",
      "Requirement already satisfied: MarkupSafe>=2.0 in /opt/anaconda3/lib/python3.12/site-packages (from jinja2->spacy>=3.8.2->convokit) (2.1.3)\n",
      "Requirement already satisfied: aiohappyeyeballs>=2.3.0 in /opt/anaconda3/lib/python3.12/site-packages (from aiohttp->datasets>=2.21.0->trl>=0.12.2->convokit) (2.4.0)\n",
      "Requirement already satisfied: aiosignal>=1.1.2 in /opt/anaconda3/lib/python3.12/site-packages (from aiohttp->datasets>=2.21.0->trl>=0.12.2->convokit) (1.2.0)\n",
      "Requirement already satisfied: attrs>=17.3.0 in /opt/anaconda3/lib/python3.12/site-packages (from aiohttp->datasets>=2.21.0->trl>=0.12.2->convokit) (23.1.0)\n",
      "Requirement already satisfied: frozenlist>=1.1.1 in /opt/anaconda3/lib/python3.12/site-packages (from aiohttp->datasets>=2.21.0->trl>=0.12.2->convokit) (1.4.0)\n",
      "Requirement already satisfied: multidict<7.0,>=4.5 in /opt/anaconda3/lib/python3.12/site-packages (from aiohttp->datasets>=2.21.0->trl>=0.12.2->convokit) (6.0.4)\n",
      "Requirement already satisfied: yarl<2.0,>=1.0 in /opt/anaconda3/lib/python3.12/site-packages (from aiohttp->datasets>=2.21.0->trl>=0.12.2->convokit) (1.11.0)\n",
      "Collecting marisa-trie>=1.1.0 (from language-data>=1.2->langcodes<4.0.0,>=3.2.0->spacy>=3.8.2->convokit)\n",
      "  Using cached marisa_trie-1.2.1-cp312-cp312-macosx_11_0_arm64.whl.metadata (9.0 kB)\n",
      "Requirement already satisfied: mdurl~=0.1 in /opt/anaconda3/lib/python3.12/site-packages (from markdown-it-py>=2.2.0->rich->trl>=0.12.2->convokit) (0.1.0)\n",
      "Using cached h5py-3.12.1-cp312-cp312-macosx_11_0_arm64.whl (2.9 MB)\n",
      "Using cached clean_text-0.6.0-py3-none-any.whl (11 kB)\n",
      "Using cached dnspython-2.7.0-py3-none-any.whl (313 kB)\n",
      "Using cached msgpack_numpy-0.4.8-py2.py3-none-any.whl (6.9 kB)\n",
      "Using cached pymongo-4.11.1-cp312-cp312-macosx_11_0_arm64.whl (895 kB)\n",
      "Using cached ruff-0.9.6-py3-none-macosx_11_0_arm64.whl (11.1 MB)\n",
      "Using cached scipy-1.15.2-cp312-cp312-macosx_14_0_arm64.whl (22.4 MB)\n",
      "Using cached spacy-3.8.4-cp312-cp312-macosx_11_0_arm64.whl (6.0 MB)\n",
      "Downloading tensorflow-2.18.0-cp312-cp312-macosx_12_0_arm64.whl (239.6 MB)\n",
      "\u001b[2K   \u001b[90m━━━━━━━━━━━━━━━━━━━━━━━━━━━━━━━━━━━━━━━━\u001b[0m \u001b[32m239.6/239.6 MB\u001b[0m \u001b[31m4.8 MB/s\u001b[0m eta \u001b[36m0:00:00\u001b[0m00:01\u001b[0m00:01\u001b[0m\n",
      "\u001b[?25hDownloading numpy-2.0.2-cp312-cp312-macosx_14_0_arm64.whl (5.0 MB)\n",
      "\u001b[2K   \u001b[90m━━━━━━━━━━━━━━━━━━━━━━━━━━━━━━━━━━━━━━━━\u001b[0m \u001b[32m5.0/5.0 MB\u001b[0m \u001b[31m7.6 MB/s\u001b[0m eta \u001b[36m0:00:00\u001b[0m00:01\u001b[0m00:01\u001b[0mm\n",
      "\u001b[?25hUsing cached tf_keras-2.18.0-py3-none-any.whl (1.7 MB)\n",
      "Downloading thinc-8.3.4-cp312-cp312-macosx_11_0_arm64.whl (761 kB)\n",
      "\u001b[2K   \u001b[90m━━━━━━━━━━━━━━━━━━━━━━━━━━━━━━━━━━━━━━━━\u001b[0m \u001b[32m761.0/761.0 kB\u001b[0m \u001b[31m7.4 MB/s\u001b[0m eta \u001b[36m0:00:00\u001b[0m\n",
      "\u001b[?25hUsing cached trl-0.15.0-py3-none-any.whl (318 kB)\n",
      "Downloading accelerate-1.4.0-py3-none-any.whl (342 kB)\n",
      "Downloading transformers-4.49.0-py3-none-any.whl (10.0 MB)\n",
      "\u001b[2K   \u001b[90m━━━━━━━━━━━━━━━━━━━━━━━━━━━━━━━━━━━━━━━━\u001b[0m \u001b[32m10.0/10.0 MB\u001b[0m \u001b[31m6.6 MB/s\u001b[0m eta \u001b[36m0:00:00\u001b[0m00:01\u001b[0m0:01\u001b[0mm\n",
      "\u001b[?25hUsing cached bitsandbytes-0.42.0-py3-none-any.whl (105.0 MB)\n",
      "Using cached peft-0.14.0-py3-none-any.whl (374 kB)\n",
      "Using cached absl_py-2.1.0-py3-none-any.whl (133 kB)\n",
      "Using cached astunparse-1.6.3-py2.py3-none-any.whl (12 kB)\n",
      "Downloading blis-1.2.0-cp312-cp312-macosx_11_0_arm64.whl (1.3 MB)\n",
      "\u001b[2K   \u001b[90m━━━━━━━━━━━━━━━━━━━━━━━━━━━━━━━━━━━━━━━━\u001b[0m \u001b[32m1.3/1.3 MB\u001b[0m \u001b[31m6.8 MB/s\u001b[0m eta \u001b[36m0:00:00\u001b[0m\n",
      "\u001b[?25hUsing cached catalogue-2.0.10-py3-none-any.whl (17 kB)\n",
      "Using cached confection-0.1.5-py3-none-any.whl (35 kB)\n",
      "Downloading contourpy-1.3.1-cp312-cp312-macosx_11_0_arm64.whl (255 kB)\n",
      "Downloading cymem-2.0.11-cp312-cp312-macosx_11_0_arm64.whl (42 kB)\n",
      "Using cached flatbuffers-25.2.10-py2.py3-none-any.whl (30 kB)\n",
      "Using cached ftfy-6.3.1-py3-none-any.whl (44 kB)\n",
      "Using cached gast-0.6.0-py3-none-any.whl (21 kB)\n",
      "Using cached google_pasta-0.2.0-py3-none-any.whl (57 kB)\n",
      "Downloading grpcio-1.70.0-cp312-cp312-macosx_10_14_universal2.whl (11.4 MB)\n",
      "\u001b[2K   \u001b[90m━━━━━━━━━━━━━━━━━━━━━━━━━━━━━━━━━━━━━━━━\u001b[0m \u001b[32m11.4/11.4 MB\u001b[0m \u001b[31m9.5 MB/s\u001b[0m eta \u001b[36m0:00:00\u001b[0mta \u001b[36m0:00:01\u001b[0m\n",
      "\u001b[?25hUsing cached keras-3.8.0-py3-none-any.whl (1.3 MB)\n",
      "Using cached langcodes-3.5.0-py3-none-any.whl (182 kB)\n",
      "Using cached libclang-18.1.1-1-py2.py3-none-macosx_11_0_arm64.whl (25.8 MB)\n",
      "Downloading ml_dtypes-0.4.1-cp312-cp312-macosx_10_9_universal2.whl (405 kB)\n",
      "Downloading murmurhash-1.0.12-cp312-cp312-macosx_11_0_arm64.whl (27 kB)\n",
      "Using cached opt_einsum-3.4.0-py3-none-any.whl (71 kB)\n",
      "Downloading preshed-3.0.9-cp312-cp312-macosx_11_0_arm64.whl (128 kB)\n",
      "Using cached safetensors-0.5.2-cp38-abi3-macosx_11_0_arm64.whl (408 kB)\n",
      "Using cached spacy_legacy-3.0.12-py2.py3-none-any.whl (29 kB)\n",
      "Using cached spacy_loggers-1.0.5-py3-none-any.whl (22 kB)\n",
      "Downloading srsly-2.5.1-cp312-cp312-macosx_11_0_arm64.whl (634 kB)\n",
      "\u001b[2K   \u001b[90m━━━━━━━━━━━━━━━━━━━━━━━━━━━━━━━━━━━━━━━━\u001b[0m \u001b[32m634.7/634.7 kB\u001b[0m \u001b[31m7.6 MB/s\u001b[0m eta \u001b[36m0:00:00\u001b[0m\n",
      "\u001b[?25hUsing cached tensorboard-2.18.0-py3-none-any.whl (5.5 MB)\n",
      "Using cached termcolor-2.5.0-py3-none-any.whl (7.8 kB)\n",
      "Using cached tokenizers-0.21.0-cp39-abi3-macosx_11_0_arm64.whl (2.6 MB)\n",
      "Using cached wasabi-1.1.3-py3-none-any.whl (27 kB)\n",
      "Using cached weasel-0.4.1-py3-none-any.whl (50 kB)\n",
      "Using cached cloudpathlib-0.20.0-py3-none-any.whl (52 kB)\n",
      "Using cached language_data-1.3.0-py3-none-any.whl (5.4 MB)\n",
      "Using cached tensorboard_data_server-0.7.2-py3-none-any.whl (2.4 kB)\n",
      "Using cached namex-0.0.8-py3-none-any.whl (5.8 kB)\n",
      "Downloading optree-0.14.0-cp312-cp312-macosx_11_0_arm64.whl (335 kB)\n",
      "Downloading marisa_trie-1.2.1-cp312-cp312-macosx_11_0_arm64.whl (174 kB)\n",
      "Building wheels for collected packages: convokit, emoji\n",
      "  Building wheel for convokit (pyproject.toml) ... \u001b[?25ldone\n",
      "\u001b[?25h  Created wheel for convokit: filename=convokit-3.1.0-py3-none-any.whl size=229062 sha256=d40ea35d4cb5adac08650367ee2b3f33b3adbec1a0858195df88d62b089bd413\n",
      "  Stored in directory: /Users/Shivani/Library/Caches/pip/wheels/ea/cc/6e/13b880c0b702c05cee0427f5996c7623604ad37c9ea04f2532\n",
      "  Building wheel for emoji (setup.py) ... \u001b[?25ldone\n",
      "\u001b[?25h  Created wheel for emoji: filename=emoji-1.7.0-py3-none-any.whl size=171033 sha256=1d55c0d78d98ea325a8eccf91caf1fa9b8369a5a8bef7d7e5cfaf59f464a535c\n",
      "  Stored in directory: /Users/Shivani/Library/Caches/pip/wheels/e0/8c/e0/294d2e4ea0e55792bfc99b6b263e4a0511443da7b69af67688\n",
      "Successfully built convokit emoji\n",
      "Installing collected packages: namex, libclang, flatbuffers, emoji, cymem, wasabi, termcolor, tensorboard-data-server, spacy-loggers, spacy-legacy, safetensors, ruff, optree, opt-einsum, numpy, murmurhash, marisa-trie, grpcio, google-pasta, gast, ftfy, dnspython, cloudpathlib, catalogue, astunparse, absl-py, tensorboard, srsly, scipy, pymongo, preshed, msgpack-numpy, ml-dtypes, language-data, h5py, contourpy, clean-text, blis, tokenizers, langcodes, keras, confection, bitsandbytes, accelerate, weasel, transformers, thinc, tensorflow, trl, tf-keras, spacy, peft, convokit\n",
      "  Attempting uninstall: numpy\n",
      "    Found existing installation: numpy 1.26.4\n",
      "    Uninstalling numpy-1.26.4:\n",
      "      Successfully uninstalled numpy-1.26.4\n",
      "  Rolling back uninstall of numpy\n",
      "  Moving to /opt/anaconda3/bin/f2py\n",
      "   from /private/var/folders/fs/jcn2l7y55m7ghn968jcnxtn00000gn/T/pip-uninstall-nbil2ovo/f2py\n",
      "  Moving to /opt/anaconda3/lib/python3.12/site-packages/numpy-1.26.4.dist-info/\n",
      "   from /opt/anaconda3/lib/python3.12/site-packages/~umpy-1.26.4.dist-info\n",
      "  Moving to /opt/anaconda3/lib/python3.12/site-packages/numpy/\n",
      "   from /opt/anaconda3/lib/python3.12/site-packages/~umpy\n",
      "\u001b[31mERROR: Could not install packages due to an OSError: [Errno 28] No space left on device\n",
      "\u001b[0m\u001b[31m\n",
      "\u001b[0mNote: you may need to restart the kernel to use updated packages.\n"
     ]
    }
   ],
   "source": [
    "%pip install convokit"
   ]
  },
  {
   "cell_type": "code",
   "execution_count": null,
   "metadata": {},
   "outputs": [],
   "source": [
    "%pip install "
   ]
  },
  {
   "cell_type": "code",
   "execution_count": null,
   "metadata": {},
   "outputs": [
    {
     "data": {
      "text/plain": [
       "{'timestamp': [None, None],\n",
       " 'text': ['Okay.  /{D So, }', '[ [ I guess, +'],\n",
       " 'speaker': ['1519', '1632'],\n",
       " 'reply_to': [None, '4325-0'],\n",
       " 'conversation_id': ['4325-0', '4325-0'],\n",
       " 'meta.tag': [[['Okay.  /', 'o'], ['{D So, }', 'qw']],\n",
       "  [['[ [ I guess, +', 'qy^d']]],\n",
       " 'vectors': [[], []]}"
      ]
     },
     "execution_count": 79,
     "metadata": {},
     "output_type": "execute_result"
    }
   ],
   "source": [
    "ds_telephone_convos[0:2]"
   ]
  },
  {
   "cell_type": "code",
   "execution_count": null,
   "metadata": {},
   "outputs": [],
   "source": [
    "#TRAIN SETS, choosing 500 samples frome each written text set\n",
    "num_samples = 500\n",
    "\n",
    "ds_ag_news_sub = ds_ag_news[\"train\"].shuffle(seed=42).select(range(num_samples))\n",
    "#filtering out the spam label - only getting legitimate texts\n",
    "ds_sms_filtered = ds_sms[\"train\"].filter(lambda example: example['label'] == 0)\n",
    "ds_sms_sub = ds_sms_filtered.shuffle(seed=42).select(range(num_samples))\n",
    "ds_edu_sub = ds_edu[\"train\"].shuffle(seed=42).select(range(num_samples))\n",
    "ds_medium_sub = ds_medium[\"train\"].shuffle(seed=42).select(range(num_samples))\n",
    "ds_enron_sub = ds_enron[\"train\"].shuffle(seed=42).select(range(num_samples))\n",
    "\n",
    "\n",
    "ds_podcast_news_sub = ds_podcast_news[\"train\"].shuffle(seed=42).select(range(100))#podcasts are long so only gonna use 100 samples\n",
    "ds_telephone_sub = ds_telephone_convos.shuffle(seed=42).select(range(num_samples))\n",
    "ds_ted_talk_edu_sub = ds_ted_talk_edu[\"train\"].shuffle(seed=42).select(range(num_samples))\n",
    "ds_business_meetings_sub = ds_business_meetings[\"train\"].shuffle(seed=42).select(range(num_samples))\n",
    "ds_un_debates_sub = ds_un_debates[\"train\"].shuffle(seed=42).select(range(num_samples))\n"
   ]
  },
  {
   "cell_type": "code",
   "execution_count": null,
   "metadata": {},
   "outputs": [
    {
     "data": {
      "text/plain": [
       "{'session': [58, 65],\n",
       " 'year': [2003, 2010],\n",
       " 'country': ['ISR', 'TGO'],\n",
       " 'text': ['\\ufeffI would like to congratulate\\nHis Excellency, the Foreign Minister of Saint Lucia,\\nupon his assumption of the Presidency of the General\\nAssembly, and wish him much success.\\nUntil just one month ago, every person in this hall\\nand every Member of this Organization joined us in the\\nhope that the Middle East peace process might finally\\nbe back on track, and that a resolution of the Israeli-\\nPalestinian conflict might be on the horizon. The\\nestablishment of a new Palestinian Government\\npromised an end to terror and a new beginning.\\nThis glimmer of hope was darkened on 19 August\\nby the extremists who blew up a bus full of Jewish\\nfamilies on their way home from prayers at the Western\\nWall, the holiest site in the Jewish religion. Twenty-\\nthree people, young and old, mothers and babies in\\ntheir cradles, were slaughtered in that attack. That\\nattack was carried out by Hamas, a terrorist\\norganization, which, under the road map, should have\\nbeen dismantled by the Palestinian Authority. Failure\\nto dismantle Hamas and other extremist organizations\\nhas brought our diplomatic efforts to a standstill.\\nRather than acting to fulfil its obligation, the\\nPalestinian Authority has chosen the route of inaction,\\nand complicity in terror.\\nWe cannot allow this to continue. We must restore\\nhope that we can build a better future for our children.\\nThe infrastructure of terror must be dismantled so that\\nwe can put our peace efforts back on track. There is no\\ntime other than now. There is no other way.\\nFor many years it was thought that terrorism in\\nthe Middle East was Israel’s problem, not the world’s.\\nToday, the world knows otherwise. Today, it is not only\\nIsrael that mourns the loss of its loved ones, including\\nwomen and children and babies, at the hands of the\\nterrorists. Sadly, we have been joined by peoples from\\nacross the globe — from Mombassa to Casablanca and\\nfrom Moscow to Bali. Even the United Nations, which\\nfor so many has been a symbol of peace and goodwill,\\nis not immune.\\n28\\n \\nGathered here today in New York, just two short\\nyears after 11 September, the community of nations\\nknows that those who seek to advance their political\\nagendas through killing innocents are ready to strike at\\nanyone or anything that represents the values of\\nfreedom and human life.\\nTerrorism has declared war on us all. Israel has\\noften stood alone in this battle. A country that has\\nsuffered more than any other from terrorism, we have\\nalways understood the danger it poses to democracy\\nand freedom everywhere, even when others refused to\\nsee this, and condemned us for our actions. We have\\nalways understood that terrorism, no matter what cause it\\nclaims to serve, seeks only to destroy, rather than to build.\\nThere can be no neutrality in the war against\\nterrorism and there can be no immunity for those who\\nengage in it. Abstaining is not an option. This is not a\\nwar of choice. Terrorism will not be eliminated until\\nthe world unites against it. Our only choice is to win.\\nEvery member of the international community must\\ntake concrete and proactive measures to cut off all\\nchannels of financial, moral and political support to\\nthis common enemy.\\nStates Members of this institution that sponsor\\nterrorists and give them shelter are accomplices in the\\nacts of terror themselves. They must be held\\naccountable for their crimes. It is no coincidence that\\nStates that sponsor terrorism, like Iran and Syria, are\\nalso striving to acquire weapons of mass destruction.\\nTheir hostility to freedom and the rule of law puts the\\nvery future of humanity in jeopardy.\\nI know that many in this place see Yasser Arafat\\nas the symbol of the Palestinian struggle. Tragically,\\nfor his people and for ours, he is one of the world’s\\nicons of terror. In the 10 years since Arafat made a\\ncommitment to Israel and the world that he would no\\nlonger use terror, 1,126 Israelis have been killed and\\nthousands wounded in 19,000 separate Palestinian\\nterrorist attacks. In relative numbers, this would be the\\nsame as 11,000 French or 56,000 Americans dying\\nfrom terrorism in the same period of time.\\nThis carnage must stop. Its impact on both\\nsocieties is devastating. Yasser Arafat bears direct\\nresponsibility for this terrible suffering. He has led his\\npeople along the path of terror — from hijackings to\\nsuicide bombings — for more than 30 years, always\\npreferring Israeli pain over Palestinian gain. He has\\nbeen — and he remains — the greatest obstacle to\\npeace between our peoples. For as long as he controls\\nthe levers of power, no moderate leadership can\\nemerge. To vote for Arafat, like we saw in this\\nAssembly just last week, is to vote against the\\nPalestinian people. When Arafat wins, terrorism wins,\\nand we all lose. Instead of rallying around Arafat, the\\ninternational community must rally around the genuine\\ninterests of the Palestinian people. They must do so\\nnow, before he leads them even further down the path\\nof terror and destruction.\\nWhen a responsible and empowered Palestinian\\nleadership finally emerges — a leadership ready to join\\nthe war on terror — it will find us a willing partner for\\npeace. Israel is committed to the vision for Middle East\\npeace laid out by United States President George Bush\\non 24 June 2002. Israel will not compromise on the\\nsafety of its citizens, but we will go the extra mile, as\\nwe have proven before, to bring peace and security to\\nboth our peoples.\\nWe are ready to work with the Palestinians and\\nwith the international community to make this vision a\\nreality. For this to happen, the Palestinian leadership\\nmust take the moral and strategic decision to abandon\\nterrorism once and for all, and make peacemaking\\npossible. They must guide their people to build their\\nown society, rather than seek to destroy ours. They,\\ntoo, must understand that it is not poverty that breeds\\nterror but terror that breeds poverty.\\nWe cannot stop only at dismantling the\\ninfrastructure of terror. We must also build an\\ninfrastructure of peace. It is up to political and moral\\nleaders everywhere to foster an environment which\\nrejects extremism and empowers the peacemakers. This\\nis particularly so in the Arab and Muslim world, where\\nincitement against Israel closes hearts and minds to the\\npossibility of peace.\\nLeaders must guide their people away from the\\nculture of hate, and replace it with a culture of\\ntolerance. Concrete expressions of cooperation and\\nexchange must be built in media and government,\\neducation, science and business, to reinforce the\\nmessage of tolerance and acceptance.\\nFor the sake of our collective future, voices of\\nmoderation must be heard. For the sake of our\\ncollective future, Israel and the Arab nations must learn\\nto live together side by side, to overcome our conflicts\\njust as the nations of Europe have learned to overcome\\ntheirs. Israel is living among its Arab neighbours. We\\n29\\n \\nbelieve in a common future of peace and prosperity\\nwith them. My many meetings with Arab leaders over\\nthe last few days have encouraged me to believe that\\ntogether we can make our region a better place.\\nThis culture of peace must permeate not only the\\nborders of the Middle East, it must permeate the walls\\nof the United Nations as well. In the past, the United\\nNations has shown us that it can play a positive role.\\nThis Assembly was key to the founding of the State of\\nIsrael, 55 years ago. Security Council resolutions 242\\n(1967) and 338 (1973) are our guideposts to\\nnegotiations and peace.\\nTo play such a constructive role in the future, the\\nUnited Nations must reform. It must move away from\\nthe partisan hostility that has taken over its Middle East\\nagenda. For more than three decades, this Assembly\\nhas passed every year a litany of resolutions designed\\nto discredit Israel, challenge its interests, and promote\\nthe will of its greatest enemies.\\nIn my hand I am holding a collection of the\\ndecisions of the fifty-seventh General Assembly on the\\nMiddle East — 175 pages filled not with hope, but with\\nthe negative agendas of the past. No other country has\\nsuffered such unjustified attack and consistent\\ndiscrimination within the United Nations system. The\\ntime has come to end this campaign of diplomatic\\nincitement. For the sake of Israelis and Palestinians —\\nfor the sake of the United Nations and peace itself — I\\ncall on this body to rise above the tired politics of\\nyesterday, and adopt a new, courageous agenda for\\ntomorrow.\\nI call on the General Assembly to abandon the\\nautomatic adoption of anti-Israel resolutions and to\\nfind ways of making itself relevant once again to the\\ninterests of the people it claims to serve. I call on this\\nAssembly to fulfil its historic mission and help\\npromote what unites us, not what divides us.\\nOn the morning of 1 February of this year, Israel\\nlost its first astronaut in the Space Shuttle Columbia\\ndisaster — a skilled and courageous pilot whom I knew\\npersonally, a child of Holocaust survivors, a national\\nhero. Colonel Ilan Ramon embodied the spirit of our\\nnation. He was a man of courage and action, dedicated\\nto the well-being of his people. Just as he sought to\\ncontribute to the advancement of his fellow man, he\\nmet his death, together with colleagues from the United\\nStates and India, on a scientific mission in the name of\\nhumanity as a whole.\\nIsrael’s place in such endeavours of international\\ncooperation and accomplishment is no coincidence. In\\nthe 55 years since the State of Israel was established,\\nrecognized and welcomed into the family of nations,\\nour achievements in the fields of science and\\ntechnology, the arts and literature and agriculture and\\nmedicine have come to rank with the best in the world.\\nOur international cooperation programme is celebrated\\nin over a hundred countries around the globe, sharing\\nskills, experience and knowledge for the benefit of\\nmillions of people. We extend this hand of friendship\\nto all the nations of the world. We welcome our\\nimproving relations with Europe, just as we remain\\ncommitted to promoting closer ties with the nations of\\nAfrica, Asia and the Americas.\\nThe Zionist vision of Israel’s founders was to\\nbring into the world a State in our ancient homeland to\\nserve as a haven from persecution for our people, a\\nplace where the Jewish people could fulfil its right to\\nself-determination in the modern era and a bastion of\\ndemocracy and opportunity for all its citizens. Our\\nfounders also made a promise not just to the people of\\nIsrael, but also to the people of the Middle East as a\\nwhole — to pursue peace and to work for the common\\nadvancement of our region.\\nI know personally the profound meaning of this\\nhistoric undertaking. I came to Israel as a young\\nrefugee from Tunisia. I serve as one of hundreds of\\nthousands of immigrants to whom Israel has granted\\npromise and protection, freedom and opportunity,\\nthrough the values and institutions of democracy.\\nI stand here today to reaffirm, before the nations\\nof the world, the commitment of my country to peace.\\nPeace for the people of Israel is both a moral and\\nhistoric imperative. “Shalom” — the word for peace in\\nHebrew — is central to our language and our heritage.\\nIt is how we say “hello” and it is how we say\\n“goodbye”. It is a name we give to our children. It is\\nmy own family name.\\nIt was our prophet Isaiah, who brought this\\nmessage of peace to the world centuries ago, when he\\nsaid: “And they shall beat their swords into\\nploughshares and their spears into pruning hooks.\\nNation shall not lift up sword against Nation, neither\\nshall they learn war any more”.\\nIsrael’s historic record is clear. Whenever a true\\npartner for peace has emerged, he has been met with\\nIsrael’s extended hand. This was true when President\\n30\\n \\nAnwar Sadat of Egypt came to Jerusalem in 1977 and it\\nwas true when King Hussein of Jordan signed the\\nPeace Treaty with us in 1994. The same is true today.\\nIsrael stands ready to complete the circle of peace with\\nall its neighbours — real peace, not just peace for the\\nheadlines, but peace which brings an end to violence\\nand hostility and positive change for the citizens of our\\nregion.\\nFrom this great rostrum — a rostrum shared by\\nall humanity — I call on the leaders of Syria and\\nLebanon, of Iran and of the Palestinian people to\\nabandon once and for all their hostility towards us and\\nto join us in building a better future for our children.\\nThis evening, I shall return to Jerusalem, the\\neternal capital of the Jewish people, to join with them\\nin celebrating Rosh Hashanah, the Jewish New Year.\\nAccording to our tradition, this is a time when God\\ndetermines the fate of each and every individual for the\\ncoming year. These are days of reflection and prayer.\\nMay all our prayers for peace and for life be answered,\\nand may the actions and deeds of all the States and\\npeoples represented here in this Hall bring to mankind\\npeace and all the blessings that life can offer.\\n\\n\\n\\n\\n',\n",
       "  'At the \\noutset, allow me to extend my congratulations and \\nthose of the Togolese people to Mr. Joseph Deiss on his \\nelection as President of the General Assembly at its \\nsixty-fifth session and to wish him every success in the \\naccomplishment of his great task. My delegation will \\nspare no effort in working at his side towards the \\nsuccessful achievement of his mandate. Like him, we \\nare firmly convinced that the values that lie at the heart \\nof the United Nations remain very relevant today to \\nsuccessfully meeting the challenges facing humankind.  \\n I also congratulate his predecessor for his \\ninvaluable efforts during his term of office to advance \\nthe agenda of the General Assembly in many diverse \\nand different areas, in particular those of peace and \\nsecurity, human rights and the development of our \\nnations. \\n I would like to renew my personal support and \\nthat of my country to Secretary-General Ban Ki-moon \\nfor the dynamism he has shown over the course of the \\npast four years at the head of the United Nations. I also \\ntake this opportunity to congratulate him on the \\nimportant report that he introduced to us yesterday on \\nthe work of the Organization (A/65/1). \\n The theme that the President of the General \\nAssembly has proposed for the current session, \\n“Reaffirming the central role of the United Nations in \\nglobal governance”, eloquently translates the \\naspirations of our States, particularly the developing \\ncountries. The theme implies that the United Nations \\nmust remain at the heart of multilateralism and that the \\ninstitutions of our Organization must therefore be \\nreconsidered, beginning with the long-awaited reform \\nof the Security Council, in order to bring greater \\ndemocracy and equity and, above all, to respond more \\neffectively to the many challenges to our world.  \\n In its own search for better governance and the \\nwell-being of its people, my country, Togo, has \\ntirelessly and irreversibly continued its march towards \\ngreater democracy, freedom and justice in an \\nenvironment of peace and stability. Seeking to turn the \\npage once and for all on the dark years of our \\ndemocratic deficit, the Head of State has established a \\nnew policy of openness. In August 2006, this \\ncommendable initiative led to the signing of the \\nComprehensive Political Agreement among the main \\npolitical actors in Togo and to the establishment of a \\nGovernment of national unity and the holding in \\nOctober 2007 of legislative elections that were \\nuniversally recognized as free and transparent and, for \\nthe first time, without violence. These elections, which \\nestablished a pluralist National Assembly, are without a \\ndoubt the emblem of our democratic renaissance.  \\n The Government has since initiated political and \\neconomic reforms leading to the adoption of a statute \\nof the opposition and of a law on the financing of \\npolitical parties; the consensus appointment of \\nmembers of the National Independent Electoral \\nCommission; and the creation of a security force for \\nthe presidential elections, the members of which are \\ntrained according to universally recognized standards \\nand have maintained security throughout the electoral \\nprocess in an exemplary fashion. All of these efforts \\nnaturally allowed Togo to hold, on 4 March 2010, a \\npresidential election that was democratic, peaceful and \\nwidely praised by the international community.  \\n I reiterate here the profound gratitude of the \\nGovernment and people of Togo to all of our partners, \\n  \\n \\n10-54965 42 \\n \\nto regional and international institutions, and to the \\nfriendly countries that supported us throughout the \\nelectoral process, making it a success and a good \\nexample. Our gratitude goes to the United Nations for \\nits many forms of support throughout the process of \\ndemocratization and consolidation.  \\n I would also encourage the United Nations to \\ninvest even more in preventive democracy by, \\ninter alia, beginning to envision mechanisms that could \\nlead all parties to accept the results of elections that are \\nrecognized as credible and transparent by the \\ninternational community. That is a challenge we have \\nto take up, particularly in our young democracies, and \\nespecially the African democracies, so that the post-\\nelectoral period is no longer a nightmare or a source of \\ndivision among our peaceful populations. \\n Notwithstanding his outstanding victory, and \\nfaithful to his policy of reaching out to his opponents, \\nPresident Faure Gnassingbé appealed to all persons of \\ngood will to take part in the building of the Togolese \\nnation. It was in this vein that an historic political \\nagreement was concluded in May between the \\npresidential majority and the Union des Forces de \\nChangement, the main opposition party in Togo, which, \\nwith seven ministerial posts, has for the first time \\njoined a Government after 40 years of political \\nfighting.  \\n Moreover, the Truth, Justice and Reconciliation \\nCommission, which seeks to promote reconciliation \\namong the Togolese people by shedding light on the \\npolitical violence that took place in Togo between 1958 \\nand 2005, is currently in the depositions phase. My \\ncountry will work tirelessly to consolidate the \\nachievements of democracy and peace, while devoting \\nincreasing efforts and energy to the achievement of the \\nMillennium Development Goals (MDGs) in order to \\nbring human and sustainable development to the entire \\npopulation. Now that Togo has reconciled with itself, I \\nhave faith in our capacity to fully renew our relations \\nwith all of our bilateral and multilateral partners and to \\nopen up new horizons in the vast field of solidarity that \\nis international cooperation. \\n Although there are some positive signs of the \\nrecovery of the world economy, it is no exaggeration to \\nsay that the path to stabilization and the suppression of \\nthe disturbing effects of the crisis is still long, perilous \\nand uncertain.  \\n The new problem of climate change has brought \\nin its wake catastrophes linked to rainfall phenomena, \\nsuch as floods, drought and landslides. Without a \\ndoubt, all of these phenomena will have a negative \\nimpact on global economic growth in general and, \\nmore specifically, a tragic effect on the least developed \\ncountries in particular. Despite this threat, we still \\nhesitate to reach agreement, as was demonstrated \\nrecently by the Copenhagen Conference on innovative \\nand proactive strategies to significantly reduce \\ngreenhouse gas emissions, on the one hand, and, on the \\nother hand, to pursue discussions to adopt as soon as \\npossible a schedule for concluding a new agreement to \\nsucceed the Kyoto Protocol. The time for speeches is \\nover; the time to act is now. \\n The High-level Plenary Meeting that we have just \\nheld here on the implementation of the Millennium \\nDevelopment Goals revealed once again the intrinsic \\nlink between aid and development, on the one hand, \\nand development and political will, on the other, at the \\nnational and international levels. The modest results \\nmy country has achieved with respect to the MDGs \\ncould have been better, and we would have been closer \\nto attaining them within the deadlines set if we had not \\nbeen deprived for far too many years of the precious \\nhelp afforded by development aid.  \\n The peaceful political climate being enjoyed by \\nmy country will also enable us to effectively pursue the \\nimprovement of the management of our public finances \\nso that we are able to devote more domestic resources \\nto achieving the MDGs. However, the efforts \\nundertaken by poor countries to consolidate the bases \\nof sustainable development will be a genuine success \\nonly if developed countries provide them with their \\nvarious forms of assistance and if they honour their \\ncommitments. Let us not close our eyes to this fact. We \\nneed better aid in terms of quantity and quality.  \\n Although the international community can \\nwelcome the fact that the number of armed conflicts in \\nthe world has fallen, we cannot forget that several \\npeacekeeping operations of the United Nations are still \\nunder way. That is undeniable proof that we are still far \\nfrom the ideal of international peace and security that \\nthe founding fathers of the United Nations envisaged. \\nCivil wars and terrorism continue to plunge many \\nfamilies into mourning throughout the world. More \\nthan wars, terrorism today is the most murderous form \\nof violence inflicted upon people because it attacks \\nindiscriminately, killing children, men, women and the \\n \\n \\n43 10-54965 \\n \\nelderly. The eradication of terrorism in all its forms is a \\nlong-term task and the responsibility above all of \\nStates and the international community acting in \\nsolidarity. They are obligated to find the best way to \\nfight this phenomenon. In this regard, prevention, \\nprotection, prosecution and punishment, as well as \\ninternational cooperation, must remain the main focus \\nof State action. \\n While Member States struggle to find a definition \\nof terrorism in order to better fight it, the scourge is \\naffecting an increasing number of countries because of \\nthe support that terrorists receive, particularly from \\ndrug trafficking networks. In West Africa, all leaders \\nhave become aware of the threat posed by drug \\ntrafficking and are engaged in a fight to the death \\nagainst the phenomenon. I call on wealthy countries to \\nhelp fight drug trafficking in my subregion in order to \\nprevent it from becoming an unstable zone of \\nunrestrained violence. \\n The purposes and principles for which the United \\nNations Organization was created are noble, but \\n65 years after its birth the work that remains to be done \\nis immense because the social situation of the \\ninhabitants of the planet does not always follow the \\ndevelopment that our world has achieved. Poverty and \\ndestitution are not mere words; they are oppressive \\nrealities experienced day by day. They lead to violence, \\ninstability, conflicts and other scourges that we, today, \\nare not fighting successfully. Only international \\nsolidarity will allow us to overcome the evils of this \\nworld.']}"
      ]
     },
     "execution_count": 85,
     "metadata": {},
     "output_type": "execute_result"
    }
   ],
   "source": [
    "ds_un_debates_sub[0:2]"
   ]
  },
  {
   "cell_type": "code",
   "execution_count": null,
   "metadata": {},
   "outputs": [
    {
     "data": {
      "application/vnd.jupyter.widget-view+json": {
       "model_id": "26195d57e6bf45f69e91dab315a8dfb7",
       "version_major": 2,
       "version_minor": 0
      },
      "text/plain": [
       "Creating CSV from Arrow format:   0%|          | 0/5 [00:00<?, ?ba/s]"
      ]
     },
     "metadata": {},
     "output_type": "display_data"
    },
    {
     "name": "stdout",
     "output_type": "stream",
     "text": [
      "{'text': ['Ukraine appears set for new poll It looks likely that Ukraine will hold a new election as it awaits a supreme court verdict on electoral fraud.', 'Mozambique Prepares for Elections to Replace Chissano Mozambique holds elections on Wednesday and Thursday to choose a successor to President Joaquim Chissano, who ruled for 18 years and led the southern African country to peace after a long civil war that claimed up to a million lives.', \"The year that has elapsed since the forty-\\nseventh session of the General Assembly was noteworthy for\\nthe further growth in the authority and the effectiveness of\\nthe United Nations. It testifies, in our view, to the deep\\nunderstanding that the members of the world community\\nhave about the need for close, constructive cooperation in\\nthe name of a better future. As I look around this Hall, in\\nwhich, for the first time, a Head of State of a sovereign\\nTajikistan is speaking, the words of the great poet Saadi\\ncome to my mind:\\n'The sons of Man are but one body\\nFor the Creator made us all from but one beginning'.\\nNow that I find myself here, in the centre for settling\\nthe problems of the whole world, I should first of all like to\\ncongratulate Mr. Samuel Insanally, the Permanent\\nRepresentative of Guyana, on his election to the presidency\\nof the General Assembly. Allow me to express the hope\\nForty-eighth session - 30 September l993 5\\nthat this session, under your skilful leadership, Mr. President,\\nwill achieve tangible, successful results for the good of all\\nmankind. I should also like to draw attention to the\\nexcellent work done by Mr. Stoyan Ganev, President of the\\nGeneral Assembly at its last session; Mr. Ganev both\\nenergetically and effectively guided the deliberations on\\ncomplex political problems.\\nIt is with great satisfaction that I greet\\nMr. Boutros Boutros-Ghali, Secretary-General of the United\\nNations, and express to him our sincere gratitude for his\\ntireless efforts to resolve the conflicts in various parts of the\\nworld, not excluding my own country.\\nThe Republic of Tajikistan is taking its first steps as a\\nsubject of international law. It is with deep satisfaction that\\nI note that we have been granted an equal voice in the\\ncommonwealth of nations, and we are aware that this\\nhonourable right imposes significant duties on us.\\nThe two years of our independence, in addition to\\nmoments that are undoubtedly positive, have also entailed\\nthe harsh trials that my patient and peace-loving people are\\nnow going through. It is for the historians to study the root\\ncauses, the reasons for the situation in Tajikistan today. I\\nthink that my job is to point out just one thing: those whom\\nwe believe, on the basis of the law in force in the Republic\\nof Tajikistan, to be guilty of unleashing civil war are guilty\\nof grossly violating the very foundations of any modern\\nsociety, namely the primacy of law.\\nAs in any civil war, in the civil war in Tajikistan there\\ncan be no victors. Our urgent task as a nation is to heal, as\\nquickly as possible, the bloody wounds that it has inflicted\\non our country.\\nThe attention the community of nations is paying\\nTajikistan is understandable. Nor should we be surprised at\\nthe variety of opinions we hear when events in the Republic\\nare being analysed. I should like to shed some necessary\\nlight on a number of issues.\\nNow that we have set out on the path of independent\\ndevelopment, we have run up against the enormous political\\nand socio-economic problems of the transitional period.\\nOur national economy was built up as just one small\\npart of the enormous economic complex of the former\\nUSSR, and was basically a provider of raw materials. With\\nthe collapse of those economic ties, our Republic has come\\nface to face with many almost insoluble problems. There\\nhas been a catastrophic drop in the standard of living, which\\ncould hardly fail to lead to an increase in social tension.\\nThe power struggle that developed at the same time and\\nthe attempts to seize power illegally, by force and\\nundemocratically, have split society apart and led to a\\nsenseless, fratricidal war. The results of this we know:\\nthousands of broken lives, thousands of dead and wounded,\\nrefugees and missing. Immeasurable political, social and\\neconomic harm has been done to the Republic.\\nThe internal instability has become the main reason for\\nthe economic and political chaos, the total legal confusion\\nand the sharp drop in production. The future of our people -\\nthe future of Tajik statehood - has been put in jeopardy.\\nThe sixteenth session of the Supreme Council of the\\nRepublic of Tajikistan, which was held in these conditions,\\nlaid fundamentally new foundations for establishing peace\\nand civil harmony in our country. The Supreme Council has\\ndecided in favour of solving all political, social and\\neconomic problems solely within the framework of the\\nconstitution. A number of important laws have been adopted\\nthat are designed to afford citizens social protection and to\\nreturn them to their homes and peace-time jobs.\\nIn accordance with the Constitution, we have elected a\\nleadership for the Supreme Council and formed a\\nGovernment. Today our society and our people have\\nbecome aware that the highest power in the State should be\\nthe law, and only the law.\\nAs the Head of State, I declare, from this rostrum, that\\nwe shall adhere to the fundamental principles of the Final\\nAct of the Helsinki Conference and the Paris Charter and\\nother international instruments for the defence of law. We\\nare determined to carry out democratic transformations in\\nour country and to acknowledge and respect philosophical,\\nreligious, ideological and political choice as an inalienable\\nright of the individual.\\nWorking under the constant pressure of political and\\nsocio-economic problems, we have succeeded in a short time\\nin removing the economic blockade from all the regions of\\nthe Republic and have begun rebuilding our destroyed\\nnational economy and instituting economic reforms in order\\ngradually to introduce a free market.\\nFrom the beginning of the restoration of our Republic,\\nour Parliament has adhered to the principle of the primacy\\nof law, and in so doing has passed a number of measures,\\nwhile the Presidium of the Supreme Council has laid down\\n6 General Assembly - Forty-eighth session\\nthree special decrees on amnesty. Does not this show that\\nwe are acting to resolve through political means the\\nproblems that have accumulated in our country? We are\\nprepared for dialogue with all the social forces in our\\ncountry to achieve national reconciliation, civil harmony and\\nstability in Tajikistan.\\nWe would like to cooperate constructively with forces\\nof any political orientation acting within the framework of\\nexisting law and respecting generally accepted principles of\\ndemocracy. I would like to inform the world community\\nthat Tajikistan is actively working to improve its election\\nlaws and to prepare a draft new Constitution in which\\nmaximum attention will be given to all problems related to\\nguaranteeing and protecting inalienable human rights.\\nIn terms of settling our domestic political problems, we\\nare seriously concerned over the attempts at regionalization\\nof the internal conflict in Tajikistan, a conflict which is still\\ngoing on in a number of areas along the Tajik-Afghan\\nborder. The outbreak of the conflict this summer brought\\ndozens of deaths.\\nAllow me briefly to tell the Assembly my view of the\\nessential reasons for the tensions along and inside the border.\\nEveryone knows that until recently Tajikistan had been\\nsystematically subjected to unprovoked acts of armed\\nintervention from the territory of a neighbouring country.\\nNaturally, we understand its internal difficulties related to\\nestablishing a centralized State administration. But facts\\ncannot be denied, and we have now been faced with the\\nneed seriously to deal with the question of self-defence.\\nWe are not hatching any hostile plan with regard to\\nAfghanistan. The measures which we have taken and are\\ntaken to strengthen the defence of our border - which is also\\na border of the Commonwealth of Independent States (CIS) -\\ndo not go beyond what is laid down in Article 51 of the\\nUnited Nations Charter and are fully in keeping with\\ngenerally accepted norms of international relations.\\nBut this, of course, does not mean that that is the only\\nway to solve the problem. And here we are encouraged by\\nthe notable speed-up in the negotiating process with the\\nauthorities in Kabul. We have achieved a number of\\npositive agreements on a broad spectrum of questions,\\nincluding normalizing the situation along the Tajik-Afghan\\nborder. We think that a permanent, substantive dialogue\\nwith the leadership of the Islamic State of Afghanistan will\\nhelp us remove some other well-known irritants.\\nIt is most unfortunate that huge resources are still being\\nspent to support destructive elements based on the territory\\nof Afghanistan. Having gone there from Tajikistan, they are,\\nwith the help of extremist groups and the forces of\\ninternational terrorism, hatching plans forcibly to change the\\nState structure in our country. A legitimate question arises:\\nis it not wiser to use these resources to build rather than to\\ndestroy?\\nAnother of our problems is that of the Tajik refugees in\\nAfghanistan. There are many versions of how they ended up\\non the territory of Afghanistan, but that is not the main\\npoint, which is that they should return to their homeland as\\nquickly as possible. We express our sincere thanks to the\\nAdministration of Afghanistan and to the United Nations\\nHigh Commissioner for Refugees, who are giving serious\\nattention to those people. As of the middle of September,\\nmore than 35,000 Tajik refugees - more than half the total -\\nhad returned to their permanent homes from Afghanistan.\\nWe hope that the process of voluntary return will continue\\nand that with the support of the authorities of Afghanistan\\nand of the United Nations High Commissioner for Refugees,\\nwe shall in the near future be able to put an end once and\\nfor all to this painful question.\\nWe have already completed our preparation for signing\\na trilateral agreement between Tajikistan, Afghanistan and\\nthe United Nations High Commissioner for Refugees. We\\nhope that the agreement will be signed as soon as possible.\\nFrom this United Nations rostrum, I should like to say\\none more thing in this regard. We are firmly convinced that\\nthe support of the Administration of Afghanistan in efforts\\nto restore peace to the Afghan land, which has suffered so\\nmuch, would be in the interests not only of that country but\\nof the region and of the entire world. There was a time\\nwhen some States spent a great deal of resources on war in\\nAfghanistan. In my view, the time has come to help restore\\na peaceful life there. A restless, unstable Afghanistan is a\\nthreat - and not only to Tajikistan.\\nRegarding our participation in the CIS, I must\\nemphasize that Tajikistan is in favour of strengthening the\\nCommonwealth while observing full respect for the\\nsovereignty and independence of its member States. In this\\ncontext, I should like to point out the significance of two\\nareas of our activities within the framework of the CIS,\\nactivities which are critically important for Tajikistan. I am\\ntalking about relations with Russia and with the Central\\nAsian States.\\nForty-eighth session - 30 September l993 7\\nRussia, as a permanent member of the Security Council,\\nhas undergone great trials in taking upon itself the\\nmaintenance of peace and stability in virtually all the space\\nand territory of the former Soviet Union. Therefore, the\\npeoples of the former Soviet Union, including Tajikistan,\\ncommend and welcome the peace-keeping efforts made by\\nRussia.\\nA positive role in stabilizing the situation in our country\\nhas been played by the brotherly support of Uzbekistan,\\nKazakhstan and the Kyrgyz Republic. Tajikistan also thanks\\nthe United States and all the other countries of Europe and\\nAsia that extended the hand of assistance to us during\\nterrible and dark days.\\nWe hope that Tajikistan will quickly be removed from\\nthe blacklist of conflict areas. In this respect, we count upon\\nthe tangible assistance of the world community in restoring\\nour national economy, which has been destroyed by war and\\nby natural disasters. A country which is rich in natural\\nresources, which has an attraction in terms of its economic\\nprospects, needs purposeful assistance in order to be reborn.\\nAllow me to express the hope that that assistance and that\\nsupport will naturally, in accordance with generally accepted\\nprinciples in world practice, be given to my country.\\nTajikistan, which has gone through the horrors of a\\ncivil war, views with great concern the course of events in\\nthe hot spots of our planet. We know of the pain and\\nsuffering of the people of Somalia. We feel the full depth\\nand senselessness of the tragedy of the peoples of the former\\nYugoslavia, the deadlocked events which have taken place\\nin the Caucasus of the post-Soviet era. We also know\\nfirsthand how destructive is the force of local conflicts. That\\nis why we make an urgent appeal to the world community\\nto multiply its efforts to end, and to prevent, that type of\\nconflict. We are firmly convinced that the force of arms, no\\nmatter how threatening and frightening they may be, cannot\\nsolve a single contentious issue.\\nIn this connection, we are seriously concerned by the\\nuncontrolled and unsanctioned trade in arms in areas of\\nintense instability. Essentially, what is happening is a\\nmassive arming of entire regions. Indeed, we can imagine\\nhow unbelievably difficult it is to take away from a\\npopulation weapons that they have illegally obtained. On\\nthe basis of our own bitter experience, we loudly speak out\\nabout the danger of that fateful trend.\\nToday, this destructive impact on our economy has\\nbeen joined by another: the aspiration of a number of\\ncountries to acquire nuclear weapons or the technology to\\nproduce them. As a country which has the technology for\\nmining and initially processing uranium, we categorically\\noppose the use of that priceless source of energy for\\nnon-peaceful purposes.\\nWe state our unconditional support for the\\nNon-Proliferation Treaty, and we hope that the conference of\\nthe States parties to that Treaty, scheduled for 1995, will\\ndecide to extend it indefinitely.\\nAs the Assembly knows, the end of the cold war and\\nbipolar confrontation gave rise to great hopes on the part of\\nthe peoples of the world. Unfortunately, events have not yet\\njustified many of these hopes. None the less, there is one\\nplace in the world where notable political events have been\\nobserved. We are deeply satisfied with the historic\\nagreements reached between the Palestine Liberation\\nOrganization and the State of Israel on mutual recognition.\\nWe welcome the decision of the United States of\\nAmerica to recognize the Palestine Liberation Organization,\\nand we commend that great country for its role in supporting\\npeace and stability on earth.\\nThe questions which the General Assembly will be\\ndiscussing at its forty-eighth session show that there is now\\nan onward rush towards the interdependence of nations. In\\nTajikistan we are convinced of this.\\nWe commend the peace-keeping and humanitarian\\nefforts of the United Nations. We are especially proud of\\nTajikistan’s initiative to include institutions of the\\nCommonwealth of Nations in the broad peace-keeping\\nactivities on the territory of our country; that initiative has\\nnot been ignored.\\nThe mandate for the presence in Tajikistan of the\\nSpecial Envoy of the Secretary-General, Mr. Ismat Kittani,\\nhas been extended. The Republic has fruitfully worked with\\nthe United Nations Observer Mission, the representative of\\nthe High Commissioner for Refugees, and the representatives\\nof other international non-governmental organizations.\\nOur special gratitude goes to the Security Council of\\nthe United Nations, which constantly monitors developments\\nin the situation in and around Tajikistan. We sincerely hope\\nthat the efforts of the community of nations will be\\nincreasingly focused on ensuring the conditions for\\nsustainable development.\\n8 General Assembly - Forty-eighth session\\nWe wholeheartedly support the principles and\\nrecommendations of Agenda 21. We feel that accomplishing\\nthat Agenda’s important goals, such as the transfer of\\ntechnology and resources, will have a favourable impact on\\ndisaster areas such as the Aral Sea and areas of great\\npoverty.\\nIn conclusion, I would like to assure the Assembly that\\nmy people, who have now embarked upon establishing their\\nown statehood and have overcome considerable difficulties\\nin so doing, look to the future with a feeling of great and, I\\nhope, justified optimism.\\nWe will spare no effort, we shall use all our energy, in\\nbuilding a genuinely legal, democratic and enlightened State\\nwhich will not fail to take a worthy place among the\\ncivilized countries of the world.\\n\", 'Having the final say FOXBOROUGH -- The Patriots have won 20 games in a row, and yesterday they tied the NFL record for most consecutive regular-season wins (17). Those are feats that take all the emotion the players can muster week after week.', \"Israel, Palestinians Seek Deal to End Gaza Fighting  JERUSALEM (Reuters) - Israeli and Palestinian officials are  trying to work out a deal to end Israel's biggest Gaza  offensive in four years of conflict in return for stopping  rocket fire into the Jewish state, security sources said.\"], 'source': ['ag_news', 'ag_news', 'un_debates', 'ag_news', 'ag_news'], 'formality': ['formal', 'formal', 'formal', 'formal', 'formal'], 'type': ['written', 'written', 'spoken', 'written', 'written']}\n"
     ]
    }
   ],
   "source": [
    "#combine\n",
    "from datasets import Dataset, concatenate_datasets\n",
    "import random\n",
    "\n",
    "ag_news_dataset = Dataset.from_dict({\"text\": ds_ag_news_sub[\"text\"], \n",
    "                                     \"source\": [\"ag_news\"] * len(ds_ag_news_sub),\n",
    "                                     \"formality\": [\"formal\"] * len(ds_ag_news_sub)})\n",
    "medium_dataset = Dataset.from_dict({\"text\": ds_medium_sub[\"text\"], \n",
    "                                    \"source\": [\"medium\"] * len(ds_medium_sub),\n",
    "                                    \"formality\": [\"formal\"] * len(ds_medium_sub)})\n",
    "edu_dataset = Dataset.from_dict({\"text\": ds_edu_sub[\"text\"], \n",
    "                                 \"source\": [\"textbooks\"] * len(ds_edu_sub),\n",
    "                                 \"formality\": [\"educational\"] * len(ds_edu_sub)})\n",
    "sms_dataset = Dataset.from_dict({\"text\": ds_sms_sub[\"sms\"], \n",
    "                                 \"source\": [\"sms\"] * len(ds_sms_sub), \n",
    "                                 \"formality\": [\"informal\"] * len(ds_sms_sub)})\n",
    "enron_dataset = Dataset.from_dict({\"text\": ds_enron_sub[\"email\"], \n",
    "                                   \"source\": [\"enron_emails\"] * len(ds_enron_sub), \n",
    "                                   \"formality\": [\"formal\"] * len(ds_enron_sub)})\n",
    "\n",
    "\n",
    "combined_written_dataset = concatenate_datasets([ag_news_dataset, medium_dataset, edu_dataset, sms_dataset, enron_dataset])\n",
    "combined_written_dataset = combined_written_dataset.add_column(\"type\", [\"written\"] * len(combined_written_dataset))\n",
    "\n",
    "\n",
    "\n",
    "podcast_news_dataset = Dataset.from_dict({\"text\": ds_podcast_news_sub[\"text\"], \n",
    "                                     \"source\": [\"podcasts\"] * len(ds_podcast_news_sub), \n",
    "                                     \"formality\": [\"informal\"] * len(ds_podcast_news_sub)})\n",
    "un_debates_dataset = Dataset.from_dict({\"text\": ds_un_debates_sub[\"text\"], \n",
    "                                   \"source\": [\"un_debates\"] * len(ds_un_debates_sub),\n",
    "                                   \"formality\": [\"formal\"] * len(ds_un_debates_sub)})\n",
    "ted_talk_edu_dataset = Dataset.from_dict({\"text\": ds_ted_talk_edu_sub[\"transcript\"], \n",
    "                                 \"source\": [\"ted_talks\"] * len(ds_ted_talk_edu_sub),\n",
    "                                 \"formality\": [\"educational\"] * len(ds_ted_talk_edu_sub)})\n",
    "telephone_dataset = Dataset.from_dict({\"text\": ds_telephone_sub[\"text\"], \n",
    "                                    \"source\": [\"telephone_convos\"] * len(ds_telephone_sub), \n",
    "                                    \"formality\": [\"informal\"] * len(ds_telephone_sub)})\n",
    "business_meetings_dataset = Dataset.from_dict({\"text\": ds_business_meetings_sub[\"source\"], \n",
    "                                 \"source\": [\"business_meetings\"] * len(ds_business_meetings_sub),\n",
    "                                 \"formality\": [\"formal\"] * len(ds_business_meetings_sub)})\n",
    "\n",
    "combined_spoken_dataset = concatenate_datasets([podcast_news_dataset, un_debates_dataset, ted_talk_edu_dataset, telephone_dataset, business_meetings_dataset])\n",
    "combined_spoken_dataset = combined_spoken_dataset.add_column(\"type\", [\"spoken\"] * len(combined_spoken_dataset))\n",
    "\n",
    "full_dataset = concatenate_datasets([combined_spoken_dataset, combined_written_dataset])\n",
    "\n",
    "full_dataset = full_dataset.shuffle(seed=42)\n",
    "full_dataset.to_csv(\"spoken_written_full_dataset.csv\")\n",
    "\n",
    "print(full_dataset[:5])\n"
   ]
  },
  {
   "attachments": {},
   "cell_type": "markdown",
   "metadata": {},
   "source": [
    "## Section 2: Preprocessing Dataset ##"
   ]
  },
  {
   "cell_type": "code",
   "execution_count": 7,
   "metadata": {},
   "outputs": [
    {
     "name": "stdout",
     "output_type": "stream",
     "text": [
      "Requirement already satisfied: datasets in /opt/anaconda3/lib/python3.12/site-packages (3.3.1)\n",
      "Requirement already satisfied: filelock in /opt/anaconda3/lib/python3.12/site-packages (from datasets) (3.13.1)\n",
      "Requirement already satisfied: numpy>=1.17 in /opt/anaconda3/lib/python3.12/site-packages (from datasets) (1.26.4)\n",
      "Requirement already satisfied: pyarrow>=15.0.0 in /opt/anaconda3/lib/python3.12/site-packages (from datasets) (16.1.0)\n",
      "Requirement already satisfied: dill<0.3.9,>=0.3.0 in /opt/anaconda3/lib/python3.12/site-packages (from datasets) (0.3.8)\n",
      "Requirement already satisfied: pandas in /opt/anaconda3/lib/python3.12/site-packages (from datasets) (2.2.2)\n",
      "Requirement already satisfied: requests>=2.32.2 in /opt/anaconda3/lib/python3.12/site-packages (from datasets) (2.32.3)\n",
      "Requirement already satisfied: tqdm>=4.66.3 in /opt/anaconda3/lib/python3.12/site-packages (from datasets) (4.66.5)\n",
      "Requirement already satisfied: xxhash in /opt/anaconda3/lib/python3.12/site-packages (from datasets) (3.5.0)\n",
      "Requirement already satisfied: multiprocess<0.70.17 in /opt/anaconda3/lib/python3.12/site-packages (from datasets) (0.70.16)\n",
      "Requirement already satisfied: fsspec<=2024.12.0,>=2023.1.0 in /opt/anaconda3/lib/python3.12/site-packages (from fsspec[http]<=2024.12.0,>=2023.1.0->datasets) (2024.6.1)\n",
      "Requirement already satisfied: aiohttp in /opt/anaconda3/lib/python3.12/site-packages (from datasets) (3.10.5)\n",
      "Requirement already satisfied: huggingface-hub>=0.24.0 in /opt/anaconda3/lib/python3.12/site-packages (from datasets) (0.28.1)\n",
      "Requirement already satisfied: packaging in /opt/anaconda3/lib/python3.12/site-packages (from datasets) (24.1)\n",
      "Requirement already satisfied: pyyaml>=5.1 in /opt/anaconda3/lib/python3.12/site-packages (from datasets) (6.0.1)\n",
      "Requirement already satisfied: aiohappyeyeballs>=2.3.0 in /opt/anaconda3/lib/python3.12/site-packages (from aiohttp->datasets) (2.4.0)\n",
      "Requirement already satisfied: aiosignal>=1.1.2 in /opt/anaconda3/lib/python3.12/site-packages (from aiohttp->datasets) (1.2.0)\n",
      "Requirement already satisfied: attrs>=17.3.0 in /opt/anaconda3/lib/python3.12/site-packages (from aiohttp->datasets) (23.1.0)\n",
      "Requirement already satisfied: frozenlist>=1.1.1 in /opt/anaconda3/lib/python3.12/site-packages (from aiohttp->datasets) (1.4.0)\n",
      "Requirement already satisfied: multidict<7.0,>=4.5 in /opt/anaconda3/lib/python3.12/site-packages (from aiohttp->datasets) (6.0.4)\n",
      "Requirement already satisfied: yarl<2.0,>=1.0 in /opt/anaconda3/lib/python3.12/site-packages (from aiohttp->datasets) (1.11.0)\n",
      "Requirement already satisfied: typing-extensions>=3.7.4.3 in /opt/anaconda3/lib/python3.12/site-packages (from huggingface-hub>=0.24.0->datasets) (4.11.0)\n",
      "Requirement already satisfied: charset-normalizer<4,>=2 in /opt/anaconda3/lib/python3.12/site-packages (from requests>=2.32.2->datasets) (3.3.2)\n",
      "Requirement already satisfied: idna<4,>=2.5 in /opt/anaconda3/lib/python3.12/site-packages (from requests>=2.32.2->datasets) (3.7)\n",
      "Requirement already satisfied: urllib3<3,>=1.21.1 in /opt/anaconda3/lib/python3.12/site-packages (from requests>=2.32.2->datasets) (2.2.3)\n",
      "Requirement already satisfied: certifi>=2017.4.17 in /opt/anaconda3/lib/python3.12/site-packages (from requests>=2.32.2->datasets) (2024.8.30)\n",
      "Requirement already satisfied: python-dateutil>=2.8.2 in /opt/anaconda3/lib/python3.12/site-packages (from pandas->datasets) (2.9.0.post0)\n",
      "Requirement already satisfied: pytz>=2020.1 in /opt/anaconda3/lib/python3.12/site-packages (from pandas->datasets) (2024.1)\n",
      "Requirement already satisfied: tzdata>=2022.7 in /opt/anaconda3/lib/python3.12/site-packages (from pandas->datasets) (2023.3)\n",
      "Requirement already satisfied: six>=1.5 in /opt/anaconda3/lib/python3.12/site-packages (from python-dateutil>=2.8.2->pandas->datasets) (1.16.0)\n",
      "Note: you may need to restart the kernel to use updated packages.\n"
     ]
    }
   ],
   "source": [
    "%pip install datasets"
   ]
  },
  {
   "cell_type": "code",
   "execution_count": 8,
   "metadata": {},
   "outputs": [],
   "source": [
    "from datasets import load_dataset, Dataset\n",
    "# from convokit import Corpus, download"
   ]
  },
  {
   "cell_type": "code",
   "execution_count": 9,
   "metadata": {},
   "outputs": [
    {
     "data": {
      "application/vnd.jupyter.widget-view+json": {
       "model_id": "d08320c045994b009e6d61644b9c8fce",
       "version_major": 2,
       "version_minor": 0
      },
      "text/plain": [
       "Generating train split: 0 examples [00:00, ? examples/s]"
      ]
     },
     "metadata": {},
     "output_type": "display_data"
    }
   ],
   "source": [
    "#Load in new dataset \n",
    "full_dataset = load_dataset('csv', data_files='spoken_written_full_dataset.csv') #medium articles, academic but also likely less formal ? community contributions\n",
    "\n",
    "#preprocessing to do\n",
    "#lowercase\n",
    "#get rid of links\n",
    "#get rid of code?\n",
    "# get rid of maybe = signs and equations\n",
    "#speaker 1 etc? maybe we need to preprocess each source differenlty\n"
   ]
  },
  {
   "attachments": {},
   "cell_type": "markdown",
   "metadata": {},
   "source": [
    "### Data Analysis ###"
   ]
  },
  {
   "cell_type": "code",
   "execution_count": 10,
   "metadata": {},
   "outputs": [
    {
     "name": "stderr",
     "output_type": "stream",
     "text": [
      "[nltk_data] Downloading package punkt to /Users/Shivani/nltk_data...\n",
      "[nltk_data]   Package punkt is already up-to-date!\n",
      "[nltk_data] Downloading package punkt_tab to\n",
      "[nltk_data]     /Users/Shivani/nltk_data...\n",
      "[nltk_data]   Package punkt_tab is already up-to-date!\n"
     ]
    }
   ],
   "source": [
    "import nltk\n",
    "nltk.download('punkt')\n",
    "nltk.download('punkt_tab')\n",
    "from tqdm import tqdm\n",
    "\n",
    "from nltk.tokenize import sent_tokenize, word_tokenize"
   ]
  },
  {
   "cell_type": "code",
   "execution_count": 11,
   "metadata": {},
   "outputs": [],
   "source": [
    "def preprocess_corpus(data):\n",
    "    \"\"\" Tokenize, sentencize, and lowercase the input data.\n",
    "\n",
    "        Args:\n",
    "            data: list of strings, where each string is a document\n",
    "\n",
    "        Return:\n",
    "            list of lists, with tokenized, lowercased sentences from each of the processed rows\n",
    "    \"\"\"\n",
    "    tokenized_sentences = []\n",
    "\n",
    "    for doc in tqdm(data):\n",
    "        sentences = sent_tokenize(doc)\n",
    "        for sentence in sentences:\n",
    "            tokenized_sentences.append(word_tokenize(sentence.lower()))\n",
    "    return tokenized_sentences"
   ]
  },
  {
   "cell_type": "code",
   "execution_count": 18,
   "metadata": {},
   "outputs": [
    {
     "name": "stderr",
     "output_type": "stream",
     "text": [
      "100%|██████████| 4600/4600 [00:21<00:00, 212.97it/s]\n"
     ]
    }
   ],
   "source": [
    "ds_processed = preprocess_corpus(full_dataset['train']['text'])"
   ]
  },
  {
   "cell_type": "code",
   "execution_count": 13,
   "metadata": {},
   "outputs": [
    {
     "name": "stderr",
     "output_type": "stream",
     "text": [
      "[nltk_data] Downloading package stopwords to\n",
      "[nltk_data]     /Users/Shivani/nltk_data...\n",
      "[nltk_data]   Unzipping corpora/stopwords.zip.\n"
     ]
    }
   ],
   "source": [
    "import matplotlib.pyplot as plt\n",
    "from collections import Counter\n",
    "import nltk\n",
    "from nltk.corpus import stopwords\n",
    "\n",
    "# Download stopwords list\n",
    "nltk.download(\"stopwords\")\n",
    "stop_words = set(stopwords.words(\"english\"))\n",
    "\n",
    "def analyze_tokens(tokenized_data):\n",
    "    \"\"\" Perform token & vocabulary analysis.\n",
    "\n",
    "        Args:\n",
    "            tokenized_data: List of tokenized sentences (list of lists)\n",
    "            dataset_name: String, name of the dataset for labeling\n",
    "    \"\"\"\n",
    "    # Flatten tokenized sentences into a single list of words\n",
    "    all_words = [word for sentence in tokenized_data for word in sentence]\n",
    "\n",
    "    # Vocabulary size\n",
    "    vocab_size = len(set(all_words))\n",
    "    print(f\"Vocabulary Size: {vocab_size}\")\n",
    "\n",
    "    # Most common words\n",
    "    word_counts = Counter(all_words)\n",
    "    most_common_words = word_counts.most_common(20)\n",
    "    print(f\"Most Common Words:\")\n",
    "    print(most_common_words)\n",
    "\n",
    "    # Stopword Distribution\n",
    "    stopword_count = sum(word_counts[word] for word in stop_words if word in word_counts)\n",
    "    total_words = sum(word_counts.values())\n",
    "    stopword_ratio = stopword_count / total_words\n",
    "    print(f\"Stopword Ratio: {stopword_ratio:.2%}\\n\")\n",
    "\n",
    "    # Plot Most Common Words\n",
    "    words, counts = zip(*most_common_words)\n",
    "    plt.figure(figsize=(10, 5))\n",
    "    plt.bar(words, counts)\n",
    "    plt.xticks(rotation=45)\n",
    "    plt.title(f\"Most Common Words\")\n",
    "    plt.show()"
   ]
  },
  {
   "cell_type": "code",
   "execution_count": 19,
   "metadata": {},
   "outputs": [
    {
     "name": "stdout",
     "output_type": "stream",
     "text": [
      "Vocabulary Size: 95744\n",
      "Most Common Words:\n",
      "[(',', 407280), ('.', 404679), ('the', 403775), ('and', 238050), ('of', 233009), ('to', 217023), ('that', 160595), ('a', 151454), ('in', 127824), ('i', 118141), ('you', 102647), ('it', 102318), ('is', 100091), ('we', 83635), (\"'s\", 80749), ('for', 64462), ('this', 59248), ('so', 51067), ('on', 48496), ('have', 47370)]\n",
      "Stopword Ratio: 43.00%\n",
      "\n"
     ]
    },
    {
     "data": {
      "image/png": "[encoded data removed]",
      "text/plain": [
       "<Figure size 1000x500 with 1 Axes>"
      ]
     },
     "metadata": {},
     "output_type": "display_data"
    }
   ],
   "source": [
    "analyze_tokens(ds_processed)"
   ]
  },
  {
   "attachments": {},
   "cell_type": "markdown",
   "metadata": {},
   "source": [
    "## Section 3: Mini BERT and Shap Testing ##\n",
    "Going to start testing how BERT/TogetherAI and SHAP will work using a super small subset of the data"
   ]
  },
  {
   "cell_type": "code",
   "execution_count": 20,
   "metadata": {},
   "outputs": [],
   "source": [
    "import os \n",
    "os.environ[\"TOGETHER_API_KEY\"] = \"tgp_v1_0k4LmNbB6di_vPP-tYoWKw8_eEO2o6qzpKcYHRt1j9Q\""
   ]
  },
  {
   "cell_type": "code",
   "execution_count": 21,
   "metadata": {},
   "outputs": [
    {
     "name": "stdout",
     "output_type": "stream",
     "text": [
      "Requirement already satisfied: together in /opt/anaconda3/lib/python3.12/site-packages (1.4.1)\n",
      "Requirement already satisfied: aiohttp<4.0.0,>=3.9.3 in /opt/anaconda3/lib/python3.12/site-packages (from together) (3.10.5)\n",
      "Requirement already satisfied: click<9.0.0,>=8.1.7 in /opt/anaconda3/lib/python3.12/site-packages (from together) (8.1.7)\n",
      "Requirement already satisfied: eval-type-backport<0.3.0,>=0.1.3 in /opt/anaconda3/lib/python3.12/site-packages (from together) (0.2.2)\n",
      "Requirement already satisfied: filelock<4.0.0,>=3.13.1 in /opt/anaconda3/lib/python3.12/site-packages (from together) (3.13.1)\n",
      "Requirement already satisfied: numpy>=1.26.0 in /opt/anaconda3/lib/python3.12/site-packages (from together) (1.26.4)\n",
      "Requirement already satisfied: pillow<12.0.0,>=11.1.0 in /opt/anaconda3/lib/python3.12/site-packages (from together) (11.1.0)\n",
      "Requirement already satisfied: pyarrow>=10.0.1 in /opt/anaconda3/lib/python3.12/site-packages (from together) (16.1.0)\n",
      "Requirement already satisfied: pydantic<3.0.0,>=2.6.3 in /opt/anaconda3/lib/python3.12/site-packages (from together) (2.8.2)\n",
      "Requirement already satisfied: requests<3.0.0,>=2.31.0 in /opt/anaconda3/lib/python3.12/site-packages (from together) (2.32.3)\n",
      "Requirement already satisfied: rich<14.0.0,>=13.8.1 in /opt/anaconda3/lib/python3.12/site-packages (from together) (13.9.4)\n",
      "Requirement already satisfied: tabulate<0.10.0,>=0.9.0 in /opt/anaconda3/lib/python3.12/site-packages (from together) (0.9.0)\n",
      "Requirement already satisfied: tqdm<5.0.0,>=4.66.2 in /opt/anaconda3/lib/python3.12/site-packages (from together) (4.66.5)\n",
      "Requirement already satisfied: typer<0.16,>=0.9 in /opt/anaconda3/lib/python3.12/site-packages (from together) (0.15.1)\n",
      "Requirement already satisfied: aiohappyeyeballs>=2.3.0 in /opt/anaconda3/lib/python3.12/site-packages (from aiohttp<4.0.0,>=3.9.3->together) (2.4.0)\n",
      "Requirement already satisfied: aiosignal>=1.1.2 in /opt/anaconda3/lib/python3.12/site-packages (from aiohttp<4.0.0,>=3.9.3->together) (1.2.0)\n",
      "Requirement already satisfied: attrs>=17.3.0 in /opt/anaconda3/lib/python3.12/site-packages (from aiohttp<4.0.0,>=3.9.3->together) (23.1.0)\n",
      "Requirement already satisfied: frozenlist>=1.1.1 in /opt/anaconda3/lib/python3.12/site-packages (from aiohttp<4.0.0,>=3.9.3->together) (1.4.0)\n",
      "Requirement already satisfied: multidict<7.0,>=4.5 in /opt/anaconda3/lib/python3.12/site-packages (from aiohttp<4.0.0,>=3.9.3->together) (6.0.4)\n",
      "Requirement already satisfied: yarl<2.0,>=1.0 in /opt/anaconda3/lib/python3.12/site-packages (from aiohttp<4.0.0,>=3.9.3->together) (1.11.0)\n",
      "Requirement already satisfied: annotated-types>=0.4.0 in /opt/anaconda3/lib/python3.12/site-packages (from pydantic<3.0.0,>=2.6.3->together) (0.6.0)\n",
      "Requirement already satisfied: pydantic-core==2.20.1 in /opt/anaconda3/lib/python3.12/site-packages (from pydantic<3.0.0,>=2.6.3->together) (2.20.1)\n",
      "Requirement already satisfied: typing-extensions>=4.6.1 in /opt/anaconda3/lib/python3.12/site-packages (from pydantic<3.0.0,>=2.6.3->together) (4.11.0)\n",
      "Requirement already satisfied: charset-normalizer<4,>=2 in /opt/anaconda3/lib/python3.12/site-packages (from requests<3.0.0,>=2.31.0->together) (3.3.2)\n",
      "Requirement already satisfied: idna<4,>=2.5 in /opt/anaconda3/lib/python3.12/site-packages (from requests<3.0.0,>=2.31.0->together) (3.7)\n",
      "Requirement already satisfied: urllib3<3,>=1.21.1 in /opt/anaconda3/lib/python3.12/site-packages (from requests<3.0.0,>=2.31.0->together) (2.2.3)\n",
      "Requirement already satisfied: certifi>=2017.4.17 in /opt/anaconda3/lib/python3.12/site-packages (from requests<3.0.0,>=2.31.0->together) (2024.8.30)\n",
      "Requirement already satisfied: markdown-it-py>=2.2.0 in /opt/anaconda3/lib/python3.12/site-packages (from rich<14.0.0,>=13.8.1->together) (2.2.0)\n",
      "Requirement already satisfied: pygments<3.0.0,>=2.13.0 in /opt/anaconda3/lib/python3.12/site-packages (from rich<14.0.0,>=13.8.1->together) (2.15.1)\n",
      "Requirement already satisfied: shellingham>=1.3.0 in /opt/anaconda3/lib/python3.12/site-packages (from typer<0.16,>=0.9->together) (1.5.4)\n",
      "Requirement already satisfied: mdurl~=0.1 in /opt/anaconda3/lib/python3.12/site-packages (from markdown-it-py>=2.2.0->rich<14.0.0,>=13.8.1->together) (0.1.0)\n",
      "Note: you may need to restart the kernel to use updated packages.\n"
     ]
    }
   ],
   "source": [
    "%pip install together"
   ]
  },
  {
   "cell_type": "code",
   "execution_count": 22,
   "metadata": {},
   "outputs": [
    {
     "name": "stdout",
     "output_type": "stream",
     "text": [
      "New York City is a vibrant and diverse destination with countless attractions and activities to explore. Here are the top 3 things to do in New York:\n",
      "\n",
      "1. **Visit the Statue of Liberty and Ellis Island**: Take a ferry to Liberty Island to see the iconic Statue of Liberty up close and learn about its history and significance. You can also visit the Ellis Island Immigration Museum to discover the stories of immigrants who passed through the island's immigration station.\n",
      "\n",
      "2. **Explore the Metropolitan Museum of Art**: The Met is one of the world's largest and most famous museums, with a collection that spans over 5,000 years of human history. From ancient Egyptian artifacts to modern and contemporary art, the Met has something for everyone.\n",
      "\n",
      "3. **Walk across the Brooklyn Bridge**: This iconic bridge offers stunning views of the Manhattan skyline, the East River, and Brooklyn. Take a leisurely walk across the bridge, stop at the Brooklyn Bridge Park, and enjoy the street performers, food vendors, and stunning views.\n",
      "\n",
      "Of course, there are many more things to do in New York, but these three experiences are a great starting point for any visitor.\n",
      "\n",
      "Honorable mentions:\n",
      "\n",
      "- Visit the 9/11 Memorial & Museum\n",
      "- Take a stroll through Central Park\n",
      "- Catch a Broadway show\n",
      "- Explore the High Line\n",
      "- Visit the Top of the Rock Observation Deck\n",
      "\n",
      "Remember to plan ahead, as some of these attractions can be quite crowded and popular."
     ]
    }
   ],
   "source": [
    "# Testing to make sure together AI is connected\n",
    "from together import Together\n",
    "\n",
    "client = Together()\n",
    "\n",
    "stream = client.chat.completions.create(\n",
    "  model=\"meta-llama/Meta-Llama-3.1-8B-Instruct-Turbo\",\n",
    "  messages=[{\"role\": \"user\", \"content\": \"What are the top 3 things to do in New York?\"}],\n",
    "  stream=True,\n",
    ")\n",
    "\n",
    "for chunk in stream:\n",
    "  print(chunk.choices[0].delta.content or \"\", end=\"\", flush=True)"
   ]
  }
 ],
 "metadata": {
  "kernelspec": {
   "display_name": "base",
   "language": "python",
   "name": "python3"
  },
  "language_info": {
   "codemirror_mode": {
    "name": "ipython",
    "version": 3
   },
   "file_extension": ".py",
   "mimetype": "text/x-python",
   "name": "python",
   "nbconvert_exporter": "python",
   "pygments_lexer": "ipython3",
   "version": "3.12.7"
  }
 },
 "nbformat": 4,
 "nbformat_minor": 2
}

{
  "cells": [
    {
      "cell_type": "code",
      "source": [
        "from google.colab import drive\n",
        "drive.mount('/content/drive')"
      ],
      "metadata": {
        "colab": {
          "base_uri": "https://localhost:8080/"
        },
        "id": "RypoBuoEvT9j",
        "outputId": "4a4da022-a3dd-43fc-ef6a-6a2df03e0bb0"
      },
      "execution_count": 1,
      "outputs": [
        {
          "output_type": "stream",
          "name": "stdout",
          "text": [
            "Drive already mounted at /content/drive; to attempt to forcibly remount, call drive.mount(\"/content/drive\", force_remount=True).\n"
          ]
        }
      ]
    },
    {
      "cell_type": "code",
      "source": [
        "import os\n",
        "\n",
        "# Change directory to your working directory\n",
        "DATA_DIR = \"/content/drive/MyDrive/Year 4/NLP/Final Project\"\n",
        "\n",
        "os.chdir(DATA_DIR)\n",
        "os.getcwd()"
      ],
      "metadata": {
        "colab": {
          "base_uri": "https://localhost:8080/",
          "height": 35
        },
        "id": "rA89BkG6vXdO",
        "outputId": "67d62999-e13b-4179-9234-82c2cc4fce44"
      },
      "execution_count": 2,
      "outputs": [
        {
          "output_type": "execute_result",
          "data": {
            "text/plain": [
              "'/content/drive/MyDrive/Year 4/NLP/Final Project'"
            ],
            "application/vnd.google.colaboratory.intrinsic+json": {
              "type": "string"
            }
          },
          "metadata": {},
          "execution_count": 2
        }
      ]
    },
    {
      "cell_type": "markdown",
      "metadata": {
        "id": "vDirYaMU63qc"
      },
      "source": [
        "## Section 1: Loading Data ##\n",
        "This section will only be run once and does not need to be run again"
      ]
    },
    {
      "cell_type": "code",
      "execution_count": null,
      "metadata": {
        "colab": {
          "base_uri": "https://localhost:8080/"
        },
        "id": "NOmDEXNy63qe",
        "outputId": "ad5a5019-9627-4c72-aed6-1f0e01eabc51"
      },
      "outputs": [
        {
          "output_type": "stream",
          "name": "stdout",
          "text": [
            "Collecting convokit\n",
            "  Downloading convokit-3.1.0.tar.gz (193 kB)\n",
            "\u001b[?25l     \u001b[90m━━━━━━━━━━━━━━━━━━━━━━━━━━━━━━━━━━━━━━━━\u001b[0m \u001b[32m0.0/193.6 kB\u001b[0m \u001b[31m?\u001b[0m eta \u001b[36m-:--:--\u001b[0m\r\u001b[2K     \u001b[91m━━━━━━━━━━━━━━━━━━━━━━━━━━━━━\u001b[0m\u001b[91m╸\u001b[0m\u001b[90m━━━━━━━━━━\u001b[0m \u001b[32m143.4/193.6 kB\u001b[0m \u001b[31m3.9 MB/s\u001b[0m eta \u001b[36m0:00:01\u001b[0m\r\u001b[2K     \u001b[90m━━━━━━━━━━━━━━━━━━━━━━━━━━━━━━━━━━━━━━━━\u001b[0m \u001b[32m193.6/193.6 kB\u001b[0m \u001b[31m2.5 MB/s\u001b[0m eta \u001b[36m0:00:00\u001b[0m\n",
            "\u001b[?25h  Installing build dependencies ... \u001b[?25l\u001b[?25hdone\n",
            "  Getting requirements to build wheel ... \u001b[?25l\u001b[?25hdone\n",
            "  Preparing metadata (pyproject.toml) ... \u001b[?25l\u001b[?25hdone\n",
            "Requirement already satisfied: matplotlib>=3.0.0 in /usr/local/lib/python3.11/dist-packages (from convokit) (3.10.0)\n",
            "Collecting scipy>1.14 (from convokit)\n",
            "  Downloading scipy-1.15.2-cp311-cp311-manylinux_2_17_x86_64.manylinux2014_x86_64.whl.metadata (61 kB)\n",
            "\u001b[2K     \u001b[90m━━━━━━━━━━━━━━━━━━━━━━━━━━━━━━━━━━━━━━━━\u001b[0m \u001b[32m62.0/62.0 kB\u001b[0m \u001b[31m2.6 MB/s\u001b[0m eta \u001b[36m0:00:00\u001b[0m\n",
            "\u001b[?25hRequirement already satisfied: pandas>=1.5.0 in /usr/local/lib/python3.11/dist-packages (from convokit) (2.2.2)\n",
            "Collecting numpy>=2.0.0 (from convokit)\n",
            "  Downloading numpy-2.2.3-cp311-cp311-manylinux_2_17_x86_64.manylinux2014_x86_64.whl.metadata (62 kB)\n",
            "\u001b[2K     \u001b[90m━━━━━━━━━━━━━━━━━━━━━━━━━━━━━━━━━━━━━━━━\u001b[0m \u001b[32m62.0/62.0 kB\u001b[0m \u001b[31m2.0 MB/s\u001b[0m eta \u001b[36m0:00:00\u001b[0m\n",
            "\u001b[?25hCollecting msgpack-numpy>=0.4.3.2 (from convokit)\n",
            "  Downloading msgpack_numpy-0.4.8-py2.py3-none-any.whl.metadata (5.0 kB)\n",
            "Collecting spacy>=3.8.2 (from convokit)\n",
            "  Downloading spacy-3.8.4-cp311-cp311-manylinux_2_17_x86_64.manylinux2014_x86_64.whl.metadata (27 kB)\n",
            "Requirement already satisfied: scikit-learn>=1.0 in /usr/local/lib/python3.11/dist-packages (from convokit) (1.6.1)\n",
            "Requirement already satisfied: nltk>=3.4 in /usr/local/lib/python3.11/dist-packages (from convokit) (3.9.1)\n",
            "Collecting dill>=0.2.9 (from convokit)\n",
            "  Downloading dill-0.3.9-py3-none-any.whl.metadata (10 kB)\n",
            "Requirement already satisfied: joblib>=0.13.2 in /usr/local/lib/python3.11/dist-packages (from convokit) (1.4.2)\n",
            "Collecting clean-text>=0.6.0 (from convokit)\n",
            "  Downloading clean_text-0.6.0-py3-none-any.whl.metadata (6.6 kB)\n",
            "Collecting unidecode>=1.1.1 (from convokit)\n",
            "  Downloading Unidecode-1.3.8-py3-none-any.whl.metadata (13 kB)\n",
            "Requirement already satisfied: tqdm>=4.64.0 in /usr/local/lib/python3.11/dist-packages (from convokit) (4.67.1)\n",
            "Collecting pymongo>=4.0 (from convokit)\n",
            "  Downloading pymongo-4.11.2-cp311-cp311-manylinux_2_17_x86_64.manylinux2014_x86_64.whl.metadata (22 kB)\n",
            "Requirement already satisfied: pyyaml>=5.4.1 in /usr/local/lib/python3.11/dist-packages (from convokit) (6.0.2)\n",
            "Collecting dnspython>=1.16.0 (from convokit)\n",
            "  Downloading dnspython-2.7.0-py3-none-any.whl.metadata (5.8 kB)\n",
            "Collecting thinc<8.4.0,>=8.3.0 (from convokit)\n",
            "  Downloading thinc-8.3.4-cp311-cp311-manylinux_2_17_x86_64.manylinux2014_x86_64.whl.metadata (15 kB)\n",
            "Requirement already satisfied: h5py==3.12.1 in /usr/local/lib/python3.11/dist-packages (from convokit) (3.12.1)\n",
            "Requirement already satisfied: numexpr>=2.8.0 in /usr/local/lib/python3.11/dist-packages (from convokit) (2.10.2)\n",
            "Collecting ruff>=0.4.8 (from convokit)\n",
            "  Downloading ruff-0.9.9-py3-none-manylinux_2_17_x86_64.manylinux2014_x86_64.whl.metadata (25 kB)\n",
            "Requirement already satisfied: bottleneck in /usr/local/lib/python3.11/dist-packages (from convokit) (1.4.2)\n",
            "Requirement already satisfied: accelerate in /usr/local/lib/python3.11/dist-packages (from convokit) (1.3.0)\n",
            "Requirement already satisfied: peft in /usr/local/lib/python3.11/dist-packages (from convokit) (0.14.0)\n",
            "Collecting bitsandbytes (from convokit)\n",
            "  Downloading bitsandbytes-0.45.3-py3-none-manylinux_2_24_x86_64.whl.metadata (5.0 kB)\n",
            "Requirement already satisfied: transformers in /usr/local/lib/python3.11/dist-packages (from convokit) (4.48.3)\n",
            "Collecting trl>=0.12.2 (from convokit)\n",
            "  Downloading trl-0.15.2-py3-none-any.whl.metadata (11 kB)\n",
            "Requirement already satisfied: tensorflow>=2.18.0 in /usr/local/lib/python3.11/dist-packages (from convokit) (2.18.0)\n",
            "Requirement already satisfied: tf-keras<3.0.0,>=2.17.0 in /usr/local/lib/python3.11/dist-packages (from convokit) (2.18.0)\n",
            "Collecting emoji<2.0.0,>=1.0.0 (from clean-text>=0.6.0->convokit)\n",
            "  Downloading emoji-1.7.0.tar.gz (175 kB)\n",
            "\u001b[2K     \u001b[90m━━━━━━━━━━━━━━━━━━━━━━━━━━━━━━━━━━━━━━━━\u001b[0m \u001b[32m175.4/175.4 kB\u001b[0m \u001b[31m7.0 MB/s\u001b[0m eta \u001b[36m0:00:00\u001b[0m\n",
            "\u001b[?25h  Preparing metadata (setup.py) ... \u001b[?25l\u001b[?25hdone\n",
            "Collecting ftfy<7.0,>=6.0 (from clean-text>=0.6.0->convokit)\n",
            "  Downloading ftfy-6.3.1-py3-none-any.whl.metadata (7.3 kB)\n",
            "Requirement already satisfied: contourpy>=1.0.1 in /usr/local/lib/python3.11/dist-packages (from matplotlib>=3.0.0->convokit) (1.3.1)\n",
            "Requirement already satisfied: cycler>=0.10 in /usr/local/lib/python3.11/dist-packages (from matplotlib>=3.0.0->convokit) (0.12.1)\n",
            "Requirement already satisfied: fonttools>=4.22.0 in /usr/local/lib/python3.11/dist-packages (from matplotlib>=3.0.0->convokit) (4.56.0)\n",
            "Requirement already satisfied: kiwisolver>=1.3.1 in /usr/local/lib/python3.11/dist-packages (from matplotlib>=3.0.0->convokit) (1.4.8)\n",
            "Requirement already satisfied: packaging>=20.0 in /usr/local/lib/python3.11/dist-packages (from matplotlib>=3.0.0->convokit) (24.2)\n",
            "Requirement already satisfied: pillow>=8 in /usr/local/lib/python3.11/dist-packages (from matplotlib>=3.0.0->convokit) (11.1.0)\n",
            "Requirement already satisfied: pyparsing>=2.3.1 in /usr/local/lib/python3.11/dist-packages (from matplotlib>=3.0.0->convokit) (3.2.1)\n",
            "Requirement already satisfied: python-dateutil>=2.7 in /usr/local/lib/python3.11/dist-packages (from matplotlib>=3.0.0->convokit) (2.8.2)\n",
            "Requirement already satisfied: msgpack>=0.5.2 in /usr/local/lib/python3.11/dist-packages (from msgpack-numpy>=0.4.3.2->convokit) (1.1.0)\n",
            "Requirement already satisfied: click in /usr/local/lib/python3.11/dist-packages (from nltk>=3.4->convokit) (8.1.8)\n",
            "Requirement already satisfied: regex>=2021.8.3 in /usr/local/lib/python3.11/dist-packages (from nltk>=3.4->convokit) (2024.11.6)\n",
            "Requirement already satisfied: pytz>=2020.1 in /usr/local/lib/python3.11/dist-packages (from pandas>=1.5.0->convokit) (2025.1)\n",
            "Requirement already satisfied: tzdata>=2022.7 in /usr/local/lib/python3.11/dist-packages (from pandas>=1.5.0->convokit) (2025.1)\n",
            "Requirement already satisfied: threadpoolctl>=3.1.0 in /usr/local/lib/python3.11/dist-packages (from scikit-learn>=1.0->convokit) (3.5.0)\n",
            "Requirement already satisfied: spacy-legacy<3.1.0,>=3.0.11 in /usr/local/lib/python3.11/dist-packages (from spacy>=3.8.2->convokit) (3.0.12)\n",
            "Requirement already satisfied: spacy-loggers<2.0.0,>=1.0.0 in /usr/local/lib/python3.11/dist-packages (from spacy>=3.8.2->convokit) (1.0.5)\n",
            "Requirement already satisfied: murmurhash<1.1.0,>=0.28.0 in /usr/local/lib/python3.11/dist-packages (from spacy>=3.8.2->convokit) (1.0.12)\n",
            "Requirement already satisfied: cymem<2.1.0,>=2.0.2 in /usr/local/lib/python3.11/dist-packages (from spacy>=3.8.2->convokit) (2.0.11)\n",
            "Requirement already satisfied: preshed<3.1.0,>=3.0.2 in /usr/local/lib/python3.11/dist-packages (from spacy>=3.8.2->convokit) (3.0.9)\n",
            "Requirement already satisfied: wasabi<1.2.0,>=0.9.1 in /usr/local/lib/python3.11/dist-packages (from spacy>=3.8.2->convokit) (1.1.3)\n",
            "Requirement already satisfied: srsly<3.0.0,>=2.4.3 in /usr/local/lib/python3.11/dist-packages (from spacy>=3.8.2->convokit) (2.5.1)\n",
            "Requirement already satisfied: catalogue<2.1.0,>=2.0.6 in /usr/local/lib/python3.11/dist-packages (from spacy>=3.8.2->convokit) (2.0.10)\n",
            "Requirement already satisfied: weasel<0.5.0,>=0.1.0 in /usr/local/lib/python3.11/dist-packages (from spacy>=3.8.2->convokit) (0.4.1)\n",
            "Requirement already satisfied: typer<1.0.0,>=0.3.0 in /usr/local/lib/python3.11/dist-packages (from spacy>=3.8.2->convokit) (0.15.1)\n",
            "Requirement already satisfied: requests<3.0.0,>=2.13.0 in /usr/local/lib/python3.11/dist-packages (from spacy>=3.8.2->convokit) (2.32.3)\n",
            "Requirement already satisfied: pydantic!=1.8,!=1.8.1,<3.0.0,>=1.7.4 in /usr/local/lib/python3.11/dist-packages (from spacy>=3.8.2->convokit) (2.10.6)\n",
            "Requirement already satisfied: jinja2 in /usr/local/lib/python3.11/dist-packages (from spacy>=3.8.2->convokit) (3.1.5)\n",
            "Requirement already satisfied: setuptools in /usr/local/lib/python3.11/dist-packages (from spacy>=3.8.2->convokit) (75.1.0)\n",
            "Requirement already satisfied: langcodes<4.0.0,>=3.2.0 in /usr/local/lib/python3.11/dist-packages (from spacy>=3.8.2->convokit) (3.5.0)\n",
            "Requirement already satisfied: absl-py>=1.0.0 in /usr/local/lib/python3.11/dist-packages (from tensorflow>=2.18.0->convokit) (1.4.0)\n",
            "Requirement already satisfied: astunparse>=1.6.0 in /usr/local/lib/python3.11/dist-packages (from tensorflow>=2.18.0->convokit) (1.6.3)\n",
            "Requirement already satisfied: flatbuffers>=24.3.25 in /usr/local/lib/python3.11/dist-packages (from tensorflow>=2.18.0->convokit) (25.2.10)\n",
            "Requirement already satisfied: gast!=0.5.0,!=0.5.1,!=0.5.2,>=0.2.1 in /usr/local/lib/python3.11/dist-packages (from tensorflow>=2.18.0->convokit) (0.6.0)\n",
            "Requirement already satisfied: google-pasta>=0.1.1 in /usr/local/lib/python3.11/dist-packages (from tensorflow>=2.18.0->convokit) (0.2.0)\n",
            "Requirement already satisfied: libclang>=13.0.0 in /usr/local/lib/python3.11/dist-packages (from tensorflow>=2.18.0->convokit) (18.1.1)\n",
            "Requirement already satisfied: opt-einsum>=2.3.2 in /usr/local/lib/python3.11/dist-packages (from tensorflow>=2.18.0->convokit) (3.4.0)\n",
            "Requirement already satisfied: protobuf!=4.21.0,!=4.21.1,!=4.21.2,!=4.21.3,!=4.21.4,!=4.21.5,<6.0.0dev,>=3.20.3 in /usr/local/lib/python3.11/dist-packages (from tensorflow>=2.18.0->convokit) (4.25.6)\n",
            "Requirement already satisfied: six>=1.12.0 in /usr/local/lib/python3.11/dist-packages (from tensorflow>=2.18.0->convokit) (1.17.0)\n",
            "Requirement already satisfied: termcolor>=1.1.0 in /usr/local/lib/python3.11/dist-packages (from tensorflow>=2.18.0->convokit) (2.5.0)\n",
            "Requirement already satisfied: typing-extensions>=3.6.6 in /usr/local/lib/python3.11/dist-packages (from tensorflow>=2.18.0->convokit) (4.12.2)\n",
            "Requirement already satisfied: wrapt>=1.11.0 in /usr/local/lib/python3.11/dist-packages (from tensorflow>=2.18.0->convokit) (1.17.2)\n",
            "Requirement already satisfied: grpcio<2.0,>=1.24.3 in /usr/local/lib/python3.11/dist-packages (from tensorflow>=2.18.0->convokit) (1.70.0)\n",
            "Requirement already satisfied: tensorboard<2.19,>=2.18 in /usr/local/lib/python3.11/dist-packages (from tensorflow>=2.18.0->convokit) (2.18.0)\n",
            "Requirement already satisfied: keras>=3.5.0 in /usr/local/lib/python3.11/dist-packages (from tensorflow>=2.18.0->convokit) (3.8.0)\n",
            "Collecting numpy>=2.0.0 (from convokit)\n",
            "  Downloading numpy-2.0.2-cp311-cp311-manylinux_2_17_x86_64.manylinux2014_x86_64.whl.metadata (60 kB)\n",
            "\u001b[2K     \u001b[90m━━━━━━━━━━━━━━━━━━━━━━━━━━━━━━━━━━━━━━━━\u001b[0m \u001b[32m60.9/60.9 kB\u001b[0m \u001b[31m4.7 MB/s\u001b[0m eta \u001b[36m0:00:00\u001b[0m\n",
            "\u001b[?25hRequirement already satisfied: ml-dtypes<0.5.0,>=0.4.0 in /usr/local/lib/python3.11/dist-packages (from tensorflow>=2.18.0->convokit) (0.4.1)\n",
            "Requirement already satisfied: tensorflow-io-gcs-filesystem>=0.23.1 in /usr/local/lib/python3.11/dist-packages (from tensorflow>=2.18.0->convokit) (0.37.1)\n",
            "Collecting blis<1.3.0,>=1.2.0 (from thinc<8.4.0,>=8.3.0->convokit)\n",
            "  Downloading blis-1.2.0-cp311-cp311-manylinux_2_17_x86_64.manylinux2014_x86_64.whl.metadata (7.7 kB)\n",
            "Requirement already satisfied: confection<1.0.0,>=0.0.1 in /usr/local/lib/python3.11/dist-packages (from thinc<8.4.0,>=8.3.0->convokit) (0.1.5)\n",
            "Collecting datasets>=2.21.0 (from trl>=0.12.2->convokit)\n",
            "  Downloading datasets-3.3.2-py3-none-any.whl.metadata (19 kB)\n",
            "Requirement already satisfied: rich in /usr/local/lib/python3.11/dist-packages (from trl>=0.12.2->convokit) (13.9.4)\n",
            "Requirement already satisfied: psutil in /usr/local/lib/python3.11/dist-packages (from accelerate->convokit) (5.9.5)\n",
            "Requirement already satisfied: torch>=2.0.0 in /usr/local/lib/python3.11/dist-packages (from accelerate->convokit) (2.5.1+cu124)\n",
            "Requirement already satisfied: huggingface-hub>=0.21.0 in /usr/local/lib/python3.11/dist-packages (from accelerate->convokit) (0.28.1)\n",
            "Requirement already satisfied: safetensors>=0.4.3 in /usr/local/lib/python3.11/dist-packages (from accelerate->convokit) (0.5.3)\n",
            "Requirement already satisfied: filelock in /usr/local/lib/python3.11/dist-packages (from transformers->convokit) (3.17.0)\n",
            "Requirement already satisfied: tokenizers<0.22,>=0.21 in /usr/local/lib/python3.11/dist-packages (from transformers->convokit) (0.21.0)\n",
            "Requirement already satisfied: wheel<1.0,>=0.23.0 in /usr/local/lib/python3.11/dist-packages (from astunparse>=1.6.0->tensorflow>=2.18.0->convokit) (0.45.1)\n",
            "Requirement already satisfied: pyarrow>=15.0.0 in /usr/local/lib/python3.11/dist-packages (from datasets>=2.21.0->trl>=0.12.2->convokit) (18.1.0)\n",
            "Collecting dill>=0.2.9 (from convokit)\n",
            "  Downloading dill-0.3.8-py3-none-any.whl.metadata (10 kB)\n",
            "Collecting xxhash (from datasets>=2.21.0->trl>=0.12.2->convokit)\n",
            "  Downloading xxhash-3.5.0-cp311-cp311-manylinux_2_17_x86_64.manylinux2014_x86_64.whl.metadata (12 kB)\n",
            "Collecting multiprocess<0.70.17 (from datasets>=2.21.0->trl>=0.12.2->convokit)\n",
            "  Downloading multiprocess-0.70.16-py311-none-any.whl.metadata (7.2 kB)\n",
            "Requirement already satisfied: fsspec<=2024.12.0,>=2023.1.0 in /usr/local/lib/python3.11/dist-packages (from fsspec[http]<=2024.12.0,>=2023.1.0->datasets>=2.21.0->trl>=0.12.2->convokit) (2024.10.0)\n",
            "Requirement already satisfied: aiohttp in /usr/local/lib/python3.11/dist-packages (from datasets>=2.21.0->trl>=0.12.2->convokit) (3.11.13)\n",
            "Requirement already satisfied: wcwidth in /usr/local/lib/python3.11/dist-packages (from ftfy<7.0,>=6.0->clean-text>=0.6.0->convokit) (0.2.13)\n",
            "Requirement already satisfied: namex in /usr/local/lib/python3.11/dist-packages (from keras>=3.5.0->tensorflow>=2.18.0->convokit) (0.0.8)\n",
            "Requirement already satisfied: optree in /usr/local/lib/python3.11/dist-packages (from keras>=3.5.0->tensorflow>=2.18.0->convokit) (0.14.0)\n",
            "Requirement already satisfied: language-data>=1.2 in /usr/local/lib/python3.11/dist-packages (from langcodes<4.0.0,>=3.2.0->spacy>=3.8.2->convokit) (1.3.0)\n",
            "Requirement already satisfied: annotated-types>=0.6.0 in /usr/local/lib/python3.11/dist-packages (from pydantic!=1.8,!=1.8.1,<3.0.0,>=1.7.4->spacy>=3.8.2->convokit) (0.7.0)\n",
            "Requirement already satisfied: pydantic-core==2.27.2 in /usr/local/lib/python3.11/dist-packages (from pydantic!=1.8,!=1.8.1,<3.0.0,>=1.7.4->spacy>=3.8.2->convokit) (2.27.2)\n",
            "Requirement already satisfied: charset-normalizer<4,>=2 in /usr/local/lib/python3.11/dist-packages (from requests<3.0.0,>=2.13.0->spacy>=3.8.2->convokit) (3.4.1)\n",
            "Requirement already satisfied: idna<4,>=2.5 in /usr/local/lib/python3.11/dist-packages (from requests<3.0.0,>=2.13.0->spacy>=3.8.2->convokit) (3.10)\n",
            "Requirement already satisfied: urllib3<3,>=1.21.1 in /usr/local/lib/python3.11/dist-packages (from requests<3.0.0,>=2.13.0->spacy>=3.8.2->convokit) (2.3.0)\n",
            "Requirement already satisfied: certifi>=2017.4.17 in /usr/local/lib/python3.11/dist-packages (from requests<3.0.0,>=2.13.0->spacy>=3.8.2->convokit) (2025.1.31)\n",
            "Requirement already satisfied: markdown>=2.6.8 in /usr/local/lib/python3.11/dist-packages (from tensorboard<2.19,>=2.18->tensorflow>=2.18.0->convokit) (3.7)\n",
            "Requirement already satisfied: tensorboard-data-server<0.8.0,>=0.7.0 in /usr/local/lib/python3.11/dist-packages (from tensorboard<2.19,>=2.18->tensorflow>=2.18.0->convokit) (0.7.2)\n",
            "Requirement already satisfied: werkzeug>=1.0.1 in /usr/local/lib/python3.11/dist-packages (from tensorboard<2.19,>=2.18->tensorflow>=2.18.0->convokit) (3.1.3)\n",
            "Requirement already satisfied: networkx in /usr/local/lib/python3.11/dist-packages (from torch>=2.0.0->accelerate->convokit) (3.4.2)\n",
            "Collecting nvidia-cuda-nvrtc-cu12==12.4.127 (from torch>=2.0.0->accelerate->convokit)\n",
            "  Downloading nvidia_cuda_nvrtc_cu12-12.4.127-py3-none-manylinux2014_x86_64.whl.metadata (1.5 kB)\n",
            "Collecting nvidia-cuda-runtime-cu12==12.4.127 (from torch>=2.0.0->accelerate->convokit)\n",
            "  Downloading nvidia_cuda_runtime_cu12-12.4.127-py3-none-manylinux2014_x86_64.whl.metadata (1.5 kB)\n",
            "Collecting nvidia-cuda-cupti-cu12==12.4.127 (from torch>=2.0.0->accelerate->convokit)\n",
            "  Downloading nvidia_cuda_cupti_cu12-12.4.127-py3-none-manylinux2014_x86_64.whl.metadata (1.6 kB)\n",
            "Collecting nvidia-cudnn-cu12==9.1.0.70 (from torch>=2.0.0->accelerate->convokit)\n",
            "  Downloading nvidia_cudnn_cu12-9.1.0.70-py3-none-manylinux2014_x86_64.whl.metadata (1.6 kB)\n",
            "Collecting nvidia-cublas-cu12==12.4.5.8 (from torch>=2.0.0->accelerate->convokit)\n",
            "  Downloading nvidia_cublas_cu12-12.4.5.8-py3-none-manylinux2014_x86_64.whl.metadata (1.5 kB)\n",
            "Collecting nvidia-cufft-cu12==11.2.1.3 (from torch>=2.0.0->accelerate->convokit)\n",
            "  Downloading nvidia_cufft_cu12-11.2.1.3-py3-none-manylinux2014_x86_64.whl.metadata (1.5 kB)\n",
            "Collecting nvidia-curand-cu12==10.3.5.147 (from torch>=2.0.0->accelerate->convokit)\n",
            "  Downloading nvidia_curand_cu12-10.3.5.147-py3-none-manylinux2014_x86_64.whl.metadata (1.5 kB)\n",
            "Collecting nvidia-cusolver-cu12==11.6.1.9 (from torch>=2.0.0->accelerate->convokit)\n",
            "  Downloading nvidia_cusolver_cu12-11.6.1.9-py3-none-manylinux2014_x86_64.whl.metadata (1.6 kB)\n",
            "Collecting nvidia-cusparse-cu12==12.3.1.170 (from torch>=2.0.0->accelerate->convokit)\n",
            "  Downloading nvidia_cusparse_cu12-12.3.1.170-py3-none-manylinux2014_x86_64.whl.metadata (1.6 kB)\n",
            "Requirement already satisfied: nvidia-nccl-cu12==2.21.5 in /usr/local/lib/python3.11/dist-packages (from torch>=2.0.0->accelerate->convokit) (2.21.5)\n",
            "Requirement already satisfied: nvidia-nvtx-cu12==12.4.127 in /usr/local/lib/python3.11/dist-packages (from torch>=2.0.0->accelerate->convokit) (12.4.127)\n",
            "Collecting nvidia-nvjitlink-cu12==12.4.127 (from torch>=2.0.0->accelerate->convokit)\n",
            "  Downloading nvidia_nvjitlink_cu12-12.4.127-py3-none-manylinux2014_x86_64.whl.metadata (1.5 kB)\n",
            "Requirement already satisfied: triton==3.1.0 in /usr/local/lib/python3.11/dist-packages (from torch>=2.0.0->accelerate->convokit) (3.1.0)\n",
            "Requirement already satisfied: sympy==1.13.1 in /usr/local/lib/python3.11/dist-packages (from torch>=2.0.0->accelerate->convokit) (1.13.1)\n",
            "Requirement already satisfied: mpmath<1.4,>=1.1.0 in /usr/local/lib/python3.11/dist-packages (from sympy==1.13.1->torch>=2.0.0->accelerate->convokit) (1.3.0)\n",
            "Requirement already satisfied: shellingham>=1.3.0 in /usr/local/lib/python3.11/dist-packages (from typer<1.0.0,>=0.3.0->spacy>=3.8.2->convokit) (1.5.4)\n",
            "Requirement already satisfied: markdown-it-py>=2.2.0 in /usr/local/lib/python3.11/dist-packages (from rich->trl>=0.12.2->convokit) (3.0.0)\n",
            "Requirement already satisfied: pygments<3.0.0,>=2.13.0 in /usr/local/lib/python3.11/dist-packages (from rich->trl>=0.12.2->convokit) (2.18.0)\n",
            "Requirement already satisfied: cloudpathlib<1.0.0,>=0.7.0 in /usr/local/lib/python3.11/dist-packages (from weasel<0.5.0,>=0.1.0->spacy>=3.8.2->convokit) (0.20.0)\n",
            "Requirement already satisfied: smart-open<8.0.0,>=5.2.1 in /usr/local/lib/python3.11/dist-packages (from weasel<0.5.0,>=0.1.0->spacy>=3.8.2->convokit) (7.1.0)\n",
            "Requirement already satisfied: MarkupSafe>=2.0 in /usr/local/lib/python3.11/dist-packages (from jinja2->spacy>=3.8.2->convokit) (3.0.2)\n",
            "Requirement already satisfied: aiohappyeyeballs>=2.3.0 in /usr/local/lib/python3.11/dist-packages (from aiohttp->datasets>=2.21.0->trl>=0.12.2->convokit) (2.4.6)\n",
            "Requirement already satisfied: aiosignal>=1.1.2 in /usr/local/lib/python3.11/dist-packages (from aiohttp->datasets>=2.21.0->trl>=0.12.2->convokit) (1.3.2)\n",
            "Requirement already satisfied: attrs>=17.3.0 in /usr/local/lib/python3.11/dist-packages (from aiohttp->datasets>=2.21.0->trl>=0.12.2->convokit) (25.1.0)\n",
            "Requirement already satisfied: frozenlist>=1.1.1 in /usr/local/lib/python3.11/dist-packages (from aiohttp->datasets>=2.21.0->trl>=0.12.2->convokit) (1.5.0)\n",
            "Requirement already satisfied: multidict<7.0,>=4.5 in /usr/local/lib/python3.11/dist-packages (from aiohttp->datasets>=2.21.0->trl>=0.12.2->convokit) (6.1.0)\n",
            "Requirement already satisfied: propcache>=0.2.0 in /usr/local/lib/python3.11/dist-packages (from aiohttp->datasets>=2.21.0->trl>=0.12.2->convokit) (0.3.0)\n",
            "Requirement already satisfied: yarl<2.0,>=1.17.0 in /usr/local/lib/python3.11/dist-packages (from aiohttp->datasets>=2.21.0->trl>=0.12.2->convokit) (1.18.3)\n",
            "Requirement already satisfied: marisa-trie>=1.1.0 in /usr/local/lib/python3.11/dist-packages (from language-data>=1.2->langcodes<4.0.0,>=3.2.0->spacy>=3.8.2->convokit) (1.2.1)\n",
            "Requirement already satisfied: mdurl~=0.1 in /usr/local/lib/python3.11/dist-packages (from markdown-it-py>=2.2.0->rich->trl>=0.12.2->convokit) (0.1.2)\n",
            "Downloading clean_text-0.6.0-py3-none-any.whl (11 kB)\n",
            "Downloading dnspython-2.7.0-py3-none-any.whl (313 kB)\n",
            "\u001b[2K   \u001b[90m━━━━━━━━━━━━━━━━━━━━━━━━━━━━━━━━━━━━━━━━\u001b[0m \u001b[32m313.6/313.6 kB\u001b[0m \u001b[31m20.6 MB/s\u001b[0m eta \u001b[36m0:00:00\u001b[0m\n",
            "\u001b[?25hDownloading msgpack_numpy-0.4.8-py2.py3-none-any.whl (6.9 kB)\n",
            "Downloading pymongo-4.11.2-cp311-cp311-manylinux_2_17_x86_64.manylinux2014_x86_64.whl (1.4 MB)\n",
            "\u001b[2K   \u001b[90m━━━━━━━━━━━━━━━━━━━━━━━━━━━━━━━━━━━━━━━━\u001b[0m \u001b[32m1.4/1.4 MB\u001b[0m \u001b[31m45.2 MB/s\u001b[0m eta \u001b[36m0:00:00\u001b[0m\n",
            "\u001b[?25hDownloading ruff-0.9.9-py3-none-manylinux_2_17_x86_64.manylinux2014_x86_64.whl (11.2 MB)\n",
            "\u001b[2K   \u001b[90m━━━━━━━━━━━━━━━━━━━━━━━━━━━━━━━━━━━━━━━━\u001b[0m \u001b[32m11.2/11.2 MB\u001b[0m \u001b[31m87.8 MB/s\u001b[0m eta \u001b[36m0:00:00\u001b[0m\n",
            "\u001b[?25hDownloading scipy-1.15.2-cp311-cp311-manylinux_2_17_x86_64.manylinux2014_x86_64.whl (37.6 MB)\n",
            "\u001b[2K   \u001b[90m━━━━━━━━━━━━━━━━━━━━━━━━━━━━━━━━━━━━━━━━\u001b[0m \u001b[32m37.6/37.6 MB\u001b[0m \u001b[31m20.4 MB/s\u001b[0m eta \u001b[36m0:00:00\u001b[0m\n",
            "\u001b[?25hDownloading spacy-3.8.4-cp311-cp311-manylinux_2_17_x86_64.manylinux2014_x86_64.whl (30.6 MB)\n",
            "\u001b[2K   \u001b[90m━━━━━━━━━━━━━━━━━━━━━━━━━━━━━━━━━━━━━━━━\u001b[0m \u001b[32m30.6/30.6 MB\u001b[0m \u001b[31m53.9 MB/s\u001b[0m eta \u001b[36m0:00:00\u001b[0m\n",
            "\u001b[?25hDownloading numpy-2.0.2-cp311-cp311-manylinux_2_17_x86_64.manylinux2014_x86_64.whl (19.5 MB)\n",
            "\u001b[2K   \u001b[90m━━━━━━━━━━━━━━━━━━━━━━━━━━━━━━━━━━━━━━━━\u001b[0m \u001b[32m19.5/19.5 MB\u001b[0m \u001b[31m78.0 MB/s\u001b[0m eta \u001b[36m0:00:00\u001b[0m\n",
            "\u001b[?25hDownloading thinc-8.3.4-cp311-cp311-manylinux_2_17_x86_64.manylinux2014_x86_64.whl (3.9 MB)\n",
            "\u001b[2K   \u001b[90m━━━━━━━━━━━━━━━━━━━━━━━━━━━━━━━━━━━━━━━━\u001b[0m \u001b[32m3.9/3.9 MB\u001b[0m \u001b[31m57.3 MB/s\u001b[0m eta \u001b[36m0:00:00\u001b[0m\n",
            "\u001b[?25hDownloading trl-0.15.2-py3-none-any.whl (318 kB)\n",
            "\u001b[2K   \u001b[90m━━━━━━━━━━━━━━━━━━━━━━━━━━━━━━━━━━━━━━━━\u001b[0m \u001b[32m318.9/318.9 kB\u001b[0m \u001b[31m24.7 MB/s\u001b[0m eta \u001b[36m0:00:00\u001b[0m\n",
            "\u001b[?25hDownloading Unidecode-1.3.8-py3-none-any.whl (235 kB)\n",
            "\u001b[2K   \u001b[90m━━━━━━━━━━━━━━━━━━━━━━━━━━━━━━━━━━━━━━━━\u001b[0m \u001b[32m235.5/235.5 kB\u001b[0m \u001b[31m16.5 MB/s\u001b[0m eta \u001b[36m0:00:00\u001b[0m\n",
            "\u001b[?25hDownloading bitsandbytes-0.45.3-py3-none-manylinux_2_24_x86_64.whl (76.1 MB)\n",
            "\u001b[2K   \u001b[90m━━━━━━━━━━━━━━━━━━━━━━━━━━━━━━━━━━━━━━━━\u001b[0m \u001b[32m76.1/76.1 MB\u001b[0m \u001b[31m9.3 MB/s\u001b[0m eta \u001b[36m0:00:00\u001b[0m\n",
            "\u001b[?25hDownloading blis-1.2.0-cp311-cp311-manylinux_2_17_x86_64.manylinux2014_x86_64.whl (11.7 MB)\n",
            "\u001b[2K   \u001b[90m━━━━━━━━━━━━━━━━━━━━━━━━━━━━━━━━━━━━━━━━\u001b[0m \u001b[32m11.7/11.7 MB\u001b[0m \u001b[31m103.3 MB/s\u001b[0m eta \u001b[36m0:00:00\u001b[0m\n",
            "\u001b[?25hDownloading datasets-3.3.2-py3-none-any.whl (485 kB)\n",
            "\u001b[2K   \u001b[90m━━━━━━━━━━━━━━━━━━━━━━━━━━━━━━━━━━━━━━━━\u001b[0m \u001b[32m485.4/485.4 kB\u001b[0m \u001b[31m34.3 MB/s\u001b[0m eta \u001b[36m0:00:00\u001b[0m\n",
            "\u001b[?25hDownloading dill-0.3.8-py3-none-any.whl (116 kB)\n",
            "\u001b[2K   \u001b[90m━━━━━━━━━━━━━━━━━━━━━━━━━━━━━━━━━━━━━━━━\u001b[0m \u001b[32m116.3/116.3 kB\u001b[0m \u001b[31m10.0 MB/s\u001b[0m eta \u001b[36m0:00:00\u001b[0m\n",
            "\u001b[?25hDownloading ftfy-6.3.1-py3-none-any.whl (44 kB)\n",
            "\u001b[2K   \u001b[90m━━━━━━━━━━━━━━━━━━━━━━━━━━━━━━━━━━━━━━━━\u001b[0m \u001b[32m44.8/44.8 kB\u001b[0m \u001b[31m3.8 MB/s\u001b[0m eta \u001b[36m0:00:00\u001b[0m\n",
            "\u001b[?25hDownloading nvidia_cublas_cu12-12.4.5.8-py3-none-manylinux2014_x86_64.whl (363.4 MB)\n",
            "\u001b[2K   \u001b[90m━━━━━━━━━━━━━━━━━━━━━━━━━━━━━━━━━━━━━━━━\u001b[0m \u001b[32m363.4/363.4 MB\u001b[0m \u001b[31m4.2 MB/s\u001b[0m eta \u001b[36m0:00:00\u001b[0m\n",
            "\u001b[?25hDownloading nvidia_cuda_cupti_cu12-12.4.127-py3-none-manylinux2014_x86_64.whl (13.8 MB)\n",
            "\u001b[2K   \u001b[90m━━━━━━━━━━━━━━━━━━━━━━━━━━━━━━━━━━━━━━━━\u001b[0m \u001b[32m13.8/13.8 MB\u001b[0m \u001b[31m78.0 MB/s\u001b[0m eta \u001b[36m0:00:00\u001b[0m\n",
            "\u001b[?25hDownloading nvidia_cuda_nvrtc_cu12-12.4.127-py3-none-manylinux2014_x86_64.whl (24.6 MB)\n",
            "\u001b[2K   \u001b[90m━━━━━━━━━━━━━━━━━━━━━━━━━━━━━━━━━━━━━━━━\u001b[0m \u001b[32m24.6/24.6 MB\u001b[0m \u001b[31m55.1 MB/s\u001b[0m eta \u001b[36m0:00:00\u001b[0m\n",
            "\u001b[?25hDownloading nvidia_cuda_runtime_cu12-12.4.127-py3-none-manylinux2014_x86_64.whl (883 kB)\n",
            "\u001b[2K   \u001b[90m━━━━━━━━━━━━━━━━━━━━━━━━━━━━━━━━━━━━━━━━\u001b[0m \u001b[32m883.7/883.7 kB\u001b[0m \u001b[31m44.0 MB/s\u001b[0m eta \u001b[36m0:00:00\u001b[0m\n",
            "\u001b[?25hDownloading nvidia_cudnn_cu12-9.1.0.70-py3-none-manylinux2014_x86_64.whl (664.8 MB)\n",
            "\u001b[2K   \u001b[90m━━━━━━━━━━━━━━━━━━━━━━━━━━━━━━━━━━━━━━━━\u001b[0m \u001b[32m664.8/664.8 MB\u001b[0m \u001b[31m3.0 MB/s\u001b[0m eta \u001b[36m0:00:00\u001b[0m\n",
            "\u001b[?25hDownloading nvidia_cufft_cu12-11.2.1.3-py3-none-manylinux2014_x86_64.whl (211.5 MB)\n",
            "\u001b[2K   \u001b[90m━━━━━━━━━━━━━━━━━━━━━━━━━━━━━━━━━━━━━━━━\u001b[0m \u001b[32m211.5/211.5 MB\u001b[0m \u001b[31m5.2 MB/s\u001b[0m eta \u001b[36m0:00:00\u001b[0m\n",
            "\u001b[?25hDownloading nvidia_curand_cu12-10.3.5.147-py3-none-manylinux2014_x86_64.whl (56.3 MB)\n",
            "\u001b[2K   \u001b[90m━━━━━━━━━━━━━━━━━━━━━━━━━━━━━━━━━━━━━━━━\u001b[0m \u001b[32m56.3/56.3 MB\u001b[0m \u001b[31m11.8 MB/s\u001b[0m eta \u001b[36m0:00:00\u001b[0m\n",
            "\u001b[?25hDownloading nvidia_cusolver_cu12-11.6.1.9-py3-none-manylinux2014_x86_64.whl (127.9 MB)\n",
            "\u001b[2K   \u001b[90m━━━━━━━━━━━━━━━━━━━━━━━━━━━━━━━━━━━━━━━━\u001b[0m \u001b[32m127.9/127.9 MB\u001b[0m \u001b[31m7.6 MB/s\u001b[0m eta \u001b[36m0:00:00\u001b[0m\n",
            "\u001b[?25hDownloading nvidia_cusparse_cu12-12.3.1.170-py3-none-manylinux2014_x86_64.whl (207.5 MB)\n",
            "\u001b[2K   \u001b[90m━━━━━━━━━━━━━━━━━━━━━━━━━━━━━━━━━━━━━━━━\u001b[0m \u001b[32m207.5/207.5 MB\u001b[0m \u001b[31m7.6 MB/s\u001b[0m eta \u001b[36m0:00:00\u001b[0m\n",
            "\u001b[?25hDownloading nvidia_nvjitlink_cu12-12.4.127-py3-none-manylinux2014_x86_64.whl (21.1 MB)\n",
            "\u001b[2K   \u001b[90m━━━━━━━━━━━━━━━━━━━━━━━━━━━━━━━━━━━━━━━━\u001b[0m \u001b[32m21.1/21.1 MB\u001b[0m \u001b[31m69.2 MB/s\u001b[0m eta \u001b[36m0:00:00\u001b[0m\n",
            "\u001b[?25hDownloading multiprocess-0.70.16-py311-none-any.whl (143 kB)\n",
            "\u001b[2K   \u001b[90m━━━━━━━━━━━━━━━━━━━━━━━━━━━━━━━━━━━━━━━━\u001b[0m \u001b[32m143.5/143.5 kB\u001b[0m \u001b[31m8.4 MB/s\u001b[0m eta \u001b[36m0:00:00\u001b[0m\n",
            "\u001b[?25hDownloading xxhash-3.5.0-cp311-cp311-manylinux_2_17_x86_64.manylinux2014_x86_64.whl (194 kB)\n",
            "\u001b[2K   \u001b[90m━━━━━━━━━━━━━━━━━━━━━━━━━━━━━━━━━━━━━━━━\u001b[0m \u001b[32m194.8/194.8 kB\u001b[0m \u001b[31m13.2 MB/s\u001b[0m eta \u001b[36m0:00:00\u001b[0m\n",
            "\u001b[?25hBuilding wheels for collected packages: convokit, emoji\n",
            "  Building wheel for convokit (pyproject.toml) ... \u001b[?25l\u001b[?25hdone\n",
            "  Created wheel for convokit: filename=convokit-3.1.0-py3-none-any.whl size=229063 sha256=54451f72bdce0482785a5d3184feeeca757d16774d3a1f45fcb1589c7ae344a9\n",
            "  Stored in directory: /root/.cache/pip/wheels/b8/98/84/fb72d3ca14b2b2ff334461e71fb9bc53c56d57edb207f779ba\n",
            "  Building wheel for emoji (setup.py) ... \u001b[?25l\u001b[?25hdone\n",
            "  Created wheel for emoji: filename=emoji-1.7.0-py3-none-any.whl size=171033 sha256=040175c5d8b5781ccefa3e3e8111060a9a0cb085d1135524c94d3728a9ab711a\n",
            "  Stored in directory: /root/.cache/pip/wheels/bd/22/e5/b69726d5e1a19795ecd3b3e7464b16c0f1d019aa94ff1c8578\n",
            "Successfully built convokit emoji\n",
            "Installing collected packages: emoji, xxhash, unidecode, ruff, nvidia-nvjitlink-cu12, nvidia-curand-cu12, nvidia-cufft-cu12, nvidia-cuda-runtime-cu12, nvidia-cuda-nvrtc-cu12, nvidia-cuda-cupti-cu12, nvidia-cublas-cu12, numpy, ftfy, dnspython, dill, scipy, pymongo, nvidia-cusparse-cu12, nvidia-cudnn-cu12, multiprocess, msgpack-numpy, clean-text, blis, nvidia-cusolver-cu12, thinc, datasets, spacy, bitsandbytes, trl, convokit\n",
            "  Attempting uninstall: nvidia-nvjitlink-cu12\n",
            "    Found existing installation: nvidia-nvjitlink-cu12 12.5.82\n",
            "    Uninstalling nvidia-nvjitlink-cu12-12.5.82:\n",
            "      Successfully uninstalled nvidia-nvjitlink-cu12-12.5.82\n",
            "  Attempting uninstall: nvidia-curand-cu12\n",
            "    Found existing installation: nvidia-curand-cu12 10.3.6.82\n",
            "    Uninstalling nvidia-curand-cu12-10.3.6.82:\n",
            "      Successfully uninstalled nvidia-curand-cu12-10.3.6.82\n",
            "  Attempting uninstall: nvidia-cufft-cu12\n",
            "    Found existing installation: nvidia-cufft-cu12 11.2.3.61\n",
            "    Uninstalling nvidia-cufft-cu12-11.2.3.61:\n",
            "      Successfully uninstalled nvidia-cufft-cu12-11.2.3.61\n",
            "  Attempting uninstall: nvidia-cuda-runtime-cu12\n",
            "    Found existing installation: nvidia-cuda-runtime-cu12 12.5.82\n",
            "    Uninstalling nvidia-cuda-runtime-cu12-12.5.82:\n",
            "      Successfully uninstalled nvidia-cuda-runtime-cu12-12.5.82\n",
            "  Attempting uninstall: nvidia-cuda-nvrtc-cu12\n",
            "    Found existing installation: nvidia-cuda-nvrtc-cu12 12.5.82\n",
            "    Uninstalling nvidia-cuda-nvrtc-cu12-12.5.82:\n",
            "      Successfully uninstalled nvidia-cuda-nvrtc-cu12-12.5.82\n",
            "  Attempting uninstall: nvidia-cuda-cupti-cu12\n",
            "    Found existing installation: nvidia-cuda-cupti-cu12 12.5.82\n",
            "    Uninstalling nvidia-cuda-cupti-cu12-12.5.82:\n",
            "      Successfully uninstalled nvidia-cuda-cupti-cu12-12.5.82\n",
            "  Attempting uninstall: nvidia-cublas-cu12\n",
            "    Found existing installation: nvidia-cublas-cu12 12.5.3.2\n",
            "    Uninstalling nvidia-cublas-cu12-12.5.3.2:\n",
            "      Successfully uninstalled nvidia-cublas-cu12-12.5.3.2\n",
            "  Attempting uninstall: numpy\n",
            "    Found existing installation: numpy 1.26.4\n",
            "    Uninstalling numpy-1.26.4:\n",
            "      Successfully uninstalled numpy-1.26.4\n",
            "  Attempting uninstall: scipy\n",
            "    Found existing installation: scipy 1.13.1\n",
            "    Uninstalling scipy-1.13.1:\n",
            "      Successfully uninstalled scipy-1.13.1\n",
            "  Attempting uninstall: nvidia-cusparse-cu12\n",
            "    Found existing installation: nvidia-cusparse-cu12 12.5.1.3\n",
            "    Uninstalling nvidia-cusparse-cu12-12.5.1.3:\n",
            "      Successfully uninstalled nvidia-cusparse-cu12-12.5.1.3\n",
            "  Attempting uninstall: nvidia-cudnn-cu12\n",
            "    Found existing installation: nvidia-cudnn-cu12 9.3.0.75\n",
            "    Uninstalling nvidia-cudnn-cu12-9.3.0.75:\n",
            "      Successfully uninstalled nvidia-cudnn-cu12-9.3.0.75\n",
            "  Attempting uninstall: blis\n",
            "    Found existing installation: blis 0.7.11\n",
            "    Uninstalling blis-0.7.11:\n",
            "      Successfully uninstalled blis-0.7.11\n",
            "  Attempting uninstall: nvidia-cusolver-cu12\n",
            "    Found existing installation: nvidia-cusolver-cu12 11.6.3.83\n",
            "    Uninstalling nvidia-cusolver-cu12-11.6.3.83:\n",
            "      Successfully uninstalled nvidia-cusolver-cu12-11.6.3.83\n",
            "  Attempting uninstall: thinc\n",
            "    Found existing installation: thinc 8.2.5\n",
            "    Uninstalling thinc-8.2.5:\n",
            "      Successfully uninstalled thinc-8.2.5\n",
            "  Attempting uninstall: spacy\n",
            "    Found existing installation: spacy 3.7.5\n",
            "    Uninstalling spacy-3.7.5:\n",
            "      Successfully uninstalled spacy-3.7.5\n",
            "\u001b[31mERROR: pip's dependency resolver does not currently take into account all the packages that are installed. This behaviour is the source of the following dependency conflicts.\n",
            "langchain 0.3.19 requires numpy<2,>=1.26.4; python_version < \"3.12\", but you have numpy 2.0.2 which is incompatible.\n",
            "pytensor 2.27.1 requires numpy<2,>=1.17.0, but you have numpy 2.0.2 which is incompatible.\n",
            "gensim 4.3.3 requires numpy<2.0,>=1.18.5, but you have numpy 2.0.2 which is incompatible.\n",
            "gensim 4.3.3 requires scipy<1.14.0,>=1.7.0, but you have scipy 1.15.2 which is incompatible.\n",
            "en-core-web-sm 3.7.1 requires spacy<3.8.0,>=3.7.2, but you have spacy 3.8.4 which is incompatible.\u001b[0m\u001b[31m\n",
            "\u001b[0mSuccessfully installed bitsandbytes-0.45.3 blis-1.2.0 clean-text-0.6.0 convokit-3.1.0 datasets-3.3.2 dill-0.3.8 dnspython-2.7.0 emoji-1.7.0 ftfy-6.3.1 msgpack-numpy-0.4.8 multiprocess-0.70.16 numpy-2.0.2 nvidia-cublas-cu12-12.4.5.8 nvidia-cuda-cupti-cu12-12.4.127 nvidia-cuda-nvrtc-cu12-12.4.127 nvidia-cuda-runtime-cu12-12.4.127 nvidia-cudnn-cu12-9.1.0.70 nvidia-cufft-cu12-11.2.1.3 nvidia-curand-cu12-10.3.5.147 nvidia-cusolver-cu12-11.6.1.9 nvidia-cusparse-cu12-12.3.1.170 nvidia-nvjitlink-cu12-12.4.127 pymongo-4.11.2 ruff-0.9.9 scipy-1.15.2 spacy-3.8.4 thinc-8.3.4 trl-0.15.2 unidecode-1.3.8 xxhash-3.5.0\n"
          ]
        }
      ],
      "source": [
        "%pip install convokit"
      ]
    },
    {
      "cell_type": "markdown",
      "metadata": {
        "id": "E8fjlwd263qf"
      },
      "source": [
        "I first shortened the csv files for enron, medium articles, and un general debates. Since we'll only be sampling a subset of 300 from each, we don't need to load the whole file"
      ]
    },
    {
      "cell_type": "code",
      "execution_count": null,
      "metadata": {
        "colab": {
          "base_uri": "https://localhost:8080/",
          "height": 893,
          "referenced_widgets": [
            "bbca71b0fc9e4380a11b823ca98ca06a",
            "fb56f835f36a40e88f83434867370159",
            "04cd9e8993854ee98f8a66470ffb16e6",
            "e5c88415e5e04dba9a1a527da4260a73",
            "87564eb1254f49ac94f33703cd996391",
            "d9ee67fe4f934c72903cc562d908cac6",
            "6a84993e2a73421b8b04f7552c750c12",
            "10aa372a0b664edfaeff69b9979b3fc2",
            "f685e35216df4ed4a7585ca0ea529465",
            "99d30fada12645839b02abbeeaa3ebb6",
            "8744908c34824bd5b82dec06fc974ff2",
            "9ab4bb7a217f4574963ccac020554c5e",
            "d084db69286040eb9d4d98897068fe4e",
            "b8036f3f90d14920a2a9355d647166fc",
            "2147a7a1d478403981cb44ccd67e272c",
            "b987bcc26e6d46b08ab24519e88ea280",
            "9f034822808f4c99ba2a700ff7487b71",
            "bc613138110c435cb65f3c900a5612c4",
            "86e8ef4ac3f24054a9cacb9515075c62",
            "08139ac7e9ad4253bbb2bca503b5c39c",
            "2f38a2a85dcf44b0994956a3449fc636",
            "fdac73e5172d459188d94af13a8d2125",
            "f8344e3d1d8a41c19287bb6ef50a2b24",
            "1974103267dc4422b7a85d4638370bb6",
            "3ad7cdea9ccb4816a1c35df4be4fdd0c",
            "149f58285c6643b191f4fc7b13685b1b",
            "7a3088a2b4394981800058ca1b7f71cd",
            "54a2d897b2114811ba2f36d8d3f0b515",
            "e396a6154eab4da1b90b96dc6182b7aa",
            "9bf8eaf91095483c9ce1afdf6f255082",
            "256c894b319142e18c033a2032dbdf9a",
            "49cf41e33cf04db0a54cef3522682bfc",
            "f219b8297a6242d7a3045c8c0bb18778",
            "cc54f9f8eef44dfb82dd0dc631a680c2",
            "563488b598bc474196f6cf03436186a7",
            "3d9e9821110a4bdabcec8f71f9327ab5",
            "5468c3a18b214f7688285d7333487fc2",
            "025a20f9b20348b48a46f9de80df447c",
            "9ec0832c9fab4177b6ae1c8237c99362",
            "4ca5e1e2fc1e4c9286db67e942a3d024",
            "5ed265af64984f89913eace2d0169dd8",
            "4ebfbc2baa2b49ab8bcd28a227005c45",
            "8f0f2fd397654a0bb2712a025f2fd5e2",
            "055d10d76e2647278605192eeee6abe2",
            "8112214d7e0e4cd8837447fce58c0ebb",
            "4bccf9186ed4420a856b22f22e915d45",
            "f7f583449030433f86759af99edffc72",
            "70a21d102e3c4970bfd8390cb92edf52",
            "9b33eb1e2560453b91c3f403ab2fe908",
            "a096b637fad343e78aa59dfc79741950",
            "34c41e23ea08422e80dcfebee1d78922",
            "1fcf5162e9a34e6ca9764fc7bf3b3890",
            "139a428f2b60418cb42fff0b9b6e2257",
            "b89db5dde2c445d6a939577829ebe743",
            "ccee91a93fcd4f88b80c2372b2c92bc5",
            "a7697b46208e4a0bae5e2b079301142a",
            "a9d1e29adcdd4c4b9e91b595c11aaf0f",
            "c390e2fdcff1493d93c769b16e17d694",
            "7395f1e0848f44c4a8b549ed833861e2",
            "da8b8d90629d4f3eacd63e548905312c",
            "5420654b2442445fb8d528ae0fa9088a",
            "d109e06756964bf2a7e60c2ef95ab3d6",
            "5462e6f70a86445195f4978e9ee2445e",
            "bec16c3268514d28a861f109bc1b4f49",
            "643e4f2bf9e143419e59a9f1540f19e0",
            "b687eb4ee7544786ac8806825013bc5d",
            "da842295d42f4470a433763f4eef18f9",
            "f0419673618d43ac8fa9554eb9b9cad0",
            "df41829b6c7944b49c8619a210924091",
            "00f7fc50cc83417abba8dc2447c061c7",
            "b2ef220c42c74e8c844d5886b70b9d8d",
            "e7d2e9d87c3c45f2906ce110bfe72ecf",
            "20eea576c89647c3ab9f172459cd121c",
            "547b016c2d8e4e3080fb7180c301fb85",
            "5ac3a7d88c264b1b87f1a60b04beefae",
            "dd6cf7629e78439a819f0c1b05e1539b",
            "4d07a21d758648498ac1b68e50791243"
          ]
        },
        "id": "lO6cajO-63qf",
        "outputId": "457d918e-d600-4982-e53d-06416a7176fa"
      },
      "outputs": [
        {
          "data": {
            "application/vnd.jupyter.widget-view+json": {
              "model_id": "bbca71b0fc9e4380a11b823ca98ca06a",
              "version_major": 2,
              "version_minor": 0
            },
            "text/plain": [
              "Resolving data files:   0%|          | 0/17 [00:00<?, ?it/s]"
            ]
          },
          "metadata": {},
          "output_type": "display_data"
        },
        {
          "data": {
            "application/vnd.jupyter.widget-view+json": {
              "model_id": "9ab4bb7a217f4574963ccac020554c5e",
              "version_major": 2,
              "version_minor": 0
            },
            "text/plain": [
              "Resolving data files:   0%|          | 0/17 [00:00<?, ?it/s]"
            ]
          },
          "metadata": {},
          "output_type": "display_data"
        },
        {
          "data": {
            "application/vnd.jupyter.widget-view+json": {
              "model_id": "f8344e3d1d8a41c19287bb6ef50a2b24",
              "version_major": 2,
              "version_minor": 0
            },
            "text/plain": [
              "Loading dataset shards:   0%|          | 0/17 [00:00<?, ?it/s]"
            ]
          },
          "metadata": {},
          "output_type": "display_data"
        },
        {
          "data": {
            "application/vnd.jupyter.widget-view+json": {
              "model_id": "cc54f9f8eef44dfb82dd0dc631a680c2",
              "version_major": 2,
              "version_minor": 0
            },
            "text/plain": [
              "Resolving data files:   0%|          | 0/23 [00:00<?, ?it/s]"
            ]
          },
          "metadata": {},
          "output_type": "display_data"
        },
        {
          "data": {
            "application/vnd.jupyter.widget-view+json": {
              "model_id": "8112214d7e0e4cd8837447fce58c0ebb",
              "version_major": 2,
              "version_minor": 0
            },
            "text/plain": [
              "Resolving data files:   0%|          | 0/23 [00:00<?, ?it/s]"
            ]
          },
          "metadata": {},
          "output_type": "display_data"
        },
        {
          "data": {
            "application/vnd.jupyter.widget-view+json": {
              "model_id": "a7697b46208e4a0bae5e2b079301142a",
              "version_major": 2,
              "version_minor": 0
            },
            "text/plain": [
              "Downloading data:   0%|          | 0/23 [00:00<?, ?files/s]"
            ]
          },
          "metadata": {},
          "output_type": "display_data"
        },
        {
          "data": {
            "application/vnd.jupyter.widget-view+json": {
              "model_id": "da842295d42f4470a433763f4eef18f9",
              "version_major": 2,
              "version_minor": 0
            },
            "text/plain": [
              "Generating train split:   0%|          | 0/5523999 [00:00<?, ? examples/s]"
            ]
          },
          "metadata": {},
          "output_type": "display_data"
        },
        {
          "output_type": "error",
          "ename": "DatasetGenerationError",
          "evalue": "An error occurred while generating the dataset",
          "traceback": [
            "\u001b[0;31m---------------------------------------------------------------------------\u001b[0m",
            "\u001b[0;31mOSError\u001b[0m                                   Traceback (most recent call last)",
            "\u001b[0;32m/usr/local/lib/python3.11/dist-packages/datasets/builder.py\u001b[0m in \u001b[0;36m_prepare_split_single\u001b[0;34m(self, gen_kwargs, fpath, file_format, max_shard_size, job_id)\u001b[0m\n\u001b[1;32m   1869\u001b[0m                     \u001b[0;32mtry\u001b[0m\u001b[0;34m:\u001b[0m\u001b[0;34m\u001b[0m\u001b[0;34m\u001b[0m\u001b[0m\n\u001b[0;32m-> 1870\u001b[0;31m                         \u001b[0mwriter\u001b[0m\u001b[0;34m.\u001b[0m\u001b[0mwrite_table\u001b[0m\u001b[0;34m(\u001b[0m\u001b[0mtable\u001b[0m\u001b[0;34m)\u001b[0m\u001b[0;34m\u001b[0m\u001b[0;34m\u001b[0m\u001b[0m\n\u001b[0m\u001b[1;32m   1871\u001b[0m                     \u001b[0;32mexcept\u001b[0m \u001b[0mCastError\u001b[0m \u001b[0;32mas\u001b[0m \u001b[0mcast_error\u001b[0m\u001b[0;34m:\u001b[0m\u001b[0;34m\u001b[0m\u001b[0;34m\u001b[0m\u001b[0m\n",
            "\u001b[0;32m/usr/local/lib/python3.11/dist-packages/datasets/arrow_writer.py\u001b[0m in \u001b[0;36mwrite_table\u001b[0;34m(self, pa_table, writer_batch_size)\u001b[0m\n\u001b[1;32m    626\u001b[0m         \u001b[0mself\u001b[0m\u001b[0;34m.\u001b[0m\u001b[0m_num_examples\u001b[0m \u001b[0;34m+=\u001b[0m \u001b[0mpa_table\u001b[0m\u001b[0;34m.\u001b[0m\u001b[0mnum_rows\u001b[0m\u001b[0;34m\u001b[0m\u001b[0;34m\u001b[0m\u001b[0m\n\u001b[0;32m--> 627\u001b[0;31m         \u001b[0mself\u001b[0m\u001b[0;34m.\u001b[0m\u001b[0mpa_writer\u001b[0m\u001b[0;34m.\u001b[0m\u001b[0mwrite_table\u001b[0m\u001b[0;34m(\u001b[0m\u001b[0mpa_table\u001b[0m\u001b[0;34m,\u001b[0m \u001b[0mwriter_batch_size\u001b[0m\u001b[0;34m)\u001b[0m\u001b[0;34m\u001b[0m\u001b[0;34m\u001b[0m\u001b[0m\n\u001b[0m\u001b[1;32m    628\u001b[0m \u001b[0;34m\u001b[0m\u001b[0m\n",
            "\u001b[0;32m/usr/local/lib/python3.11/dist-packages/pyarrow/ipc.pxi\u001b[0m in \u001b[0;36mpyarrow.lib._CRecordBatchWriter.write_table\u001b[0;34m()\u001b[0m\n",
            "\u001b[0;32m/usr/local/lib/python3.11/dist-packages/pyarrow/error.pxi\u001b[0m in \u001b[0;36mpyarrow.lib.check_status\u001b[0;34m()\u001b[0m\n",
            "\u001b[0;32m/usr/local/lib/python3.11/dist-packages/fsspec/implementations/local.py\u001b[0m in \u001b[0;36mwrite\u001b[0;34m(self, *args, **kwargs)\u001b[0m\n\u001b[1;32m    425\u001b[0m     \u001b[0;32mdef\u001b[0m \u001b[0mwrite\u001b[0m\u001b[0;34m(\u001b[0m\u001b[0mself\u001b[0m\u001b[0;34m,\u001b[0m \u001b[0;34m*\u001b[0m\u001b[0margs\u001b[0m\u001b[0;34m,\u001b[0m \u001b[0;34m**\u001b[0m\u001b[0mkwargs\u001b[0m\u001b[0;34m)\u001b[0m\u001b[0;34m:\u001b[0m\u001b[0;34m\u001b[0m\u001b[0;34m\u001b[0m\u001b[0m\n\u001b[0;32m--> 426\u001b[0;31m         \u001b[0;32mreturn\u001b[0m \u001b[0mself\u001b[0m\u001b[0;34m.\u001b[0m\u001b[0mf\u001b[0m\u001b[0;34m.\u001b[0m\u001b[0mwrite\u001b[0m\u001b[0;34m(\u001b[0m\u001b[0;34m*\u001b[0m\u001b[0margs\u001b[0m\u001b[0;34m,\u001b[0m \u001b[0;34m**\u001b[0m\u001b[0mkwargs\u001b[0m\u001b[0;34m)\u001b[0m\u001b[0;34m\u001b[0m\u001b[0;34m\u001b[0m\u001b[0m\n\u001b[0m\u001b[1;32m    427\u001b[0m \u001b[0;34m\u001b[0m\u001b[0m\n",
            "\u001b[0;31mOSError\u001b[0m: [Errno 28] No space left on device",
            "\nDuring handling of the above exception, another exception occurred:\n",
            "\u001b[0;31mOSError\u001b[0m                                   Traceback (most recent call last)",
            "\u001b[0;32m/usr/local/lib/python3.11/dist-packages/datasets/builder.py\u001b[0m in \u001b[0;36m_prepare_split_single\u001b[0;34m(self, gen_kwargs, fpath, file_format, max_shard_size, job_id)\u001b[0m\n\u001b[1;32m   1885\u001b[0m                 \u001b[0mnum_shards\u001b[0m \u001b[0;34m=\u001b[0m \u001b[0mshard_id\u001b[0m \u001b[0;34m+\u001b[0m \u001b[0;36m1\u001b[0m\u001b[0;34m\u001b[0m\u001b[0;34m\u001b[0m\u001b[0m\n\u001b[0;32m-> 1886\u001b[0;31m                 \u001b[0mnum_examples\u001b[0m\u001b[0;34m,\u001b[0m \u001b[0mnum_bytes\u001b[0m \u001b[0;34m=\u001b[0m \u001b[0mwriter\u001b[0m\u001b[0;34m.\u001b[0m\u001b[0mfinalize\u001b[0m\u001b[0;34m(\u001b[0m\u001b[0;34m)\u001b[0m\u001b[0;34m\u001b[0m\u001b[0;34m\u001b[0m\u001b[0m\n\u001b[0m\u001b[1;32m   1887\u001b[0m                 \u001b[0mwriter\u001b[0m\u001b[0;34m.\u001b[0m\u001b[0mclose\u001b[0m\u001b[0;34m(\u001b[0m\u001b[0;34m)\u001b[0m\u001b[0;34m\u001b[0m\u001b[0;34m\u001b[0m\u001b[0m\n",
            "\u001b[0;32m/usr/local/lib/python3.11/dist-packages/datasets/arrow_writer.py\u001b[0m in \u001b[0;36mfinalize\u001b[0;34m(self, close_stream)\u001b[0m\n\u001b[1;32m    643\u001b[0m             \u001b[0;32mif\u001b[0m \u001b[0mclose_stream\u001b[0m\u001b[0;34m:\u001b[0m\u001b[0;34m\u001b[0m\u001b[0;34m\u001b[0m\u001b[0m\n\u001b[0;32m--> 644\u001b[0;31m                 \u001b[0mself\u001b[0m\u001b[0;34m.\u001b[0m\u001b[0mstream\u001b[0m\u001b[0;34m.\u001b[0m\u001b[0mclose\u001b[0m\u001b[0;34m(\u001b[0m\u001b[0;34m)\u001b[0m\u001b[0;34m\u001b[0m\u001b[0;34m\u001b[0m\u001b[0m\n\u001b[0m\u001b[1;32m    645\u001b[0m         \u001b[0;32melse\u001b[0m\u001b[0;34m:\u001b[0m\u001b[0;34m\u001b[0m\u001b[0;34m\u001b[0m\u001b[0m\n",
            "\u001b[0;32m/usr/local/lib/python3.11/dist-packages/fsspec/implementations/local.py\u001b[0m in \u001b[0;36mclose\u001b[0;34m(self)\u001b[0m\n\u001b[1;32m    443\u001b[0m     \u001b[0;32mdef\u001b[0m \u001b[0mclose\u001b[0m\u001b[0;34m(\u001b[0m\u001b[0mself\u001b[0m\u001b[0;34m)\u001b[0m\u001b[0;34m:\u001b[0m\u001b[0;34m\u001b[0m\u001b[0;34m\u001b[0m\u001b[0m\n\u001b[0;32m--> 444\u001b[0;31m         \u001b[0;32mreturn\u001b[0m \u001b[0mself\u001b[0m\u001b[0;34m.\u001b[0m\u001b[0mf\u001b[0m\u001b[0;34m.\u001b[0m\u001b[0mclose\u001b[0m\u001b[0;34m(\u001b[0m\u001b[0;34m)\u001b[0m\u001b[0;34m\u001b[0m\u001b[0;34m\u001b[0m\u001b[0m\n\u001b[0m\u001b[1;32m    445\u001b[0m \u001b[0;34m\u001b[0m\u001b[0m\n",
            "\u001b[0;31mOSError\u001b[0m: [Errno 28] No space left on device",
            "\nThe above exception was the direct cause of the following exception:\n",
            "\u001b[0;31mDatasetGenerationError\u001b[0m                    Traceback (most recent call last)",
            "\u001b[0;32m<ipython-input-6-6f74fd509b86>\u001b[0m in \u001b[0;36m<cell line: 0>\u001b[0;34m()\u001b[0m\n\u001b[1;32m     32\u001b[0m \u001b[0;34m\u001b[0m\u001b[0m\n\u001b[1;32m     33\u001b[0m \u001b[0;34m\"\"\"Educational\"\"\"\u001b[0m\u001b[0;34m\u001b[0m\u001b[0;34m\u001b[0m\u001b[0m\n\u001b[0;32m---> 34\u001b[0;31m \u001b[0mds_edu\u001b[0m \u001b[0;34m=\u001b[0m \u001b[0mload_dataset\u001b[0m\u001b[0;34m(\u001b[0m\u001b[0;34m\"Locutusque/UltraTextbooks\"\u001b[0m\u001b[0;34m)\u001b[0m \u001b[0;31m#synthetic and human written textbooks..... acdademic / formal\u001b[0m\u001b[0;34m\u001b[0m\u001b[0;34m\u001b[0m\u001b[0m\n\u001b[0m\u001b[1;32m     35\u001b[0m \u001b[0;31m#https://huggingface.co/datasets/fabiochiu/medium-articles\u001b[0m\u001b[0;34m\u001b[0m\u001b[0;34m\u001b[0m\u001b[0m\n\u001b[1;32m     36\u001b[0m \u001b[0mds_edu_sub\u001b[0m \u001b[0;34m=\u001b[0m \u001b[0mds_edu\u001b[0m\u001b[0;34m[\u001b[0m\u001b[0;34m\"train\"\u001b[0m\u001b[0;34m]\u001b[0m\u001b[0;34m.\u001b[0m\u001b[0mshuffle\u001b[0m\u001b[0;34m(\u001b[0m\u001b[0mseed\u001b[0m\u001b[0;34m=\u001b[0m\u001b[0;36m42\u001b[0m\u001b[0;34m)\u001b[0m\u001b[0;34m.\u001b[0m\u001b[0mselect\u001b[0m\u001b[0;34m(\u001b[0m\u001b[0mrange\u001b[0m\u001b[0;34m(\u001b[0m\u001b[0mnum_samples\u001b[0m\u001b[0;34m)\u001b[0m\u001b[0;34m)\u001b[0m\u001b[0;34m\u001b[0m\u001b[0;34m\u001b[0m\u001b[0m\n",
            "\u001b[0;32m/usr/local/lib/python3.11/dist-packages/datasets/load.py\u001b[0m in \u001b[0;36mload_dataset\u001b[0;34m(path, name, data_dir, data_files, split, cache_dir, features, download_config, download_mode, verification_mode, keep_in_memory, save_infos, revision, token, streaming, num_proc, storage_options, trust_remote_code, **config_kwargs)\u001b[0m\n\u001b[1;32m   2149\u001b[0m \u001b[0;34m\u001b[0m\u001b[0m\n\u001b[1;32m   2150\u001b[0m     \u001b[0;31m# Download and prepare data\u001b[0m\u001b[0;34m\u001b[0m\u001b[0;34m\u001b[0m\u001b[0m\n\u001b[0;32m-> 2151\u001b[0;31m     builder_instance.download_and_prepare(\n\u001b[0m\u001b[1;32m   2152\u001b[0m         \u001b[0mdownload_config\u001b[0m\u001b[0;34m=\u001b[0m\u001b[0mdownload_config\u001b[0m\u001b[0;34m,\u001b[0m\u001b[0;34m\u001b[0m\u001b[0;34m\u001b[0m\u001b[0m\n\u001b[1;32m   2153\u001b[0m         \u001b[0mdownload_mode\u001b[0m\u001b[0;34m=\u001b[0m\u001b[0mdownload_mode\u001b[0m\u001b[0;34m,\u001b[0m\u001b[0;34m\u001b[0m\u001b[0;34m\u001b[0m\u001b[0m\n",
            "\u001b[0;32m/usr/local/lib/python3.11/dist-packages/datasets/builder.py\u001b[0m in \u001b[0;36mdownload_and_prepare\u001b[0;34m(self, output_dir, download_config, download_mode, verification_mode, dl_manager, base_path, file_format, max_shard_size, num_proc, storage_options, **download_and_prepare_kwargs)\u001b[0m\n\u001b[1;32m    922\u001b[0m                     \u001b[0;32mif\u001b[0m \u001b[0mnum_proc\u001b[0m \u001b[0;32mis\u001b[0m \u001b[0;32mnot\u001b[0m \u001b[0;32mNone\u001b[0m\u001b[0;34m:\u001b[0m\u001b[0;34m\u001b[0m\u001b[0;34m\u001b[0m\u001b[0m\n\u001b[1;32m    923\u001b[0m                         \u001b[0mprepare_split_kwargs\u001b[0m\u001b[0;34m[\u001b[0m\u001b[0;34m\"num_proc\"\u001b[0m\u001b[0;34m]\u001b[0m \u001b[0;34m=\u001b[0m \u001b[0mnum_proc\u001b[0m\u001b[0;34m\u001b[0m\u001b[0;34m\u001b[0m\u001b[0m\n\u001b[0;32m--> 924\u001b[0;31m                     self._download_and_prepare(\n\u001b[0m\u001b[1;32m    925\u001b[0m                         \u001b[0mdl_manager\u001b[0m\u001b[0;34m=\u001b[0m\u001b[0mdl_manager\u001b[0m\u001b[0;34m,\u001b[0m\u001b[0;34m\u001b[0m\u001b[0;34m\u001b[0m\u001b[0m\n\u001b[1;32m    926\u001b[0m                         \u001b[0mverification_mode\u001b[0m\u001b[0;34m=\u001b[0m\u001b[0mverification_mode\u001b[0m\u001b[0;34m,\u001b[0m\u001b[0;34m\u001b[0m\u001b[0;34m\u001b[0m\u001b[0m\n",
            "\u001b[0;32m/usr/local/lib/python3.11/dist-packages/datasets/builder.py\u001b[0m in \u001b[0;36m_download_and_prepare\u001b[0;34m(self, dl_manager, verification_mode, **prepare_split_kwargs)\u001b[0m\n\u001b[1;32m    998\u001b[0m             \u001b[0;32mtry\u001b[0m\u001b[0;34m:\u001b[0m\u001b[0;34m\u001b[0m\u001b[0;34m\u001b[0m\u001b[0m\n\u001b[1;32m    999\u001b[0m                 \u001b[0;31m# Prepare split will record examples associated to the split\u001b[0m\u001b[0;34m\u001b[0m\u001b[0;34m\u001b[0m\u001b[0m\n\u001b[0;32m-> 1000\u001b[0;31m                 \u001b[0mself\u001b[0m\u001b[0;34m.\u001b[0m\u001b[0m_prepare_split\u001b[0m\u001b[0;34m(\u001b[0m\u001b[0msplit_generator\u001b[0m\u001b[0;34m,\u001b[0m \u001b[0;34m**\u001b[0m\u001b[0mprepare_split_kwargs\u001b[0m\u001b[0;34m)\u001b[0m\u001b[0;34m\u001b[0m\u001b[0;34m\u001b[0m\u001b[0m\n\u001b[0m\u001b[1;32m   1001\u001b[0m             \u001b[0;32mexcept\u001b[0m \u001b[0mOSError\u001b[0m \u001b[0;32mas\u001b[0m \u001b[0me\u001b[0m\u001b[0;34m:\u001b[0m\u001b[0;34m\u001b[0m\u001b[0;34m\u001b[0m\u001b[0m\n\u001b[1;32m   1002\u001b[0m                 raise OSError(\n",
            "\u001b[0;32m/usr/local/lib/python3.11/dist-packages/datasets/builder.py\u001b[0m in \u001b[0;36m_prepare_split\u001b[0;34m(self, split_generator, file_format, num_proc, max_shard_size)\u001b[0m\n\u001b[1;32m   1739\u001b[0m             \u001b[0mjob_id\u001b[0m \u001b[0;34m=\u001b[0m \u001b[0;36m0\u001b[0m\u001b[0;34m\u001b[0m\u001b[0;34m\u001b[0m\u001b[0m\n\u001b[1;32m   1740\u001b[0m             \u001b[0;32mwith\u001b[0m \u001b[0mpbar\u001b[0m\u001b[0;34m:\u001b[0m\u001b[0;34m\u001b[0m\u001b[0;34m\u001b[0m\u001b[0m\n\u001b[0;32m-> 1741\u001b[0;31m                 for job_id, done, content in self._prepare_split_single(\n\u001b[0m\u001b[1;32m   1742\u001b[0m                     \u001b[0mgen_kwargs\u001b[0m\u001b[0;34m=\u001b[0m\u001b[0mgen_kwargs\u001b[0m\u001b[0;34m,\u001b[0m \u001b[0mjob_id\u001b[0m\u001b[0;34m=\u001b[0m\u001b[0mjob_id\u001b[0m\u001b[0;34m,\u001b[0m \u001b[0;34m**\u001b[0m\u001b[0m_prepare_split_args\u001b[0m\u001b[0;34m\u001b[0m\u001b[0;34m\u001b[0m\u001b[0m\n\u001b[1;32m   1743\u001b[0m                 ):\n",
            "\u001b[0;32m/usr/local/lib/python3.11/dist-packages/datasets/builder.py\u001b[0m in \u001b[0;36m_prepare_split_single\u001b[0;34m(self, gen_kwargs, fpath, file_format, max_shard_size, job_id)\u001b[0m\n\u001b[1;32m   1895\u001b[0m             \u001b[0;32mif\u001b[0m \u001b[0misinstance\u001b[0m\u001b[0;34m(\u001b[0m\u001b[0me\u001b[0m\u001b[0;34m,\u001b[0m \u001b[0mDatasetGenerationError\u001b[0m\u001b[0;34m)\u001b[0m\u001b[0;34m:\u001b[0m\u001b[0;34m\u001b[0m\u001b[0;34m\u001b[0m\u001b[0m\n\u001b[1;32m   1896\u001b[0m                 \u001b[0;32mraise\u001b[0m\u001b[0;34m\u001b[0m\u001b[0;34m\u001b[0m\u001b[0m\n\u001b[0;32m-> 1897\u001b[0;31m             \u001b[0;32mraise\u001b[0m \u001b[0mDatasetGenerationError\u001b[0m\u001b[0;34m(\u001b[0m\u001b[0;34m\"An error occurred while generating the dataset\"\u001b[0m\u001b[0;34m)\u001b[0m \u001b[0;32mfrom\u001b[0m \u001b[0me\u001b[0m\u001b[0;34m\u001b[0m\u001b[0;34m\u001b[0m\u001b[0m\n\u001b[0m\u001b[1;32m   1898\u001b[0m \u001b[0;34m\u001b[0m\u001b[0m\n\u001b[1;32m   1899\u001b[0m         \u001b[0;32myield\u001b[0m \u001b[0mjob_id\u001b[0m\u001b[0;34m,\u001b[0m \u001b[0;32mTrue\u001b[0m\u001b[0;34m,\u001b[0m \u001b[0;34m(\u001b[0m\u001b[0mtotal_num_examples\u001b[0m\u001b[0;34m,\u001b[0m \u001b[0mtotal_num_bytes\u001b[0m\u001b[0;34m,\u001b[0m \u001b[0mwriter\u001b[0m\u001b[0;34m.\u001b[0m\u001b[0m_features\u001b[0m\u001b[0;34m,\u001b[0m \u001b[0mnum_shards\u001b[0m\u001b[0;34m,\u001b[0m \u001b[0mshard_lengths\u001b[0m\u001b[0;34m)\u001b[0m\u001b[0;34m\u001b[0m\u001b[0;34m\u001b[0m\u001b[0m\n",
            "\u001b[0;31mDatasetGenerationError\u001b[0m: An error occurred while generating the dataset"
          ]
        }
      ],
      "source": [
        "#DONT RUN THIS ANYMORE\n",
        "from datasets import load_dataset, Dataset\n",
        "from convokit import Corpus, download\n",
        "\n",
        "\n",
        "#TRAIN SETS, choosing 300 samples frome each written text set\n",
        "num_samples = 300\n",
        "\n",
        "\"\"\" Formal\"\"\"\n",
        "ds_un_docs = load_dataset(\"Helsinki-NLP/un_pc\", \"en-es\")\n",
        "ds_un_docs_sub = ds_un_docs[\"train\"].shuffle(seed=42).select(range(num_samples))\n",
        "del ds_un_docs\n",
        "\n",
        "#ds_un_debates = load_dataset('csv', data_files=\"shortened-un-general-debates.csv\") # formal]\n",
        "#ds_un_debates_sub = ds_un_debates[\"train\"].shuffle(seed=42).select(range(num_samples))\n",
        "#del ds_un_debates\n",
        "\n",
        "\"\"\" Semi-formal\"\"\"\n",
        "#ds_enron= load_dataset('csv', data_files='shortened-enron_labeled_curated.csv') #enron, very formal business emails probably?\n",
        "#ds_enron_sub = ds_enron[\"train\"].shuffle(seed=42).select(range(num_samples))\n",
        "#del ds_enron\n",
        "\n",
        "#ds_medium = load_dataset('csv', data_files='shortened-medium_articles.csv') #medium articles, academic but also likely less formal ? community contributions\n",
        "#https://huggingface.co/datasets/kariatouk/enron_curated_labeled/tree/main\n",
        "#ds_medium_sub = ds_medium[\"train\"].shuffle(seed=42).select(range(num_samples))\n",
        "#del ds_medium\n",
        "\n",
        "\n",
        "ds_podcast_news = load_dataset(\"Whispering-GPT/lex-fridman-podcast\")\n",
        "ds_podcast_news_sub = ds_podcast_news[\"train\"].shuffle(seed=42).select(range(num_samples//5))#podcasts are long so only gonna use 100 samples\n",
        "del ds_podcast_news\n",
        "\n",
        "\"\"\"Educational\"\"\"\n",
        "ds_edu = load_dataset(\"Locutusque/UltraTextbooks\") #synthetic and human written textbooks..... acdademic / formal\n",
        "#https://huggingface.co/datasets/fabiochiu/medium-articles\n",
        "ds_edu_sub = ds_edu[\"train\"].shuffle(seed=42).select(range(num_samples))\n",
        "del ds_edu\n",
        "\n",
        "# khan academy dataset\n",
        "ds_khan_edu = load_dataset(\"iblai/ibl-khanacademy-transcripts\")\n",
        "ds_khan_edu_sub = ds_khan_edu[\"train\"].shuffle(seed=42).select(range(num_samples))\n",
        "del ds_khan_edu\n",
        "\n",
        "\"\"\"Informal\"\"\"\n",
        "ds_sms = load_dataset(\"ucirvine/sms_spam\") #should only use ham labels, text messages, informal\n",
        "#filtering out the spam label - only getting legitimate texts\n",
        "ds_sms_filtered = ds_sms[\"train\"].filter(lambda example: example['label'] == 0)\n",
        "ds_sms_sub = ds_sms_filtered.shuffle(seed=42).select(range(num_samples + 100)) #adding 100 just because messages are short\n",
        "del ds_sms\n",
        "\n",
        "ds_telephone_convos = Corpus(filename=download(\"switchboard-corpus\"))\n",
        "data = ds_telephone_convos.get_utterances_dataframe()\n",
        "data_list = data.to_dict(orient=\"records\")\n",
        "ds_telephone_convos = Dataset.from_list(data_list)\n",
        "ds_telephone_sub = ds_telephone_convos.shuffle(seed=42).select(range(200, 200 + num_samples))\n",
        "del ds_telephone_convos\n",
        "\n",
        "#this cell ran in 21 minutes (probably don't have to load the whole dataset?)"
      ]
    },
    {
      "cell_type": "code",
      "source": [
        "#city council meetings instead https://huggingface.co/datasets/lytang/MeetingBank-transcript?row=8&library=datasets\n",
        "ds_business_meetings = load_dataset(\"lytang/MeetingBank-transcript\")\n",
        "ds_business_meetings_sub = ds_business_meetings[\"train\"].shuffle(seed=42).select(range(num_samples))\n",
        "#https://huggingface.co/datasets/kariatouk/enron_curated_labeled/tree/main\n",
        "del ds_business_meetings"
      ],
      "metadata": {
        "id": "ZzPM-R-I-NJl"
      },
      "execution_count": null,
      "outputs": []
    },
    {
      "cell_type": "code",
      "execution_count": null,
      "metadata": {
        "id": "UxFhcx7563qg",
        "outputId": "4e8d580c-aab5-4ced-fd70-bb8397d415fa"
      },
      "outputs": [
        {
          "data": {
            "text/plain": [
              "['[ Have, + have ] you gone straight through? /']"
            ]
          },
          "execution_count": 5,
          "metadata": {},
          "output_type": "execute_result"
        }
      ],
      "source": [
        "ds_telephone_sub[0:1][\"text\"]"
      ]
    },
    {
      "cell_type": "code",
      "execution_count": null,
      "metadata": {
        "id": "bPuUludu63qg",
        "outputId": "3b725fa4-773c-4b6d-e606-204c0ea76bcc"
      },
      "outputs": [
        {
          "name": "stdout",
          "output_type": "stream",
          "text": [
            "{'text': ['WEBVTT\\nKind: captions\\nLanguage: en\\n\\n00:00:00.944 --> 00:00:03.596\\n(pop music)\\n\\n00:00:03.626 --> 00:00:07.552\\nLarry: It started with just a\\nfew little videos on algebra\\n\\n00:00:07.552 --> 00:00:11.447\\nto help out a cousin who\\nneeded assistance in school,\\n\\n00:00:11.447 --> 00:00:15.128\\nand, from there, it grew\\nand grew and grew into more\\n\\n00:00:15.128 --> 00:00:21.049\\nthan 3,200 YouTube videos,\\ngiving all kinds of instruction.\\n\\n00:00:21.049 --> 00:00:24.724\\nIt\\'s known as the Khan Academy,\\nbut, more than just that,\\n\\n00:00:24.724 --> 00:00:27.231\\nit\\'s leading to a rethinking\\nof how education is\\n\\n00:00:27.231 --> 00:00:30.046\\ndelivered in the nation\\'s\\nclassrooms and at home.\\n\\n00:00:30.046 --> 00:00:32.466\\nSalman Khan\\'s new book, The One World\\n\\n00:00:32.466 --> 00:00:34.836\\nSchool House: Education Reimagined.\\n\\n00:00:34.836 --> 00:00:36.391\\nSal, thank you for joining us.\\n\\n00:00:36.391 --> 00:00:37.351\\nWe appreciate it very much.\\n\\n00:00:37.351 --> 00:00:37.960\\nSal: Thanks for having me.\\n\\n00:00:37.960 --> 00:00:41.065\\nLarry: Take us back to what was going on.\\n\\n00:00:41.065 --> 00:00:43.350\\nHere you are, you\\'re doing your\\n\\n00:00:43.350 --> 00:00:45.985\\nhedge fund management and research,\\n\\n00:00:45.985 --> 00:00:48.747\\nand you have a cousin who needs some help.\\n\\n00:00:48.747 --> 00:00:50.392\\nHow does it all spring from this?\\n\\n00:00:50.392 --> 00:00:52.246\\nSal: Yeah; she needed help.\\n\\n00:00:52.246 --> 00:00:53.598\\nShe\\'s 12 years old.\\n\\n00:00:53.598 --> 00:00:55.969\\nShe was in New Orleans,\\nwhich is where I grew up.\\n\\n00:00:55.969 --> 00:00:57.391\\nI was in Boston at the time.\\n\\n00:00:57.391 --> 00:00:59.558\\nI offered to tutor her\\neveryday after work for me,\\n\\n00:00:59.558 --> 00:01:01.935\\nafter school for her; she agreed.\\n\\n00:01:02.211 --> 00:01:03.748\\nIt worked out.\\n\\n00:01:03.748 --> 00:01:07.263\\nWe just work out, do it\\nover the phone, and we used\\n\\n00:01:07.263 --> 00:01:09.756\\na little bit of this Yahoo\\nChat to kind of communicate.\\n\\n00:01:09.756 --> 00:01:12.764\\nShe eventually got into the kind of\\n\\n00:01:12.764 --> 00:01:14.762\\nthe more appropriate math track for her,\\n\\n00:01:14.762 --> 00:01:16.647\\nand I start tutoring her brothers.\\n\\n00:01:16.647 --> 00:01:19.182\\nWord got around in the family\\nthat free tutoring was happening.\\n\\n00:01:19.182 --> 00:01:20.950\\nSo, you fast forward about 18 months,\\n\\n00:01:20.950 --> 00:01:23.747\\nand I was tutoring about\\n10 or 15 family members\\n\\n00:01:23.747 --> 00:01:25.849\\neveryday after work; and it was a friend-\\n\\n00:01:25.849 --> 00:01:27.679\\nBy this point, I had moved\\nout to Northern California,\\n\\n00:01:27.679 --> 00:01:29.947\\nand a friend said, \"Well,\\nto help yoursef scale,\\n\\n00:01:29.947 --> 00:01:32.054\\n\"why don\\'t you put some\\nof these on YouTube?\"\\n\\n00:01:32.054 --> 00:01:35.197\\nand I thought it was a silly\\nidea, that YouTube was for\\n\\n00:01:35.197 --> 00:01:39.195\\ncats playing piano, but I gave it a shot.\\n\\n00:01:39.195 --> 00:01:41.779\\n&gt;From there, it just caught on, I guess.\\n\\n00:01:41.779 --> 00:01:44.472\\nLarry: How long did it take\\nfor the word to get out\\n\\n00:01:44.472 --> 00:01:46.913\\nand for people to start\\nusing these videos?\\n\\n00:01:46.913 --> 00:01:51.062\\nSal: It was just this I\\nthink word of mouth thing,\\n\\n00:01:51.062 --> 00:01:53.979\\nthat starting in 2006 a parent\\nwould tell another parent,\\n\\n00:01:53.979 --> 00:01:55.294\\na student would tell another student,\\n\\n00:01:55.294 --> 00:01:56.654\\na teacher would tell another teacher.\\n\\n00:01:56.654 --> 00:02:00.349\\nBy 2009, there were several\\nhundreds of thousands\\n\\n00:02:00.349 --> 00:02:02.380\\nof people using it on a regular basis.\\n\\n00:02:02.380 --> 00:02:05.849\\nThat\\'s when I quit my day\\njob to start this as a\\n\\n00:02:05.849 --> 00:02:07.748\\nnot for profit and work on this full time,\\n\\n00:02:07.748 --> 00:02:11.348\\nand then, by 2010, it had grown.\\n\\n00:02:11.348 --> 00:02:14.149\\nBy that point, we started to get\\na little bit of press as well.\\n\\n00:02:14.149 --> 00:02:17.549\\nWe\\'re now at about\\nalmost 7 million students\\n\\n00:02:17.549 --> 00:02:18.411\\nevery month are using it.\\n\\n00:02:18.411 --> 00:02:18.852\\nLarry: Wow.\\n\\n00:02:18.852 --> 00:02:22.452\\nThere\\'s a criticism from\\nThe Washington Post,\\n\\n00:02:22.452 --> 00:02:26.152\\nwhere this teacher has his\\nown company, I guess it is,\\n\\n00:02:26.152 --> 00:02:28.808\\nand was featured in a blog\\nin The Washington Post,\\n\\n00:02:28.808 --> 00:02:32.151\\nand part of the knock was\\nthat you said you spend\\n\\n00:02:32.151 --> 00:02:33.951\\na couple of minutes researching and do it,\\n\\n00:02:33.951 --> 00:02:36.650\\nbut I thought part of the\\nappeal of the videos is\\n\\n00:02:36.650 --> 00:02:39.303\\nthere is a sort of a naturalness there.\\n\\n00:02:39.303 --> 00:02:43.339\\nIt\\'s the less formal aspect of\\nit I think is part of the appeal.\\n\\n00:02:43.339 --> 00:02:44.053\\nSal: Yeah.\\n\\n00:02:44.053 --> 00:02:46.052\\nI think there\\'s two\\ndimensions to preparation.\\n\\n00:02:46.052 --> 00:02:48.472\\nI think one dimension is\\npreparation of your mind,\\n\\n00:02:48.472 --> 00:02:50.555\\nwhich is hopefully happened\\nover your entire lifetime,\\n\\n00:02:50.555 --> 00:02:52.889\\nbut obviously if I go\\ninto a topic that I\\'m not\\n\\n00:02:52.889 --> 00:02:55.472\\nexpert in at the moment,\\nI will spend hours on it.\\n\\n00:02:55.472 --> 00:02:58.550\\nBut I agree with you.\\n\\n00:02:58.550 --> 00:03:02.670\\nI think what people connected to\\nwas it was very conversational.\\n\\n00:03:02.670 --> 00:03:04.750\\nThey could tell it was some guy\\nmaking this for his cousins.\\n\\n00:03:04.750 --> 00:03:07.385\\nI didn\\'t edit out my thought processes.\\n\\n00:03:07.385 --> 00:03:09.390\\nYou could kind of hear\\nme thinking in real time.\\n\\n00:03:09.390 --> 00:03:11.752\\nSometimes I would go down one avenue,\\n\\n00:03:11.752 --> 00:03:13.751\\nthat was a logical avenue, but say,\\n\\n00:03:13.751 --> 00:03:15.069\\n\"Well actually, this isn\\'t working out.\\n\\n00:03:15.069 --> 00:03:15.894\\n\"Let\\'s back up.\"\\n\\n00:03:15.894 --> 00:03:17.751\\nToo often in math and science,\\n\\n00:03:17.751 --> 00:03:20.389\\nyou just get the final\\nsolution, and it seems\\n\\n00:03:20.389 --> 00:03:22.671\\nso easy and perfect, but\\nit seems impossible to you.\\n\\n00:03:22.671 --> 00:03:25.262\\nI think people appreciated\\nthat it felt much more human,\\n\\n00:03:25.262 --> 00:03:26.730\\nmuch more approachable in this way.\\n\\n00:03:26.730 --> 00:03:28.649\\nLarry: Much like it is\\nin a show like this,\\n\\n00:03:28.649 --> 00:03:31.151\\nwhich is unscripted and a conversation,\\n\\n00:03:31.151 --> 00:03:33.559\\nor a program like Morning Edition,\\n\\n00:03:33.559 --> 00:03:35.471\\nwhere it\\'s all scripted\\nand you have two anchors.\\n\\n00:03:35.471 --> 00:03:36.883\\nBoth have their place.\\n\\n00:03:36.883 --> 00:03:38.154\\nThey\\'re just different approaches.\\n\\n00:03:38.154 --> 00:03:39.059\\nSal: Exactly.\\n\\n00:03:39.059 --> 00:03:42.152\\nI think when I talk to a lot of\\n... and I\\'ve had the privilege of\\n\\n00:03:42.152 --> 00:03:44.552\\nworking with a lot of amazing\\nteachers, and they tell me.\\n\\n00:03:44.552 --> 00:03:46.561\\nI mean, the things that\\nconnect with students more\\n\\n00:03:46.561 --> 00:03:48.051\\nare the ones that are unscripted.\\n\\n00:03:48.051 --> 00:03:50.159\\nYour mind has to be very\\nclear and very distilled about\\n\\n00:03:50.159 --> 00:03:51.651\\nwhat you want to talk\\nabout and how you might\\n\\n00:03:51.651 --> 00:03:54.386\\ncommunicate it, but\\nhumans realize when you\\'re\\n\\n00:03:54.386 --> 00:03:56.490\\nreading something versus\\nwhen you\\'re actually\\n\\n00:03:56.490 --> 00:03:57.766\\nthinking and communicating\\nfrom your heart.\\n\\n00:03:57.766 --> 00:04:01.990\\nLarry: Let\\'s talk about\\ntaking this as a model\\n\\n00:04:01.990 --> 00:04:04.985\\nand incorporating it into\\nthe classroom in Los Altos,\\n\\n00:04:04.985 --> 00:04:08.166\\nup in the Bay Area, where you reside.\\n\\n00:04:08.166 --> 00:04:09.842\\nThey\\'re actually incorporating this.\\n\\n00:04:09.842 --> 00:04:10.848\\nHow does it work?\\n\\n00:04:10.848 --> 00:04:13.051\\nSal: They first reached out to us 2010,\\n\\n00:04:13.051 --> 00:04:14.451\\nwhen we got our first real funding from\\n\\n00:04:14.451 --> 00:04:16.185\\nGoogle and the Gates\\nFoundation to work on this.\\n\\n00:04:16.185 --> 00:04:18.951\\nAt the time, we thought it was\\na completely supplemental thing.\\n\\n00:04:18.951 --> 00:04:21.099\\nKhan Academy is your free tutor out there.\\n\\n00:04:21.099 --> 00:04:22.760\\nBut, as I write about in the book,\\n\\n00:04:22.760 --> 00:04:24.273\\nthey kind of reached out to us and said,\\n\\n00:04:24.273 --> 00:04:26.847\\n\"What would you do with a\\n5th grade math classroom,\\n\\n00:04:26.847 --> 00:04:28.738\\n\"now that you exist, your tools exist?\"\\n\\n00:04:28.738 --> 00:04:31.637\\nI said, \"I don\\'t think\\nit makes sense to use\\n\\n00:04:31.637 --> 00:04:33.787\\n\"class time to give lectures anymore.\\n\\n00:04:33.787 --> 00:04:36.357\\n\"Lectures might be useful, but now you can\\n\\n00:04:36.357 --> 00:04:38.537\\n\"pause and repeat and\\nwatch them on demand.\\n\\n00:04:38.537 --> 00:04:40.537\\n\"Let\\'s use class time for\\nsomething more constructive.\\n\\n00:04:40.537 --> 00:04:42.643\\n\"Why don\\'t we ask student\\nteaching each other?\\n\\n00:04:42.643 --> 00:04:44.739\\n\"Why don\\'t we have more one\\non one time with the teacher?\"\\n\\n00:04:44.739 --> 00:04:47.244\\nAnd as soon as you also remove\\nlectures from the classroom,\\n\\n00:04:47.244 --> 00:04:49.239\\nnow, all of a sudden,\\nyou don\\'t have to have\\n\\n00:04:49.239 --> 00:04:50.737\\nevery student working at the same pace.\\n\\n00:04:50.737 --> 00:04:52.743\\nYou could have them all kind of\\n\\n00:04:52.743 --> 00:04:54.440\\nmastering concepts then moving on.\\n\\n00:04:54.440 --> 00:04:57.982\\nThey thought it was an interesting\\nidea, so they gave it a shot.\\n\\n00:04:57.982 --> 00:05:01.561\\nThis was two years ago, and since\\nthen it\\'s been district-wide,\\n\\n00:05:01.561 --> 00:05:04.238\\nand they\\'ve been seeing some\\npretty interesting results.\\n\\n00:05:04.238 --> 00:05:07.440\\nLarry: You know the\\ncriticism that some have,\\n\\n00:05:07.440 --> 00:05:09.143\\nthe concern is that for the students\\n\\n00:05:09.143 --> 00:05:11.739\\nwho don\\'t have much parental support,\\n\\n00:05:11.739 --> 00:05:14.055\\nhave difficult time\\ngetting access to computer,\\n\\n00:05:14.055 --> 00:05:15.393\\nthey\\'re going to be left behind,\\n\\n00:05:15.393 --> 00:05:17.063\\nand the whiz kids are going to do great\\n\\n00:05:17.063 --> 00:05:18.645\\nbecause they can go at their own pace.\\n\\n00:05:18.645 --> 00:05:20.737\\nSal: Well, I think this addresses that\\n\\n00:05:20.737 --> 00:05:22.491\\nmore than the traditional model does.\\n\\n00:05:22.491 --> 00:05:24.739\\nThe traditional model\\nthat we all grew up in,\\n\\n00:05:24.739 --> 00:05:26.388\\nyou go home, you have homework,\\n\\n00:05:26.388 --> 00:05:28.238\\nand that\\'s where frankly\\na lot of the learning\\n\\n00:05:28.238 --> 00:05:30.480\\nshould happen, when you\\'re\\ndoing the problem solving.\\n\\n00:05:30.480 --> 00:05:34.386\\nIt\\'s the educated kids\\nwho have older siblings,\\n\\n00:05:34.386 --> 00:05:36.090\\nor who have parents who might be able to\\n\\n00:05:36.090 --> 00:05:38.426\\nhelp them on the\\nschoolwork, or whose parents\\n\\n00:05:38.426 --> 00:05:39.804\\nare even home and they\\'re not at work,\\n\\n00:05:39.804 --> 00:05:41.473\\nand then they go to class\\nand they do something\\n\\n00:05:41.473 --> 00:05:43.057\\nvery passive and they get frustrated.\\n\\n00:05:43.057 --> 00:05:45.393\\nWhat we\\'re advocating is\\nthat actually doing the\\n\\n00:05:45.393 --> 00:05:47.338\\nproblem-solving, which is\\na much more important part,\\n\\n00:05:47.338 --> 00:05:50.239\\nin class, where they\\'re\\nsurrounded by peers\\n\\n00:05:50.239 --> 00:05:51.540\\nand they have a support network,\\n\\n00:05:51.540 --> 00:05:53.282\\nso you don\\'t have the child whose parents\\n\\n00:05:53.282 --> 00:05:55.037\\naren\\'t home from work or\\nwhose parents don\\'t have\\n\\n00:05:55.037 --> 00:05:57.320\\na high school diploma, who can\\'t help them\\n\\n00:05:57.320 --> 00:05:59.357\\non an algebra homework,\\ngetting frustrated.\\n\\n00:05:59.357 --> 00:06:00.781\\nNow they\\'re in class; they\\'re surrounded.\\n\\n00:06:00.781 --> 00:06:02.940\\nThey have the teacher, the\\npeers, there\\'s a ton of help.\\n\\n00:06:02.940 --> 00:06:04.776\\nThere\\'s one classroom\\nwhere there was a student\\n\\n00:06:04.776 --> 00:06:06.039\\nwho spoke very little English.\\n\\n00:06:06.039 --> 00:06:09.037\\nIn a traditional classroom,\\nthat kid would just be\\n\\n00:06:09.037 --> 00:06:11.275\\nleft behind, even though\\nactually we found out\\n\\n00:06:11.275 --> 00:06:12.688\\nhe was quite good at mathematics.\\n\\n00:06:12.688 --> 00:06:14.934\\nWhat allowed to happen\\nin this model is that\\n\\n00:06:14.934 --> 00:06:17.540\\nthe teacher was able to\\nspend extra time with him.\\n\\n00:06:17.540 --> 00:06:19.370\\nThe teacher didn\\'t speak Spanish,\\n\\n00:06:19.370 --> 00:06:21.782\\nbut several of the students\\ndid, and so the students\\n\\n00:06:21.782 --> 00:06:23.539\\nwere able to be peer tutors and make sure\\n\\n00:06:23.539 --> 00:06:25.239\\nthat the student could keep up.\\n\\n00:06:25.239 --> 00:06:28.238\\nI think there is an issue\\nabout access to technology,\\n\\n00:06:28.238 --> 00:06:30.692\\nand we are working at\\ncharter schools in San Jose\\n\\n00:06:30.692 --> 00:06:32.939\\nand Oakland, places that\\nare more underserved,\\n\\n00:06:32.939 --> 00:06:36.268\\nbut actually they were seeing\\nsome of the biggest gains.\\n\\n00:06:36.268 --> 00:06:38.951\\nThe trick is how do we give\\naccess to the technology?\\n\\n00:06:38.951 --> 00:06:41.757\\nBut you could do it by keeping\\ncomputer labs open longer,\\n\\n00:06:41.757 --> 00:06:43.749\\nby having after school\\nprograms and other things.\\n\\n00:06:43.749 --> 00:06:45.668\\nLarry: So even if they\\'re\\nnot a quiet space at home,\\n\\n00:06:45.668 --> 00:06:47.674\\nthere\\'s another place that kids can go\\n\\n00:06:47.674 --> 00:06:49.257\\nto see those lectures.\\n\\n00:06:49.257 --> 00:06:50.757\\nWe\\'re talking with Salman Khan.\\n\\n00:06:50.757 --> 00:06:53.168\\nHe\\'s the founder of the\\nnonprofit Khan Academy,\\n\\n00:06:53.168 --> 00:06:55.506\\nand author of The One World School House:\\n\\n00:06:55.506 --> 00:06:58.595\\nEducation Reimagined;\\nand part of the case that\\n\\n00:06:58.595 --> 00:07:00.668\\nhe makes in this book is that the kind of\\n\\n00:07:00.668 --> 00:07:03.540\\nlow cost delivery of\\neducation in this model\\n\\n00:07:03.540 --> 00:07:06.257\\ncould revolutionize\\nunderdeveloped countries,\\n\\n00:07:06.257 --> 00:07:09.451\\nthose that just don\\'t\\nhave access to education,\\n\\n00:07:09.451 --> 00:07:12.944\\nthat this could be a huge\\nway of addressing that.\\n\\n00:07:12.944 --> 00:07:14.669\\nHow would you, though, deal with\\n\\n00:07:14.669 --> 00:07:17.174\\nthat kind of problem\\nsolving, the in classroom,\\n\\n00:07:17.174 --> 00:07:20.520\\nthe need for the educated professional?\\n\\n00:07:20.520 --> 00:07:22.668\\nSal: Yeah, well, in the developed world,\\n\\n00:07:22.668 --> 00:07:24.509\\nwhere students have access to a teacher,\\n\\n00:07:24.509 --> 00:07:28.595\\nI think this supercharges\\nthat physical part of it.\\n\\n00:07:28.595 --> 00:07:31.750\\nThis isn\\'t about virtual versus physical.\\n\\n00:07:31.750 --> 00:07:34.050\\nIt\\'s not Amazon.com\\nversus Barnes and Noble\\'s.\\n\\n00:07:34.050 --> 00:07:37.056\\nThis is about let\\'s take\\nlecture off the table,\\n\\n00:07:37.056 --> 00:07:40.655\\nbecause lecture, and we have\\nin the book a study that proved\\n\\n00:07:40.655 --> 00:07:43.576\\nthat lecture is probably the\\nworst possible use of time\\n\\n00:07:43.576 --> 00:07:45.152\\nand very little learning actually goes on,\\n\\n00:07:45.152 --> 00:07:47.751\\nmake that on demand, at a student\\'s time,\\n\\n00:07:47.751 --> 00:07:49.570\\nthey can remediate and not be embarassed,\\n\\n00:07:49.570 --> 00:07:51.789\\nand make class time all\\nabout problem solving,\\n\\n00:07:51.789 --> 00:07:53.287\\nall about interaction with the teachers.\\n\\n00:07:53.287 --> 00:07:54.954\\nSo, in our mind, if you have a teacher,\\n\\n00:07:54.954 --> 00:07:56.751\\nthey become that much more valuable\\n\\n00:07:56.751 --> 00:07:58.371\\nbecause you get to interact with them.\\n\\n00:07:58.371 --> 00:08:01.151\\nIn the developing world, you\\nhave a different problem.\\n\\n00:08:01.151 --> 00:08:03.452\\nEven if you have the\\nresources, you might not have\\n\\n00:08:03.452 --> 00:08:06.551\\na teacher in the village\\nwho can address that topic.\\n\\n00:08:06.551 --> 00:08:09.648\\nEven if you do, the students are\\nat all different skill levels.\\n\\n00:08:09.648 --> 00:08:10.783\\nSome might be illiterate.\\n\\n00:08:10.783 --> 00:08:13.146\\nSome might be somehow roughly\\nat their own grade level.\\n\\n00:08:13.146 --> 00:08:15.440\\nWhat we say is, in those context,\\n\\n00:08:15.440 --> 00:08:16.877\\nand there\\'s an orphanage in Mongolia,\\n\\n00:08:16.877 --> 00:08:19.223\\nactually several that\\nare using us in this way,\\n\\n00:08:19.223 --> 00:08:21.646\\nit\\'s better than nothing.\\n\\n00:08:21.646 --> 00:08:23.957\\nIt can give you a very\\nstrong academic scaffold.\\n\\n00:08:23.957 --> 00:08:26.375\\nYou have a community of learners\\nonline who can help you.\\n\\n00:08:26.375 --> 00:08:27.569\\nAnd sometimes you\\'re getting help\\n\\n00:08:27.569 --> 00:08:29.952\\nfrom a teacher on the\\nother side of the planet,\\n\\n00:08:29.952 --> 00:08:31.576\\nor another student on the\\nother side of the planet.\\n\\n00:08:31.576 --> 00:08:32.936\\nOr some of these kids are actually\\n\\n00:08:32.936 --> 00:08:34.451\\nhelping kids in the developed world.\\n\\n00:08:34.451 --> 00:08:37.653\\nSo, for us, it\\'s not an either/or.\\n\\n00:08:37.653 --> 00:08:39.683\\nThe ideal is you have amazing teachers,\\n\\n00:08:39.683 --> 00:08:41.897\\nbut if you have nothing,\\nlike these orphanages\\n\\n00:08:41.897 --> 00:08:43.650\\nin Mongolia, you\\'re getting something.\\n\\n00:08:43.650 --> 00:08:46.250\\nLarry: You can use\\nwebcams, things like that\\n\\n00:08:46.250 --> 00:08:48.486\\nto be able to make a two-way,\\n\\n00:08:48.486 --> 00:08:51.393\\ninteractive followup to online lectures?\\n\\n00:08:51.393 --> 00:08:53.064\\nSal: Yeah, that\\'s stuff\\nthat we have planned.\\n\\n00:08:53.064 --> 00:08:54.750\\nI talk a lot about it in the book.\\n\\n00:08:54.750 --> 00:08:57.394\\nI think Khan Academy is in\\nvery, very early stages,\\n\\n00:08:57.394 --> 00:08:58.985\\nand we set it up as a not for profit,\\n\\n00:08:58.985 --> 00:09:01.342\\nso it really has this potential\\nto be this institution\\n\\n00:09:01.342 --> 00:09:03.897\\nto deliver education\\nfor the world for free.\\n\\n00:09:03.897 --> 00:09:06.144\\nI hope in 50 or 100 years, well after ...\\n\\n00:09:06.144 --> 00:09:07.853\\nwell, hopefully I\\'m around in 50 years,\\n\\n00:09:07.853 --> 00:09:11.250\\nbut even after I\\'m gone,\\npeople will still be\\n\\n00:09:11.250 --> 00:09:13.066\\nworking on the problem\\nof how can we make this\\n\\n00:09:13.066 --> 00:09:14.393\\nmore interactive, more engaging,\\n\\n00:09:14.393 --> 00:09:15.751\\nand connect more learners\\naround the world?\\n\\n00:09:15.751 --> 00:09:17.752\\nLarry: Salman Khan,\\nauthor of The One World\\n\\n00:09:17.752 --> 00:09:20.650\\nSchool House: Education Reimagined.\\n\\n00:09:20.650 --> 00:09:23.254\\nI\\'d love to hear from you\\nyour questions or comments\\n\\n00:09:23.254 --> 00:09:26.051\\nabout Khan Academy, about the more than\\n\\n00:09:26.051 --> 00:09:29.293\\n3,200 YouTube teaching\\nvideos that are there,\\n\\n00:09:29.293 --> 00:09:31.230\\nhow it\\'s being used by school districts,\\n\\n00:09:31.230 --> 00:09:33.329\\nby individual schools as well.\\n\\n00:09:33.329 --> 00:09:40.230\\nWe\\'re at 866-893-KPCC, 866-893-5722,\\n\\n00:09:40.230 --> 00:09:43.871\\nor the AirTalk page at KPCC.org.\\n\\n00:09:43.871 --> 00:09:46.530\\nTR asked an interesting\\nquestion he has on the page,\\n\\n00:09:46.530 --> 00:09:48.956\\n\"Are there tests that an\\nadult can take to assess\\n\\n00:09:48.956 --> 00:09:52.230\\ntheir math shortcomings\\non the Khan Academy site?\"\\n\\n00:09:52.230 --> 00:09:53.126\\nSal: Yeah.\\n\\n00:09:53.126 --> 00:09:54.829\\nThat\\'s what we\\'re working on right now.\\n\\n00:09:54.829 --> 00:09:56.552\\nWe already have a significant exercise.\\n\\n00:09:56.552 --> 00:09:58.380\\nAnyone can go to Khan Academy, log in.\\n\\n00:09:58.380 --> 00:10:00.728\\nActually, our team now, we\\'re\\n36 people; it\\'s not just me.\\n\\n00:10:00.728 --> 00:10:03.041\\nMost of them are software\\nengineers and educators\\n\\n00:10:03.041 --> 00:10:05.557\\nwho are working on exactly\\nwhat\\'s being described.\\n\\n00:10:05.557 --> 00:10:07.329\\nYou get as many problems as you need.\\n\\n00:10:07.329 --> 00:10:08.289\\nIt assesses you.\\n\\n00:10:08.289 --> 00:10:09.742\\nIt keeps progressing you forward.\\n\\n00:10:09.742 --> 00:10:11.295\\nYou get feedback on what you\\'re doing.\\n\\n00:10:11.295 --> 00:10:13.629\\nWhat we want to do is\\nbroaden that to well beyond\\n\\n00:10:13.629 --> 00:10:15.631\\nmathematics, so you can\\nget assessment on things,\\n\\n00:10:15.631 --> 00:10:17.785\\ndiagnostics, and then show what you know,\\n\\n00:10:17.785 --> 00:10:19.329\\nand if you\\'re having\\ntrouble in a certain domain,\\n\\n00:10:19.329 --> 00:10:21.372\\nthere are these tutorials\\nthat can help you out.\\n\\n00:10:21.372 --> 00:10:22.631\\nLarry: One thing I forgot to mention,\\n\\n00:10:22.631 --> 00:10:25.230\\nbecause this is really a\\ncentral part of your approach,\\n\\n00:10:25.230 --> 00:10:27.929\\nis that everybody needs to be able to show\\n\\n00:10:27.929 --> 00:10:30.036\\nthat they\\'ve mastered a step before\\n\\n00:10:30.036 --> 00:10:31.459\\nthey move on to the next one,\\n\\n00:10:31.459 --> 00:10:34.542\\nand schools are in a tough\\nspot trying to do that.\\n\\n00:10:34.542 --> 00:10:37.290\\nSal: I talked about in\\nthe book pretty heavily is\\n\\n00:10:37.290 --> 00:10:40.829\\nall the debate about education\\nessentially misses the point.\\n\\n00:10:40.829 --> 00:10:43.729\\nIt\\'s all kind of on the fringes\\nof this model that we have\\n\\n00:10:43.729 --> 00:10:46.131\\nthat few people realize we\\ninherited from the Prussians,\\n\\n00:10:46.131 --> 00:10:49.630\\na country that does not\\nexist anymore, 200 years ago.\\n\\n00:10:49.630 --> 00:10:52.547\\nThe Prussian model was based on how do we\\n\\n00:10:52.547 --> 00:10:54.527\\neducate a lot of people cost effectively?\\n\\n00:10:54.527 --> 00:10:56.638\\nWell, it was the beginning\\nof the industrial revolution,\\n\\n00:10:56.638 --> 00:10:57.835\\nso we\\'ll do the same thing.\\n\\n00:10:57.835 --> 00:11:00.223\\nWe\\'ll bash them together\\nin these age cohorts.\\n\\n00:11:00.223 --> 00:11:01.545\\nThey go to the same pace.\\n\\n00:11:01.545 --> 00:11:03.837\\nThey go to these stations,\\nwhich are these classes.\\n\\n00:11:03.837 --> 00:11:05.553\\nKnowledge is applied to them.\\n\\n00:11:05.553 --> 00:11:07.736\\nSome, it sticks; some, it doesn\\'t.\\n\\n00:11:07.736 --> 00:11:10.637\\nThen you sift out the product,\\nand some become doctors\\n\\n00:11:10.637 --> 00:11:13.337\\nand some don\\'t become\\ndoctors or engineers.\\n\\n00:11:13.337 --> 00:11:15.964\\nWhat we\\'re saying is we think we can\\n\\n00:11:15.964 --> 00:11:17.543\\nbreak out of that\\nPrussian model now because\\n\\n00:11:17.543 --> 00:11:19.882\\nthat Prussian model\\npretty much dooms people\\n\\n00:11:19.882 --> 00:11:21.969\\nto hit walls in their understanding.\\n\\n00:11:21.969 --> 00:11:25.336\\nRight now, in the model,\\nyou get a C on your exam\\n\\n00:11:25.336 --> 00:11:28.337\\non basic exponents, it moves you\\nto the next topic the next week,\\n\\n00:11:28.337 --> 00:11:30.238\\nwhere you go to negative\\nexponents or logarithms,\\n\\n00:11:30.238 --> 00:11:31.936\\nsomehow expecting you to master that,\\n\\n00:11:31.936 --> 00:11:34.480\\neven though you had that weak foundation.\\n\\n00:11:34.480 --> 00:11:36.401\\nAnd so, we say no.\\n\\n00:11:36.401 --> 00:11:39.067\\nMaster that concept, at least\\nget a basic proficiency in it,\\n\\n00:11:39.067 --> 00:11:42.096\\nand only then is it realistic\\nfor you to be able to\\n\\n00:11:42.096 --> 00:11:43.800\\nunderstand something\\nthat builds on top of it.\\n\\n00:11:43.800 --> 00:11:46.932\\nLarry: It\\'s funny, when I was in\\n6th grade, it was way pre-Internet,\\n\\n00:11:46.932 --> 00:11:50.047\\nI was in an experimental\\nclassroom public school\\n\\n00:11:50.047 --> 00:11:51.738\\nin Inglewood here in Southern California.\\n\\n00:11:51.738 --> 00:11:54.139\\nThey were trying something\\nwhere they combine\\n\\n00:11:54.139 --> 00:11:57.939\\n5th and 6th grade, so it\\nwas a joint classroom,\\n\\n00:11:57.939 --> 00:12:00.337\\nand there was almost no lecture.\\n\\n00:12:00.337 --> 00:12:01.837\\nThe teacher sat in the middle of the room,\\n\\n00:12:01.837 --> 00:12:05.462\\nand we had work stations in\\ndifferent subject areas, again,\\n\\n00:12:05.462 --> 00:12:09.430\\nso there are no videos, essentially,\\nbut all kinds of stations.\\n\\n00:12:09.430 --> 00:12:10.337\\nYou work at your own pace.\\n\\n00:12:10.337 --> 00:12:11.966\\nThere were tests along\\nthe way to make sure\\n\\n00:12:11.966 --> 00:12:13.547\\nyou had mastery before you moved on;\\n\\n00:12:13.547 --> 00:12:15.960\\nand it was my favorite\\nyear of school, because\\n\\n00:12:15.960 --> 00:12:19.138\\nin areas where I was good,\\nI could go really fast;\\n\\n00:12:19.138 --> 00:12:22.046\\nin areas where I needed more\\nhelp, I had the teacher available,\\n\\n00:12:22.046 --> 00:12:24.882\\none on one, to be able\\nto help me through it.\\n\\n00:12:24.882 --> 00:12:28.230\\nI don\\'t know how long that ever\\nlast or what happened to it,\\n\\n00:12:28.230 --> 00:12:30.551\\nbut for me it was perfect\\nfor my learning style.\\n\\n00:12:30.551 --> 00:12:34.137\\nIt just seems like those\\nkinds of experiments\\n\\n00:12:34.137 --> 00:12:36.048\\nwere often very hard to\\ncome by when you\\'ve got\\n\\n00:12:36.048 --> 00:12:39.298\\nsuch disparate student\\nlevel of achievement.\\n\\n00:12:39.298 --> 00:12:40.138\\nSal: Yeah.\\n\\n00:12:40.138 --> 00:12:43.380\\nI think what you\\'re describing,\\nit\\'s not just for you.\\n\\n00:12:43.380 --> 00:12:44.635\\nI think almost any human being\\n\\n00:12:44.635 --> 00:12:46.138\\nwould say that is how\\nthey naturally learn.\\n\\n00:12:46.138 --> 00:12:48.633\\nIn the book, I talk about that\\nis how people naturally learn,\\n\\n00:12:48.633 --> 00:12:50.952\\nthrough activity, through personalization,\\n\\n00:12:50.952 --> 00:12:52.537\\nthrough interaction\\nwith other human beings.\\n\\n00:12:52.537 --> 00:12:55.036\\nWhat I think is special\\nabout this time in history\\n\\n00:12:55.036 --> 00:12:56.567\\nis that there are many\\nexperiments like the one\\n\\n00:12:56.567 --> 00:12:58.536\\nyou were a part of in your childhood.\\n\\n00:12:58.536 --> 00:12:59.779\\nThere are a lot of schools that are moving\\n\\n00:12:59.779 --> 00:13:01.279\\nin that direction, but\\nit\\'s not mainstream.\\n\\n00:13:01.279 --> 00:13:03.445\\nWhat we\\'re seeing now is\\nbecause of the technology,\\n\\n00:13:03.445 --> 00:13:05.635\\nbecause of this broad\\nadoption that things like\\n\\n00:13:05.635 --> 00:13:08.452\\nKhan Academy are seeing, it\\'s\\nstarting to be mainstream.\\n\\n00:13:08.452 --> 00:13:11.370\\nThe coordination is starting\\nto empower teachers to do that.\\n\\n00:13:11.370 --> 00:13:13.038\\nLarry: We still do group projects, too,\\n\\n00:13:13.038 --> 00:13:14.250\\nwhich I know your summer camp,\\n\\n00:13:14.250 --> 00:13:16.365\\nthat\\'s a big part of it, right?\\n\\n00:13:16.365 --> 00:13:17.137\\nSal: Right.\\n\\n00:13:17.137 --> 00:13:19.638\\nOne thing I talk a lot about\\nin the book is everyone\\'s\\n\\n00:13:19.638 --> 00:13:21.736\\nall paranoid about are we\\nfalling behind Estonia or\\n\\n00:13:21.736 --> 00:13:25.362\\nSouth Korea or Finland because\\nof our algebra test scores,\\n\\n00:13:25.362 --> 00:13:28.236\\nand it\\'s worth not being\\ncomplacent about that,\\n\\n00:13:28.236 --> 00:13:32.137\\nbut what I emphasize\\nis America is becoming\\n\\n00:13:32.137 --> 00:13:34.036\\nmore and more the center\\nof the world\\'s innovation,\\n\\n00:13:34.036 --> 00:13:36.336\\nand that\\'s because we have\\nthis culture of creativity.\\n\\n00:13:36.336 --> 00:13:38.638\\nFailure isn\\'t stigmatized.\\n\\n00:13:38.638 --> 00:13:40.538\\nWhat I see, instead of\\nmaking our Prussian model\\n\\n00:13:40.538 --> 00:13:42.737\\nmore like the one in\\nFinland or South Korea or\\n\\n00:13:42.737 --> 00:13:45.452\\nSingapore, let\\'s make ours more American,\\n\\n00:13:45.452 --> 00:13:47.365\\nwhere it\\'s more personalized, more time\\n\\n00:13:47.365 --> 00:13:49.870\\nwith other human beings,\\nand time for creativity.\\n\\n00:13:49.870 --> 00:13:50.946\\nCreativity is probably the single\\n\\n00:13:50.946 --> 00:13:53.452\\nmost important thing today,\\nbut our current model\\n\\n00:13:53.452 --> 00:13:55.947\\ncompletely squeezes time\\nfor it out of the equation.\\n\\n00:13:55.947 --> 00:13:58.236\\nLarry: Bill in Huntington\\nBeach, you\\'re on AirTalk.\\n\\n00:13:58.236 --> 00:13:59.290\\nBill: Hi.\\n\\n00:13:59.290 --> 00:14:04.037\\nI want to express my\\ngratitude for the Khan Academy\\n\\n00:14:04.037 --> 00:14:07.784\\nand all the tapes that are out there.\\n\\n00:14:07.784 --> 00:14:14.537\\nI\\'m a 55-year-old grad student,\\nreturning to civil engineering.\\n\\n00:14:14.537 --> 00:14:19.567\\nIt\\'s been 30 years since I first\\ntook calculus and I\\'d lost it all.\\n\\n00:14:19.567 --> 00:14:22.952\\nAnd so, I really literally\\nrelearned the subject\\n\\n00:14:22.952 --> 00:14:25.427\\nover the span of a few months.\\n\\n00:14:25.427 --> 00:14:28.565\\nThanks to Sal and his great tapes.\\n\\n00:14:28.565 --> 00:14:30.738\\nLarry: Wow; so not just kids?\\n\\n00:14:30.738 --> 00:14:31.738\\nSal: No.\\n\\n00:14:31.738 --> 00:14:32.951\\nWe see that in the data.\\n\\n00:14:32.951 --> 00:14:35.788\\nStories like that is what\\nkeep our whole team motivated.\\n\\n00:14:35.788 --> 00:14:38.536\\nLarry: Maurice in San Dimas, welcome.\\n\\n00:14:38.536 --> 00:14:40.135\\nMaurice: Hi, Larry.\\n\\n00:14:40.135 --> 00:14:42.447\\nMy wife is a teacher\\nin San Gabriel Valley,\\n\\n00:14:42.447 --> 00:14:45.788\\nteaching chemistry, and\\nshe loved the videos,\\n\\n00:14:45.788 --> 00:14:49.639\\nand actually uses it\\nas homework assignments\\n\\n00:14:49.639 --> 00:14:52.038\\nas a review, more than anything.\\n\\n00:14:52.038 --> 00:14:54.866\\nThe main problem that I see\\nis that the school district\\n\\n00:14:54.866 --> 00:14:56.837\\ndoesn\\'t let her actually play the videos\\n\\n00:14:56.837 --> 00:14:59.227\\nin the classroom because it\\'s on YouTube.\\n\\n00:14:59.227 --> 00:15:00.429\\nSal: Yeah.\\n\\n00:15:00.429 --> 00:15:03.777\\nThat\\'s a very real issue.\\n\\n00:15:03.777 --> 00:15:05.302\\nA lot of classrooms block YouTube.\\n\\n00:15:05.302 --> 00:15:07.016\\nSome countries block YouTube.\\n\\n00:15:07.016 --> 00:15:10.961\\nOn Khan Academy, there\\'s\\nlike a little link where\\n\\n00:15:10.961 --> 00:15:13.545\\nyou can acces it on mirrored\\nsites, some of the videos,\\n\\n00:15:13.545 --> 00:15:16.881\\nbut I think school districts are ...\\nand that\\'s a short term solution.\\n\\n00:15:16.881 --> 00:15:18.244\\nThe school districts\\nare starting to realize\\n\\n00:15:18.244 --> 00:15:20.045\\nthat YouTube does have educational value,\\n\\n00:15:20.045 --> 00:15:22.543\\nand YouTube is starting\\nto realize that as well.\\n\\n00:15:22.543 --> 00:15:24.964\\nI think collectively we\\'re\\nall working on solutions\\n\\n00:15:24.964 --> 00:15:26.545\\nto address exactly what you described.\\n\\n00:15:26.545 --> 00:15:28.047\\nLarry: Roxanne in West Lake Village\\n\\n00:15:28.047 --> 00:15:30.373\\nsays she\\'s a math tutor, refers students\\n\\n00:15:30.373 --> 00:15:31.962\\nto Khan Academy all the time.\\n\\n00:15:31.962 --> 00:15:34.460\\nThen parents ask, \"Why do\\nI need to hire tutors?\"\\n\\n00:15:34.460 --> 00:15:36.345\\nBut there\\'s still a great need because\\n\\n00:15:36.345 --> 00:15:38.373\\nkids need to practice the hands on,\\n\\n00:15:38.373 --> 00:15:40.243\\njust like when learning baseball.\\n\\n00:15:40.243 --> 00:15:42.043\\nSal: Once again, Khan\\nAcademy is not there to\\n\\n00:15:42.043 --> 00:15:43.845\\nreplace humans; it\\'s there\\nto supercharge humans.\\n\\n00:15:43.845 --> 00:15:46.435\\nAll of this started off as me\\nbeing a tutor, and it wasn\\'t\\n\\n00:15:46.435 --> 00:15:49.834\\nto replace myself, it was\\nreally to allow my ...\\n\\n00:15:49.834 --> 00:15:51.850\\nand get the half an hour\\nthat I had with Nadia\\n\\n00:15:51.850 --> 00:15:53.543\\nto be more constructive,\\nso I didn\\'t have to lecture\\n\\n00:15:53.543 --> 00:15:55.380\\nfor things for her and\\nshe didn\\'t have to be\\n\\n00:15:55.380 --> 00:15:57.243\\nembarassed to ask a\\nquestion from 4th grade.\\n\\n00:15:57.243 --> 00:15:58.446\\nShe could get it on demand.\\n\\n00:15:58.446 --> 00:16:00.544\\nAnd so, yeah, that\\'s what\\nyou\\'ve got to tell parents,\\n\\n00:16:00.544 --> 00:16:02.944\\nthat the tutor is now more valuable\\n\\n00:16:02.944 --> 00:16:04.648\\nand can take things to\\nanother level with students.\\n\\n00:16:04.648 --> 00:16:06.212\\nLarry: Jennifer in Fullerton,\\n\\n00:16:06.212 --> 00:16:09.446\\nwondering about translation\\nfor other countries.\\n\\n00:16:09.446 --> 00:16:11.172\\nYou\\'re looking at new videos to serve in\\n\\n00:16:11.172 --> 00:16:13.079\\nother languages or dubbing yourself?\\n\\n00:16:13.079 --> 00:16:15.613\\nSal: We actually have a\\nfairly extensive project.\\n\\n00:16:15.613 --> 00:16:19.447\\nWe\\'ve translated and\\nredone 7,000 videos into\\n\\n00:16:19.447 --> 00:16:21.843\\nother languages, the 12\\nmajor languages of the world.\\n\\n00:16:21.843 --> 00:16:24.090\\nIf you go to the bottom of the\\nsite, you see a little drop down.\\n\\n00:16:24.090 --> 00:16:25.590\\nWe have actually 1,000 in Spanish,\\n\\n00:16:25.590 --> 00:16:27.127\\n1,000 in Portuguese,\\nand a bunch of others.\\n\\n00:16:27.127 --> 00:16:27.448\\nLarry: Wow.\\n\\n00:16:27.448 --> 00:16:28.739\\nJonathan in Long Beach says,\\n\\n00:16:28.769 --> 00:16:31.662\\n\"The technology really\\nstreamlined the college system.\"\\n\\n00:16:31.662 --> 00:16:33.844\\nHe\\'s a student at Long Beach City College.\\n\\n00:16:33.844 --> 00:16:35.537\\nHe says, \"Lectures go on and on,\\n\\n00:16:35.537 --> 00:16:37.839\\n\"regurgitation and inefficient.\"\\n\\n00:16:37.839 --> 00:16:39.938\\nSalman Khan, thank you for being with us.\\n\\n00:16:39.938 --> 00:16:41.351\\nAppreciate it very much.\\n\\n00:16:41.351 --> 00:16:43.269\\nWe\\'ll see how much your\\nideas make their way\\n\\n00:16:43.269 --> 00:16:45.037\\ninto mainstream American education.\\n\\n00:16:45.037 --> 00:16:45.855\\nSal: Thank you.\\n\\n00:16:45.855 --> 00:16:47.941\\nLarry: The One World School House:\\n\\n00:16:47.941 --> 00:16:50.264\\nEducation Reimagined, by the founder of\\n\\n00:16:50.264 --> 00:16:52.770\\nthe nonprofit Khan Academy, Salman Khan.\\n\\n00:16:52.770 --> 00:16:55.441\\nIt\\'s AirTalk on 89.3 KPCC.\\n\\n00:16:55.441 --> 00:16:56.936\\nHave a great afternoon.\\n\\n00:16:56.936 --> 00:17:00.936\\nBBC News Hour comes up\\nnext, and then The World-\\n\\n', \"WEBVTT\\nKind: captions\\nLanguage: en\\n\\n00:00:00.000 --> 00:00:01.749\\nSALMAN KHAN: I'm here\\nwith Doctor Laurence\\n\\n00:00:01.749 --> 00:00:03.540\\nBaker from Stanford\\nMedical School,\\n\\n00:00:03.540 --> 00:00:06.950\\nand we're going to talk about\\nhealth care costs, or health\\n\\n00:00:06.950 --> 00:00:09.670\\ncare economics, which\\nyou're an expert in.\\n\\n00:00:09.670 --> 00:00:12.253\\nLAURENCE BAKER: I like to spend\\na lot of time thinking about--\\n\\n00:00:12.253 --> 00:00:13.850\\n[INTERPOSING VOICES]\\n\\n00:00:13.850 --> 00:00:15.520\\nSALMAN KHAN: So all\\nof these charts,\\n\\n00:00:15.520 --> 00:00:17.700\\nwhich all seem to have\\na similar shape here,\\n\\n00:00:17.700 --> 00:00:19.550\\nthese are, essentially,\\nmeasures of how much\\n\\n00:00:19.550 --> 00:00:20.971\\nwe're spending on health care.\\n\\n00:00:20.971 --> 00:00:22.720\\nSo this first one right\\nhere, what's this?\\n\\n00:00:22.720 --> 00:00:26.065\\nTotal health spending 1960-2009.\\n\\n00:00:26.065 --> 00:00:27.520\\nAnd it says, United States.\\n\\n00:00:27.520 --> 00:00:28.570\\nLAURENCE BAKER: This\\nis the United States.\\n\\n00:00:28.570 --> 00:00:30.819\\nThis is data that's compiled\\nby the federal government\\n\\n00:00:30.819 --> 00:00:33.180\\nevery year since, well,\\n1960 and this figure is--\\n\\n00:00:33.180 --> 00:00:35.359\\nSALMAN KHAN: And this isn't\\nadjusted for inflation.\\n\\n00:00:35.359 --> 00:00:37.400\\nLAURENCE BAKER: That's\\nnot adjusted for anything.\\n\\n00:00:37.400 --> 00:00:39.722\\nThat's the total dollar\\nvalue that the folks\\n\\n00:00:39.722 --> 00:00:42.180\\nin the federal government who\\nlike to calculate this number\\n\\n00:00:42.180 --> 00:00:43.670\\nhave come up with\\nfor the amount we\\n\\n00:00:43.670 --> 00:00:45.444\\nspend on health care in a year.\\n\\n00:00:45.444 --> 00:00:46.110\\nSALMAN KHAN: OK.\\n\\n00:00:46.110 --> 00:00:48.570\\nSo someone looking just at\\nthis data point might say, OK.\\n\\n00:00:48.570 --> 00:00:50.360\\nMaybe it's not\\ninflation-adjusted.\\n\\n00:00:50.360 --> 00:00:53.540\\nMaybe the inflation curve is\\nalso growing at some rate here.\\n\\n00:00:53.540 --> 00:00:56.130\\nBut the absolute numbers\\ndo seem to be large.\\n\\n00:00:56.130 --> 00:01:01.460\\nBy 2009, I guess it's\\nalready-- well, 2009.\\n\\n00:01:01.460 --> 00:01:03.340\\nWe're already several\\nyears passed that.\\n\\n00:01:03.340 --> 00:01:04.980\\ntwo and a half\\ntrillion dollars just\\n\\n00:01:04.980 --> 00:01:06.500\\nto get people clear to\\nwhat we're talking about.\\n\\n00:01:06.500 --> 00:01:07.410\\nThis is in billions.\\n\\n00:01:07.410 --> 00:01:10.750\\nThis is 2,486 billion.\\n\\n00:01:10.750 --> 00:01:13.520\\nSo that's $2.4\\ntrillion, and then\\n\\n00:01:13.520 --> 00:01:18.390\\nthat's predicted to\\nalmost double by 2019.\\n\\n00:01:18.390 --> 00:01:20.770\\nAnd our GDP is on the\\norder of $15 trillion.\\n\\n00:01:20.770 --> 00:01:24.310\\nSo it's a significant chunk\\nof everything that we produce.\\n\\n00:01:24.310 --> 00:01:26.810\\nLAURENCE BAKER: That's a big\\nchunk of everything we produce.\\n\\n00:01:26.810 --> 00:01:28.721\\nYeah, going up rapidly.\\n\\n00:01:28.721 --> 00:01:30.720\\nHard to predict a little\\nbit, but all the trends\\n\\n00:01:30.720 --> 00:01:32.370\\nare up and so we're\\nworried about--\\n\\n00:01:32.370 --> 00:01:34.060\\nSALMAN KHAN: And this is\\non a per capita basis.\\n\\n00:01:34.060 --> 00:01:35.559\\nSo I guess there's\\ntwo ways to think\\n\\n00:01:35.559 --> 00:01:37.190\\nabout why costs are going up.\\n\\n00:01:37.190 --> 00:01:41.030\\nOne is that maybe we just\\nhave a lot more people\\n\\n00:01:41.030 --> 00:01:44.610\\nor, that on a per person\\nbasis, we are spending more.\\n\\n00:01:44.610 --> 00:01:46.740\\nAnd this chart seems\\nto imply the latter.\\n\\n00:01:46.740 --> 00:01:48.050\\nLAURENCE BAKER: This says,\\non a per person basis,\\n\\n00:01:48.050 --> 00:01:48.883\\nwe're spending more.\\n\\n00:01:48.883 --> 00:01:51.300\\nStill not inflation\\nadjusted in this chart.\\n\\n00:01:51.300 --> 00:01:55.173\\nBut going from\\n$100 or so in 1960\\n\\n00:01:55.173 --> 00:01:58.450\\nto $8,000 in the last\\ncouple of years--\\n\\n00:01:58.450 --> 00:02:01.260\\nand you can see the trend\\nsince, say, 2005 in there.\\n\\n00:02:01.260 --> 00:02:03.890\\nIt's up and it's up\\npretty steeply just\\n\\n00:02:03.890 --> 00:02:05.020\\nin the last little bit.\\n\\n00:02:05.020 --> 00:02:06.130\\nAnd headed for maybe\\n$13,000 or $14,000.\\n\\n00:02:06.130 --> 00:02:07.463\\nSALMAN KHAN: $13,000 or $14,000.\\n\\n00:02:07.463 --> 00:02:11.030\\nThat's a nice sub-compact\\ncar one could buy.\\n\\n00:02:11.030 --> 00:02:12.800\\nNot to say what's\\nmore important.\\n\\n00:02:12.800 --> 00:02:14.564\\nAnd so this next\\nchart right over here\\n\\n00:02:14.564 --> 00:02:16.730\\nis actually that calculation\\nas a percentage of GDP.\\n\\n00:02:16.730 --> 00:02:19.330\\nAnd, to me, this is, maybe, one\\nof the most relevant things,\\n\\n00:02:19.330 --> 00:02:22.310\\nbecause that\\nadjusted for things.\\n\\n00:02:22.310 --> 00:02:24.090\\nIt doesn't directly\\nadjust for inflation\\n\\n00:02:24.090 --> 00:02:26.870\\nbut it says, as a percentage of\\nall of the goods and services\\n\\n00:02:26.870 --> 00:02:31.162\\nas an economy that we are\\ndoing, this is a percentage.\\n\\n00:02:31.162 --> 00:02:32.870\\nSo this is an interesting\\none right here.\\n\\n00:02:32.870 --> 00:02:36.680\\nSo in 1960, roughly\\n5% of everything\\n\\n00:02:36.680 --> 00:02:39.310\\nthat all the goods and\\nservices Americans produced,\\n\\n00:02:39.310 --> 00:02:41.690\\n1 in 20 of that,\\nof our energies,\\n\\n00:02:41.690 --> 00:02:43.610\\nwas spent towards health care.\\n\\n00:02:43.610 --> 00:02:47.890\\nAnd now it's looking like,\\nin the next few years,\\n\\n00:02:47.890 --> 00:02:49.500\\nit's going to be\\napproaching 20%.\\n\\n00:02:49.500 --> 00:02:51.230\\nIt's already in the upper teens.\\n\\n00:02:51.230 --> 00:02:55.040\\nLAURENCE BAKER: Yeah, its past\\n15%, 16%, and we're headed up.\\n\\n00:02:55.040 --> 00:02:57.597\\nThe last year or so, maybe,\\nit was a little slower growth,\\n\\n00:02:57.597 --> 00:03:00.180\\nbut you can see the trend over\\nthe last decade or two decades.\\n\\n00:03:00.180 --> 00:03:01.700\\nIt's up up and up.\\n\\n00:03:01.700 --> 00:03:03.080\\nSo you're right.\\n\\n00:03:03.080 --> 00:03:04.850\\nWhen health\\neconomists, when people\\n\\n00:03:04.850 --> 00:03:06.924\\nwho think about\\nthis more deeply,\\n\\n00:03:06.924 --> 00:03:08.590\\nwant to think about\\nhealth care spending\\n\\n00:03:08.590 --> 00:03:10.000\\ntwo and a half trillion\\nis an interesting number.\\n\\n00:03:10.000 --> 00:03:11.291\\n8,000 is an interesting number.\\n\\n00:03:11.291 --> 00:03:13.000\\nBut this one captures\\npopulation growth\\n\\n00:03:13.000 --> 00:03:14.880\\nto a large extent,\\ncaptures inflation.\\n\\n00:03:14.880 --> 00:03:18.210\\nAnd the fact that we're\\nspending one seventh, roughly,\\n\\n00:03:18.210 --> 00:03:20.920\\nof our productive capacity on\\nhealth care is interesting--\\n\\n00:03:20.920 --> 00:03:22.700\\nSALMAN KHAN: And closely\\napproaching-- actually, it's\\n\\n00:03:22.700 --> 00:03:24.241\\nalready one sixth\\nand approaching one\\n\\n00:03:24.241 --> 00:03:28.860\\nfifth of everything that\\nwe do is about health care.\\n\\n00:03:28.860 --> 00:03:31.570\\nAnd I guess there's a\\ncouple of things there.\\n\\n00:03:31.570 --> 00:03:34.720\\nMaybe we're getting healthier,\\nI guess, is one possibility.\\n\\n00:03:34.720 --> 00:03:37.399\\nOr maybe we aren't and\\nthen something is weird.\\n\\n00:03:37.399 --> 00:03:39.940\\nLAURENCE BAKER: Well, that's\\nthe really interesting question.\\n\\n00:03:39.940 --> 00:03:41.440\\nWe can think about\\nwhy this is going up,\\n\\n00:03:41.440 --> 00:03:42.815\\nbut at the end of\\nthe day, you're\\n\\n00:03:42.815 --> 00:03:44.320\\nhappy if we're\\nspending this much\\n\\n00:03:44.320 --> 00:03:46.440\\nand if we're spending\\nmore than other countries,\\n\\n00:03:46.440 --> 00:03:48.020\\nwe're spending more\\nthan we did last year,\\n\\n00:03:48.020 --> 00:03:49.710\\nif we're getting\\nhealthier because of it\\n\\n00:03:49.710 --> 00:03:51.035\\nor if we're getting happier.\\n\\n00:03:51.035 --> 00:03:53.160\\nInteresting question if we\\nwant to count happiness.\\n\\n00:03:53.160 --> 00:03:55.576\\nIt doesn't make us healthy,\\nbut if we're getting something\\n\\n00:03:55.576 --> 00:03:57.952\\nwe value, and we're getting\\nworried, and we get worried--\\n\\n00:03:57.952 --> 00:03:59.867\\nSALMAN KHAN: There are\\nmany forms of happiness\\n\\n00:03:59.867 --> 00:04:01.090\\nthat do not make you healthy.\\n\\n00:04:01.090 --> 00:04:02.327\\n[LAUGHTER]\\n\\n00:04:02.327 --> 00:04:03.910\\nLAURENCE BAKER: At\\nthe end of the day,\\n\\n00:04:03.910 --> 00:04:06.190\\nthis may be our\\nbiggest question.\\n\\n00:04:06.190 --> 00:04:09.710\\nSALMAN KHAN: Some will act\\ndirectly against your health.\\n\\n00:04:09.710 --> 00:04:12.426\\nAnd that goes straight\\ninto this chart\\n\\n00:04:12.426 --> 00:04:13.550\\nwhich you're talking about.\\n\\n00:04:13.550 --> 00:04:16.240\\nMaybe we should or maybe we\\nshouldn't compare ourselves\\n\\n00:04:16.240 --> 00:04:17.275\\nto other countries.\\n\\n00:04:17.275 --> 00:04:19.399\\nAnd this is comparing\\nourselves to other countries.\\n\\n00:04:19.399 --> 00:04:20.648\\nSo this chart right over here.\\n\\n00:04:20.648 --> 00:04:22.050\\nThis is the blue graph.\\n\\n00:04:22.050 --> 00:04:24.807\\nSo we are this light\\nblue [INAUDIBLE] same.\\n\\n00:04:24.807 --> 00:04:25.390\\nSo this is us.\\n\\n00:04:25.390 --> 00:04:28.150\\nThis is the United\\nStates right over here.\\n\\n00:04:28.150 --> 00:04:29.580\\nThat is us, the United States.\\n\\n00:04:29.580 --> 00:04:32.740\\nAnd if we compare to other\\ndeveloped countries with,\\n\\n00:04:32.740 --> 00:04:35.270\\nI guess, not too\\ndifferent demographics--\\n\\n00:04:35.270 --> 00:04:37.520\\nLAURENCE BAKER: Yeah, the\\noverall developed countries,\\n\\n00:04:37.520 --> 00:04:38.978\\nindustrialized\\ncountries, countries\\n\\n00:04:38.978 --> 00:04:42.110\\nwhere the standard of living\\nis in pretty good shape.\\n\\n00:04:42.110 --> 00:04:44.990\\nSALMAN KHAN: They have a\\nbroad-- it's not a homogeneous--\\n\\n00:04:44.990 --> 00:04:46.698\\nLAURENCE BAKER: Not\\nentirely homogeneous.\\n\\n00:04:46.698 --> 00:04:49.240\\nSome people will argue the\\nUS is more diverse than--\\n\\n00:04:49.240 --> 00:04:51.090\\nSALMAN KHAN: The United\\nKingdom is quite--\\n\\n00:04:51.090 --> 00:04:52.850\\nLAURENCE BAKER: --pretty\\ndiverse countries, generally.\\n\\n00:04:52.850 --> 00:04:54.350\\nCertainly countries\\nwith immigration\\n\\n00:04:54.350 --> 00:04:56.492\\nissues that the US has,\\ncountries with lower income\\n\\n00:04:56.492 --> 00:04:58.450\\nand higher income\\npopulations that the US does.\\n\\n00:04:58.450 --> 00:04:59.533\\nSo they're pretty diverse.\\n\\n00:04:59.533 --> 00:05:01.750\\nSALMAN KHAN: Right, I mean,\\nwhen you look at this,\\n\\n00:05:01.750 --> 00:05:04.150\\nmaybe this is the\\nreal chart to look at,\\n\\n00:05:04.150 --> 00:05:06.000\\nbecause this is the\\npercentage of GDP\\n\\n00:05:06.000 --> 00:05:08.330\\nbut also puts it in\\ncontext of other countries.\\n\\n00:05:08.330 --> 00:05:12.170\\nAnd that's where they're all\\nkind of bundled around in this,\\n\\n00:05:12.170 --> 00:05:13.540\\nI don't know, the low end.\\n\\n00:05:13.540 --> 00:05:15.665\\nWhat is this, actually,\\nthe UK-- I didn't realize--\\n\\n00:05:15.665 --> 00:05:18.270\\nis actually at the low end\\nas a percentage of GDP.\\n\\n00:05:18.270 --> 00:05:21.505\\nAnd France is at\\nthe high end of GDP.\\n\\n00:05:21.505 --> 00:05:23.630\\nLAURENCE BAKER: Yeah, so\\nI've done a little picking\\n\\n00:05:23.630 --> 00:05:25.080\\nand choosing of the\\nEuropean countries.\\n\\n00:05:25.080 --> 00:05:26.996\\nYeah, there are some\\nthat are a little higher,\\n\\n00:05:26.996 --> 00:05:28.692\\nbut nobody comes\\nclose to the US.\\n\\n00:05:28.692 --> 00:05:29.650\\nThese are the big ones.\\n\\n00:05:29.650 --> 00:05:31.850\\nUK is the lowest in\\nthe world, really,\\n\\n00:05:31.850 --> 00:05:34.600\\nof the developed countries,\\nthe European countries.\\n\\n00:05:34.600 --> 00:05:37.230\\nAnd France, Germany,\\nCanada, are commonly\\n\\n00:05:37.230 --> 00:05:39.250\\ncompared to the\\nUS at 10% or 11%.\\n\\n00:05:39.250 --> 00:05:43.060\\nSo we're 50% higher,\\n60% higher than those\\n\\n00:05:43.060 --> 00:05:45.249\\ndouble what's\\ngoing on in the UK.\\n\\n00:05:45.249 --> 00:05:47.290\\nSALMAN KHAN: And do we\\nknow why we're doing this?\\n\\n00:05:49.747 --> 00:05:50.580\\nWhere is that going?\\n\\n00:05:50.580 --> 00:05:53.130\\nWhere are we spending money that\\nthese other countries aren't?\\n\\n00:05:53.130 --> 00:05:54.550\\nLAURENCE BAKER:\\nRight, so two places.\\n\\n00:05:54.550 --> 00:05:56.091\\nUltimately, the\\neconomics of it would\\n\\n00:05:56.091 --> 00:05:58.795\\nsay, if you're spending\\nmore than somebody else, how\\n\\n00:05:58.795 --> 00:06:01.170\\nmuch stuff you buying, what\\nkind of things you're buying,\\n\\n00:06:01.170 --> 00:06:03.390\\nand then the price that\\nyou're paying per thing.\\n\\n00:06:03.390 --> 00:06:07.170\\nSo we're talking either\\nabout prices or quantities.\\n\\n00:06:07.170 --> 00:06:08.540\\nSo it's a little bit of both.\\n\\n00:06:08.540 --> 00:06:12.350\\nIf you compare us\\nacross countries,\\n\\n00:06:12.350 --> 00:06:14.700\\nwe buy more of some\\nkinds of services\\n\\n00:06:14.700 --> 00:06:16.210\\nthan other countries buy.\\n\\n00:06:16.210 --> 00:06:18.427\\nThere's some interesting\\ncomparisons--\\n\\n00:06:18.427 --> 00:06:20.510\\nSALMAN KHAN: So we might\\nget more MRI's per person\\n\\n00:06:20.510 --> 00:06:21.500\\nor something like that.\\n\\n00:06:21.500 --> 00:06:23.780\\nLAURENCE BAKER: We certainly\\ndo get more MRI's per person.\\n\\n00:06:23.780 --> 00:06:24.490\\nIt's interesting.\\n\\n00:06:24.490 --> 00:06:26.960\\nIt's not that we have more\\ndoctors per capita, say,\\n\\n00:06:26.960 --> 00:06:28.660\\nor more hospital\\nbeds per capita.\\n\\n00:06:28.660 --> 00:06:31.140\\nIt's not that we get more\\nprimary care visits in the US.\\n\\n00:06:31.140 --> 00:06:33.490\\nIt's actually true that,\\nin many European countries,\\n\\n00:06:33.490 --> 00:06:35.262\\nyou get more primary\\ncare visits, more\\n\\n00:06:35.262 --> 00:06:37.636\\ntime with your primary care\\ndoctor then we get in the US.\\n\\n00:06:37.636 --> 00:06:40.920\\nBut if you were\\npicking a poster child,\\n\\n00:06:40.920 --> 00:06:43.450\\nit might be the MRI or\\nsomething more sophisticated,\\n\\n00:06:43.450 --> 00:06:46.130\\nsomething more expensive,\\nspecialists visits,\\n\\n00:06:46.130 --> 00:06:48.670\\nlots of tests, and\\nthings like that,\\n\\n00:06:48.670 --> 00:06:51.450\\nthat we buy in the United States\\nthat they don't buy in Europe.\\n\\n00:06:51.450 --> 00:06:54.320\\nAnd that drives up\\nour health care costs.\\n\\n00:06:54.320 --> 00:06:56.290\\nSALMAN KHAN: So we\\ndefinitely are buying more\\n\\n00:06:56.290 --> 00:06:58.059\\nand it's costing us more for--\\n\\n00:06:58.059 --> 00:06:59.600\\nLAURENCE BAKER: And\\nthe price is also\\n\\n00:06:59.600 --> 00:07:00.967\\ndifferent in the United States.\\n\\n00:07:00.967 --> 00:07:03.050\\nThere's some people who\\nhave done studies of this.\\n\\n00:07:03.050 --> 00:07:04.390\\nThere's always\\nlittle bits of debate\\n\\n00:07:04.390 --> 00:07:06.240\\nabout how you define\\nthese prices exactly,\\n\\n00:07:06.240 --> 00:07:09.977\\nbut we pay doctors--\\nif you're finding\\n\\n00:07:09.977 --> 00:07:11.560\\ndoctors' annual\\nincomes, they're going\\n\\n00:07:11.560 --> 00:07:12.660\\nto be higher in\\nthe United States.\\n\\n00:07:12.660 --> 00:07:14.868\\nThat is to say, we're paying,\\nin some sense, a higher\\n\\n00:07:14.868 --> 00:07:17.540\\nprice for a year of work from a\\ndoctor than they pay in Europe.\\n\\n00:07:17.540 --> 00:07:21.920\\nWe're paying a higher price for\\nour hospital administration,\\n\\n00:07:21.920 --> 00:07:25.140\\nfor our staff in the hospitals,\\nthings we tend to pay more.\\n\\n00:07:25.140 --> 00:07:26.970\\nSo we buy more things.\\n\\n00:07:26.970 --> 00:07:29.040\\nWe tend to buy more of\\nthe more expensive things.\\n\\n00:07:29.040 --> 00:07:30.614\\nAnd we tend to pay\\na higher price.\\n\\n00:07:30.614 --> 00:07:32.030\\nSALMAN KHAN: Do\\nyou know, roughly,\\n\\n00:07:32.030 --> 00:07:34.100\\nhow much of the\\nhealth care dollar\\n\\n00:07:34.100 --> 00:07:38.060\\ngoes towards salaries\\nversus drugs versus things\\n\\n00:07:38.060 --> 00:07:42.470\\nlike MRI's and the kind of fixed\\ncosts like MRI's and hospital\\n\\n00:07:42.470 --> 00:07:43.620\\nbeds and things like that?\\n\\n00:07:43.620 --> 00:07:45.995\\nLAURENCE BAKER: Yeah, so some\\nof this you can figure out.\\n\\n00:07:45.995 --> 00:07:49.770\\nWe could almost put another\\nslide up on there on the screen\\n\\n00:07:49.770 --> 00:07:51.265\\nthere.\\n\\n00:07:51.265 --> 00:07:53.620\\nThe US health accounts\\nwill tell you something\\n\\n00:07:53.620 --> 00:07:57.880\\nlike doctors and hospitals\\nand drugs-- drugs, 10% or 15%,\\n\\n00:07:57.880 --> 00:07:59.190\\na little less than that.\\n\\n00:07:59.190 --> 00:08:02.070\\nI would have to go back and\\nlook at the data on physicians.\\n\\n00:08:02.070 --> 00:08:09.160\\nBut physicians-- let's say that\\nhospitals and physicians are\\n\\n00:08:09.160 --> 00:08:14.810\\n20% or 30%-- I hesitate to\\ngive you look the number.\\n\\n00:08:14.810 --> 00:08:15.960\\nSALMAN KHAN: It's not 90%\\n\\n00:08:15.960 --> 00:08:16.930\\nLAURENCE BAKER: It's not 90%.\\n\\n00:08:16.930 --> 00:08:18.070\\nSALMAN KHAN: When\\nwe say hospitals--\\n\\n00:08:18.070 --> 00:08:20.180\\nso that includes\\noutpatient and inpatient?\\n\\n00:08:20.180 --> 00:08:22.260\\nLAURENCE BAKER:\\nYeah, so there's lots\\n\\n00:08:22.260 --> 00:08:25.140\\nof ways these health\\naccounts get broken up,\\n\\n00:08:25.140 --> 00:08:29.730\\nphysicians, hospitals, emergency\\ndepartments, different kinds\\n\\n00:08:29.730 --> 00:08:32.360\\nof equipment and things that\\nget purchased, there's research\\n\\n00:08:32.360 --> 00:08:33.919\\nand there's buildings,\\nand all that--\\n\\n00:08:33.919 --> 00:08:36.150\\nSALMAN KHAN: So just\\n[INAUDIBLE] none of these things\\n\\n00:08:36.150 --> 00:08:37.314\\ndo make up the bulk of it.\\n\\n00:08:37.314 --> 00:08:38.730\\nWe had a video\\nabout drug pricing,\\n\\n00:08:38.730 --> 00:08:40.659\\nbut drug pricing by\\nitself is not the reason\\n\\n00:08:40.659 --> 00:08:42.840\\nwhy we're out here.\\n\\n00:08:42.840 --> 00:08:45.780\\nAnd physician pay by\\nitself is not the reason\\n\\n00:08:45.780 --> 00:08:48.070\\nwhy we're out there.\\n\\n00:08:48.070 --> 00:08:49.910\\nAll of these are contributing.\\n\\n00:08:49.910 --> 00:08:53.066\\nAll of these we're getting\\nmore of and we're paying for.\\n\\n00:08:53.066 --> 00:08:54.190\\nLAURENCE BAKER: It's a mix.\\n\\n00:08:54.190 --> 00:08:54.970\\nAt the end of the\\nday, it's going\\n\\n00:08:54.970 --> 00:08:57.290\\nto be a bunch of things like\\nthis all thrown together.\\n\\n00:08:57.290 --> 00:08:58.540\\nWe buy more stuff.\\n\\n00:08:58.540 --> 00:09:00.180\\nWe tend to buy more\\nexpensive stuff.\\n\\n00:09:00.180 --> 00:09:02.150\\nWe buy it from people\\nwho we pay a lot.\\n\\n00:09:02.150 --> 00:09:03.420\\nWe buy more specialist visits.\\n\\n00:09:03.420 --> 00:09:05.240\\nFor example, in the\\nUS, we pay specialists\\n\\n00:09:05.240 --> 00:09:08.160\\na higher annual salary\\nthan we pay generalists,\\n\\n00:09:08.160 --> 00:09:09.840\\nand that comes\\nout in the prices.\\n\\n00:09:09.840 --> 00:09:11.200\\nSALMAN KHAN: They don't\\ndo that in Europe?\\n\\n00:09:11.200 --> 00:09:12.120\\nLAURENCE BAKER:\\nEurope does pay more,\\n\\n00:09:12.120 --> 00:09:13.790\\nbut everybody is shifted down.\\n\\n00:09:13.790 --> 00:09:15.364\\nAll the physicians\\nare shifted down.\\n\\n00:09:15.364 --> 00:09:17.030\\nAnd I think the\\nspecialists are probably\\n\\n00:09:17.030 --> 00:09:21.010\\nshifted down more in Europe\\nthan the generalists are.\\n\\n00:09:21.010 --> 00:09:22.930\\nWe pay more for our\\nprescription drugs here.\\n\\n00:09:22.930 --> 00:09:24.050\\nWe pay more for--\\n\\n00:09:24.050 --> 00:09:25.591\\nSALMAN KHAN: Now,\\nwhat are we getting\\n\\n00:09:25.591 --> 00:09:27.716\\nin terms-- other than more\\nMercedes in the doctors'\\n\\n00:09:27.716 --> 00:09:28.257\\nparking lots.\\n\\n00:09:28.257 --> 00:09:28.920\\nI'm kidding.\\n\\n00:09:28.920 --> 00:09:29.775\\nI'm kidding.\\n\\n00:09:29.775 --> 00:09:33.260\\nAlthough, you do\\nsee a lot of those.\\n\\n00:09:33.260 --> 00:09:36.030\\nIt seems to be the car of\\nchoice when I visit the doctor.\\n\\n00:09:38.650 --> 00:09:41.167\\nAnd my wife's a physician.\\n\\n00:09:41.167 --> 00:09:43.000\\nObviously we all work\\nwith many, so, they've\\n\\n00:09:43.000 --> 00:09:45.020\\nworked very hard\\nso, I'm not going\\n\\n00:09:45.020 --> 00:09:49.247\\nto make any statement about\\nthey're underpaid or overpaid,\\n\\n00:09:49.247 --> 00:09:51.580\\nespecially relative to some\\npeople I knew in the finance\\n\\n00:09:51.580 --> 00:09:53.360\\nworld, I would say that\\nthey're definitely underpaid.\\n\\n00:09:53.360 --> 00:09:54.200\\nLAURENCE BAKER: Possibly, yes.\\n\\n00:09:54.200 --> 00:09:54.908\\nSALMAN KHAN: Yes.\\n\\n00:09:54.908 --> 00:09:58.150\\nThey're above Mercedes\\nin that world.\\n\\n00:09:58.150 --> 00:10:00.800\\nAnd so are we getting\\nanything in exchange for this?\\n\\n00:10:00.800 --> 00:10:03.117\\nAre we getting less wait times?\\n\\n00:10:03.117 --> 00:10:04.950\\nAre we getting better\\naccess to our doctors?\\n\\n00:10:04.950 --> 00:10:07.030\\nWhat are we getting or\\nwhat do we know about that?\\n\\n00:10:07.030 --> 00:10:08.863\\nLAURENCE BAKER: Well,\\nso this is the debate.\\n\\n00:10:08.863 --> 00:10:11.260\\nThis is in, maybe, a microcosm\\none of the big debates\\n\\n00:10:11.260 --> 00:10:12.640\\nwe're having in\\nthe US right now.\\n\\n00:10:12.640 --> 00:10:13.830\\nWe're spending more every year.\\n\\n00:10:13.830 --> 00:10:15.538\\nWe're spending more\\nthan other countries.\\n\\n00:10:15.538 --> 00:10:18.197\\nIf it was clear we were twice\\nas well off, twice as happy--\\n\\n00:10:18.197 --> 00:10:19.780\\nSALMAN KHAN: And\\nwe're growing faster.\\n\\n00:10:19.780 --> 00:10:20.920\\nLAURENCE BAKER: And\\nwe're growing-- yes, it\\n\\n00:10:20.920 --> 00:10:22.503\\ndepends on how you\\nlook at the timing,\\n\\n00:10:22.503 --> 00:10:24.870\\nbut we're growing a little\\nfaster in some years.\\n\\n00:10:24.870 --> 00:10:26.340\\nOur health care costs go up 10%.\\n\\n00:10:26.340 --> 00:10:28.580\\nIf we knew we were 10% happier\\nthis year with our health care\\n\\n00:10:28.580 --> 00:10:29.730\\nsystem, we would be happy.\\n\\n00:10:29.730 --> 00:10:31.950\\nAnd that's the big debate.\\n\\n00:10:31.950 --> 00:10:34.614\\nThere are some cases\\nwhere the US-- there\\n\\n00:10:34.614 --> 00:10:35.780\\nare things you can point to.\\n\\n00:10:35.780 --> 00:10:38.790\\nWe have fewer waiting\\nlines for some services,\\n\\n00:10:38.790 --> 00:10:40.260\\nand some of the\\ncountries that keep\\n\\n00:10:40.260 --> 00:10:42.769\\nthe costs down have more lines.\\n\\n00:10:42.769 --> 00:10:44.310\\nIt's also not the\\ncase that they have\\n\\n00:10:44.310 --> 00:10:46.430\\nwaiting lines for everything\\nand the really serious stuff\\n\\n00:10:46.430 --> 00:10:48.230\\ndoesn't tend to have\\nlong waiting lines.\\n\\n00:10:48.230 --> 00:10:52.390\\nWe get easier access to some\\nof the high tech stuff, which\\n\\n00:10:52.390 --> 00:10:54.390\\nwe like it, and so that\\ndrives up our spending\\n\\n00:10:54.390 --> 00:10:56.159\\nbut maybe makes us happy.\\n\\n00:10:56.159 --> 00:10:58.450\\nSALMAN KHAN: It may or may\\nnot lead to better outcomes.\\n\\n00:10:58.450 --> 00:10:59.825\\nSo it makes us\\nhappy that we feel\\n\\n00:10:59.825 --> 00:11:02.300\\nlike we're getting\\nbetter customer service.\\n\\n00:11:02.300 --> 00:11:03.505\\nInstead of waiting three\\nmonths for a procedure,\\n\\n00:11:03.505 --> 00:11:06.046\\nwe're getting it in three weeks,\\nwhich would make me happier.\\n\\n00:11:06.046 --> 00:11:08.560\\nI mean, objectively, I would\\nbe much happier about that.\\n\\n00:11:08.560 --> 00:11:12.140\\nBut what happens when we\\nlook at the overall outcomes?\\n\\n00:11:12.140 --> 00:11:15.700\\nLife expectancy, and people\\ndying from heart disease,\\n\\n00:11:15.700 --> 00:11:17.267\\nor whatever?\\n\\n00:11:17.267 --> 00:11:19.100\\nLAURENCE BAKER: This\\nis kind of a mixed bag.\\n\\n00:11:19.100 --> 00:11:21.370\\nSome of the most\\ncommonly cited figures\\n\\n00:11:21.370 --> 00:11:23.200\\nare cases where\\nthe US doesn't do\\n\\n00:11:23.200 --> 00:11:25.727\\nas well as some\\nEuropean countries.\\n\\n00:11:25.727 --> 00:11:28.310\\nWe spend a lot more and we don't\\ndo better on life expectancy.\\n\\n00:11:28.310 --> 00:11:30.260\\nWe don't do better\\nan infant mortality.\\n\\n00:11:30.260 --> 00:11:32.720\\nThere are some cases where\\nthe US does really well,\\n\\n00:11:32.720 --> 00:11:36.174\\nespecially things where\\naccess to the high end stuff\\n\\n00:11:36.174 --> 00:11:37.090\\ncan make a difference.\\n\\n00:11:37.090 --> 00:11:38.673\\nAnd so there are\\nsome situations where\\n\\n00:11:38.673 --> 00:11:41.545\\nit looks like we buy the kinds\\nof things that are really\\n\\n00:11:41.545 --> 00:11:42.670\\ngoing to make us healthier.\\n\\n00:11:42.670 --> 00:11:44.670\\nBut it's not across the board.\\n\\n00:11:44.670 --> 00:11:46.310\\nAnd some of the really\\ninteresting ones\\n\\n00:11:46.310 --> 00:11:48.500\\nare cases where there's\\nfairly inexpensive stuff\\n\\n00:11:48.500 --> 00:11:51.300\\nthat looks like it would work\\nwell and improve outcomes,\\n\\n00:11:51.300 --> 00:11:53.959\\nand sometimes we're not\\ndoing the inexpensive stuff\\n\\n00:11:53.959 --> 00:11:55.250\\nthat other countries are doing.\\n\\n00:11:55.250 --> 00:11:59.290\\nAnd it's coming out\\nto maybe hurt us.\\n\\n00:11:59.290 --> 00:12:02.180\\nWe wouldn't be having the debate\\nif we were clearly better off,\\n\\n00:12:02.180 --> 00:12:04.680\\nbut it's really the case that,\\nin only some of the measures,\\n\\n00:12:04.680 --> 00:12:05.670\\ndo we end up better off.\\n\\n00:12:05.670 --> 00:12:07.336\\nWe don't always\\nvaccinate our kids more.\\n\\n00:12:07.336 --> 00:12:09.040\\nWe don't always get\\npeople screened more\\n\\n00:12:09.040 --> 00:12:10.680\\nfor cancers and\\nthings like that.\\n\\n00:12:10.680 --> 00:12:12.200\\nBut sometimes we do.\\n\\n00:12:12.200 --> 00:12:14.170\\nSo there are success\\nstories here.\\n\\n00:12:14.170 --> 00:12:15.830\\nSALMAN KHAN: Now,\\none thing that's\\n\\n00:12:15.830 --> 00:12:17.470\\ninteresting about looking\\nat this chart a little bit\\n\\n00:12:17.470 --> 00:12:19.720\\ndeeper is that it doesn't\\nlook like this is something\\n\\n00:12:19.720 --> 00:12:21.594\\nthat, you know, since\\nthe American Revolution\\n\\n00:12:21.594 --> 00:12:24.117\\nthat we've been spending\\ndouble as a percentage of GDP\\n\\n00:12:24.117 --> 00:12:25.200\\nrelative to everyone else.\\n\\n00:12:25.200 --> 00:12:27.210\\nI mean if I just look at\\nthis chart right here,\\n\\n00:12:27.210 --> 00:12:30.110\\nit seems like us and\\nCanada, we were right along\\n\\n00:12:30.110 --> 00:12:33.180\\nvery similar to each other\\nto about the early '70s.\\n\\n00:12:33.180 --> 00:12:35.405\\nAnd then we're still\\nin kind of that pack\\n\\n00:12:35.405 --> 00:12:37.210\\nwith Germany and France.\\n\\n00:12:37.210 --> 00:12:39.680\\nI guess, relative to the\\nUK, we actually always\\n\\n00:12:39.680 --> 00:12:40.570\\nhave been higher.\\n\\n00:12:40.570 --> 00:12:43.010\\nBut then right around\\nthis time period,\\n\\n00:12:43.010 --> 00:12:45.190\\nthe late '70s,\\nearly '80s-- that's\\n\\n00:12:45.190 --> 00:12:47.290\\nwhere we really\\nstarted to break off.\\n\\n00:12:47.290 --> 00:12:49.240\\nWas there some\\npolicy shift there?\\n\\n00:12:49.240 --> 00:12:51.730\\nLAURENCE BAKER: So there's not\\na tangible, specific policy\\n\\n00:12:51.730 --> 00:12:52.230\\nshift.\\n\\n00:12:52.230 --> 00:12:55.080\\nWhat starts happening in the\\nUS there is we start adopting\\n\\n00:12:55.080 --> 00:12:57.442\\nand we start shifting toward\\nthe higher-end stuff more.\\n\\n00:12:57.442 --> 00:12:58.650\\nAnd some of that's the part--\\n\\n00:12:58.650 --> 00:13:00.649\\nSALMAN KHAN: That's where\\nthe technology started\\n\\n00:13:00.649 --> 00:13:01.390\\nto really get--\\n\\n00:13:01.390 --> 00:13:03.390\\nLAURENCE BAKER: I think\\nthat's mainly the story.\\n\\n00:13:03.390 --> 00:13:06.450\\nWe started to\\nreally-- the research\\n\\n00:13:06.450 --> 00:13:09.040\\nin things, the development that\\nwent on in the world, really\\n\\n00:13:09.040 --> 00:13:12.500\\nfrom 1940, '50, '60, started\\nto produce the capacity\\n\\n00:13:12.500 --> 00:13:14.430\\nto do new and expensive things.\\n\\n00:13:14.430 --> 00:13:17.060\\nAnd the US grabbed those and\\nother countries in the world\\n\\n00:13:17.060 --> 00:13:19.325\\nwere less quick to\\ngrab them, maybe,\\n\\n00:13:19.325 --> 00:13:20.450\\nyou would say more careful.\\n\\n00:13:20.450 --> 00:13:22.560\\nMaybe you would say\\ntoo careful, too slow.\\n\\n00:13:22.560 --> 00:13:26.450\\nBut the US, as you see\\nthere, really quickly started\\n\\n00:13:26.450 --> 00:13:28.550\\nto put up specialized\\nhospitals, started\\n\\n00:13:28.550 --> 00:13:30.930\\nto buy the fancy\\nequipment, and you\\n\\n00:13:30.930 --> 00:13:32.960\\ncan see what kind\\nof came out of it.\\n\\n00:13:32.960 --> 00:13:34.070\\nSALMAN KHAN: And to some degree,\\nprobably, the whole world\\n\\n00:13:34.070 --> 00:13:36.490\\nbenefited from that because\\nyou're going back to the drug\\n\\n00:13:36.490 --> 00:13:40.210\\npricing or the MRI manufacturers\\nwere able to get those returns\\n\\n00:13:40.210 --> 00:13:42.710\\nand, hopefully,\\nmuch of that they're\\n\\n00:13:42.710 --> 00:13:45.370\\nable to reinvest and not spend\\ntoo much on other things.\\n\\n00:13:45.370 --> 00:13:47.850\\nBut it is fueling--\\n\\n00:13:47.850 --> 00:13:49.909\\nLAURENCE BAKER: Yeah,\\nthe innovation-- there's\\n\\n00:13:49.909 --> 00:13:52.200\\nalways these kinds of questions\\nthat swirl around here.\\n\\n00:13:52.200 --> 00:13:53.480\\nIf the US pays a lot\\nof money and that\\n\\n00:13:53.480 --> 00:13:55.813\\ncomes back into innovation\\nthen everybody benefits from,\\n\\n00:13:55.813 --> 00:13:57.854\\nincluding us, maybe it's OK.\\n\\n00:13:57.854 --> 00:13:59.770\\nI think there are people\\nwho debate whether we\\n\\n00:13:59.770 --> 00:14:01.970\\ngot enough innovation,\\nenough benefits that's\\n\\n00:14:01.970 --> 00:14:05.960\\ntangibly related to our spending\\nto make our spending worth it,\\n\\n00:14:05.960 --> 00:14:08.230\\nbut there are some cases\\nwhere that probably happened.\\n\\n00:14:08.230 --> 00:14:11.490\\nAnd so there's some\\nsubtlety to the question.\\n\\n00:14:11.490 --> 00:14:13.030\\nI always say, if\\nyou're the Yankees\\n\\n00:14:13.030 --> 00:14:16.460\\nand you're going to pay the\\nhuge amount for the big payroll\\n\\n00:14:16.460 --> 00:14:19.570\\nand the big stars, people\\nexpect you to win every time.\\n\\n00:14:19.570 --> 00:14:20.890\\nAnd that's the US's challenge.\\n\\n00:14:20.890 --> 00:14:21.930\\nIf we're going to\\npay the big bucks--\\n\\n00:14:21.930 --> 00:14:22.820\\nSALMAN KHAN: We\\nshould show results.\\n\\n00:14:22.820 --> 00:14:23.420\\nLAURENCE BAKER:\\n--we really like we\\n\\n00:14:23.420 --> 00:14:25.080\\nwant to show results every time.\\n\\n00:14:25.080 --> 00:14:26.790\\nAnd sometimes we\\ndo get the results,\\n\\n00:14:26.790 --> 00:14:27.997\\nbut it's not often enough.\\n\\n00:14:27.997 --> 00:14:29.330\\nSALMAN KHAN: It's not ambiguous.\\n\\n00:14:29.330 --> 00:14:32.020\\nWe're not winning the\\nchampionship every year.\\n\\n00:14:32.020 --> 00:14:33.830\\nVery interesting.\\n\\n\"], 'source': ['khan_academy', 'khan_academy'], 'formality': ['educational', 'educational']}\n"
          ]
        }
      ],
      "source": [
        "#combine\n",
        "from datasets import Dataset, concatenate_datasets\n",
        "import random\n",
        "\n",
        "un_docs_dataset = Dataset.from_dict({\"text\": ds_un_docs_sub[\"translation\"],\n",
        "                                     \"source\": [\"un_corpus\"] * len(ds_un_docs_sub),\n",
        "                                     \"formality\": [\"formal\"] * len(ds_un_docs_sub)})\n",
        "#print(un_docs_dataset[:2])\n",
        "medium_dataset = Dataset.from_dict({\"text\": ds_medium_sub[\"text\"],\n",
        "                                    \"source\": [\"medium\"] * len(ds_medium_sub),\n",
        "                                    \"formality\": [\"semiformal\"] * len(ds_medium_sub)})\n",
        "edu_dataset = Dataset.from_dict({\"text\": ds_edu_sub[\"text\"],\n",
        "                                 \"source\": [\"textbooks\"] * len(ds_edu_sub),\n",
        "                                 \"formality\": [\"educational\"] * len(ds_edu_sub)})\n",
        "sms_dataset = Dataset.from_dict({\"text\": ds_sms_sub[\"sms\"],\n",
        "                                 \"source\": [\"sms\"] * len(ds_sms_sub),\n",
        "                                 \"formality\": [\"informal\"] * len(ds_sms_sub)})\n",
        "enron_dataset = Dataset.from_dict({\"text\": ds_enron_sub[\"email\"],\n",
        "                                   \"source\": [\"enron_emails\"] * len(ds_enron_sub),\n",
        "                                   \"formality\": [\"formal\"] * len(ds_enron_sub)})\n",
        "\n",
        "\n",
        "\n",
        "podcast_news_dataset = Dataset.from_dict({\"text\": ds_podcast_news_sub[\"text\"],\n",
        "                                     \"source\": [\"podcasts\"] * len(ds_podcast_news_sub),\n",
        "                                     \"formality\": [\"semiformal\"] * len(ds_podcast_news_sub)})\n",
        "un_debates_dataset = Dataset.from_dict({\"text\": ds_un_debates_sub[\"text\"],\n",
        "                                   \"source\": [\"un_debates\"] * len(ds_un_debates_sub),\n",
        "                                   \"formality\": [\"formal\"] * len(ds_un_debates_sub)})\n",
        "khan_edu_dataset = Dataset.from_dict({\"text\": ds_khan_edu_sub[\"content\"],\n",
        "                                 \"source\": [\"khan_academy\"] * len(ds_khan_edu_sub),\n",
        "                                 \"formality\": [\"educational\"] * len(ds_khan_edu_sub)})\n",
        "print(khan_edu_dataset[:2])\n",
        "telephone_dataset = Dataset.from_dict({\"text\": ds_telephone_sub[\"text\"],\n",
        "                                    \"source\": [\"telephone_convos\"] * len(ds_telephone_sub),\n",
        "                                    \"formality\": [\"informal\"] * len(ds_telephone_sub)})\n",
        "business_meetings_dataset = Dataset.from_dict({\"text\": ds_business_meetings_sub[\"source\"],\n",
        "                                 \"source\": [\"business_meetings\"] * len(ds_business_meetings_sub),\n",
        "                                 \"formality\": [\"formal\"] * len(ds_business_meetings_sub)})\n",
        "\n"
      ]
    },
    {
      "cell_type": "markdown",
      "metadata": {
        "id": "pyzqWaO963qh"
      },
      "source": [
        "## Section 2: Preprocessing Each Dataset ##"
      ]
    },
    {
      "cell_type": "code",
      "execution_count": null,
      "metadata": {
        "id": "JBUd5Vg863qh"
      },
      "outputs": [],
      "source": [
        "from datasets import load_dataset, Dataset\n",
        "import re #https://docs.python.org/3/library/re.html"
      ]
    },
    {
      "cell_type": "code",
      "execution_count": null,
      "metadata": {
        "colab": {
          "referenced_widgets": [
            "ba17b3cc3dd34a338e9752096648779b"
          ]
        },
        "id": "cf-Pq_Eq63qh",
        "outputId": "eb639801-e167-43d2-95a6-ee692fd7b611"
      },
      "outputs": [
        {
          "data": {
            "application/vnd.jupyter.widget-view+json": {
              "model_id": "ba17b3cc3dd34a338e9752096648779b",
              "version_major": 2,
              "version_minor": 0
            },
            "text/plain": [
              "Map:   0%|          | 0/300 [00:00<?, ? examples/s]"
            ]
          },
          "metadata": {},
          "output_type": "display_data"
        },
        {
          "name": "stdout",
          "output_type": "stream",
          "text": [
            "{'text': ['Mr. James Revill Consultant', '118.117. Continue efforts in requesting support to intensify the abilities of Jordan to respond to the needs of Syrian refugees who are present on Jordanian territory (Qatar);'], 'source': ['un_corpus', 'un_corpus'], 'formality': ['formal', 'formal']}\n"
          ]
        }
      ],
      "source": [
        "#Preprocess UN Docs\n",
        "\n",
        "un_docs_dataset = un_docs_dataset.map(lambda item: {\"text\": item[\"text\"][\"en\"]}) # I only want the 'en' keys\n",
        "print(un_docs_dataset[:2])\n"
      ]
    },
    {
      "cell_type": "code",
      "execution_count": null,
      "metadata": {
        "colab": {
          "referenced_widgets": [
            "f7eac9861e1946d7889129a58f29981d"
          ]
        },
        "id": "xcECUWuu63qh",
        "outputId": "f9e4ddc6-2d9b-4dbf-f5f6-0a4d1ed1b7b6"
      },
      "outputs": [
        {
          "data": {
            "application/vnd.jupyter.widget-view+json": {
              "model_id": "f7eac9861e1946d7889129a58f29981d",
              "version_major": 2,
              "version_minor": 0
            },
            "text/plain": [
              "Map:   0%|          | 0/300 [00:00<?, ? examples/s]"
            ]
          },
          "metadata": {},
          "output_type": "display_data"
        }
      ],
      "source": [
        "#Preprocess Medium\n",
        "\n",
        "#maybe get rid of first and last sentence because usually just has author info etc\n",
        "#get rid of brackted numbers?\n",
        "\n",
        "def preprocess_medium(text):\n",
        "    #remove first and last sentence\n",
        "    sentences = text.split('.')\n",
        "    if len(sentences) > 2:\n",
        "        text = '.'.join(sentences[1:-1])\n",
        "    #bracketed numbers (citations)\n",
        "    text = re.sub(r'\\[\\d+\\]', '', text)\n",
        "    return text\n",
        "\n",
        "medium_dataset = medium_dataset.map(lambda process: {\"text\": preprocess_medium(process[\"text\"])})"
      ]
    },
    {
      "cell_type": "code",
      "execution_count": null,
      "metadata": {
        "id": "qYYu357f63qi"
      },
      "outputs": [],
      "source": [
        "#don't need to special process edu dataset\n",
        "#Don't need to special Preprocess SMS"
      ]
    },
    {
      "cell_type": "code",
      "execution_count": null,
      "metadata": {
        "colab": {
          "referenced_widgets": [
            "2c93f65ee880484892de7ffbaf6977ee"
          ]
        },
        "id": "16maC8NQ63qi",
        "outputId": "d5bd7072-1ee5-4728-ceea-2c433be75c83"
      },
      "outputs": [
        {
          "data": {
            "application/vnd.jupyter.widget-view+json": {
              "model_id": "2c93f65ee880484892de7ffbaf6977ee",
              "version_major": 2,
              "version_minor": 0
            },
            "text/plain": [
              "Map:   0%|          | 0/300 [00:00<?, ? examples/s]"
            ]
          },
          "metadata": {},
          "output_type": "display_data"
        }
      ],
      "source": [
        "def preprocess_enron(text):\n",
        "    #get rid of Subject: line and also first three sentences or so bc they tend to be garbage...\n",
        "    text = text.replace(\"Subject: \", \"\")\n",
        "    first_period_index = text.find('.')\n",
        "    if first_period_index != -1:\n",
        "        text = text[first_period_index + 1:]\n",
        "\n",
        "    text = re.sub(r'=', '', text)  # looks like some of the emails have equals signs in between words? will this affect euqations drasticall?\n",
        "    # WE MIGHT WANT TO TRY BY TAKING OUT MOST PUNCTUATION???? IDK\n",
        "    return text\n",
        "\n",
        "enron_dataset = enron_dataset.map(lambda process: {\"text\": preprocess_enron(process[\"text\"])})"
      ]
    },
    {
      "cell_type": "code",
      "execution_count": null,
      "metadata": {
        "colab": {
          "referenced_widgets": [
            "13512f529f3742fa96dcda21568345c3"
          ]
        },
        "id": "OFnsuuGU63qi",
        "outputId": "c5052a35-abd2-40e4-b58e-e18de2db4978"
      },
      "outputs": [
        {
          "data": {
            "application/vnd.jupyter.widget-view+json": {
              "model_id": "13512f529f3742fa96dcda21568345c3",
              "version_major": 2,
              "version_minor": 0
            },
            "text/plain": [
              "Map:   0%|          | 0/300 [00:00<?, ? examples/s]"
            ]
          },
          "metadata": {},
          "output_type": "display_data"
        }
      ],
      "source": [
        "def preprocess_business(text):\n",
        "    # Remove speaker labels\n",
        "    text = re.sub(r'Speaker \\d+:', '', text)\n",
        "    return text\n",
        "\n",
        "business_meetings_dataset = business_meetings_dataset.map(lambda process: {\"text\": preprocess_business(process[\"text\"])})"
      ]
    },
    {
      "cell_type": "code",
      "execution_count": null,
      "metadata": {
        "colab": {
          "referenced_widgets": [
            "df0f12544ef041c38a03abda0e72b2a9"
          ]
        },
        "id": "AaYHacmf63qi",
        "outputId": "a06ff2f5-ca81-4128-ca2d-8a2515459e07"
      },
      "outputs": [
        {
          "data": {
            "application/vnd.jupyter.widget-view+json": {
              "model_id": "df0f12544ef041c38a03abda0e72b2a9",
              "version_major": 2,
              "version_minor": 0
            },
            "text/plain": [
              "Map:   0%|          | 0/300 [00:00<?, ? examples/s]"
            ]
          },
          "metadata": {},
          "output_type": "display_data"
        }
      ],
      "source": [
        "def preprocess_khan_text(text):\n",
        "    #timestamps like 00:00:00.000 --> 00:00:01.749\n",
        "    text = re.sub(r'\\d{2}:\\d{2}:\\d{2}\\.\\d{3} --> \\d{2}:\\d{2}:\\d{2}\\.\\d{3}', '', text)\n",
        "\n",
        "    # Remove ALL CAPS names in transcript \"SALMAN KHAN\n",
        "    text = re.sub(r'[A-Z]{2,}( [A-Z]{2,})*:', '', text)\n",
        "\n",
        "    # extra \\n and spaces\n",
        "    text = re.sub(r'\\n+', '\\n', text)\n",
        "    text = text.strip()  #whitespace\n",
        "\n",
        "    return text\n",
        "\n",
        "khan_edu_dataset = khan_edu_dataset.map(lambda process: {\"text\": preprocess_khan_text(process[\"text\"])})"
      ]
    },
    {
      "cell_type": "code",
      "execution_count": null,
      "metadata": {
        "id": "MjryDRXO63qi"
      },
      "outputs": [],
      "source": [
        "#combine datasets\n",
        "combined_written_dataset = concatenate_datasets([un_docs_dataset, medium_dataset, edu_dataset, sms_dataset, enron_dataset])\n",
        "combined_written_dataset = combined_written_dataset.add_column(\"type\", [\"written\"] * len(combined_written_dataset))\n",
        "\n",
        "combined_spoken_dataset = concatenate_datasets([podcast_news_dataset, un_debates_dataset, khan_edu_dataset, telephone_dataset, business_meetings_dataset])\n",
        "combined_spoken_dataset = combined_spoken_dataset.add_column(\"type\", [\"spoken\"] * len(combined_spoken_dataset))\n",
        "\n",
        "full_dataset = concatenate_datasets([combined_spoken_dataset, combined_written_dataset])\n",
        "\n",
        "full_dataset = full_dataset.shuffle(seed=42)"
      ]
    },
    {
      "cell_type": "markdown",
      "source": [
        "## Section 3: Preprocess All Text"
      ],
      "metadata": {
        "id": "KAKfGMZcwfI9"
      }
    },
    {
      "cell_type": "code",
      "execution_count": null,
      "metadata": {
        "colab": {
          "referenced_widgets": [
            "df60296a1c6d4c37aac85346f10efe21",
            "d39b7a7e8a5a4b1f9839c39aab2edf2f",
            "09bd02bd5ecf424b825f1d2d10935e45"
          ]
        },
        "id": "OCnj0Qmt63qi",
        "outputId": "3e555d4e-4ee6-4d66-dae0-42e720de126e"
      },
      "outputs": [
        {
          "data": {
            "application/vnd.jupyter.widget-view+json": {
              "model_id": "df60296a1c6d4c37aac85346f10efe21",
              "version_major": 2,
              "version_minor": 0
            },
            "text/plain": [
              "Map:   0%|          | 0/2900 [00:00<?, ? examples/s]"
            ]
          },
          "metadata": {},
          "output_type": "display_data"
        },
        {
          "data": {
            "application/vnd.jupyter.widget-view+json": {
              "model_id": "d39b7a7e8a5a4b1f9839c39aab2edf2f",
              "version_major": 2,
              "version_minor": 0
            },
            "text/plain": [
              "Filter:   0%|          | 0/2900 [00:00<?, ? examples/s]"
            ]
          },
          "metadata": {},
          "output_type": "display_data"
        },
        {
          "data": {
            "application/vnd.jupyter.widget-view+json": {
              "model_id": "09bd02bd5ecf424b825f1d2d10935e45",
              "version_major": 2,
              "version_minor": 0
            },
            "text/plain": [
              "Creating CSV from Arrow format:   0%|          | 0/3 [00:00<?, ?ba/s]"
            ]
          },
          "metadata": {},
          "output_type": "display_data"
        },
        {
          "data": {
            "text/plain": [
              "28299694"
            ]
          },
          "execution_count": 21,
          "metadata": {},
          "output_type": "execute_result"
        }
      ],
      "source": [
        "def preprocess_all_text(text):\n",
        "    # Handle NoneType objects\n",
        "    if text is None:\n",
        "        return None\n",
        "\n",
        "    # Remove code?? and HTML tags\n",
        "    text = re.sub(r'<[^>]+>', '', text)  # HTML tags\n",
        "    text = re.sub(r'```.*?```', '', text, flags=re.DOTALL)  # Removes code blocks (```code```)\n",
        "\n",
        "    # Remove filler words\n",
        "    # text = re.sub(r'\\bumm\\w*', '', text) #words that start with umm\n",
        "    # text = re.sub(r'\\boh\\b', '', text)\n",
        "    # text = re.sub(r'\\blike\\b', '', text)\n",
        "\n",
        "    text = text.lower()\n",
        "    #REMOVE URLS AND LINKS\n",
        "    text = re.sub(r'http\\S+|www\\.\\S+|\\S+\\.(com|org|net|io|co|uk|gov|edu)\\S*', '', text)\n",
        "    #keep basic punc\n",
        "    text = re.sub(r'[^\\w\\s.\\',;!?\\-$()]', '', text)\n",
        "    #remove extra spaces\n",
        "    text = re.sub(r'\\s+', ' ', text).strip()\n",
        "\n",
        "    # Return None if the text is empty after preprocessing\n",
        "    if not text:\n",
        "        return None\n",
        "\n",
        "    return text\n",
        "\n",
        "full_dataset = full_dataset.map(lambda process: {\"text\": preprocess_all_text(process[\"text\"])})\n",
        "full_dataset = full_dataset.filter(lambda process: process[\"text\"] is not None and process[\"text\"].strip() != \"\")"
      ]
    },
    {
      "cell_type": "markdown",
      "metadata": {
        "id": "DNqfj5BE63qj"
      },
      "source": [
        "further preprocessing for all datasets, get rid of stopwords and punctuation"
      ]
    },
    {
      "cell_type": "code",
      "execution_count": 3,
      "metadata": {
        "id": "5H5R7VmR63qj",
        "colab": {
          "base_uri": "https://localhost:8080/"
        },
        "outputId": "b26e1bea-d352-4edf-e4a3-6ddb91438ab6"
      },
      "outputs": [
        {
          "output_type": "stream",
          "name": "stderr",
          "text": [
            "[nltk_data] Downloading package punkt to /root/nltk_data...\n",
            "[nltk_data]   Package punkt is already up-to-date!\n",
            "[nltk_data] Downloading package punkt_tab to /root/nltk_data...\n",
            "[nltk_data]   Package punkt_tab is already up-to-date!\n"
          ]
        }
      ],
      "source": [
        "import nltk\n",
        "nltk.download('punkt')\n",
        "nltk.download('punkt_tab')\n",
        "from tqdm import tqdm\n",
        "\n",
        "from nltk.tokenize import sent_tokenize, word_tokenize"
      ]
    },
    {
      "cell_type": "code",
      "execution_count": null,
      "metadata": {
        "id": "osfIoVHR63qj"
      },
      "outputs": [],
      "source": [
        "import nltk\n",
        "from nltk.corpus import stopwords\n",
        "import string\n",
        "\n",
        "nltk.download(\"stopwords\")\n",
        "\n",
        "stop_words = set(stopwords.words(\"english\"))\n",
        "\n",
        "def preprocess_baseline(data):\n",
        "    cleaned_data = [\n",
        "        \" \".join([word.strip(string.punctuation) for word in sentence.split()\n",
        "                  if word.lower() not in stop_words and word.strip(string.punctuation) != \"\"])\n",
        "        for sentence in data\n",
        "    ]\n",
        "\n",
        "    # Return None if the text is empty after preprocessing\n",
        "    #remove extra spaces\n",
        "    cleaned_data = re.sub(r'\\s+', ' ', cleaned_data).strip()\n",
        "    if not cleaned_data:\n",
        "        return None\n",
        "\n",
        "    return cleaned_data\n",
        "\n",
        "baseline_dataset = preprocess_baseline(full_dataset['train']['text'])\n",
        "len(baseline_dataset)"
      ]
    },
    {
      "cell_type": "code",
      "source": [
        "import nltk\n",
        "from nltk.corpus import stopwords\n",
        "import string\n",
        "import re\n",
        "\n",
        "nltk.download(\"stopwords\")\n",
        "\n",
        "stop_words = set(stopwords.words(\"english\"))\n",
        "\n",
        "def remove_all_stopwords(text):\n",
        "    all_words = [word for sentence in text.split() for word in sentence]\n",
        "    cleaned_data = ' '.join([word for word in text.split() if word.lower() not in stop_words])\n",
        "    cleaned_data = re.sub(r'\\s+', ' ', cleaned_data).strip()\n",
        "    if cleaned_data is None:\n",
        "      return None\n",
        "    return cleaned_data"
      ],
      "metadata": {
        "colab": {
          "base_uri": "https://localhost:8080/"
        },
        "id": "SRrd9shKvc4o",
        "outputId": "1c16de33-83e8-400c-cd61-7c2e2edc79cd"
      },
      "execution_count": 26,
      "outputs": [
        {
          "output_type": "stream",
          "name": "stderr",
          "text": [
            "[nltk_data] Downloading package stopwords to /root/nltk_data...\n",
            "[nltk_data]   Package stopwords is already up-to-date!\n"
          ]
        }
      ]
    },
    {
      "cell_type": "code",
      "source": [
        "processed_dataset = full_dataset.map(lambda process: {\"text\": remove_all_stopwords(process[\"text\"])})"
      ],
      "metadata": {
        "colab": {
          "base_uri": "https://localhost:8080/",
          "height": 49,
          "referenced_widgets": [
            "4bea96a32574423791a6163fe59cf8ad",
            "a19f686540dd465e9a0fab05be8e3d91",
            "76c552dfe7df40619dafd3cba8655b98",
            "75b49a0652a24fdda4707d951f7fe43b",
            "e131c81b2a5b491eaf2a0c6c15d633a5",
            "b8030421a22b43fdb55bf929b2dd0ccf",
            "47803d9442fb4adda15339d4d6e014ff",
            "3ce74a02020340b28918fdfecf76262b",
            "4b86ea0f36ae42ef92acb8cedd828af7",
            "434e7c5b709546138bf3f9327c529926",
            "30e524ae47164478a414d63a8494dd0d"
          ]
        },
        "id": "G6mPpZeUyUl0",
        "outputId": "218ea973-59f2-4067-f972-4b129333495b"
      },
      "execution_count": 27,
      "outputs": [
        {
          "output_type": "display_data",
          "data": {
            "text/plain": [
              "Map:   0%|          | 0/2843 [00:00<?, ? examples/s]"
            ],
            "application/vnd.jupyter.widget-view+json": {
              "version_major": 2,
              "version_minor": 0,
              "model_id": "4bea96a32574423791a6163fe59cf8ad"
            }
          },
          "metadata": {}
        }
      ]
    },
    {
      "cell_type": "code",
      "execution_count": 4,
      "metadata": {
        "id": "8RzFRacg63qj",
        "colab": {
          "base_uri": "https://localhost:8080/",
          "height": 193
        },
        "outputId": "c77e68d0-718b-4f8b-eac0-2fd168e957b5"
      },
      "outputs": [
        {
          "output_type": "error",
          "ename": "NameError",
          "evalue": "name 'full_dataset' is not defined",
          "traceback": [
            "\u001b[0;31m---------------------------------------------------------------------------\u001b[0m",
            "\u001b[0;31mNameError\u001b[0m                                 Traceback (most recent call last)",
            "\u001b[0;32m<ipython-input-4-846855d2ff97>\u001b[0m in \u001b[0;36m<cell line: 0>\u001b[0;34m()\u001b[0m\n\u001b[1;32m      1\u001b[0m \u001b[0;31m#save\u001b[0m\u001b[0;34m\u001b[0m\u001b[0;34m\u001b[0m\u001b[0m\n\u001b[0;32m----> 2\u001b[0;31m \u001b[0mfull_dataset\u001b[0m\u001b[0;34m.\u001b[0m\u001b[0mto_csv\u001b[0m\u001b[0;34m(\u001b[0m\u001b[0;34m\"spoken_written_full_dataset.csv\"\u001b[0m\u001b[0;34m)\u001b[0m\u001b[0;34m\u001b[0m\u001b[0;34m\u001b[0m\u001b[0m\n\u001b[0m",
            "\u001b[0;31mNameError\u001b[0m: name 'full_dataset' is not defined"
          ]
        }
      ],
      "source": [
        "#save\n",
        "full_dataset.to_csv(\"spoken_written_full_dataset_clean.csv\")"
      ]
    },
    {
      "cell_type": "markdown",
      "metadata": {
        "id": "RAt8xf-F63qj"
      },
      "source": [
        "### Step 3: Data Analysis ###"
      ]
    },
    {
      "cell_type": "code",
      "source": [
        "%pip install datasets"
      ],
      "metadata": {
        "id": "aUS0R0l1uuSs"
      },
      "execution_count": null,
      "outputs": []
    },
    {
      "cell_type": "code",
      "execution_count": 39,
      "metadata": {
        "id": "ShPGBIMU63qj",
        "outputId": "02c8f4aa-e2a1-4b45-b191-0c3de1f38d7a",
        "colab": {
          "base_uri": "https://localhost:8080/"
        }
      },
      "outputs": [
        {
          "output_type": "execute_result",
          "data": {
            "text/plain": [
              "2843"
            ]
          },
          "metadata": {},
          "execution_count": 39
        }
      ],
      "source": [
        "#Load in new dataset\n",
        "from datasets import load_dataset, Dataset\n",
        "full_dataset = load_dataset('csv', data_files='spoken_written_full_dataset_NO_PUNC.csv')\n",
        "len(full_dataset['train']) #should be 2886"
      ]
    },
    {
      "cell_type": "code",
      "source": [
        "full_dataset"
      ],
      "metadata": {
        "colab": {
          "base_uri": "https://localhost:8080/"
        },
        "id": "ybuOd9_Ex6yn",
        "outputId": "fdd12336-a38f-49a7-d6ab-31e9bba14916"
      },
      "execution_count": 40,
      "outputs": [
        {
          "output_type": "execute_result",
          "data": {
            "text/plain": [
              "DatasetDict({\n",
              "    train: Dataset({\n",
              "        features: ['text', 'source', 'formality', 'type'],\n",
              "        num_rows: 2843\n",
              "    })\n",
              "})"
            ]
          },
          "metadata": {},
          "execution_count": 40
        }
      ]
    },
    {
      "cell_type": "code",
      "source": [
        "print(processed_dataset['train'][0])"
      ],
      "metadata": {
        "colab": {
          "base_uri": "https://localhost:8080/"
        },
        "id": "gxpOS521yZNY",
        "outputId": "e747fee2-8e30-4475-8b95-9d3bf286b343"
      },
      "execution_count": 41,
      "outputs": [
        {
          "output_type": "stream",
          "name": "stdout",
          "text": [
            "{'text': 'delegation peru greatly pleased sir election presidency general assembly fiftyfourth session especially since peru active participant namibias independence process advanced united nations first speaker mornings meeting particularly pleased congratulate officers general assembly arrival new millennium great historic opportunity initiate era peace progress well people earth excluded requires greater commitment part international community create conditions enable developing nations properly channel energy potential view achieving comprehensive national development height twentieth century majority worlds peoples remain mired social cultural technological conditions nineteenth century even earlier centuries shall able truly speak new era aspirations twenty first century third millennium become tangible reality peoples peoples succeed fulfilling legitimate aspirations words globalized world globalize wellbeing dignity conversion economies adapt globalization social costs bear provided process assures us future development wellbeing one additional frustrations frustrations could arise national economies rather growing stronger weakened economic opening based unequal unjust terms trade reaction one wishes see could return defeated economic ideas speaking country peru say like peoples inherited heavy burden injustice backwardness also extraordinary future looking calling made possible past 10 years country become emerging economy futurelooking calling enabled us defeat totalitarian terrorist designs shining path tupac amaru revolutionary movement latter group seized residence japanese ambassador 1996 destructive capacity criminal activity increase thanks access new technology today threatens every region every continent duly stopped undoubtedly become nightmare twentyfirst century internal external peace essential coming new era championing 1998 peru ecuador crossroads either pursue path armed conflict situation typical entire century led destruction peoples follow path peace possibility development peru ecuador chose peace 1998 peace agreement peru ecuador product two equally important factors political two governments taken ultimate conclusion capacities energy awareness two peoples determined overcome old prejudices work towards future development ecuador peru intend reach twentyfirst century without baggage nineteenth peace opened possibilities development peru ecuador thanks savings resources earmarked defence shown latin america mature region rejects warlike tension tranquility region disturbed alliance drug trafficking terrorism cases criminal activities created power sufficient challenge states well upset world economy illicit drug money may infiltrated productive commercial even political activities terrorism drug trafficking therefore represent threat modern society good governance general terms poverty terrorism drug trafficking racial discrimination main barriers glimpsing new era civilized peoples propose reach task commitment overcome obstacles firm political want transitional period live mark threshold new era mankind concepts democracy fairness must prevail important promote democracy within countries also promote countries peoples democracy applies internal structure states also international relations determine fate world human rights raised maximal power highest expression rights peoples peoples right future', 'source': 'un_debates', 'formality': 'formal', 'type': 'spoken'}\n"
          ]
        }
      ]
    },
    {
      "cell_type": "code",
      "source": [
        "spoken_texts = [process[\"text\"] for process in full_dataset[\"train\"] if process[\"type\"] == \"spoken\"]\n",
        "written_texts = [process[\"text\"] for process in full_dataset[\"train\"] if process[\"type\"] == \"written\"]"
      ],
      "metadata": {
        "id": "49SCOn0s2GS0"
      },
      "execution_count": 42,
      "outputs": []
    },
    {
      "cell_type": "code",
      "execution_count": 20,
      "metadata": {
        "id": "eQrgunxm63qj"
      },
      "outputs": [],
      "source": [
        "def preprocess_corpus(data):\n",
        "    \"\"\" Tokenize, sentencize, and lowercase the input data.\n",
        "\n",
        "        Args:\n",
        "            data: list of strings, where each string is a document\n",
        "\n",
        "        Return:\n",
        "            list of lists, with tokenized, lowercased sentences from each of the processed rows\n",
        "    \"\"\"\n",
        "    tokenized_sentences = []\n",
        "\n",
        "    for doc in tqdm(data):\n",
        "        sentences = sent_tokenize(doc)\n",
        "        for sentence in sentences:\n",
        "            tokenized_sentences.append(word_tokenize(sentence))\n",
        "    return tokenized_sentences"
      ]
    },
    {
      "cell_type": "code",
      "execution_count": 43,
      "metadata": {
        "id": "PYIbdnkh63qj",
        "outputId": "b5bf3dbf-6832-4170-cf08-c2048e24f978",
        "colab": {
          "base_uri": "https://localhost:8080/"
        }
      },
      "outputs": [
        {
          "output_type": "stream",
          "name": "stderr",
          "text": [
            "100%|██████████| 1594/1594 [00:03<00:00, 458.68it/s]\n",
            "100%|██████████| 1249/1249 [00:11<00:00, 111.22it/s]\n"
          ]
        }
      ],
      "source": [
        "ds_processed_written = preprocess_corpus(written_texts)\n",
        "ds_processed_spoken = preprocess_corpus(spoken_texts)"
      ]
    },
    {
      "cell_type": "code",
      "execution_count": 44,
      "metadata": {
        "id": "J-DOulZj63qk",
        "outputId": "41f18dea-ff62-4cb6-d5ca-51a97547b2de",
        "colab": {
          "base_uri": "https://localhost:8080/"
        }
      },
      "outputs": [
        {
          "output_type": "stream",
          "name": "stderr",
          "text": [
            "[nltk_data] Downloading package stopwords to /root/nltk_data...\n",
            "[nltk_data]   Package stopwords is already up-to-date!\n"
          ]
        }
      ],
      "source": [
        "import matplotlib.pyplot as plt\n",
        "from collections import Counter\n",
        "import nltk\n",
        "from nltk.corpus import stopwords\n",
        "\n",
        "nltk.download(\"stopwords\")\n",
        "stop_words = set(stopwords.words(\"english\"))\n",
        "\n",
        "def analyze_tokens(tokenized_data, type):\n",
        "    \"\"\" Perform token & vocabulary analysis.\n",
        "\n",
        "        Args:\n",
        "            tokenized_data: List of tokenized sentences (list of lists)\n",
        "            dataset_name: String, name of the dataset for labeling\n",
        "    \"\"\"\n",
        "    #Flatten tokenized sentences into a single list of words\n",
        "    all_words = [word for sentence in tokenized_data for word in sentence]\n",
        "\n",
        "    # Vocabulary size\n",
        "    vocab_size = len(set(all_words))\n",
        "    print(f\"Vocabulary Size: {vocab_size}\")\n",
        "\n",
        "    # Most common words\n",
        "    word_counts = Counter(all_words)\n",
        "    most_common_words = word_counts.most_common(20)\n",
        "    print(f\"Most Common Words:\")\n",
        "    print(most_common_words)\n",
        "\n",
        "    # Stopword Distribution\n",
        "    stopword_count = sum(word_counts[word] for word in stop_words if word in word_counts)\n",
        "    total_words = sum(word_counts.values())\n",
        "    stopword_ratio = stopword_count / total_words\n",
        "    print(f\"Stopword Ratio: {stopword_ratio:.2%}\\n\")\n",
        "\n",
        "    # Plot Most Common Words\n",
        "    words, counts = zip(*most_common_words)\n",
        "    plt.figure(figsize=(10, 5))\n",
        "    plt.bar(words, counts)\n",
        "    plt.xticks(rotation=45)\n",
        "    plt.title(f\"Most Common Words in {type} Dataset\")\n",
        "    plt.show()"
      ]
    },
    {
      "cell_type": "code",
      "execution_count": 45,
      "metadata": {
        "id": "ruLbM_ln63qk",
        "outputId": "ef6329c4-b4da-4bd7-bbee-2df088129eba",
        "colab": {
          "base_uri": "https://localhost:8080/",
          "height": 1000
        }
      },
      "outputs": [
        {
          "output_type": "stream",
          "name": "stdout",
          "text": [
            "Vocabulary Size: 44555\n",
            "Most Common Words:\n",
            "[('the', 191158), ('of', 113216), ('and', 112841), ('to', 107868), ('that', 75560), ('a', 70308), ('in', 58081), ('i', 53068), ('is', 52496), ('you', 49459), ('it', 38004), ('we', 35943), ('this', 33751), ('so', 32931), ('for', 29466), ('have', 25107), ('on', 23358), ('its', 23248), ('be', 23141), ('like', 21560)]\n",
            "Stopword Ratio: 50.44%\n",
            "\n"
          ]
        },
        {
          "output_type": "display_data",
          "data": {
            "text/plain": [
              "<Figure size 1000x500 with 1 Axes>"
            ],
            "image/png": "[encoded data removed]"
          },
          "metadata": {}
        },
        {
          "output_type": "stream",
          "name": "stdout",
          "text": [
            "Vocabulary Size: 37815\n",
            "Most Common Words:\n",
            "[('the', 42283), ('and', 21945), ('of', 21067), ('to', 18903), ('a', 14713), ('in', 13534), ('is', 9381), ('that', 7666), ('for', 7126), ('with', 5097), ('it', 4578), ('as', 4561), ('on', 4402), ('are', 4221), ('this', 3898), ('i', 3859), ('be', 3710), ('we', 3598), ('by', 3580), ('you', 3475)]\n",
            "Stopword Ratio: 42.50%\n",
            "\n"
          ]
        },
        {
          "output_type": "display_data",
          "data": {
            "text/plain": [
              "<Figure size 1000x500 with 1 Axes>"
            ],
            "image/png": "[encoded data removed]"
          },
          "metadata": {}
        }
      ],
      "source": [
        "analyze_tokens(ds_processed_spoken, \"Spoken\")\n",
        "analyze_tokens(ds_processed_written, \"Written\")"
      ]
    }
  ],
  "metadata": {
    "kernelspec": {
      "display_name": "Python 3",
      "language": "python",
      "name": "python3"
    },
    "language_info": {
      "codemirror_mode": {
        "name": "ipython",
        "version": 3
      },
      "file_extension": ".py",
      "mimetype": "text/x-python",
      "name": "python",
      "nbconvert_exporter": "python",
      "pygments_lexer": "ipython3",
      "version": "3.11.11"
    },
    "colab": {
      "provenance": []
    },
    "widgets": {
      "application/vnd.jupyter.widget-state+json": {
        "bbca71b0fc9e4380a11b823ca98ca06a": {
          "model_module": "@jupyter-widgets/controls",
          "model_name": "HBoxModel",
          "model_module_version": "1.5.0",
          "state": {
            "_dom_classes": [],
            "_model_module": "@jupyter-widgets/controls",
            "_model_module_version": "1.5.0",
            "_model_name": "HBoxModel",
            "_view_count": null,
            "_view_module": "@jupyter-widgets/controls",
            "_view_module_version": "1.5.0",
            "_view_name": "HBoxView",
            "box_style": "",
            "children": [
              "IPY_MODEL_fb56f835f36a40e88f83434867370159",
              "IPY_MODEL_04cd9e8993854ee98f8a66470ffb16e6",
              "IPY_MODEL_e5c88415e5e04dba9a1a527da4260a73"
            ],
            "layout": "IPY_MODEL_87564eb1254f49ac94f33703cd996391"
          }
        },
        "fb56f835f36a40e88f83434867370159": {
          "model_module": "@jupyter-widgets/controls",
          "model_name": "HTMLModel",
          "model_module_version": "1.5.0",
          "state": {
            "_dom_classes": [],
            "_model_module": "@jupyter-widgets/controls",
            "_model_module_version": "1.5.0",
            "_model_name": "HTMLModel",
            "_view_count": null,
            "_view_module": "@jupyter-widgets/controls",
            "_view_module_version": "1.5.0",
            "_view_name": "HTMLView",
            "description": "",
            "description_tooltip": null,
            "layout": "IPY_MODEL_d9ee67fe4f934c72903cc562d908cac6",
            "placeholder": "​",
            "style": "IPY_MODEL_6a84993e2a73421b8b04f7552c750c12",
            "value": "Resolving data files: 100%"
          }
        },
        "04cd9e8993854ee98f8a66470ffb16e6": {
          "model_module": "@jupyter-widgets/controls",
          "model_name": "FloatProgressModel",
          "model_module_version": "1.5.0",
          "state": {
            "_dom_classes": [],
            "_model_module": "@jupyter-widgets/controls",
            "_model_module_version": "1.5.0",
            "_model_name": "FloatProgressModel",
            "_view_count": null,
            "_view_module": "@jupyter-widgets/controls",
            "_view_module_version": "1.5.0",
            "_view_name": "ProgressView",
            "bar_style": "success",
            "description": "",
            "description_tooltip": null,
            "layout": "IPY_MODEL_10aa372a0b664edfaeff69b9979b3fc2",
            "max": 17,
            "min": 0,
            "orientation": "horizontal",
            "style": "IPY_MODEL_f685e35216df4ed4a7585ca0ea529465",
            "value": 17
          }
        },
        "e5c88415e5e04dba9a1a527da4260a73": {
          "model_module": "@jupyter-widgets/controls",
          "model_name": "HTMLModel",
          "model_module_version": "1.5.0",
          "state": {
            "_dom_classes": [],
            "_model_module": "@jupyter-widgets/controls",
            "_model_module_version": "1.5.0",
            "_model_name": "HTMLModel",
            "_view_count": null,
            "_view_module": "@jupyter-widgets/controls",
            "_view_module_version": "1.5.0",
            "_view_name": "HTMLView",
            "description": "",
            "description_tooltip": null,
            "layout": "IPY_MODEL_99d30fada12645839b02abbeeaa3ebb6",
            "placeholder": "​",
            "style": "IPY_MODEL_8744908c34824bd5b82dec06fc974ff2",
            "value": " 17/17 [00:00&lt;00:00, 32.46it/s]"
          }
        },
        "87564eb1254f49ac94f33703cd996391": {
          "model_module": "@jupyter-widgets/base",
          "model_name": "LayoutModel",
          "model_module_version": "1.2.0",
          "state": {
            "_model_module": "@jupyter-widgets/base",
            "_model_module_version": "1.2.0",
            "_model_name": "LayoutModel",
            "_view_count": null,
            "_view_module": "@jupyter-widgets/base",
            "_view_module_version": "1.2.0",
            "_view_name": "LayoutView",
            "align_content": null,
            "align_items": null,
            "align_self": null,
            "border": null,
            "bottom": null,
            "display": null,
            "flex": null,
            "flex_flow": null,
            "grid_area": null,
            "grid_auto_columns": null,
            "grid_auto_flow": null,
            "grid_auto_rows": null,
            "grid_column": null,
            "grid_gap": null,
            "grid_row": null,
            "grid_template_areas": null,
            "grid_template_columns": null,
            "grid_template_rows": null,
            "height": null,
            "justify_content": null,
            "justify_items": null,
            "left": null,
            "margin": null,
            "max_height": null,
            "max_width": null,
            "min_height": null,
            "min_width": null,
            "object_fit": null,
            "object_position": null,
            "order": null,
            "overflow": null,
            "overflow_x": null,
            "overflow_y": null,
            "padding": null,
            "right": null,
            "top": null,
            "visibility": null,
            "width": null
          }
        },
        "d9ee67fe4f934c72903cc562d908cac6": {
          "model_module": "@jupyter-widgets/base",
          "model_name": "LayoutModel",
          "model_module_version": "1.2.0",
          "state": {
            "_model_module": "@jupyter-widgets/base",
            "_model_module_version": "1.2.0",
            "_model_name": "LayoutModel",
            "_view_count": null,
            "_view_module": "@jupyter-widgets/base",
            "_view_module_version": "1.2.0",
            "_view_name": "LayoutView",
            "align_content": null,
            "align_items": null,
            "align_self": null,
            "border": null,
            "bottom": null,
            "display": null,
            "flex": null,
            "flex_flow": null,
            "grid_area": null,
            "grid_auto_columns": null,
            "grid_auto_flow": null,
            "grid_auto_rows": null,
            "grid_column": null,
            "grid_gap": null,
            "grid_row": null,
            "grid_template_areas": null,
            "grid_template_columns": null,
            "grid_template_rows": null,
            "height": null,
            "justify_content": null,
            "justify_items": null,
            "left": null,
            "margin": null,
            "max_height": null,
            "max_width": null,
            "min_height": null,
            "min_width": null,
            "object_fit": null,
            "object_position": null,
            "order": null,
            "overflow": null,
            "overflow_x": null,
            "overflow_y": null,
            "padding": null,
            "right": null,
            "top": null,
            "visibility": null,
            "width": null
          }
        },
        "6a84993e2a73421b8b04f7552c750c12": {
          "model_module": "@jupyter-widgets/controls",
          "model_name": "DescriptionStyleModel",
          "model_module_version": "1.5.0",
          "state": {
            "_model_module": "@jupyter-widgets/controls",
            "_model_module_version": "1.5.0",
            "_model_name": "DescriptionStyleModel",
            "_view_count": null,
            "_view_module": "@jupyter-widgets/base",
            "_view_module_version": "1.2.0",
            "_view_name": "StyleView",
            "description_width": ""
          }
        },
        "10aa372a0b664edfaeff69b9979b3fc2": {
          "model_module": "@jupyter-widgets/base",
          "model_name": "LayoutModel",
          "model_module_version": "1.2.0",
          "state": {
            "_model_module": "@jupyter-widgets/base",
            "_model_module_version": "1.2.0",
            "_model_name": "LayoutModel",
            "_view_count": null,
            "_view_module": "@jupyter-widgets/base",
            "_view_module_version": "1.2.0",
            "_view_name": "LayoutView",
            "align_content": null,
            "align_items": null,
            "align_self": null,
            "border": null,
            "bottom": null,
            "display": null,
            "flex": null,
            "flex_flow": null,
            "grid_area": null,
            "grid_auto_columns": null,
            "grid_auto_flow": null,
            "grid_auto_rows": null,
            "grid_column": null,
            "grid_gap": null,
            "grid_row": null,
            "grid_template_areas": null,
            "grid_template_columns": null,
            "grid_template_rows": null,
            "height": null,
            "justify_content": null,
            "justify_items": null,
            "left": null,
            "margin": null,
            "max_height": null,
            "max_width": null,
            "min_height": null,
            "min_width": null,
            "object_fit": null,
            "object_position": null,
            "order": null,
            "overflow": null,
            "overflow_x": null,
            "overflow_y": null,
            "padding": null,
            "right": null,
            "top": null,
            "visibility": null,
            "width": null
          }
        },
        "f685e35216df4ed4a7585ca0ea529465": {
          "model_module": "@jupyter-widgets/controls",
          "model_name": "ProgressStyleModel",
          "model_module_version": "1.5.0",
          "state": {
            "_model_module": "@jupyter-widgets/controls",
            "_model_module_version": "1.5.0",
            "_model_name": "ProgressStyleModel",
            "_view_count": null,
            "_view_module": "@jupyter-widgets/base",
            "_view_module_version": "1.2.0",
            "_view_name": "StyleView",
            "bar_color": null,
            "description_width": ""
          }
        },
        "99d30fada12645839b02abbeeaa3ebb6": {
          "model_module": "@jupyter-widgets/base",
          "model_name": "LayoutModel",
          "model_module_version": "1.2.0",
          "state": {
            "_model_module": "@jupyter-widgets/base",
            "_model_module_version": "1.2.0",
            "_model_name": "LayoutModel",
            "_view_count": null,
            "_view_module": "@jupyter-widgets/base",
            "_view_module_version": "1.2.0",
            "_view_name": "LayoutView",
            "align_content": null,
            "align_items": null,
            "align_self": null,
            "border": null,
            "bottom": null,
            "display": null,
            "flex": null,
            "flex_flow": null,
            "grid_area": null,
            "grid_auto_columns": null,
            "grid_auto_flow": null,
            "grid_auto_rows": null,
            "grid_column": null,
            "grid_gap": null,
            "grid_row": null,
            "grid_template_areas": null,
            "grid_template_columns": null,
            "grid_template_rows": null,
            "height": null,
            "justify_content": null,
            "justify_items": null,
            "left": null,
            "margin": null,
            "max_height": null,
            "max_width": null,
            "min_height": null,
            "min_width": null,
            "object_fit": null,
            "object_position": null,
            "order": null,
            "overflow": null,
            "overflow_x": null,
            "overflow_y": null,
            "padding": null,
            "right": null,
            "top": null,
            "visibility": null,
            "width": null
          }
        },
        "8744908c34824bd5b82dec06fc974ff2": {
          "model_module": "@jupyter-widgets/controls",
          "model_name": "DescriptionStyleModel",
          "model_module_version": "1.5.0",
          "state": {
            "_model_module": "@jupyter-widgets/controls",
            "_model_module_version": "1.5.0",
            "_model_name": "DescriptionStyleModel",
            "_view_count": null,
            "_view_module": "@jupyter-widgets/base",
            "_view_module_version": "1.2.0",
            "_view_name": "StyleView",
            "description_width": ""
          }
        },
        "9ab4bb7a217f4574963ccac020554c5e": {
          "model_module": "@jupyter-widgets/controls",
          "model_name": "HBoxModel",
          "model_module_version": "1.5.0",
          "state": {
            "_dom_classes": [],
            "_model_module": "@jupyter-widgets/controls",
            "_model_module_version": "1.5.0",
            "_model_name": "HBoxModel",
            "_view_count": null,
            "_view_module": "@jupyter-widgets/controls",
            "_view_module_version": "1.5.0",
            "_view_name": "HBoxView",
            "box_style": "",
            "children": [
              "IPY_MODEL_d084db69286040eb9d4d98897068fe4e",
              "IPY_MODEL_b8036f3f90d14920a2a9355d647166fc",
              "IPY_MODEL_2147a7a1d478403981cb44ccd67e272c"
            ],
            "layout": "IPY_MODEL_b987bcc26e6d46b08ab24519e88ea280"
          }
        },
        "d084db69286040eb9d4d98897068fe4e": {
          "model_module": "@jupyter-widgets/controls",
          "model_name": "HTMLModel",
          "model_module_version": "1.5.0",
          "state": {
            "_dom_classes": [],
            "_model_module": "@jupyter-widgets/controls",
            "_model_module_version": "1.5.0",
            "_model_name": "HTMLModel",
            "_view_count": null,
            "_view_module": "@jupyter-widgets/controls",
            "_view_module_version": "1.5.0",
            "_view_name": "HTMLView",
            "description": "",
            "description_tooltip": null,
            "layout": "IPY_MODEL_9f034822808f4c99ba2a700ff7487b71",
            "placeholder": "​",
            "style": "IPY_MODEL_bc613138110c435cb65f3c900a5612c4",
            "value": "Resolving data files: 100%"
          }
        },
        "b8036f3f90d14920a2a9355d647166fc": {
          "model_module": "@jupyter-widgets/controls",
          "model_name": "FloatProgressModel",
          "model_module_version": "1.5.0",
          "state": {
            "_dom_classes": [],
            "_model_module": "@jupyter-widgets/controls",
            "_model_module_version": "1.5.0",
            "_model_name": "FloatProgressModel",
            "_view_count": null,
            "_view_module": "@jupyter-widgets/controls",
            "_view_module_version": "1.5.0",
            "_view_name": "ProgressView",
            "bar_style": "success",
            "description": "",
            "description_tooltip": null,
            "layout": "IPY_MODEL_86e8ef4ac3f24054a9cacb9515075c62",
            "max": 17,
            "min": 0,
            "orientation": "horizontal",
            "style": "IPY_MODEL_08139ac7e9ad4253bbb2bca503b5c39c",
            "value": 17
          }
        },
        "2147a7a1d478403981cb44ccd67e272c": {
          "model_module": "@jupyter-widgets/controls",
          "model_name": "HTMLModel",
          "model_module_version": "1.5.0",
          "state": {
            "_dom_classes": [],
            "_model_module": "@jupyter-widgets/controls",
            "_model_module_version": "1.5.0",
            "_model_name": "HTMLModel",
            "_view_count": null,
            "_view_module": "@jupyter-widgets/controls",
            "_view_module_version": "1.5.0",
            "_view_name": "HTMLView",
            "description": "",
            "description_tooltip": null,
            "layout": "IPY_MODEL_2f38a2a85dcf44b0994956a3449fc636",
            "placeholder": "​",
            "style": "IPY_MODEL_fdac73e5172d459188d94af13a8d2125",
            "value": " 17/17 [00:00&lt;00:00, 41.23it/s]"
          }
        },
        "b987bcc26e6d46b08ab24519e88ea280": {
          "model_module": "@jupyter-widgets/base",
          "model_name": "LayoutModel",
          "model_module_version": "1.2.0",
          "state": {
            "_model_module": "@jupyter-widgets/base",
            "_model_module_version": "1.2.0",
            "_model_name": "LayoutModel",
            "_view_count": null,
            "_view_module": "@jupyter-widgets/base",
            "_view_module_version": "1.2.0",
            "_view_name": "LayoutView",
            "align_content": null,
            "align_items": null,
            "align_self": null,
            "border": null,
            "bottom": null,
            "display": null,
            "flex": null,
            "flex_flow": null,
            "grid_area": null,
            "grid_auto_columns": null,
            "grid_auto_flow": null,
            "grid_auto_rows": null,
            "grid_column": null,
            "grid_gap": null,
            "grid_row": null,
            "grid_template_areas": null,
            "grid_template_columns": null,
            "grid_template_rows": null,
            "height": null,
            "justify_content": null,
            "justify_items": null,
            "left": null,
            "margin": null,
            "max_height": null,
            "max_width": null,
            "min_height": null,
            "min_width": null,
            "object_fit": null,
            "object_position": null,
            "order": null,
            "overflow": null,
            "overflow_x": null,
            "overflow_y": null,
            "padding": null,
            "right": null,
            "top": null,
            "visibility": null,
            "width": null
          }
        },
        "9f034822808f4c99ba2a700ff7487b71": {
          "model_module": "@jupyter-widgets/base",
          "model_name": "LayoutModel",
          "model_module_version": "1.2.0",
          "state": {
            "_model_module": "@jupyter-widgets/base",
            "_model_module_version": "1.2.0",
            "_model_name": "LayoutModel",
            "_view_count": null,
            "_view_module": "@jupyter-widgets/base",
            "_view_module_version": "1.2.0",
            "_view_name": "LayoutView",
            "align_content": null,
            "align_items": null,
            "align_self": null,
            "border": null,
            "bottom": null,
            "display": null,
            "flex": null,
            "flex_flow": null,
            "grid_area": null,
            "grid_auto_columns": null,
            "grid_auto_flow": null,
            "grid_auto_rows": null,
            "grid_column": null,
            "grid_gap": null,
            "grid_row": null,
            "grid_template_areas": null,
            "grid_template_columns": null,
            "grid_template_rows": null,
            "height": null,
            "justify_content": null,
            "justify_items": null,
            "left": null,
            "margin": null,
            "max_height": null,
            "max_width": null,
            "min_height": null,
            "min_width": null,
            "object_fit": null,
            "object_position": null,
            "order": null,
            "overflow": null,
            "overflow_x": null,
            "overflow_y": null,
            "padding": null,
            "right": null,
            "top": null,
            "visibility": null,
            "width": null
          }
        },
        "bc613138110c435cb65f3c900a5612c4": {
          "model_module": "@jupyter-widgets/controls",
          "model_name": "DescriptionStyleModel",
          "model_module_version": "1.5.0",
          "state": {
            "_model_module": "@jupyter-widgets/controls",
            "_model_module_version": "1.5.0",
            "_model_name": "DescriptionStyleModel",
            "_view_count": null,
            "_view_module": "@jupyter-widgets/base",
            "_view_module_version": "1.2.0",
            "_view_name": "StyleView",
            "description_width": ""
          }
        },
        "86e8ef4ac3f24054a9cacb9515075c62": {
          "model_module": "@jupyter-widgets/base",
          "model_name": "LayoutModel",
          "model_module_version": "1.2.0",
          "state": {
            "_model_module": "@jupyter-widgets/base",
            "_model_module_version": "1.2.0",
            "_model_name": "LayoutModel",
            "_view_count": null,
            "_view_module": "@jupyter-widgets/base",
            "_view_module_version": "1.2.0",
            "_view_name": "LayoutView",
            "align_content": null,
            "align_items": null,
            "align_self": null,
            "border": null,
            "bottom": null,
            "display": null,
            "flex": null,
            "flex_flow": null,
            "grid_area": null,
            "grid_auto_columns": null,
            "grid_auto_flow": null,
            "grid_auto_rows": null,
            "grid_column": null,
            "grid_gap": null,
            "grid_row": null,
            "grid_template_areas": null,
            "grid_template_columns": null,
            "grid_template_rows": null,
            "height": null,
            "justify_content": null,
            "justify_items": null,
            "left": null,
            "margin": null,
            "max_height": null,
            "max_width": null,
            "min_height": null,
            "min_width": null,
            "object_fit": null,
            "object_position": null,
            "order": null,
            "overflow": null,
            "overflow_x": null,
            "overflow_y": null,
            "padding": null,
            "right": null,
            "top": null,
            "visibility": null,
            "width": null
          }
        },
        "08139ac7e9ad4253bbb2bca503b5c39c": {
          "model_module": "@jupyter-widgets/controls",
          "model_name": "ProgressStyleModel",
          "model_module_version": "1.5.0",
          "state": {
            "_model_module": "@jupyter-widgets/controls",
            "_model_module_version": "1.5.0",
            "_model_name": "ProgressStyleModel",
            "_view_count": null,
            "_view_module": "@jupyter-widgets/base",
            "_view_module_version": "1.2.0",
            "_view_name": "StyleView",
            "bar_color": null,
            "description_width": ""
          }
        },
        "2f38a2a85dcf44b0994956a3449fc636": {
          "model_module": "@jupyter-widgets/base",
          "model_name": "LayoutModel",
          "model_module_version": "1.2.0",
          "state": {
            "_model_module": "@jupyter-widgets/base",
            "_model_module_version": "1.2.0",
            "_model_name": "LayoutModel",
            "_view_count": null,
            "_view_module": "@jupyter-widgets/base",
            "_view_module_version": "1.2.0",
            "_view_name": "LayoutView",
            "align_content": null,
            "align_items": null,
            "align_self": null,
            "border": null,
            "bottom": null,
            "display": null,
            "flex": null,
            "flex_flow": null,
            "grid_area": null,
            "grid_auto_columns": null,
            "grid_auto_flow": null,
            "grid_auto_rows": null,
            "grid_column": null,
            "grid_gap": null,
            "grid_row": null,
            "grid_template_areas": null,
            "grid_template_columns": null,
            "grid_template_rows": null,
            "height": null,
            "justify_content": null,
            "justify_items": null,
            "left": null,
            "margin": null,
            "max_height": null,
            "max_width": null,
            "min_height": null,
            "min_width": null,
            "object_fit": null,
            "object_position": null,
            "order": null,
            "overflow": null,
            "overflow_x": null,
            "overflow_y": null,
            "padding": null,
            "right": null,
            "top": null,
            "visibility": null,
            "width": null
          }
        },
        "fdac73e5172d459188d94af13a8d2125": {
          "model_module": "@jupyter-widgets/controls",
          "model_name": "DescriptionStyleModel",
          "model_module_version": "1.5.0",
          "state": {
            "_model_module": "@jupyter-widgets/controls",
            "_model_module_version": "1.5.0",
            "_model_name": "DescriptionStyleModel",
            "_view_count": null,
            "_view_module": "@jupyter-widgets/base",
            "_view_module_version": "1.2.0",
            "_view_name": "StyleView",
            "description_width": ""
          }
        },
        "f8344e3d1d8a41c19287bb6ef50a2b24": {
          "model_module": "@jupyter-widgets/controls",
          "model_name": "HBoxModel",
          "model_module_version": "1.5.0",
          "state": {
            "_dom_classes": [],
            "_model_module": "@jupyter-widgets/controls",
            "_model_module_version": "1.5.0",
            "_model_name": "HBoxModel",
            "_view_count": null,
            "_view_module": "@jupyter-widgets/controls",
            "_view_module_version": "1.5.0",
            "_view_name": "HBoxView",
            "box_style": "",
            "children": [
              "IPY_MODEL_1974103267dc4422b7a85d4638370bb6",
              "IPY_MODEL_3ad7cdea9ccb4816a1c35df4be4fdd0c",
              "IPY_MODEL_149f58285c6643b191f4fc7b13685b1b"
            ],
            "layout": "IPY_MODEL_7a3088a2b4394981800058ca1b7f71cd"
          }
        },
        "1974103267dc4422b7a85d4638370bb6": {
          "model_module": "@jupyter-widgets/controls",
          "model_name": "HTMLModel",
          "model_module_version": "1.5.0",
          "state": {
            "_dom_classes": [],
            "_model_module": "@jupyter-widgets/controls",
            "_model_module_version": "1.5.0",
            "_model_name": "HTMLModel",
            "_view_count": null,
            "_view_module": "@jupyter-widgets/controls",
            "_view_module_version": "1.5.0",
            "_view_name": "HTMLView",
            "description": "",
            "description_tooltip": null,
            "layout": "IPY_MODEL_54a2d897b2114811ba2f36d8d3f0b515",
            "placeholder": "​",
            "style": "IPY_MODEL_e396a6154eab4da1b90b96dc6182b7aa",
            "value": "Loading dataset shards: 100%"
          }
        },
        "3ad7cdea9ccb4816a1c35df4be4fdd0c": {
          "model_module": "@jupyter-widgets/controls",
          "model_name": "FloatProgressModel",
          "model_module_version": "1.5.0",
          "state": {
            "_dom_classes": [],
            "_model_module": "@jupyter-widgets/controls",
            "_model_module_version": "1.5.0",
            "_model_name": "FloatProgressModel",
            "_view_count": null,
            "_view_module": "@jupyter-widgets/controls",
            "_view_module_version": "1.5.0",
            "_view_name": "ProgressView",
            "bar_style": "success",
            "description": "",
            "description_tooltip": null,
            "layout": "IPY_MODEL_9bf8eaf91095483c9ce1afdf6f255082",
            "max": 17,
            "min": 0,
            "orientation": "horizontal",
            "style": "IPY_MODEL_256c894b319142e18c033a2032dbdf9a",
            "value": 17
          }
        },
        "149f58285c6643b191f4fc7b13685b1b": {
          "model_module": "@jupyter-widgets/controls",
          "model_name": "HTMLModel",
          "model_module_version": "1.5.0",
          "state": {
            "_dom_classes": [],
            "_model_module": "@jupyter-widgets/controls",
            "_model_module_version": "1.5.0",
            "_model_name": "HTMLModel",
            "_view_count": null,
            "_view_module": "@jupyter-widgets/controls",
            "_view_module_version": "1.5.0",
            "_view_name": "HTMLView",
            "description": "",
            "description_tooltip": null,
            "layout": "IPY_MODEL_49cf41e33cf04db0a54cef3522682bfc",
            "placeholder": "​",
            "style": "IPY_MODEL_f219b8297a6242d7a3045c8c0bb18778",
            "value": " 17/17 [00:35&lt;00:00,  2.19s/it]"
          }
        },
        "7a3088a2b4394981800058ca1b7f71cd": {
          "model_module": "@jupyter-widgets/base",
          "model_name": "LayoutModel",
          "model_module_version": "1.2.0",
          "state": {
            "_model_module": "@jupyter-widgets/base",
            "_model_module_version": "1.2.0",
            "_model_name": "LayoutModel",
            "_view_count": null,
            "_view_module": "@jupyter-widgets/base",
            "_view_module_version": "1.2.0",
            "_view_name": "LayoutView",
            "align_content": null,
            "align_items": null,
            "align_self": null,
            "border": null,
            "bottom": null,
            "display": null,
            "flex": null,
            "flex_flow": null,
            "grid_area": null,
            "grid_auto_columns": null,
            "grid_auto_flow": null,
            "grid_auto_rows": null,
            "grid_column": null,
            "grid_gap": null,
            "grid_row": null,
            "grid_template_areas": null,
            "grid_template_columns": null,
            "grid_template_rows": null,
            "height": null,
            "justify_content": null,
            "justify_items": null,
            "left": null,
            "margin": null,
            "max_height": null,
            "max_width": null,
            "min_height": null,
            "min_width": null,
            "object_fit": null,
            "object_position": null,
            "order": null,
            "overflow": null,
            "overflow_x": null,
            "overflow_y": null,
            "padding": null,
            "right": null,
            "top": null,
            "visibility": null,
            "width": null
          }
        },
        "54a2d897b2114811ba2f36d8d3f0b515": {
          "model_module": "@jupyter-widgets/base",
          "model_name": "LayoutModel",
          "model_module_version": "1.2.0",
          "state": {
            "_model_module": "@jupyter-widgets/base",
            "_model_module_version": "1.2.0",
            "_model_name": "LayoutModel",
            "_view_count": null,
            "_view_module": "@jupyter-widgets/base",
            "_view_module_version": "1.2.0",
            "_view_name": "LayoutView",
            "align_content": null,
            "align_items": null,
            "align_self": null,
            "border": null,
            "bottom": null,
            "display": null,
            "flex": null,
            "flex_flow": null,
            "grid_area": null,
            "grid_auto_columns": null,
            "grid_auto_flow": null,
            "grid_auto_rows": null,
            "grid_column": null,
            "grid_gap": null,
            "grid_row": null,
            "grid_template_areas": null,
            "grid_template_columns": null,
            "grid_template_rows": null,
            "height": null,
            "justify_content": null,
            "justify_items": null,
            "left": null,
            "margin": null,
            "max_height": null,
            "max_width": null,
            "min_height": null,
            "min_width": null,
            "object_fit": null,
            "object_position": null,
            "order": null,
            "overflow": null,
            "overflow_x": null,
            "overflow_y": null,
            "padding": null,
            "right": null,
            "top": null,
            "visibility": null,
            "width": null
          }
        },
        "e396a6154eab4da1b90b96dc6182b7aa": {
          "model_module": "@jupyter-widgets/controls",
          "model_name": "DescriptionStyleModel",
          "model_module_version": "1.5.0",
          "state": {
            "_model_module": "@jupyter-widgets/controls",
            "_model_module_version": "1.5.0",
            "_model_name": "DescriptionStyleModel",
            "_view_count": null,
            "_view_module": "@jupyter-widgets/base",
            "_view_module_version": "1.2.0",
            "_view_name": "StyleView",
            "description_width": ""
          }
        },
        "9bf8eaf91095483c9ce1afdf6f255082": {
          "model_module": "@jupyter-widgets/base",
          "model_name": "LayoutModel",
          "model_module_version": "1.2.0",
          "state": {
            "_model_module": "@jupyter-widgets/base",
            "_model_module_version": "1.2.0",
            "_model_name": "LayoutModel",
            "_view_count": null,
            "_view_module": "@jupyter-widgets/base",
            "_view_module_version": "1.2.0",
            "_view_name": "LayoutView",
            "align_content": null,
            "align_items": null,
            "align_self": null,
            "border": null,
            "bottom": null,
            "display": null,
            "flex": null,
            "flex_flow": null,
            "grid_area": null,
            "grid_auto_columns": null,
            "grid_auto_flow": null,
            "grid_auto_rows": null,
            "grid_column": null,
            "grid_gap": null,
            "grid_row": null,
            "grid_template_areas": null,
            "grid_template_columns": null,
            "grid_template_rows": null,
            "height": null,
            "justify_content": null,
            "justify_items": null,
            "left": null,
            "margin": null,
            "max_height": null,
            "max_width": null,
            "min_height": null,
            "min_width": null,
            "object_fit": null,
            "object_position": null,
            "order": null,
            "overflow": null,
            "overflow_x": null,
            "overflow_y": null,
            "padding": null,
            "right": null,
            "top": null,
            "visibility": null,
            "width": null
          }
        },
        "256c894b319142e18c033a2032dbdf9a": {
          "model_module": "@jupyter-widgets/controls",
          "model_name": "ProgressStyleModel",
          "model_module_version": "1.5.0",
          "state": {
            "_model_module": "@jupyter-widgets/controls",
            "_model_module_version": "1.5.0",
            "_model_name": "ProgressStyleModel",
            "_view_count": null,
            "_view_module": "@jupyter-widgets/base",
            "_view_module_version": "1.2.0",
            "_view_name": "StyleView",
            "bar_color": null,
            "description_width": ""
          }
        },
        "49cf41e33cf04db0a54cef3522682bfc": {
          "model_module": "@jupyter-widgets/base",
          "model_name": "LayoutModel",
          "model_module_version": "1.2.0",
          "state": {
            "_model_module": "@jupyter-widgets/base",
            "_model_module_version": "1.2.0",
            "_model_name": "LayoutModel",
            "_view_count": null,
            "_view_module": "@jupyter-widgets/base",
            "_view_module_version": "1.2.0",
            "_view_name": "LayoutView",
            "align_content": null,
            "align_items": null,
            "align_self": null,
            "border": null,
            "bottom": null,
            "display": null,
            "flex": null,
            "flex_flow": null,
            "grid_area": null,
            "grid_auto_columns": null,
            "grid_auto_flow": null,
            "grid_auto_rows": null,
            "grid_column": null,
            "grid_gap": null,
            "grid_row": null,
            "grid_template_areas": null,
            "grid_template_columns": null,
            "grid_template_rows": null,
            "height": null,
            "justify_content": null,
            "justify_items": null,
            "left": null,
            "margin": null,
            "max_height": null,
            "max_width": null,
            "min_height": null,
            "min_width": null,
            "object_fit": null,
            "object_position": null,
            "order": null,
            "overflow": null,
            "overflow_x": null,
            "overflow_y": null,
            "padding": null,
            "right": null,
            "top": null,
            "visibility": null,
            "width": null
          }
        },
        "f219b8297a6242d7a3045c8c0bb18778": {
          "model_module": "@jupyter-widgets/controls",
          "model_name": "DescriptionStyleModel",
          "model_module_version": "1.5.0",
          "state": {
            "_model_module": "@jupyter-widgets/controls",
            "_model_module_version": "1.5.0",
            "_model_name": "DescriptionStyleModel",
            "_view_count": null,
            "_view_module": "@jupyter-widgets/base",
            "_view_module_version": "1.2.0",
            "_view_name": "StyleView",
            "description_width": ""
          }
        },
        "cc54f9f8eef44dfb82dd0dc631a680c2": {
          "model_module": "@jupyter-widgets/controls",
          "model_name": "HBoxModel",
          "model_module_version": "1.5.0",
          "state": {
            "_dom_classes": [],
            "_model_module": "@jupyter-widgets/controls",
            "_model_module_version": "1.5.0",
            "_model_name": "HBoxModel",
            "_view_count": null,
            "_view_module": "@jupyter-widgets/controls",
            "_view_module_version": "1.5.0",
            "_view_name": "HBoxView",
            "box_style": "",
            "children": [
              "IPY_MODEL_563488b598bc474196f6cf03436186a7",
              "IPY_MODEL_3d9e9821110a4bdabcec8f71f9327ab5",
              "IPY_MODEL_5468c3a18b214f7688285d7333487fc2"
            ],
            "layout": "IPY_MODEL_025a20f9b20348b48a46f9de80df447c"
          }
        },
        "563488b598bc474196f6cf03436186a7": {
          "model_module": "@jupyter-widgets/controls",
          "model_name": "HTMLModel",
          "model_module_version": "1.5.0",
          "state": {
            "_dom_classes": [],
            "_model_module": "@jupyter-widgets/controls",
            "_model_module_version": "1.5.0",
            "_model_name": "HTMLModel",
            "_view_count": null,
            "_view_module": "@jupyter-widgets/controls",
            "_view_module_version": "1.5.0",
            "_view_name": "HTMLView",
            "description": "",
            "description_tooltip": null,
            "layout": "IPY_MODEL_9ec0832c9fab4177b6ae1c8237c99362",
            "placeholder": "​",
            "style": "IPY_MODEL_4ca5e1e2fc1e4c9286db67e942a3d024",
            "value": "Resolving data files: 100%"
          }
        },
        "3d9e9821110a4bdabcec8f71f9327ab5": {
          "model_module": "@jupyter-widgets/controls",
          "model_name": "FloatProgressModel",
          "model_module_version": "1.5.0",
          "state": {
            "_dom_classes": [],
            "_model_module": "@jupyter-widgets/controls",
            "_model_module_version": "1.5.0",
            "_model_name": "FloatProgressModel",
            "_view_count": null,
            "_view_module": "@jupyter-widgets/controls",
            "_view_module_version": "1.5.0",
            "_view_name": "ProgressView",
            "bar_style": "success",
            "description": "",
            "description_tooltip": null,
            "layout": "IPY_MODEL_5ed265af64984f89913eace2d0169dd8",
            "max": 23,
            "min": 0,
            "orientation": "horizontal",
            "style": "IPY_MODEL_4ebfbc2baa2b49ab8bcd28a227005c45",
            "value": 23
          }
        },
        "5468c3a18b214f7688285d7333487fc2": {
          "model_module": "@jupyter-widgets/controls",
          "model_name": "HTMLModel",
          "model_module_version": "1.5.0",
          "state": {
            "_dom_classes": [],
            "_model_module": "@jupyter-widgets/controls",
            "_model_module_version": "1.5.0",
            "_model_name": "HTMLModel",
            "_view_count": null,
            "_view_module": "@jupyter-widgets/controls",
            "_view_module_version": "1.5.0",
            "_view_name": "HTMLView",
            "description": "",
            "description_tooltip": null,
            "layout": "IPY_MODEL_8f0f2fd397654a0bb2712a025f2fd5e2",
            "placeholder": "​",
            "style": "IPY_MODEL_055d10d76e2647278605192eeee6abe2",
            "value": " 23/23 [00:00&lt;00:00,  2.60it/s]"
          }
        },
        "025a20f9b20348b48a46f9de80df447c": {
          "model_module": "@jupyter-widgets/base",
          "model_name": "LayoutModel",
          "model_module_version": "1.2.0",
          "state": {
            "_model_module": "@jupyter-widgets/base",
            "_model_module_version": "1.2.0",
            "_model_name": "LayoutModel",
            "_view_count": null,
            "_view_module": "@jupyter-widgets/base",
            "_view_module_version": "1.2.0",
            "_view_name": "LayoutView",
            "align_content": null,
            "align_items": null,
            "align_self": null,
            "border": null,
            "bottom": null,
            "display": null,
            "flex": null,
            "flex_flow": null,
            "grid_area": null,
            "grid_auto_columns": null,
            "grid_auto_flow": null,
            "grid_auto_rows": null,
            "grid_column": null,
            "grid_gap": null,
            "grid_row": null,
            "grid_template_areas": null,
            "grid_template_columns": null,
            "grid_template_rows": null,
            "height": null,
            "justify_content": null,
            "justify_items": null,
            "left": null,
            "margin": null,
            "max_height": null,
            "max_width": null,
            "min_height": null,
            "min_width": null,
            "object_fit": null,
            "object_position": null,
            "order": null,
            "overflow": null,
            "overflow_x": null,
            "overflow_y": null,
            "padding": null,
            "right": null,
            "top": null,
            "visibility": null,
            "width": null
          }
        },
        "9ec0832c9fab4177b6ae1c8237c99362": {
          "model_module": "@jupyter-widgets/base",
          "model_name": "LayoutModel",
          "model_module_version": "1.2.0",
          "state": {
            "_model_module": "@jupyter-widgets/base",
            "_model_module_version": "1.2.0",
            "_model_name": "LayoutModel",
            "_view_count": null,
            "_view_module": "@jupyter-widgets/base",
            "_view_module_version": "1.2.0",
            "_view_name": "LayoutView",
            "align_content": null,
            "align_items": null,
            "align_self": null,
            "border": null,
            "bottom": null,
            "display": null,
            "flex": null,
            "flex_flow": null,
            "grid_area": null,
            "grid_auto_columns": null,
            "grid_auto_flow": null,
            "grid_auto_rows": null,
            "grid_column": null,
            "grid_gap": null,
            "grid_row": null,
            "grid_template_areas": null,
            "grid_template_columns": null,
            "grid_template_rows": null,
            "height": null,
            "justify_content": null,
            "justify_items": null,
            "left": null,
            "margin": null,
            "max_height": null,
            "max_width": null,
            "min_height": null,
            "min_width": null,
            "object_fit": null,
            "object_position": null,
            "order": null,
            "overflow": null,
            "overflow_x": null,
            "overflow_y": null,
            "padding": null,
            "right": null,
            "top": null,
            "visibility": null,
            "width": null
          }
        },
        "4ca5e1e2fc1e4c9286db67e942a3d024": {
          "model_module": "@jupyter-widgets/controls",
          "model_name": "DescriptionStyleModel",
          "model_module_version": "1.5.0",
          "state": {
            "_model_module": "@jupyter-widgets/controls",
            "_model_module_version": "1.5.0",
            "_model_name": "DescriptionStyleModel",
            "_view_count": null,
            "_view_module": "@jupyter-widgets/base",
            "_view_module_version": "1.2.0",
            "_view_name": "StyleView",
            "description_width": ""
          }
        },
        "5ed265af64984f89913eace2d0169dd8": {
          "model_module": "@jupyter-widgets/base",
          "model_name": "LayoutModel",
          "model_module_version": "1.2.0",
          "state": {
            "_model_module": "@jupyter-widgets/base",
            "_model_module_version": "1.2.0",
            "_model_name": "LayoutModel",
            "_view_count": null,
            "_view_module": "@jupyter-widgets/base",
            "_view_module_version": "1.2.0",
            "_view_name": "LayoutView",
            "align_content": null,
            "align_items": null,
            "align_self": null,
            "border": null,
            "bottom": null,
            "display": null,
            "flex": null,
            "flex_flow": null,
            "grid_area": null,
            "grid_auto_columns": null,
            "grid_auto_flow": null,
            "grid_auto_rows": null,
            "grid_column": null,
            "grid_gap": null,
            "grid_row": null,
            "grid_template_areas": null,
            "grid_template_columns": null,
            "grid_template_rows": null,
            "height": null,
            "justify_content": null,
            "justify_items": null,
            "left": null,
            "margin": null,
            "max_height": null,
            "max_width": null,
            "min_height": null,
            "min_width": null,
            "object_fit": null,
            "object_position": null,
            "order": null,
            "overflow": null,
            "overflow_x": null,
            "overflow_y": null,
            "padding": null,
            "right": null,
            "top": null,
            "visibility": null,
            "width": null
          }
        },
        "4ebfbc2baa2b49ab8bcd28a227005c45": {
          "model_module": "@jupyter-widgets/controls",
          "model_name": "ProgressStyleModel",
          "model_module_version": "1.5.0",
          "state": {
            "_model_module": "@jupyter-widgets/controls",
            "_model_module_version": "1.5.0",
            "_model_name": "ProgressStyleModel",
            "_view_count": null,
            "_view_module": "@jupyter-widgets/base",
            "_view_module_version": "1.2.0",
            "_view_name": "StyleView",
            "bar_color": null,
            "description_width": ""
          }
        },
        "8f0f2fd397654a0bb2712a025f2fd5e2": {
          "model_module": "@jupyter-widgets/base",
          "model_name": "LayoutModel",
          "model_module_version": "1.2.0",
          "state": {
            "_model_module": "@jupyter-widgets/base",
            "_model_module_version": "1.2.0",
            "_model_name": "LayoutModel",
            "_view_count": null,
            "_view_module": "@jupyter-widgets/base",
            "_view_module_version": "1.2.0",
            "_view_name": "LayoutView",
            "align_content": null,
            "align_items": null,
            "align_self": null,
            "border": null,
            "bottom": null,
            "display": null,
            "flex": null,
            "flex_flow": null,
            "grid_area": null,
            "grid_auto_columns": null,
            "grid_auto_flow": null,
            "grid_auto_rows": null,
            "grid_column": null,
            "grid_gap": null,
            "grid_row": null,
            "grid_template_areas": null,
            "grid_template_columns": null,
            "grid_template_rows": null,
            "height": null,
            "justify_content": null,
            "justify_items": null,
            "left": null,
            "margin": null,
            "max_height": null,
            "max_width": null,
            "min_height": null,
            "min_width": null,
            "object_fit": null,
            "object_position": null,
            "order": null,
            "overflow": null,
            "overflow_x": null,
            "overflow_y": null,
            "padding": null,
            "right": null,
            "top": null,
            "visibility": null,
            "width": null
          }
        },
        "055d10d76e2647278605192eeee6abe2": {
          "model_module": "@jupyter-widgets/controls",
          "model_name": "DescriptionStyleModel",
          "model_module_version": "1.5.0",
          "state": {
            "_model_module": "@jupyter-widgets/controls",
            "_model_module_version": "1.5.0",
            "_model_name": "DescriptionStyleModel",
            "_view_count": null,
            "_view_module": "@jupyter-widgets/base",
            "_view_module_version": "1.2.0",
            "_view_name": "StyleView",
            "description_width": ""
          }
        },
        "8112214d7e0e4cd8837447fce58c0ebb": {
          "model_module": "@jupyter-widgets/controls",
          "model_name": "HBoxModel",
          "model_module_version": "1.5.0",
          "state": {
            "_dom_classes": [],
            "_model_module": "@jupyter-widgets/controls",
            "_model_module_version": "1.5.0",
            "_model_name": "HBoxModel",
            "_view_count": null,
            "_view_module": "@jupyter-widgets/controls",
            "_view_module_version": "1.5.0",
            "_view_name": "HBoxView",
            "box_style": "",
            "children": [
              "IPY_MODEL_4bccf9186ed4420a856b22f22e915d45",
              "IPY_MODEL_f7f583449030433f86759af99edffc72",
              "IPY_MODEL_70a21d102e3c4970bfd8390cb92edf52"
            ],
            "layout": "IPY_MODEL_9b33eb1e2560453b91c3f403ab2fe908"
          }
        },
        "4bccf9186ed4420a856b22f22e915d45": {
          "model_module": "@jupyter-widgets/controls",
          "model_name": "HTMLModel",
          "model_module_version": "1.5.0",
          "state": {
            "_dom_classes": [],
            "_model_module": "@jupyter-widgets/controls",
            "_model_module_version": "1.5.0",
            "_model_name": "HTMLModel",
            "_view_count": null,
            "_view_module": "@jupyter-widgets/controls",
            "_view_module_version": "1.5.0",
            "_view_name": "HTMLView",
            "description": "",
            "description_tooltip": null,
            "layout": "IPY_MODEL_a096b637fad343e78aa59dfc79741950",
            "placeholder": "​",
            "style": "IPY_MODEL_34c41e23ea08422e80dcfebee1d78922",
            "value": "Resolving data files: 100%"
          }
        },
        "f7f583449030433f86759af99edffc72": {
          "model_module": "@jupyter-widgets/controls",
          "model_name": "FloatProgressModel",
          "model_module_version": "1.5.0",
          "state": {
            "_dom_classes": [],
            "_model_module": "@jupyter-widgets/controls",
            "_model_module_version": "1.5.0",
            "_model_name": "FloatProgressModel",
            "_view_count": null,
            "_view_module": "@jupyter-widgets/controls",
            "_view_module_version": "1.5.0",
            "_view_name": "ProgressView",
            "bar_style": "success",
            "description": "",
            "description_tooltip": null,
            "layout": "IPY_MODEL_1fcf5162e9a34e6ca9764fc7bf3b3890",
            "max": 23,
            "min": 0,
            "orientation": "horizontal",
            "style": "IPY_MODEL_139a428f2b60418cb42fff0b9b6e2257",
            "value": 23
          }
        },
        "70a21d102e3c4970bfd8390cb92edf52": {
          "model_module": "@jupyter-widgets/controls",
          "model_name": "HTMLModel",
          "model_module_version": "1.5.0",
          "state": {
            "_dom_classes": [],
            "_model_module": "@jupyter-widgets/controls",
            "_model_module_version": "1.5.0",
            "_model_name": "HTMLModel",
            "_view_count": null,
            "_view_module": "@jupyter-widgets/controls",
            "_view_module_version": "1.5.0",
            "_view_name": "HTMLView",
            "description": "",
            "description_tooltip": null,
            "layout": "IPY_MODEL_b89db5dde2c445d6a939577829ebe743",
            "placeholder": "​",
            "style": "IPY_MODEL_ccee91a93fcd4f88b80c2372b2c92bc5",
            "value": " 23/23 [00:00&lt;00:00, 1254.11it/s]"
          }
        },
        "9b33eb1e2560453b91c3f403ab2fe908": {
          "model_module": "@jupyter-widgets/base",
          "model_name": "LayoutModel",
          "model_module_version": "1.2.0",
          "state": {
            "_model_module": "@jupyter-widgets/base",
            "_model_module_version": "1.2.0",
            "_model_name": "LayoutModel",
            "_view_count": null,
            "_view_module": "@jupyter-widgets/base",
            "_view_module_version": "1.2.0",
            "_view_name": "LayoutView",
            "align_content": null,
            "align_items": null,
            "align_self": null,
            "border": null,
            "bottom": null,
            "display": null,
            "flex": null,
            "flex_flow": null,
            "grid_area": null,
            "grid_auto_columns": null,
            "grid_auto_flow": null,
            "grid_auto_rows": null,
            "grid_column": null,
            "grid_gap": null,
            "grid_row": null,
            "grid_template_areas": null,
            "grid_template_columns": null,
            "grid_template_rows": null,
            "height": null,
            "justify_content": null,
            "justify_items": null,
            "left": null,
            "margin": null,
            "max_height": null,
            "max_width": null,
            "min_height": null,
            "min_width": null,
            "object_fit": null,
            "object_position": null,
            "order": null,
            "overflow": null,
            "overflow_x": null,
            "overflow_y": null,
            "padding": null,
            "right": null,
            "top": null,
            "visibility": null,
            "width": null
          }
        },
        "a096b637fad343e78aa59dfc79741950": {
          "model_module": "@jupyter-widgets/base",
          "model_name": "LayoutModel",
          "model_module_version": "1.2.0",
          "state": {
            "_model_module": "@jupyter-widgets/base",
            "_model_module_version": "1.2.0",
            "_model_name": "LayoutModel",
            "_view_count": null,
            "_view_module": "@jupyter-widgets/base",
            "_view_module_version": "1.2.0",
            "_view_name": "LayoutView",
            "align_content": null,
            "align_items": null,
            "align_self": null,
            "border": null,
            "bottom": null,
            "display": null,
            "flex": null,
            "flex_flow": null,
            "grid_area": null,
            "grid_auto_columns": null,
            "grid_auto_flow": null,
            "grid_auto_rows": null,
            "grid_column": null,
            "grid_gap": null,
            "grid_row": null,
            "grid_template_areas": null,
            "grid_template_columns": null,
            "grid_template_rows": null,
            "height": null,
            "justify_content": null,
            "justify_items": null,
            "left": null,
            "margin": null,
            "max_height": null,
            "max_width": null,
            "min_height": null,
            "min_width": null,
            "object_fit": null,
            "object_position": null,
            "order": null,
            "overflow": null,
            "overflow_x": null,
            "overflow_y": null,
            "padding": null,
            "right": null,
            "top": null,
            "visibility": null,
            "width": null
          }
        },
        "34c41e23ea08422e80dcfebee1d78922": {
          "model_module": "@jupyter-widgets/controls",
          "model_name": "DescriptionStyleModel",
          "model_module_version": "1.5.0",
          "state": {
            "_model_module": "@jupyter-widgets/controls",
            "_model_module_version": "1.5.0",
            "_model_name": "DescriptionStyleModel",
            "_view_count": null,
            "_view_module": "@jupyter-widgets/base",
            "_view_module_version": "1.2.0",
            "_view_name": "StyleView",
            "description_width": ""
          }
        },
        "1fcf5162e9a34e6ca9764fc7bf3b3890": {
          "model_module": "@jupyter-widgets/base",
          "model_name": "LayoutModel",
          "model_module_version": "1.2.0",
          "state": {
            "_model_module": "@jupyter-widgets/base",
            "_model_module_version": "1.2.0",
            "_model_name": "LayoutModel",
            "_view_count": null,
            "_view_module": "@jupyter-widgets/base",
            "_view_module_version": "1.2.0",
            "_view_name": "LayoutView",
            "align_content": null,
            "align_items": null,
            "align_self": null,
            "border": null,
            "bottom": null,
            "display": null,
            "flex": null,
            "flex_flow": null,
            "grid_area": null,
            "grid_auto_columns": null,
            "grid_auto_flow": null,
            "grid_auto_rows": null,
            "grid_column": null,
            "grid_gap": null,
            "grid_row": null,
            "grid_template_areas": null,
            "grid_template_columns": null,
            "grid_template_rows": null,
            "height": null,
            "justify_content": null,
            "justify_items": null,
            "left": null,
            "margin": null,
            "max_height": null,
            "max_width": null,
            "min_height": null,
            "min_width": null,
            "object_fit": null,
            "object_position": null,
            "order": null,
            "overflow": null,
            "overflow_x": null,
            "overflow_y": null,
            "padding": null,
            "right": null,
            "top": null,
            "visibility": null,
            "width": null
          }
        },
        "139a428f2b60418cb42fff0b9b6e2257": {
          "model_module": "@jupyter-widgets/controls",
          "model_name": "ProgressStyleModel",
          "model_module_version": "1.5.0",
          "state": {
            "_model_module": "@jupyter-widgets/controls",
            "_model_module_version": "1.5.0",
            "_model_name": "ProgressStyleModel",
            "_view_count": null,
            "_view_module": "@jupyter-widgets/base",
            "_view_module_version": "1.2.0",
            "_view_name": "StyleView",
            "bar_color": null,
            "description_width": ""
          }
        },
        "b89db5dde2c445d6a939577829ebe743": {
          "model_module": "@jupyter-widgets/base",
          "model_name": "LayoutModel",
          "model_module_version": "1.2.0",
          "state": {
            "_model_module": "@jupyter-widgets/base",
            "_model_module_version": "1.2.0",
            "_model_name": "LayoutModel",
            "_view_count": null,
            "_view_module": "@jupyter-widgets/base",
            "_view_module_version": "1.2.0",
            "_view_name": "LayoutView",
            "align_content": null,
            "align_items": null,
            "align_self": null,
            "border": null,
            "bottom": null,
            "display": null,
            "flex": null,
            "flex_flow": null,
            "grid_area": null,
            "grid_auto_columns": null,
            "grid_auto_flow": null,
            "grid_auto_rows": null,
            "grid_column": null,
            "grid_gap": null,
            "grid_row": null,
            "grid_template_areas": null,
            "grid_template_columns": null,
            "grid_template_rows": null,
            "height": null,
            "justify_content": null,
            "justify_items": null,
            "left": null,
            "margin": null,
            "max_height": null,
            "max_width": null,
            "min_height": null,
            "min_width": null,
            "object_fit": null,
            "object_position": null,
            "order": null,
            "overflow": null,
            "overflow_x": null,
            "overflow_y": null,
            "padding": null,
            "right": null,
            "top": null,
            "visibility": null,
            "width": null
          }
        },
        "ccee91a93fcd4f88b80c2372b2c92bc5": {
          "model_module": "@jupyter-widgets/controls",
          "model_name": "DescriptionStyleModel",
          "model_module_version": "1.5.0",
          "state": {
            "_model_module": "@jupyter-widgets/controls",
            "_model_module_version": "1.5.0",
            "_model_name": "DescriptionStyleModel",
            "_view_count": null,
            "_view_module": "@jupyter-widgets/base",
            "_view_module_version": "1.2.0",
            "_view_name": "StyleView",
            "description_width": ""
          }
        },
        "a7697b46208e4a0bae5e2b079301142a": {
          "model_module": "@jupyter-widgets/controls",
          "model_name": "HBoxModel",
          "model_module_version": "1.5.0",
          "state": {
            "_dom_classes": [],
            "_model_module": "@jupyter-widgets/controls",
            "_model_module_version": "1.5.0",
            "_model_name": "HBoxModel",
            "_view_count": null,
            "_view_module": "@jupyter-widgets/controls",
            "_view_module_version": "1.5.0",
            "_view_name": "HBoxView",
            "box_style": "",
            "children": [
              "IPY_MODEL_a9d1e29adcdd4c4b9e91b595c11aaf0f",
              "IPY_MODEL_c390e2fdcff1493d93c769b16e17d694",
              "IPY_MODEL_7395f1e0848f44c4a8b549ed833861e2"
            ],
            "layout": "IPY_MODEL_da8b8d90629d4f3eacd63e548905312c"
          }
        },
        "a9d1e29adcdd4c4b9e91b595c11aaf0f": {
          "model_module": "@jupyter-widgets/controls",
          "model_name": "HTMLModel",
          "model_module_version": "1.5.0",
          "state": {
            "_dom_classes": [],
            "_model_module": "@jupyter-widgets/controls",
            "_model_module_version": "1.5.0",
            "_model_name": "HTMLModel",
            "_view_count": null,
            "_view_module": "@jupyter-widgets/controls",
            "_view_module_version": "1.5.0",
            "_view_name": "HTMLView",
            "description": "",
            "description_tooltip": null,
            "layout": "IPY_MODEL_5420654b2442445fb8d528ae0fa9088a",
            "placeholder": "​",
            "style": "IPY_MODEL_d109e06756964bf2a7e60c2ef95ab3d6",
            "value": "Downloading data: 100%"
          }
        },
        "c390e2fdcff1493d93c769b16e17d694": {
          "model_module": "@jupyter-widgets/controls",
          "model_name": "FloatProgressModel",
          "model_module_version": "1.5.0",
          "state": {
            "_dom_classes": [],
            "_model_module": "@jupyter-widgets/controls",
            "_model_module_version": "1.5.0",
            "_model_name": "FloatProgressModel",
            "_view_count": null,
            "_view_module": "@jupyter-widgets/controls",
            "_view_module_version": "1.5.0",
            "_view_name": "ProgressView",
            "bar_style": "success",
            "description": "",
            "description_tooltip": null,
            "layout": "IPY_MODEL_5462e6f70a86445195f4978e9ee2445e",
            "max": 23,
            "min": 0,
            "orientation": "horizontal",
            "style": "IPY_MODEL_bec16c3268514d28a861f109bc1b4f49",
            "value": 23
          }
        },
        "7395f1e0848f44c4a8b549ed833861e2": {
          "model_module": "@jupyter-widgets/controls",
          "model_name": "HTMLModel",
          "model_module_version": "1.5.0",
          "state": {
            "_dom_classes": [],
            "_model_module": "@jupyter-widgets/controls",
            "_model_module_version": "1.5.0",
            "_model_name": "HTMLModel",
            "_view_count": null,
            "_view_module": "@jupyter-widgets/controls",
            "_view_module_version": "1.5.0",
            "_view_name": "HTMLView",
            "description": "",
            "description_tooltip": null,
            "layout": "IPY_MODEL_643e4f2bf9e143419e59a9f1540f19e0",
            "placeholder": "​",
            "style": "IPY_MODEL_b687eb4ee7544786ac8806825013bc5d",
            "value": " 23/23 [00:00&lt;00:00,  3.62files/s]"
          }
        },
        "da8b8d90629d4f3eacd63e548905312c": {
          "model_module": "@jupyter-widgets/base",
          "model_name": "LayoutModel",
          "model_module_version": "1.2.0",
          "state": {
            "_model_module": "@jupyter-widgets/base",
            "_model_module_version": "1.2.0",
            "_model_name": "LayoutModel",
            "_view_count": null,
            "_view_module": "@jupyter-widgets/base",
            "_view_module_version": "1.2.0",
            "_view_name": "LayoutView",
            "align_content": null,
            "align_items": null,
            "align_self": null,
            "border": null,
            "bottom": null,
            "display": null,
            "flex": null,
            "flex_flow": null,
            "grid_area": null,
            "grid_auto_columns": null,
            "grid_auto_flow": null,
            "grid_auto_rows": null,
            "grid_column": null,
            "grid_gap": null,
            "grid_row": null,
            "grid_template_areas": null,
            "grid_template_columns": null,
            "grid_template_rows": null,
            "height": null,
            "justify_content": null,
            "justify_items": null,
            "left": null,
            "margin": null,
            "max_height": null,
            "max_width": null,
            "min_height": null,
            "min_width": null,
            "object_fit": null,
            "object_position": null,
            "order": null,
            "overflow": null,
            "overflow_x": null,
            "overflow_y": null,
            "padding": null,
            "right": null,
            "top": null,
            "visibility": null,
            "width": null
          }
        },
        "5420654b2442445fb8d528ae0fa9088a": {
          "model_module": "@jupyter-widgets/base",
          "model_name": "LayoutModel",
          "model_module_version": "1.2.0",
          "state": {
            "_model_module": "@jupyter-widgets/base",
            "_model_module_version": "1.2.0",
            "_model_name": "LayoutModel",
            "_view_count": null,
            "_view_module": "@jupyter-widgets/base",
            "_view_module_version": "1.2.0",
            "_view_name": "LayoutView",
            "align_content": null,
            "align_items": null,
            "align_self": null,
            "border": null,
            "bottom": null,
            "display": null,
            "flex": null,
            "flex_flow": null,
            "grid_area": null,
            "grid_auto_columns": null,
            "grid_auto_flow": null,
            "grid_auto_rows": null,
            "grid_column": null,
            "grid_gap": null,
            "grid_row": null,
            "grid_template_areas": null,
            "grid_template_columns": null,
            "grid_template_rows": null,
            "height": null,
            "justify_content": null,
            "justify_items": null,
            "left": null,
            "margin": null,
            "max_height": null,
            "max_width": null,
            "min_height": null,
            "min_width": null,
            "object_fit": null,
            "object_position": null,
            "order": null,
            "overflow": null,
            "overflow_x": null,
            "overflow_y": null,
            "padding": null,
            "right": null,
            "top": null,
            "visibility": null,
            "width": null
          }
        },
        "d109e06756964bf2a7e60c2ef95ab3d6": {
          "model_module": "@jupyter-widgets/controls",
          "model_name": "DescriptionStyleModel",
          "model_module_version": "1.5.0",
          "state": {
            "_model_module": "@jupyter-widgets/controls",
            "_model_module_version": "1.5.0",
            "_model_name": "DescriptionStyleModel",
            "_view_count": null,
            "_view_module": "@jupyter-widgets/base",
            "_view_module_version": "1.2.0",
            "_view_name": "StyleView",
            "description_width": ""
          }
        },
        "5462e6f70a86445195f4978e9ee2445e": {
          "model_module": "@jupyter-widgets/base",
          "model_name": "LayoutModel",
          "model_module_version": "1.2.0",
          "state": {
            "_model_module": "@jupyter-widgets/base",
            "_model_module_version": "1.2.0",
            "_model_name": "LayoutModel",
            "_view_count": null,
            "_view_module": "@jupyter-widgets/base",
            "_view_module_version": "1.2.0",
            "_view_name": "LayoutView",
            "align_content": null,
            "align_items": null,
            "align_self": null,
            "border": null,
            "bottom": null,
            "display": null,
            "flex": null,
            "flex_flow": null,
            "grid_area": null,
            "grid_auto_columns": null,
            "grid_auto_flow": null,
            "grid_auto_rows": null,
            "grid_column": null,
            "grid_gap": null,
            "grid_row": null,
            "grid_template_areas": null,
            "grid_template_columns": null,
            "grid_template_rows": null,
            "height": null,
            "justify_content": null,
            "justify_items": null,
            "left": null,
            "margin": null,
            "max_height": null,
            "max_width": null,
            "min_height": null,
            "min_width": null,
            "object_fit": null,
            "object_position": null,
            "order": null,
            "overflow": null,
            "overflow_x": null,
            "overflow_y": null,
            "padding": null,
            "right": null,
            "top": null,
            "visibility": null,
            "width": null
          }
        },
        "bec16c3268514d28a861f109bc1b4f49": {
          "model_module": "@jupyter-widgets/controls",
          "model_name": "ProgressStyleModel",
          "model_module_version": "1.5.0",
          "state": {
            "_model_module": "@jupyter-widgets/controls",
            "_model_module_version": "1.5.0",
            "_model_name": "ProgressStyleModel",
            "_view_count": null,
            "_view_module": "@jupyter-widgets/base",
            "_view_module_version": "1.2.0",
            "_view_name": "StyleView",
            "bar_color": null,
            "description_width": ""
          }
        },
        "643e4f2bf9e143419e59a9f1540f19e0": {
          "model_module": "@jupyter-widgets/base",
          "model_name": "LayoutModel",
          "model_module_version": "1.2.0",
          "state": {
            "_model_module": "@jupyter-widgets/base",
            "_model_module_version": "1.2.0",
            "_model_name": "LayoutModel",
            "_view_count": null,
            "_view_module": "@jupyter-widgets/base",
            "_view_module_version": "1.2.0",
            "_view_name": "LayoutView",
            "align_content": null,
            "align_items": null,
            "align_self": null,
            "border": null,
            "bottom": null,
            "display": null,
            "flex": null,
            "flex_flow": null,
            "grid_area": null,
            "grid_auto_columns": null,
            "grid_auto_flow": null,
            "grid_auto_rows": null,
            "grid_column": null,
            "grid_gap": null,
            "grid_row": null,
            "grid_template_areas": null,
            "grid_template_columns": null,
            "grid_template_rows": null,
            "height": null,
            "justify_content": null,
            "justify_items": null,
            "left": null,
            "margin": null,
            "max_height": null,
            "max_width": null,
            "min_height": null,
            "min_width": null,
            "object_fit": null,
            "object_position": null,
            "order": null,
            "overflow": null,
            "overflow_x": null,
            "overflow_y": null,
            "padding": null,
            "right": null,
            "top": null,
            "visibility": null,
            "width": null
          }
        },
        "b687eb4ee7544786ac8806825013bc5d": {
          "model_module": "@jupyter-widgets/controls",
          "model_name": "DescriptionStyleModel",
          "model_module_version": "1.5.0",
          "state": {
            "_model_module": "@jupyter-widgets/controls",
            "_model_module_version": "1.5.0",
            "_model_name": "DescriptionStyleModel",
            "_view_count": null,
            "_view_module": "@jupyter-widgets/base",
            "_view_module_version": "1.2.0",
            "_view_name": "StyleView",
            "description_width": ""
          }
        },
        "da842295d42f4470a433763f4eef18f9": {
          "model_module": "@jupyter-widgets/controls",
          "model_name": "HBoxModel",
          "model_module_version": "1.5.0",
          "state": {
            "_dom_classes": [],
            "_model_module": "@jupyter-widgets/controls",
            "_model_module_version": "1.5.0",
            "_model_name": "HBoxModel",
            "_view_count": null,
            "_view_module": "@jupyter-widgets/controls",
            "_view_module_version": "1.5.0",
            "_view_name": "HBoxView",
            "box_style": "",
            "children": [
              "IPY_MODEL_f0419673618d43ac8fa9554eb9b9cad0",
              "IPY_MODEL_df41829b6c7944b49c8619a210924091",
              "IPY_MODEL_00f7fc50cc83417abba8dc2447c061c7"
            ],
            "layout": "IPY_MODEL_b2ef220c42c74e8c844d5886b70b9d8d"
          }
        },
        "f0419673618d43ac8fa9554eb9b9cad0": {
          "model_module": "@jupyter-widgets/controls",
          "model_name": "HTMLModel",
          "model_module_version": "1.5.0",
          "state": {
            "_dom_classes": [],
            "_model_module": "@jupyter-widgets/controls",
            "_model_module_version": "1.5.0",
            "_model_name": "HTMLModel",
            "_view_count": null,
            "_view_module": "@jupyter-widgets/controls",
            "_view_module_version": "1.5.0",
            "_view_name": "HTMLView",
            "description": "",
            "description_tooltip": null,
            "layout": "IPY_MODEL_e7d2e9d87c3c45f2906ce110bfe72ecf",
            "placeholder": "​",
            "style": "IPY_MODEL_20eea576c89647c3ab9f172459cd121c",
            "value": "Generating train split:  91%"
          }
        },
        "df41829b6c7944b49c8619a210924091": {
          "model_module": "@jupyter-widgets/controls",
          "model_name": "FloatProgressModel",
          "model_module_version": "1.5.0",
          "state": {
            "_dom_classes": [],
            "_model_module": "@jupyter-widgets/controls",
            "_model_module_version": "1.5.0",
            "_model_name": "FloatProgressModel",
            "_view_count": null,
            "_view_module": "@jupyter-widgets/controls",
            "_view_module_version": "1.5.0",
            "_view_name": "ProgressView",
            "bar_style": "danger",
            "description": "",
            "description_tooltip": null,
            "layout": "IPY_MODEL_547b016c2d8e4e3080fb7180c301fb85",
            "max": 5523999,
            "min": 0,
            "orientation": "horizontal",
            "style": "IPY_MODEL_5ac3a7d88c264b1b87f1a60b04beefae",
            "value": 5043653
          }
        },
        "00f7fc50cc83417abba8dc2447c061c7": {
          "model_module": "@jupyter-widgets/controls",
          "model_name": "HTMLModel",
          "model_module_version": "1.5.0",
          "state": {
            "_dom_classes": [],
            "_model_module": "@jupyter-widgets/controls",
            "_model_module_version": "1.5.0",
            "_model_name": "HTMLModel",
            "_view_count": null,
            "_view_module": "@jupyter-widgets/controls",
            "_view_module_version": "1.5.0",
            "_view_name": "HTMLView",
            "description": "",
            "description_tooltip": null,
            "layout": "IPY_MODEL_dd6cf7629e78439a819f0c1b05e1539b",
            "placeholder": "​",
            "style": "IPY_MODEL_4d07a21d758648498ac1b68e50791243",
            "value": " 5043653/5523999 [08:26&lt;02:37, 3041.70 examples/s]"
          }
        },
        "b2ef220c42c74e8c844d5886b70b9d8d": {
          "model_module": "@jupyter-widgets/base",
          "model_name": "LayoutModel",
          "model_module_version": "1.2.0",
          "state": {
            "_model_module": "@jupyter-widgets/base",
            "_model_module_version": "1.2.0",
            "_model_name": "LayoutModel",
            "_view_count": null,
            "_view_module": "@jupyter-widgets/base",
            "_view_module_version": "1.2.0",
            "_view_name": "LayoutView",
            "align_content": null,
            "align_items": null,
            "align_self": null,
            "border": null,
            "bottom": null,
            "display": null,
            "flex": null,
            "flex_flow": null,
            "grid_area": null,
            "grid_auto_columns": null,
            "grid_auto_flow": null,
            "grid_auto_rows": null,
            "grid_column": null,
            "grid_gap": null,
            "grid_row": null,
            "grid_template_areas": null,
            "grid_template_columns": null,
            "grid_template_rows": null,
            "height": null,
            "justify_content": null,
            "justify_items": null,
            "left": null,
            "margin": null,
            "max_height": null,
            "max_width": null,
            "min_height": null,
            "min_width": null,
            "object_fit": null,
            "object_position": null,
            "order": null,
            "overflow": null,
            "overflow_x": null,
            "overflow_y": null,
            "padding": null,
            "right": null,
            "top": null,
            "visibility": null,
            "width": null
          }
        },
        "e7d2e9d87c3c45f2906ce110bfe72ecf": {
          "model_module": "@jupyter-widgets/base",
          "model_name": "LayoutModel",
          "model_module_version": "1.2.0",
          "state": {
            "_model_module": "@jupyter-widgets/base",
            "_model_module_version": "1.2.0",
            "_model_name": "LayoutModel",
            "_view_count": null,
            "_view_module": "@jupyter-widgets/base",
            "_view_module_version": "1.2.0",
            "_view_name": "LayoutView",
            "align_content": null,
            "align_items": null,
            "align_self": null,
            "border": null,
            "bottom": null,
            "display": null,
            "flex": null,
            "flex_flow": null,
            "grid_area": null,
            "grid_auto_columns": null,
            "grid_auto_flow": null,
            "grid_auto_rows": null,
            "grid_column": null,
            "grid_gap": null,
            "grid_row": null,
            "grid_template_areas": null,
            "grid_template_columns": null,
            "grid_template_rows": null,
            "height": null,
            "justify_content": null,
            "justify_items": null,
            "left": null,
            "margin": null,
            "max_height": null,
            "max_width": null,
            "min_height": null,
            "min_width": null,
            "object_fit": null,
            "object_position": null,
            "order": null,
            "overflow": null,
            "overflow_x": null,
            "overflow_y": null,
            "padding": null,
            "right": null,
            "top": null,
            "visibility": null,
            "width": null
          }
        },
        "20eea576c89647c3ab9f172459cd121c": {
          "model_module": "@jupyter-widgets/controls",
          "model_name": "DescriptionStyleModel",
          "model_module_version": "1.5.0",
          "state": {
            "_model_module": "@jupyter-widgets/controls",
            "_model_module_version": "1.5.0",
            "_model_name": "DescriptionStyleModel",
            "_view_count": null,
            "_view_module": "@jupyter-widgets/base",
            "_view_module_version": "1.2.0",
            "_view_name": "StyleView",
            "description_width": ""
          }
        },
        "547b016c2d8e4e3080fb7180c301fb85": {
          "model_module": "@jupyter-widgets/base",
          "model_name": "LayoutModel",
          "model_module_version": "1.2.0",
          "state": {
            "_model_module": "@jupyter-widgets/base",
            "_model_module_version": "1.2.0",
            "_model_name": "LayoutModel",
            "_view_count": null,
            "_view_module": "@jupyter-widgets/base",
            "_view_module_version": "1.2.0",
            "_view_name": "LayoutView",
            "align_content": null,
            "align_items": null,
            "align_self": null,
            "border": null,
            "bottom": null,
            "display": null,
            "flex": null,
            "flex_flow": null,
            "grid_area": null,
            "grid_auto_columns": null,
            "grid_auto_flow": null,
            "grid_auto_rows": null,
            "grid_column": null,
            "grid_gap": null,
            "grid_row": null,
            "grid_template_areas": null,
            "grid_template_columns": null,
            "grid_template_rows": null,
            "height": null,
            "justify_content": null,
            "justify_items": null,
            "left": null,
            "margin": null,
            "max_height": null,
            "max_width": null,
            "min_height": null,
            "min_width": null,
            "object_fit": null,
            "object_position": null,
            "order": null,
            "overflow": null,
            "overflow_x": null,
            "overflow_y": null,
            "padding": null,
            "right": null,
            "top": null,
            "visibility": null,
            "width": null
          }
        },
        "5ac3a7d88c264b1b87f1a60b04beefae": {
          "model_module": "@jupyter-widgets/controls",
          "model_name": "ProgressStyleModel",
          "model_module_version": "1.5.0",
          "state": {
            "_model_module": "@jupyter-widgets/controls",
            "_model_module_version": "1.5.0",
            "_model_name": "ProgressStyleModel",
            "_view_count": null,
            "_view_module": "@jupyter-widgets/base",
            "_view_module_version": "1.2.0",
            "_view_name": "StyleView",
            "bar_color": null,
            "description_width": ""
          }
        },
        "dd6cf7629e78439a819f0c1b05e1539b": {
          "model_module": "@jupyter-widgets/base",
          "model_name": "LayoutModel",
          "model_module_version": "1.2.0",
          "state": {
            "_model_module": "@jupyter-widgets/base",
            "_model_module_version": "1.2.0",
            "_model_name": "LayoutModel",
            "_view_count": null,
            "_view_module": "@jupyter-widgets/base",
            "_view_module_version": "1.2.0",
            "_view_name": "LayoutView",
            "align_content": null,
            "align_items": null,
            "align_self": null,
            "border": null,
            "bottom": null,
            "display": null,
            "flex": null,
            "flex_flow": null,
            "grid_area": null,
            "grid_auto_columns": null,
            "grid_auto_flow": null,
            "grid_auto_rows": null,
            "grid_column": null,
            "grid_gap": null,
            "grid_row": null,
            "grid_template_areas": null,
            "grid_template_columns": null,
            "grid_template_rows": null,
            "height": null,
            "justify_content": null,
            "justify_items": null,
            "left": null,
            "margin": null,
            "max_height": null,
            "max_width": null,
            "min_height": null,
            "min_width": null,
            "object_fit": null,
            "object_position": null,
            "order": null,
            "overflow": null,
            "overflow_x": null,
            "overflow_y": null,
            "padding": null,
            "right": null,
            "top": null,
            "visibility": null,
            "width": null
          }
        },
        "4d07a21d758648498ac1b68e50791243": {
          "model_module": "@jupyter-widgets/controls",
          "model_name": "DescriptionStyleModel",
          "model_module_version": "1.5.0",
          "state": {
            "_model_module": "@jupyter-widgets/controls",
            "_model_module_version": "1.5.0",
            "_model_name": "DescriptionStyleModel",
            "_view_count": null,
            "_view_module": "@jupyter-widgets/base",
            "_view_module_version": "1.2.0",
            "_view_name": "StyleView",
            "description_width": ""
          }
        },
        "4bea96a32574423791a6163fe59cf8ad": {
          "model_module": "@jupyter-widgets/controls",
          "model_name": "HBoxModel",
          "model_module_version": "1.5.0",
          "state": {
            "_dom_classes": [],
            "_model_module": "@jupyter-widgets/controls",
            "_model_module_version": "1.5.0",
            "_model_name": "HBoxModel",
            "_view_count": null,
            "_view_module": "@jupyter-widgets/controls",
            "_view_module_version": "1.5.0",
            "_view_name": "HBoxView",
            "box_style": "",
            "children": [
              "IPY_MODEL_a19f686540dd465e9a0fab05be8e3d91",
              "IPY_MODEL_76c552dfe7df40619dafd3cba8655b98",
              "IPY_MODEL_75b49a0652a24fdda4707d951f7fe43b"
            ],
            "layout": "IPY_MODEL_e131c81b2a5b491eaf2a0c6c15d633a5"
          }
        },
        "a19f686540dd465e9a0fab05be8e3d91": {
          "model_module": "@jupyter-widgets/controls",
          "model_name": "HTMLModel",
          "model_module_version": "1.5.0",
          "state": {
            "_dom_classes": [],
            "_model_module": "@jupyter-widgets/controls",
            "_model_module_version": "1.5.0",
            "_model_name": "HTMLModel",
            "_view_count": null,
            "_view_module": "@jupyter-widgets/controls",
            "_view_module_version": "1.5.0",
            "_view_name": "HTMLView",
            "description": "",
            "description_tooltip": null,
            "layout": "IPY_MODEL_b8030421a22b43fdb55bf929b2dd0ccf",
            "placeholder": "​",
            "style": "IPY_MODEL_47803d9442fb4adda15339d4d6e014ff",
            "value": "Map: 100%"
          }
        },
        "76c552dfe7df40619dafd3cba8655b98": {
          "model_module": "@jupyter-widgets/controls",
          "model_name": "FloatProgressModel",
          "model_module_version": "1.5.0",
          "state": {
            "_dom_classes": [],
            "_model_module": "@jupyter-widgets/controls",
            "_model_module_version": "1.5.0",
            "_model_name": "FloatProgressModel",
            "_view_count": null,
            "_view_module": "@jupyter-widgets/controls",
            "_view_module_version": "1.5.0",
            "_view_name": "ProgressView",
            "bar_style": "success",
            "description": "",
            "description_tooltip": null,
            "layout": "IPY_MODEL_3ce74a02020340b28918fdfecf76262b",
            "max": 2843,
            "min": 0,
            "orientation": "horizontal",
            "style": "IPY_MODEL_4b86ea0f36ae42ef92acb8cedd828af7",
            "value": 2843
          }
        },
        "75b49a0652a24fdda4707d951f7fe43b": {
          "model_module": "@jupyter-widgets/controls",
          "model_name": "HTMLModel",
          "model_module_version": "1.5.0",
          "state": {
            "_dom_classes": [],
            "_model_module": "@jupyter-widgets/controls",
            "_model_module_version": "1.5.0",
            "_model_name": "HTMLModel",
            "_view_count": null,
            "_view_module": "@jupyter-widgets/controls",
            "_view_module_version": "1.5.0",
            "_view_name": "HTMLView",
            "description": "",
            "description_tooltip": null,
            "layout": "IPY_MODEL_434e7c5b709546138bf3f9327c529926",
            "placeholder": "​",
            "style": "IPY_MODEL_30e524ae47164478a414d63a8494dd0d",
            "value": " 2843/2843 [00:06&lt;00:00, 984.10 examples/s]"
          }
        },
        "e131c81b2a5b491eaf2a0c6c15d633a5": {
          "model_module": "@jupyter-widgets/base",
          "model_name": "LayoutModel",
          "model_module_version": "1.2.0",
          "state": {
            "_model_module": "@jupyter-widgets/base",
            "_model_module_version": "1.2.0",
            "_model_name": "LayoutModel",
            "_view_count": null,
            "_view_module": "@jupyter-widgets/base",
            "_view_module_version": "1.2.0",
            "_view_name": "LayoutView",
            "align_content": null,
            "align_items": null,
            "align_self": null,
            "border": null,
            "bottom": null,
            "display": null,
            "flex": null,
            "flex_flow": null,
            "grid_area": null,
            "grid_auto_columns": null,
            "grid_auto_flow": null,
            "grid_auto_rows": null,
            "grid_column": null,
            "grid_gap": null,
            "grid_row": null,
            "grid_template_areas": null,
            "grid_template_columns": null,
            "grid_template_rows": null,
            "height": null,
            "justify_content": null,
            "justify_items": null,
            "left": null,
            "margin": null,
            "max_height": null,
            "max_width": null,
            "min_height": null,
            "min_width": null,
            "object_fit": null,
            "object_position": null,
            "order": null,
            "overflow": null,
            "overflow_x": null,
            "overflow_y": null,
            "padding": null,
            "right": null,
            "top": null,
            "visibility": null,
            "width": null
          }
        },
        "b8030421a22b43fdb55bf929b2dd0ccf": {
          "model_module": "@jupyter-widgets/base",
          "model_name": "LayoutModel",
          "model_module_version": "1.2.0",
          "state": {
            "_model_module": "@jupyter-widgets/base",
            "_model_module_version": "1.2.0",
            "_model_name": "LayoutModel",
            "_view_count": null,
            "_view_module": "@jupyter-widgets/base",
            "_view_module_version": "1.2.0",
            "_view_name": "LayoutView",
            "align_content": null,
            "align_items": null,
            "align_self": null,
            "border": null,
            "bottom": null,
            "display": null,
            "flex": null,
            "flex_flow": null,
            "grid_area": null,
            "grid_auto_columns": null,
            "grid_auto_flow": null,
            "grid_auto_rows": null,
            "grid_column": null,
            "grid_gap": null,
            "grid_row": null,
            "grid_template_areas": null,
            "grid_template_columns": null,
            "grid_template_rows": null,
            "height": null,
            "justify_content": null,
            "justify_items": null,
            "left": null,
            "margin": null,
            "max_height": null,
            "max_width": null,
            "min_height": null,
            "min_width": null,
            "object_fit": null,
            "object_position": null,
            "order": null,
            "overflow": null,
            "overflow_x": null,
            "overflow_y": null,
            "padding": null,
            "right": null,
            "top": null,
            "visibility": null,
            "width": null
          }
        },
        "47803d9442fb4adda15339d4d6e014ff": {
          "model_module": "@jupyter-widgets/controls",
          "model_name": "DescriptionStyleModel",
          "model_module_version": "1.5.0",
          "state": {
            "_model_module": "@jupyter-widgets/controls",
            "_model_module_version": "1.5.0",
            "_model_name": "DescriptionStyleModel",
            "_view_count": null,
            "_view_module": "@jupyter-widgets/base",
            "_view_module_version": "1.2.0",
            "_view_name": "StyleView",
            "description_width": ""
          }
        },
        "3ce74a02020340b28918fdfecf76262b": {
          "model_module": "@jupyter-widgets/base",
          "model_name": "LayoutModel",
          "model_module_version": "1.2.0",
          "state": {
            "_model_module": "@jupyter-widgets/base",
            "_model_module_version": "1.2.0",
            "_model_name": "LayoutModel",
            "_view_count": null,
            "_view_module": "@jupyter-widgets/base",
            "_view_module_version": "1.2.0",
            "_view_name": "LayoutView",
            "align_content": null,
            "align_items": null,
            "align_self": null,
            "border": null,
            "bottom": null,
            "display": null,
            "flex": null,
            "flex_flow": null,
            "grid_area": null,
            "grid_auto_columns": null,
            "grid_auto_flow": null,
            "grid_auto_rows": null,
            "grid_column": null,
            "grid_gap": null,
            "grid_row": null,
            "grid_template_areas": null,
            "grid_template_columns": null,
            "grid_template_rows": null,
            "height": null,
            "justify_content": null,
            "justify_items": null,
            "left": null,
            "margin": null,
            "max_height": null,
            "max_width": null,
            "min_height": null,
            "min_width": null,
            "object_fit": null,
            "object_position": null,
            "order": null,
            "overflow": null,
            "overflow_x": null,
            "overflow_y": null,
            "padding": null,
            "right": null,
            "top": null,
            "visibility": null,
            "width": null
          }
        },
        "4b86ea0f36ae42ef92acb8cedd828af7": {
          "model_module": "@jupyter-widgets/controls",
          "model_name": "ProgressStyleModel",
          "model_module_version": "1.5.0",
          "state": {
            "_model_module": "@jupyter-widgets/controls",
            "_model_module_version": "1.5.0",
            "_model_name": "ProgressStyleModel",
            "_view_count": null,
            "_view_module": "@jupyter-widgets/base",
            "_view_module_version": "1.2.0",
            "_view_name": "StyleView",
            "bar_color": null,
            "description_width": ""
          }
        },
        "434e7c5b709546138bf3f9327c529926": {
          "model_module": "@jupyter-widgets/base",
          "model_name": "LayoutModel",
          "model_module_version": "1.2.0",
          "state": {
            "_model_module": "@jupyter-widgets/base",
            "_model_module_version": "1.2.0",
            "_model_name": "LayoutModel",
            "_view_count": null,
            "_view_module": "@jupyter-widgets/base",
            "_view_module_version": "1.2.0",
            "_view_name": "LayoutView",
            "align_content": null,
            "align_items": null,
            "align_self": null,
            "border": null,
            "bottom": null,
            "display": null,
            "flex": null,
            "flex_flow": null,
            "grid_area": null,
            "grid_auto_columns": null,
            "grid_auto_flow": null,
            "grid_auto_rows": null,
            "grid_column": null,
            "grid_gap": null,
            "grid_row": null,
            "grid_template_areas": null,
            "grid_template_columns": null,
            "grid_template_rows": null,
            "height": null,
            "justify_content": null,
            "justify_items": null,
            "left": null,
            "margin": null,
            "max_height": null,
            "max_width": null,
            "min_height": null,
            "min_width": null,
            "object_fit": null,
            "object_position": null,
            "order": null,
            "overflow": null,
            "overflow_x": null,
            "overflow_y": null,
            "padding": null,
            "right": null,
            "top": null,
            "visibility": null,
            "width": null
          }
        },
        "30e524ae47164478a414d63a8494dd0d": {
          "model_module": "@jupyter-widgets/controls",
          "model_name": "DescriptionStyleModel",
          "model_module_version": "1.5.0",
          "state": {
            "_model_module": "@jupyter-widgets/controls",
            "_model_module_version": "1.5.0",
            "_model_name": "DescriptionStyleModel",
            "_view_count": null,
            "_view_module": "@jupyter-widgets/base",
            "_view_module_version": "1.2.0",
            "_view_name": "StyleView",
            "description_width": ""
          }
        }
      }
    }
  },
  "nbformat": 4,
  "nbformat_minor": 0
}